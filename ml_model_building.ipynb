{
 "cells": [
  {
   "cell_type": "code",
   "execution_count": 1,
   "metadata": {},
   "outputs": [],
   "source": [
    "import pandas as pd\n",
    "import numpy as np\n",
    "import plotly.express as px\n",
    "import datetime"
   ]
  },
  {
   "cell_type": "code",
   "execution_count": 2,
   "metadata": {},
   "outputs": [],
   "source": [
    "train_df = pd.read_csv('data/train.csv')\n",
    "test_df = pd.read_csv('data/test.csv')\n",
    "val_df = pd.read_csv('data/val.csv')"
   ]
  },
  {
   "cell_type": "code",
   "execution_count": 3,
   "metadata": {},
   "outputs": [
    {
     "data": {
      "text/html": [
       "<div>\n",
       "<style scoped>\n",
       "    .dataframe tbody tr th:only-of-type {\n",
       "        vertical-align: middle;\n",
       "    }\n",
       "\n",
       "    .dataframe tbody tr th {\n",
       "        vertical-align: top;\n",
       "    }\n",
       "\n",
       "    .dataframe thead th {\n",
       "        text-align: right;\n",
       "    }\n",
       "</style>\n",
       "<table border=\"1\" class=\"dataframe\">\n",
       "  <thead>\n",
       "    <tr style=\"text-align: right;\">\n",
       "      <th></th>\n",
       "      <th>Date_Time</th>\n",
       "      <th>Usage_kWh</th>\n",
       "      <th>Lagging_Current_Reactive.Power_kVarh</th>\n",
       "      <th>Leading_Current_Reactive_Power_kVarh</th>\n",
       "      <th>CO2(tCO2)</th>\n",
       "      <th>Lagging_Current_Power_Factor</th>\n",
       "      <th>Leading_Current_Power_Factor</th>\n",
       "      <th>NSM</th>\n",
       "      <th>Load_Type</th>\n",
       "    </tr>\n",
       "  </thead>\n",
       "  <tbody>\n",
       "    <tr>\n",
       "      <th>0</th>\n",
       "      <td>01-01-2018 00:15</td>\n",
       "      <td>8.753692</td>\n",
       "      <td>2.95</td>\n",
       "      <td>0.0</td>\n",
       "      <td>0.0</td>\n",
       "      <td>73.210000</td>\n",
       "      <td>100.0</td>\n",
       "      <td>900.000000</td>\n",
       "      <td>Light_Load</td>\n",
       "    </tr>\n",
       "    <tr>\n",
       "      <th>1</th>\n",
       "      <td>01-01-2018 00:30</td>\n",
       "      <td>4.000000</td>\n",
       "      <td>4.46</td>\n",
       "      <td>0.0</td>\n",
       "      <td>0.0</td>\n",
       "      <td>66.770000</td>\n",
       "      <td>100.0</td>\n",
       "      <td>1800.000000</td>\n",
       "      <td>Light_Load</td>\n",
       "    </tr>\n",
       "    <tr>\n",
       "      <th>2</th>\n",
       "      <td>01-01-2018 00:45</td>\n",
       "      <td>3.240000</td>\n",
       "      <td>3.28</td>\n",
       "      <td>0.0</td>\n",
       "      <td>0.0</td>\n",
       "      <td>70.280000</td>\n",
       "      <td>100.0</td>\n",
       "      <td>8070.880991</td>\n",
       "      <td>Light_Load</td>\n",
       "    </tr>\n",
       "    <tr>\n",
       "      <th>3</th>\n",
       "      <td>01-01-2018 01:00</td>\n",
       "      <td>3.310000</td>\n",
       "      <td>3.56</td>\n",
       "      <td>0.0</td>\n",
       "      <td>0.0</td>\n",
       "      <td>68.090000</td>\n",
       "      <td>100.0</td>\n",
       "      <td>3600.000000</td>\n",
       "      <td>Light_Load</td>\n",
       "    </tr>\n",
       "    <tr>\n",
       "      <th>4</th>\n",
       "      <td>01-01-2018 01:15</td>\n",
       "      <td>3.820000</td>\n",
       "      <td>4.50</td>\n",
       "      <td>0.0</td>\n",
       "      <td>0.0</td>\n",
       "      <td>133.655666</td>\n",
       "      <td>NaN</td>\n",
       "      <td>4500.000000</td>\n",
       "      <td>Light_Load</td>\n",
       "    </tr>\n",
       "  </tbody>\n",
       "</table>\n",
       "</div>"
      ],
      "text/plain": [
       "          Date_Time  Usage_kWh  Lagging_Current_Reactive.Power_kVarh  \\\n",
       "0  01-01-2018 00:15   8.753692                                  2.95   \n",
       "1  01-01-2018 00:30   4.000000                                  4.46   \n",
       "2  01-01-2018 00:45   3.240000                                  3.28   \n",
       "3  01-01-2018 01:00   3.310000                                  3.56   \n",
       "4  01-01-2018 01:15   3.820000                                  4.50   \n",
       "\n",
       "   Leading_Current_Reactive_Power_kVarh  CO2(tCO2)  \\\n",
       "0                                   0.0        0.0   \n",
       "1                                   0.0        0.0   \n",
       "2                                   0.0        0.0   \n",
       "3                                   0.0        0.0   \n",
       "4                                   0.0        0.0   \n",
       "\n",
       "   Lagging_Current_Power_Factor  Leading_Current_Power_Factor          NSM  \\\n",
       "0                     73.210000                         100.0   900.000000   \n",
       "1                     66.770000                         100.0  1800.000000   \n",
       "2                     70.280000                         100.0  8070.880991   \n",
       "3                     68.090000                         100.0  3600.000000   \n",
       "4                    133.655666                           NaN  4500.000000   \n",
       "\n",
       "    Load_Type  \n",
       "0  Light_Load  \n",
       "1  Light_Load  \n",
       "2  Light_Load  \n",
       "3  Light_Load  \n",
       "4  Light_Load  "
      ]
     },
     "execution_count": 3,
     "metadata": {},
     "output_type": "execute_result"
    }
   ],
   "source": [
    "train_df.head()"
   ]
  },
  {
   "cell_type": "code",
   "execution_count": 4,
   "metadata": {},
   "outputs": [],
   "source": [
    "from sklearn.model_selection import train_test_split\n",
    "\n",
    "X_train,y_train = train_df.drop('Load_Type',axis=1), np.array(train_df['Load_Type'].apply(lambda x: 0 if x == 'Light_Load' else (1 if x == 'Medium_Load' else 2)))\n",
    "X_test,y_test = test_df.drop('Load_Type',axis=1), np.array(test_df['Load_Type'].apply(lambda x: 0 if x == 'Light_Load' else (1 if x == 'Medium_Load' else 2)))\n",
    "X_val,y_val = val_df.drop('Load_Type',axis=1), np.array(val_df['Load_Type'].apply(lambda x: 0 if x == 'Light_Load' else (1 if x == 'Medium_Load' else 2)))"
   ]
  },
  {
   "cell_type": "code",
   "execution_count": null,
   "metadata": {},
   "outputs": [],
   "source": []
  },
  {
   "cell_type": "markdown",
   "metadata": {},
   "source": [
    "# First Model \n",
    "\n",
    "Taking Only NSM, day and month [ as other characteristics isn't distinguishable in the eda process]"
   ]
  },
  {
   "cell_type": "code",
   "execution_count": 5,
   "metadata": {},
   "outputs": [],
   "source": [
    "import pandas as pd\n",
    "\n",
    "def preprocess(df):\n",
    "    df['Date_Time'] = pd.to_datetime(df['Date_Time'], format=\"%d-%m-%Y %H:%M\")\n",
    "    df['NSM'] = (df['Date_Time'].dt.hour * 3600 + df['Date_Time'].dt.minute * 60)\n",
    "    df['day'] = df['Date_Time'].dt.day\n",
    "    df['month']=df['Date_Time'].dt.month\n",
    "    return np.array(df[['NSM','day','month']])\n",
    "\n",
    "preprocess_X_train = preprocess(X_train)"
   ]
  },
  {
   "cell_type": "code",
   "execution_count": 6,
   "metadata": {},
   "outputs": [
    {
     "data": {
      "text/plain": [
       "array([[  900,     1,     1],\n",
       "       [ 1800,     1,     1],\n",
       "       [ 2700,     1,     1],\n",
       "       ...,\n",
       "       [15300,    25,     9],\n",
       "       [16200,    25,     9],\n",
       "       [17100,    25,     9]])"
      ]
     },
     "execution_count": 6,
     "metadata": {},
     "output_type": "execute_result"
    }
   ],
   "source": [
    "preprocess_X_train"
   ]
  },
  {
   "cell_type": "code",
   "execution_count": 7,
   "metadata": {},
   "outputs": [
    {
     "data": {
      "text/plain": [
       "900"
      ]
     },
     "execution_count": 7,
     "metadata": {},
     "output_type": "execute_result"
    }
   ],
   "source": [
    "preprocess_X_train[0][0]"
   ]
  },
  {
   "cell_type": "code",
   "execution_count": 8,
   "metadata": {},
   "outputs": [
    {
     "data": {
      "text/plain": [
       "array([0, 0, 0, ..., 0, 0, 0], dtype=int64)"
      ]
     },
     "execution_count": 8,
     "metadata": {},
     "output_type": "execute_result"
    }
   ],
   "source": [
    "y_train"
   ]
  },
  {
   "cell_type": "code",
   "execution_count": 9,
   "metadata": {},
   "outputs": [
    {
     "name": "stdout",
     "output_type": "stream",
     "text": [
      "Training and evaluating SVM...\n",
      "Training and evaluating Random Forest...\n",
      "Training and evaluating Logistic Regression...\n"
     ]
    },
    {
     "name": "stderr",
     "output_type": "stream",
     "text": [
      "c:\\Users\\ASUS\\AppData\\Local\\Programs\\Python\\Python311\\Lib\\site-packages\\sklearn\\linear_model\\_logistic.py:469: ConvergenceWarning: lbfgs failed to converge (status=1):\n",
      "STOP: TOTAL NO. of ITERATIONS REACHED LIMIT.\n",
      "\n",
      "Increase the number of iterations (max_iter) or scale the data as shown in:\n",
      "    https://scikit-learn.org/stable/modules/preprocessing.html\n",
      "Please also refer to the documentation for alternative solver options:\n",
      "    https://scikit-learn.org/stable/modules/linear_model.html#logistic-regression\n",
      "  n_iter_i = _check_optimize_result(\n",
      "c:\\Users\\ASUS\\AppData\\Local\\Programs\\Python\\Python311\\Lib\\site-packages\\sklearn\\metrics\\_classification.py:1509: UndefinedMetricWarning: Precision is ill-defined and being set to 0.0 in labels with no predicted samples. Use `zero_division` parameter to control this behavior.\n",
      "  _warn_prf(average, modifier, f\"{metric.capitalize()} is\", len(result))\n"
     ]
    },
    {
     "name": "stdout",
     "output_type": "stream",
     "text": [
      "Training and evaluating Decision Tree...\n",
      "Training and evaluating K-Nearest Neighbors...\n",
      "Training and evaluating XGBoost...\n",
      "Training and evaluating CatBoost...\n",
      "Learning rate set to 0.093366\n",
      "0:\tlearn: 0.9820017\ttotal: 160ms\tremaining: 2m 39s\n",
      "1:\tlearn: 0.8919978\ttotal: 166ms\tremaining: 1m 23s\n",
      "2:\tlearn: 0.8212646\ttotal: 173ms\tremaining: 57.5s\n",
      "3:\tlearn: 0.7618000\ttotal: 179ms\tremaining: 44.6s\n",
      "4:\tlearn: 0.7038200\ttotal: 186ms\tremaining: 36.9s\n",
      "5:\tlearn: 0.6553513\ttotal: 192ms\tremaining: 31.9s\n",
      "6:\tlearn: 0.6201065\ttotal: 199ms\tremaining: 28.3s\n",
      "7:\tlearn: 0.5870403\ttotal: 207ms\tremaining: 25.6s\n",
      "8:\tlearn: 0.5605032\ttotal: 215ms\tremaining: 23.6s\n",
      "9:\tlearn: 0.5319217\ttotal: 221ms\tremaining: 21.8s\n",
      "10:\tlearn: 0.5111501\ttotal: 226ms\tremaining: 20.3s\n",
      "11:\tlearn: 0.4873337\ttotal: 234ms\tremaining: 19.3s\n",
      "12:\tlearn: 0.4696003\ttotal: 241ms\tremaining: 18.3s\n",
      "13:\tlearn: 0.4543316\ttotal: 247ms\tremaining: 17.4s\n",
      "14:\tlearn: 0.4406201\ttotal: 253ms\tremaining: 16.6s\n",
      "15:\tlearn: 0.4270916\ttotal: 259ms\tremaining: 15.9s\n",
      "16:\tlearn: 0.4135321\ttotal: 266ms\tremaining: 15.4s\n",
      "17:\tlearn: 0.4030110\ttotal: 272ms\tremaining: 14.8s\n",
      "18:\tlearn: 0.3941499\ttotal: 279ms\tremaining: 14.4s\n",
      "19:\tlearn: 0.3857437\ttotal: 284ms\tremaining: 13.9s\n",
      "20:\tlearn: 0.3773639\ttotal: 290ms\tremaining: 13.5s\n",
      "21:\tlearn: 0.3711719\ttotal: 297ms\tremaining: 13.2s\n",
      "22:\tlearn: 0.3629047\ttotal: 302ms\tremaining: 12.8s\n",
      "23:\tlearn: 0.3538322\ttotal: 308ms\tremaining: 12.5s\n",
      "24:\tlearn: 0.3475436\ttotal: 316ms\tremaining: 12.3s\n",
      "25:\tlearn: 0.3423862\ttotal: 321ms\tremaining: 12s\n",
      "26:\tlearn: 0.3352676\ttotal: 328ms\tremaining: 11.8s\n",
      "27:\tlearn: 0.3301590\ttotal: 334ms\tremaining: 11.6s\n",
      "28:\tlearn: 0.3222963\ttotal: 340ms\tremaining: 11.4s\n",
      "29:\tlearn: 0.3185655\ttotal: 347ms\tremaining: 11.2s\n",
      "30:\tlearn: 0.3143495\ttotal: 352ms\tremaining: 11s\n",
      "31:\tlearn: 0.3097610\ttotal: 357ms\tremaining: 10.8s\n",
      "32:\tlearn: 0.3061439\ttotal: 365ms\tremaining: 10.7s\n",
      "33:\tlearn: 0.3033245\ttotal: 370ms\tremaining: 10.5s\n",
      "34:\tlearn: 0.2995184\ttotal: 377ms\tremaining: 10.4s\n",
      "35:\tlearn: 0.2962211\ttotal: 383ms\tremaining: 10.2s\n",
      "36:\tlearn: 0.2920085\ttotal: 388ms\tremaining: 10.1s\n",
      "37:\tlearn: 0.2881092\ttotal: 395ms\tremaining: 10s\n",
      "38:\tlearn: 0.2837926\ttotal: 401ms\tremaining: 9.87s\n",
      "39:\tlearn: 0.2793348\ttotal: 407ms\tremaining: 9.76s\n",
      "40:\tlearn: 0.2760807\ttotal: 413ms\tremaining: 9.66s\n",
      "41:\tlearn: 0.2738461\ttotal: 418ms\tremaining: 9.54s\n",
      "42:\tlearn: 0.2716961\ttotal: 426ms\tremaining: 9.48s\n",
      "43:\tlearn: 0.2696255\ttotal: 434ms\tremaining: 9.42s\n",
      "44:\tlearn: 0.2669460\ttotal: 440ms\tremaining: 9.35s\n",
      "45:\tlearn: 0.2635056\ttotal: 446ms\tremaining: 9.26s\n",
      "46:\tlearn: 0.2603691\ttotal: 453ms\tremaining: 9.19s\n",
      "47:\tlearn: 0.2580047\ttotal: 461ms\tremaining: 9.14s\n",
      "48:\tlearn: 0.2562271\ttotal: 468ms\tremaining: 9.08s\n",
      "49:\tlearn: 0.2526305\ttotal: 475ms\tremaining: 9.03s\n",
      "50:\tlearn: 0.2493044\ttotal: 482ms\tremaining: 8.96s\n",
      "51:\tlearn: 0.2469670\ttotal: 490ms\tremaining: 8.92s\n",
      "52:\tlearn: 0.2440752\ttotal: 497ms\tremaining: 8.88s\n",
      "53:\tlearn: 0.2423669\ttotal: 503ms\tremaining: 8.81s\n",
      "54:\tlearn: 0.2400790\ttotal: 509ms\tremaining: 8.75s\n",
      "55:\tlearn: 0.2375619\ttotal: 515ms\tremaining: 8.68s\n",
      "56:\tlearn: 0.2355168\ttotal: 520ms\tremaining: 8.6s\n",
      "57:\tlearn: 0.2343342\ttotal: 526ms\tremaining: 8.54s\n",
      "58:\tlearn: 0.2329481\ttotal: 531ms\tremaining: 8.47s\n",
      "59:\tlearn: 0.2314702\ttotal: 537ms\tremaining: 8.42s\n",
      "60:\tlearn: 0.2295543\ttotal: 543ms\tremaining: 8.36s\n",
      "61:\tlearn: 0.2277720\ttotal: 548ms\tremaining: 8.3s\n",
      "62:\tlearn: 0.2255376\ttotal: 554ms\tremaining: 8.25s\n",
      "63:\tlearn: 0.2244299\ttotal: 560ms\tremaining: 8.19s\n",
      "64:\tlearn: 0.2224901\ttotal: 566ms\tremaining: 8.14s\n",
      "65:\tlearn: 0.2211553\ttotal: 572ms\tremaining: 8.1s\n",
      "66:\tlearn: 0.2188827\ttotal: 577ms\tremaining: 8.04s\n",
      "67:\tlearn: 0.2172682\ttotal: 584ms\tremaining: 8s\n",
      "68:\tlearn: 0.2161501\ttotal: 589ms\tremaining: 7.95s\n",
      "69:\tlearn: 0.2143584\ttotal: 595ms\tremaining: 7.91s\n",
      "70:\tlearn: 0.2124797\ttotal: 601ms\tremaining: 7.87s\n",
      "71:\tlearn: 0.2103533\ttotal: 607ms\tremaining: 7.82s\n",
      "72:\tlearn: 0.2091225\ttotal: 612ms\tremaining: 7.78s\n",
      "73:\tlearn: 0.2081157\ttotal: 618ms\tremaining: 7.73s\n",
      "74:\tlearn: 0.2064038\ttotal: 623ms\tremaining: 7.68s\n",
      "75:\tlearn: 0.2051448\ttotal: 629ms\tremaining: 7.64s\n",
      "76:\tlearn: 0.2033773\ttotal: 635ms\tremaining: 7.61s\n",
      "77:\tlearn: 0.2021639\ttotal: 640ms\tremaining: 7.57s\n",
      "78:\tlearn: 0.1997846\ttotal: 645ms\tremaining: 7.52s\n",
      "79:\tlearn: 0.1982421\ttotal: 651ms\tremaining: 7.49s\n",
      "80:\tlearn: 0.1972213\ttotal: 657ms\tremaining: 7.45s\n",
      "81:\tlearn: 0.1962586\ttotal: 663ms\tremaining: 7.42s\n",
      "82:\tlearn: 0.1951522\ttotal: 670ms\tremaining: 7.4s\n",
      "83:\tlearn: 0.1938283\ttotal: 676ms\tremaining: 7.37s\n",
      "84:\tlearn: 0.1921063\ttotal: 682ms\tremaining: 7.35s\n",
      "85:\tlearn: 0.1907983\ttotal: 689ms\tremaining: 7.32s\n",
      "86:\tlearn: 0.1893483\ttotal: 694ms\tremaining: 7.28s\n",
      "87:\tlearn: 0.1874121\ttotal: 700ms\tremaining: 7.26s\n",
      "88:\tlearn: 0.1859303\ttotal: 706ms\tremaining: 7.23s\n",
      "89:\tlearn: 0.1849927\ttotal: 711ms\tremaining: 7.19s\n",
      "90:\tlearn: 0.1830104\ttotal: 717ms\tremaining: 7.16s\n",
      "91:\tlearn: 0.1810472\ttotal: 723ms\tremaining: 7.14s\n",
      "92:\tlearn: 0.1799781\ttotal: 730ms\tremaining: 7.12s\n",
      "93:\tlearn: 0.1788289\ttotal: 736ms\tremaining: 7.09s\n",
      "94:\tlearn: 0.1775217\ttotal: 741ms\tremaining: 7.06s\n",
      "95:\tlearn: 0.1761580\ttotal: 747ms\tremaining: 7.04s\n",
      "96:\tlearn: 0.1741760\ttotal: 753ms\tremaining: 7.01s\n",
      "97:\tlearn: 0.1732349\ttotal: 758ms\tremaining: 6.98s\n",
      "98:\tlearn: 0.1717672\ttotal: 764ms\tremaining: 6.96s\n",
      "99:\tlearn: 0.1705306\ttotal: 770ms\tremaining: 6.93s\n",
      "100:\tlearn: 0.1697015\ttotal: 775ms\tremaining: 6.9s\n",
      "101:\tlearn: 0.1688338\ttotal: 781ms\tremaining: 6.88s\n",
      "102:\tlearn: 0.1680011\ttotal: 788ms\tremaining: 6.86s\n",
      "103:\tlearn: 0.1664567\ttotal: 794ms\tremaining: 6.84s\n",
      "104:\tlearn: 0.1651304\ttotal: 800ms\tremaining: 6.82s\n",
      "105:\tlearn: 0.1639574\ttotal: 806ms\tremaining: 6.8s\n",
      "106:\tlearn: 0.1626368\ttotal: 811ms\tremaining: 6.77s\n",
      "107:\tlearn: 0.1615344\ttotal: 817ms\tremaining: 6.75s\n",
      "108:\tlearn: 0.1608055\ttotal: 822ms\tremaining: 6.72s\n",
      "109:\tlearn: 0.1597251\ttotal: 828ms\tremaining: 6.7s\n",
      "110:\tlearn: 0.1590433\ttotal: 834ms\tremaining: 6.68s\n",
      "111:\tlearn: 0.1583143\ttotal: 839ms\tremaining: 6.66s\n",
      "112:\tlearn: 0.1573754\ttotal: 845ms\tremaining: 6.64s\n",
      "113:\tlearn: 0.1559257\ttotal: 851ms\tremaining: 6.61s\n",
      "114:\tlearn: 0.1548030\ttotal: 857ms\tremaining: 6.59s\n",
      "115:\tlearn: 0.1542072\ttotal: 863ms\tremaining: 6.58s\n",
      "116:\tlearn: 0.1513251\ttotal: 868ms\tremaining: 6.55s\n",
      "117:\tlearn: 0.1501406\ttotal: 875ms\tremaining: 6.54s\n",
      "118:\tlearn: 0.1488072\ttotal: 880ms\tremaining: 6.52s\n",
      "119:\tlearn: 0.1478791\ttotal: 886ms\tremaining: 6.5s\n",
      "120:\tlearn: 0.1468031\ttotal: 892ms\tremaining: 6.48s\n",
      "121:\tlearn: 0.1462435\ttotal: 897ms\tremaining: 6.46s\n",
      "122:\tlearn: 0.1453612\ttotal: 904ms\tremaining: 6.45s\n",
      "123:\tlearn: 0.1448528\ttotal: 911ms\tremaining: 6.43s\n",
      "124:\tlearn: 0.1441312\ttotal: 916ms\tremaining: 6.41s\n",
      "125:\tlearn: 0.1426188\ttotal: 923ms\tremaining: 6.4s\n",
      "126:\tlearn: 0.1410938\ttotal: 930ms\tremaining: 6.39s\n",
      "127:\tlearn: 0.1401001\ttotal: 936ms\tremaining: 6.37s\n",
      "128:\tlearn: 0.1390820\ttotal: 941ms\tremaining: 6.36s\n",
      "129:\tlearn: 0.1385164\ttotal: 947ms\tremaining: 6.34s\n",
      "130:\tlearn: 0.1376471\ttotal: 952ms\tremaining: 6.32s\n",
      "131:\tlearn: 0.1371336\ttotal: 958ms\tremaining: 6.3s\n",
      "132:\tlearn: 0.1355395\ttotal: 965ms\tremaining: 6.29s\n",
      "133:\tlearn: 0.1342249\ttotal: 971ms\tremaining: 6.28s\n",
      "134:\tlearn: 0.1337629\ttotal: 978ms\tremaining: 6.26s\n",
      "135:\tlearn: 0.1327592\ttotal: 985ms\tremaining: 6.26s\n",
      "136:\tlearn: 0.1324248\ttotal: 992ms\tremaining: 6.25s\n",
      "137:\tlearn: 0.1315120\ttotal: 999ms\tremaining: 6.24s\n",
      "138:\tlearn: 0.1309073\ttotal: 1s\tremaining: 6.22s\n",
      "139:\tlearn: 0.1303933\ttotal: 1.01s\tremaining: 6.21s\n",
      "140:\tlearn: 0.1298029\ttotal: 1.02s\tremaining: 6.2s\n",
      "141:\tlearn: 0.1287469\ttotal: 1.02s\tremaining: 6.19s\n",
      "142:\tlearn: 0.1273491\ttotal: 1.03s\tremaining: 6.17s\n",
      "143:\tlearn: 0.1266782\ttotal: 1.04s\tremaining: 6.19s\n",
      "144:\tlearn: 0.1256812\ttotal: 1.05s\tremaining: 6.19s\n",
      "145:\tlearn: 0.1241248\ttotal: 1.06s\tremaining: 6.18s\n",
      "146:\tlearn: 0.1230734\ttotal: 1.06s\tremaining: 6.17s\n",
      "147:\tlearn: 0.1226075\ttotal: 1.07s\tremaining: 6.15s\n",
      "148:\tlearn: 0.1220772\ttotal: 1.07s\tremaining: 6.13s\n",
      "149:\tlearn: 0.1215818\ttotal: 1.08s\tremaining: 6.12s\n",
      "150:\tlearn: 0.1211150\ttotal: 1.08s\tremaining: 6.1s\n",
      "151:\tlearn: 0.1202329\ttotal: 1.09s\tremaining: 6.08s\n",
      "152:\tlearn: 0.1196528\ttotal: 1.1s\tremaining: 6.07s\n",
      "153:\tlearn: 0.1192246\ttotal: 1.1s\tremaining: 6.05s\n",
      "154:\tlearn: 0.1186570\ttotal: 1.11s\tremaining: 6.03s\n",
      "155:\tlearn: 0.1181671\ttotal: 1.11s\tremaining: 6.02s\n",
      "156:\tlearn: 0.1177816\ttotal: 1.12s\tremaining: 6s\n",
      "157:\tlearn: 0.1173593\ttotal: 1.12s\tremaining: 5.98s\n",
      "158:\tlearn: 0.1162808\ttotal: 1.13s\tremaining: 5.97s\n",
      "159:\tlearn: 0.1157319\ttotal: 1.13s\tremaining: 5.95s\n",
      "160:\tlearn: 0.1150702\ttotal: 1.14s\tremaining: 5.93s\n",
      "161:\tlearn: 0.1146047\ttotal: 1.14s\tremaining: 5.92s\n",
      "162:\tlearn: 0.1135494\ttotal: 1.15s\tremaining: 5.9s\n",
      "163:\tlearn: 0.1130462\ttotal: 1.16s\tremaining: 5.89s\n",
      "164:\tlearn: 0.1127531\ttotal: 1.16s\tremaining: 5.88s\n",
      "165:\tlearn: 0.1118248\ttotal: 1.17s\tremaining: 5.86s\n",
      "166:\tlearn: 0.1111660\ttotal: 1.17s\tremaining: 5.84s\n",
      "167:\tlearn: 0.1108065\ttotal: 1.18s\tremaining: 5.83s\n",
      "168:\tlearn: 0.1104219\ttotal: 1.18s\tremaining: 5.82s\n",
      "169:\tlearn: 0.1095563\ttotal: 1.19s\tremaining: 5.81s\n",
      "170:\tlearn: 0.1091842\ttotal: 1.2s\tremaining: 5.8s\n",
      "171:\tlearn: 0.1083598\ttotal: 1.2s\tremaining: 5.78s\n",
      "172:\tlearn: 0.1078110\ttotal: 1.21s\tremaining: 5.77s\n",
      "173:\tlearn: 0.1072905\ttotal: 1.21s\tremaining: 5.76s\n",
      "174:\tlearn: 0.1067683\ttotal: 1.22s\tremaining: 5.75s\n",
      "175:\tlearn: 0.1059718\ttotal: 1.22s\tremaining: 5.73s\n",
      "176:\tlearn: 0.1054488\ttotal: 1.23s\tremaining: 5.72s\n",
      "177:\tlearn: 0.1047614\ttotal: 1.24s\tremaining: 5.71s\n",
      "178:\tlearn: 0.1040088\ttotal: 1.24s\tremaining: 5.7s\n",
      "179:\tlearn: 0.1036416\ttotal: 1.25s\tremaining: 5.68s\n",
      "180:\tlearn: 0.1033630\ttotal: 1.25s\tremaining: 5.67s\n",
      "181:\tlearn: 0.1026868\ttotal: 1.26s\tremaining: 5.66s\n",
      "182:\tlearn: 0.1021478\ttotal: 1.26s\tremaining: 5.64s\n",
      "183:\tlearn: 0.1013966\ttotal: 1.27s\tremaining: 5.63s\n",
      "184:\tlearn: 0.1006757\ttotal: 1.27s\tremaining: 5.62s\n",
      "185:\tlearn: 0.0997157\ttotal: 1.28s\tremaining: 5.6s\n",
      "186:\tlearn: 0.0993320\ttotal: 1.29s\tremaining: 5.59s\n",
      "187:\tlearn: 0.0985989\ttotal: 1.29s\tremaining: 5.58s\n",
      "188:\tlearn: 0.0975434\ttotal: 1.3s\tremaining: 5.57s\n",
      "189:\tlearn: 0.0972193\ttotal: 1.3s\tremaining: 5.55s\n",
      "190:\tlearn: 0.0967398\ttotal: 1.31s\tremaining: 5.54s\n",
      "191:\tlearn: 0.0959051\ttotal: 1.31s\tremaining: 5.53s\n",
      "192:\tlearn: 0.0952796\ttotal: 1.32s\tremaining: 5.52s\n",
      "193:\tlearn: 0.0948102\ttotal: 1.32s\tremaining: 5.51s\n",
      "194:\tlearn: 0.0940459\ttotal: 1.33s\tremaining: 5.49s\n",
      "195:\tlearn: 0.0936332\ttotal: 1.34s\tremaining: 5.48s\n",
      "196:\tlearn: 0.0931866\ttotal: 1.34s\tremaining: 5.47s\n",
      "197:\tlearn: 0.0925731\ttotal: 1.35s\tremaining: 5.46s\n",
      "198:\tlearn: 0.0917539\ttotal: 1.35s\tremaining: 5.45s\n",
      "199:\tlearn: 0.0912421\ttotal: 1.36s\tremaining: 5.44s\n",
      "200:\tlearn: 0.0909324\ttotal: 1.36s\tremaining: 5.42s\n",
      "201:\tlearn: 0.0905177\ttotal: 1.37s\tremaining: 5.41s\n",
      "202:\tlearn: 0.0901866\ttotal: 1.38s\tremaining: 5.4s\n",
      "203:\tlearn: 0.0898931\ttotal: 1.38s\tremaining: 5.39s\n",
      "204:\tlearn: 0.0893441\ttotal: 1.39s\tremaining: 5.38s\n",
      "205:\tlearn: 0.0888557\ttotal: 1.39s\tremaining: 5.37s\n",
      "206:\tlearn: 0.0884476\ttotal: 1.4s\tremaining: 5.35s\n",
      "207:\tlearn: 0.0877811\ttotal: 1.4s\tremaining: 5.35s\n",
      "208:\tlearn: 0.0875950\ttotal: 1.41s\tremaining: 5.33s\n",
      "209:\tlearn: 0.0872941\ttotal: 1.42s\tremaining: 5.33s\n",
      "210:\tlearn: 0.0866828\ttotal: 1.42s\tremaining: 5.32s\n",
      "211:\tlearn: 0.0863422\ttotal: 1.43s\tremaining: 5.3s\n",
      "212:\tlearn: 0.0859339\ttotal: 1.43s\tremaining: 5.3s\n",
      "213:\tlearn: 0.0854144\ttotal: 1.44s\tremaining: 5.29s\n",
      "214:\tlearn: 0.0851124\ttotal: 1.44s\tremaining: 5.28s\n",
      "215:\tlearn: 0.0846333\ttotal: 1.45s\tremaining: 5.27s\n",
      "216:\tlearn: 0.0837914\ttotal: 1.46s\tremaining: 5.26s\n",
      "217:\tlearn: 0.0834796\ttotal: 1.46s\tremaining: 5.25s\n",
      "218:\tlearn: 0.0830340\ttotal: 1.47s\tremaining: 5.24s\n",
      "219:\tlearn: 0.0823863\ttotal: 1.47s\tremaining: 5.23s\n",
      "220:\tlearn: 0.0815905\ttotal: 1.48s\tremaining: 5.22s\n",
      "221:\tlearn: 0.0809327\ttotal: 1.49s\tremaining: 5.21s\n",
      "222:\tlearn: 0.0806831\ttotal: 1.49s\tremaining: 5.2s\n",
      "223:\tlearn: 0.0803672\ttotal: 1.5s\tremaining: 5.19s\n",
      "224:\tlearn: 0.0801184\ttotal: 1.5s\tremaining: 5.18s\n",
      "225:\tlearn: 0.0796882\ttotal: 1.51s\tremaining: 5.17s\n",
      "226:\tlearn: 0.0789269\ttotal: 1.51s\tremaining: 5.16s\n",
      "227:\tlearn: 0.0785384\ttotal: 1.52s\tremaining: 5.15s\n",
      "228:\tlearn: 0.0781352\ttotal: 1.53s\tremaining: 5.14s\n",
      "229:\tlearn: 0.0777939\ttotal: 1.53s\tremaining: 5.13s\n",
      "230:\tlearn: 0.0773834\ttotal: 1.54s\tremaining: 5.12s\n",
      "231:\tlearn: 0.0768395\ttotal: 1.54s\tremaining: 5.11s\n",
      "232:\tlearn: 0.0764472\ttotal: 1.55s\tremaining: 5.11s\n",
      "233:\tlearn: 0.0759008\ttotal: 1.56s\tremaining: 5.1s\n",
      "234:\tlearn: 0.0757017\ttotal: 1.56s\tremaining: 5.09s\n",
      "235:\tlearn: 0.0751266\ttotal: 1.57s\tremaining: 5.08s\n",
      "236:\tlearn: 0.0747491\ttotal: 1.58s\tremaining: 5.08s\n",
      "237:\tlearn: 0.0743099\ttotal: 1.58s\tremaining: 5.07s\n",
      "238:\tlearn: 0.0738374\ttotal: 1.59s\tremaining: 5.06s\n",
      "239:\tlearn: 0.0736081\ttotal: 1.59s\tremaining: 5.05s\n",
      "240:\tlearn: 0.0731279\ttotal: 1.6s\tremaining: 5.05s\n",
      "241:\tlearn: 0.0726008\ttotal: 1.61s\tremaining: 5.04s\n",
      "242:\tlearn: 0.0723641\ttotal: 1.62s\tremaining: 5.04s\n",
      "243:\tlearn: 0.0720010\ttotal: 1.63s\tremaining: 5.04s\n",
      "244:\tlearn: 0.0716594\ttotal: 1.63s\tremaining: 5.03s\n",
      "245:\tlearn: 0.0714038\ttotal: 1.64s\tremaining: 5.03s\n",
      "246:\tlearn: 0.0707647\ttotal: 1.65s\tremaining: 5.02s\n",
      "247:\tlearn: 0.0703518\ttotal: 1.65s\tremaining: 5.01s\n",
      "248:\tlearn: 0.0698823\ttotal: 1.66s\tremaining: 5.01s\n",
      "249:\tlearn: 0.0693442\ttotal: 1.67s\tremaining: 5s\n",
      "250:\tlearn: 0.0691576\ttotal: 1.67s\tremaining: 5s\n",
      "251:\tlearn: 0.0686769\ttotal: 1.68s\tremaining: 4.99s\n",
      "252:\tlearn: 0.0682617\ttotal: 1.69s\tremaining: 4.98s\n",
      "253:\tlearn: 0.0680676\ttotal: 1.7s\tremaining: 4.98s\n",
      "254:\tlearn: 0.0678735\ttotal: 1.7s\tremaining: 4.97s\n",
      "255:\tlearn: 0.0675731\ttotal: 1.71s\tremaining: 4.96s\n",
      "256:\tlearn: 0.0673004\ttotal: 1.71s\tremaining: 4.96s\n",
      "257:\tlearn: 0.0668862\ttotal: 1.72s\tremaining: 4.95s\n",
      "258:\tlearn: 0.0664076\ttotal: 1.73s\tremaining: 4.95s\n",
      "259:\tlearn: 0.0662190\ttotal: 1.74s\tremaining: 4.94s\n",
      "260:\tlearn: 0.0657230\ttotal: 1.74s\tremaining: 4.93s\n",
      "261:\tlearn: 0.0653390\ttotal: 1.75s\tremaining: 4.93s\n",
      "262:\tlearn: 0.0649413\ttotal: 1.76s\tremaining: 4.92s\n",
      "263:\tlearn: 0.0646105\ttotal: 1.76s\tremaining: 4.92s\n",
      "264:\tlearn: 0.0644454\ttotal: 1.77s\tremaining: 4.91s\n",
      "265:\tlearn: 0.0642389\ttotal: 1.78s\tremaining: 4.9s\n",
      "266:\tlearn: 0.0640424\ttotal: 1.78s\tremaining: 4.9s\n",
      "267:\tlearn: 0.0637843\ttotal: 1.79s\tremaining: 4.89s\n",
      "268:\tlearn: 0.0635720\ttotal: 1.8s\tremaining: 4.88s\n",
      "269:\tlearn: 0.0632566\ttotal: 1.8s\tremaining: 4.87s\n",
      "270:\tlearn: 0.0629453\ttotal: 1.81s\tremaining: 4.87s\n",
      "271:\tlearn: 0.0626748\ttotal: 1.82s\tremaining: 4.86s\n",
      "272:\tlearn: 0.0625021\ttotal: 1.82s\tremaining: 4.86s\n",
      "273:\tlearn: 0.0621629\ttotal: 1.83s\tremaining: 4.85s\n",
      "274:\tlearn: 0.0618090\ttotal: 1.84s\tremaining: 4.84s\n",
      "275:\tlearn: 0.0615270\ttotal: 1.84s\tremaining: 4.84s\n",
      "276:\tlearn: 0.0612453\ttotal: 1.85s\tremaining: 4.83s\n",
      "277:\tlearn: 0.0611374\ttotal: 1.86s\tremaining: 4.82s\n",
      "278:\tlearn: 0.0609697\ttotal: 1.86s\tremaining: 4.81s\n",
      "279:\tlearn: 0.0607599\ttotal: 1.87s\tremaining: 4.81s\n",
      "280:\tlearn: 0.0605792\ttotal: 1.88s\tremaining: 4.8s\n",
      "281:\tlearn: 0.0600684\ttotal: 1.88s\tremaining: 4.79s\n",
      "282:\tlearn: 0.0599862\ttotal: 1.89s\tremaining: 4.79s\n",
      "283:\tlearn: 0.0597575\ttotal: 1.9s\tremaining: 4.78s\n",
      "284:\tlearn: 0.0594670\ttotal: 1.9s\tremaining: 4.77s\n",
      "285:\tlearn: 0.0592088\ttotal: 1.91s\tremaining: 4.76s\n",
      "286:\tlearn: 0.0589095\ttotal: 1.91s\tremaining: 4.75s\n",
      "287:\tlearn: 0.0584932\ttotal: 1.92s\tremaining: 4.75s\n",
      "288:\tlearn: 0.0581945\ttotal: 1.93s\tremaining: 4.74s\n",
      "289:\tlearn: 0.0580467\ttotal: 1.93s\tremaining: 4.73s\n",
      "290:\tlearn: 0.0578427\ttotal: 1.94s\tremaining: 4.73s\n",
      "291:\tlearn: 0.0577331\ttotal: 1.95s\tremaining: 4.72s\n",
      "292:\tlearn: 0.0573325\ttotal: 1.95s\tremaining: 4.71s\n",
      "293:\tlearn: 0.0570681\ttotal: 1.96s\tremaining: 4.71s\n",
      "294:\tlearn: 0.0569469\ttotal: 1.97s\tremaining: 4.7s\n",
      "295:\tlearn: 0.0566315\ttotal: 1.97s\tremaining: 4.69s\n",
      "296:\tlearn: 0.0565012\ttotal: 1.98s\tremaining: 4.69s\n",
      "297:\tlearn: 0.0562659\ttotal: 1.99s\tremaining: 4.68s\n",
      "298:\tlearn: 0.0561037\ttotal: 1.99s\tremaining: 4.67s\n",
      "299:\tlearn: 0.0559543\ttotal: 2s\tremaining: 4.66s\n",
      "300:\tlearn: 0.0555178\ttotal: 2s\tremaining: 4.66s\n",
      "301:\tlearn: 0.0553841\ttotal: 2.01s\tremaining: 4.65s\n",
      "302:\tlearn: 0.0550390\ttotal: 2.02s\tremaining: 4.64s\n",
      "303:\tlearn: 0.0546376\ttotal: 2.02s\tremaining: 4.63s\n",
      "304:\tlearn: 0.0543742\ttotal: 2.03s\tremaining: 4.63s\n",
      "305:\tlearn: 0.0540848\ttotal: 2.04s\tremaining: 4.62s\n",
      "306:\tlearn: 0.0536842\ttotal: 2.04s\tremaining: 4.62s\n",
      "307:\tlearn: 0.0533610\ttotal: 2.05s\tremaining: 4.61s\n",
      "308:\tlearn: 0.0530834\ttotal: 2.06s\tremaining: 4.61s\n",
      "309:\tlearn: 0.0529102\ttotal: 2.06s\tremaining: 4.6s\n",
      "310:\tlearn: 0.0526621\ttotal: 2.07s\tremaining: 4.59s\n",
      "311:\tlearn: 0.0524574\ttotal: 2.08s\tremaining: 4.58s\n",
      "312:\tlearn: 0.0522887\ttotal: 2.09s\tremaining: 4.58s\n",
      "313:\tlearn: 0.0521235\ttotal: 2.09s\tremaining: 4.57s\n",
      "314:\tlearn: 0.0518719\ttotal: 2.1s\tremaining: 4.57s\n",
      "315:\tlearn: 0.0517126\ttotal: 2.11s\tremaining: 4.57s\n",
      "316:\tlearn: 0.0514767\ttotal: 2.12s\tremaining: 4.56s\n",
      "317:\tlearn: 0.0513166\ttotal: 2.12s\tremaining: 4.55s\n",
      "318:\tlearn: 0.0510874\ttotal: 2.13s\tremaining: 4.55s\n",
      "319:\tlearn: 0.0508490\ttotal: 2.14s\tremaining: 4.54s\n",
      "320:\tlearn: 0.0507747\ttotal: 2.14s\tremaining: 4.53s\n",
      "321:\tlearn: 0.0505181\ttotal: 2.15s\tremaining: 4.53s\n",
      "322:\tlearn: 0.0502046\ttotal: 2.15s\tremaining: 4.52s\n",
      "323:\tlearn: 0.0500723\ttotal: 2.16s\tremaining: 4.51s\n",
      "324:\tlearn: 0.0499279\ttotal: 2.17s\tremaining: 4.5s\n",
      "325:\tlearn: 0.0498562\ttotal: 2.17s\tremaining: 4.49s\n",
      "326:\tlearn: 0.0494763\ttotal: 2.18s\tremaining: 4.48s\n",
      "327:\tlearn: 0.0493487\ttotal: 2.18s\tremaining: 4.47s\n",
      "328:\tlearn: 0.0491814\ttotal: 2.19s\tremaining: 4.46s\n",
      "329:\tlearn: 0.0489579\ttotal: 2.19s\tremaining: 4.45s\n",
      "330:\tlearn: 0.0488394\ttotal: 2.2s\tremaining: 4.45s\n",
      "331:\tlearn: 0.0487230\ttotal: 2.21s\tremaining: 4.44s\n",
      "332:\tlearn: 0.0484316\ttotal: 2.21s\tremaining: 4.43s\n",
      "333:\tlearn: 0.0481886\ttotal: 2.22s\tremaining: 4.42s\n",
      "334:\tlearn: 0.0480347\ttotal: 2.22s\tremaining: 4.41s\n",
      "335:\tlearn: 0.0477371\ttotal: 2.23s\tremaining: 4.4s\n",
      "336:\tlearn: 0.0476131\ttotal: 2.23s\tremaining: 4.4s\n",
      "337:\tlearn: 0.0474601\ttotal: 2.24s\tremaining: 4.39s\n",
      "338:\tlearn: 0.0473215\ttotal: 2.25s\tremaining: 4.38s\n",
      "339:\tlearn: 0.0468667\ttotal: 2.25s\tremaining: 4.37s\n",
      "340:\tlearn: 0.0466702\ttotal: 2.26s\tremaining: 4.36s\n",
      "341:\tlearn: 0.0463461\ttotal: 2.26s\tremaining: 4.36s\n",
      "342:\tlearn: 0.0462458\ttotal: 2.27s\tremaining: 4.35s\n",
      "343:\tlearn: 0.0459864\ttotal: 2.28s\tremaining: 4.34s\n",
      "344:\tlearn: 0.0459005\ttotal: 2.28s\tremaining: 4.33s\n",
      "345:\tlearn: 0.0456470\ttotal: 2.29s\tremaining: 4.32s\n",
      "346:\tlearn: 0.0455427\ttotal: 2.29s\tremaining: 4.32s\n",
      "347:\tlearn: 0.0453697\ttotal: 2.3s\tremaining: 4.31s\n",
      "348:\tlearn: 0.0451164\ttotal: 2.3s\tremaining: 4.3s\n",
      "349:\tlearn: 0.0450174\ttotal: 2.31s\tremaining: 4.29s\n",
      "350:\tlearn: 0.0449350\ttotal: 2.31s\tremaining: 4.28s\n",
      "351:\tlearn: 0.0445151\ttotal: 2.32s\tremaining: 4.27s\n",
      "352:\tlearn: 0.0441178\ttotal: 2.33s\tremaining: 4.26s\n",
      "353:\tlearn: 0.0439569\ttotal: 2.33s\tremaining: 4.26s\n",
      "354:\tlearn: 0.0438193\ttotal: 2.34s\tremaining: 4.25s\n",
      "355:\tlearn: 0.0435615\ttotal: 2.34s\tremaining: 4.24s\n",
      "356:\tlearn: 0.0432738\ttotal: 2.36s\tremaining: 4.25s\n",
      "357:\tlearn: 0.0429850\ttotal: 2.37s\tremaining: 4.24s\n",
      "358:\tlearn: 0.0428589\ttotal: 2.37s\tremaining: 4.24s\n",
      "359:\tlearn: 0.0427753\ttotal: 2.38s\tremaining: 4.23s\n",
      "360:\tlearn: 0.0425714\ttotal: 2.39s\tremaining: 4.22s\n",
      "361:\tlearn: 0.0424424\ttotal: 2.39s\tremaining: 4.21s\n",
      "362:\tlearn: 0.0422332\ttotal: 2.4s\tremaining: 4.2s\n",
      "363:\tlearn: 0.0420873\ttotal: 2.4s\tremaining: 4.2s\n",
      "364:\tlearn: 0.0419366\ttotal: 2.41s\tremaining: 4.19s\n",
      "365:\tlearn: 0.0418035\ttotal: 2.41s\tremaining: 4.18s\n",
      "366:\tlearn: 0.0417249\ttotal: 2.42s\tremaining: 4.17s\n",
      "367:\tlearn: 0.0414648\ttotal: 2.42s\tremaining: 4.16s\n",
      "368:\tlearn: 0.0413581\ttotal: 2.43s\tremaining: 4.15s\n",
      "369:\tlearn: 0.0410195\ttotal: 2.43s\tremaining: 4.14s\n",
      "370:\tlearn: 0.0409418\ttotal: 2.44s\tremaining: 4.13s\n",
      "371:\tlearn: 0.0408561\ttotal: 2.44s\tremaining: 4.13s\n",
      "372:\tlearn: 0.0406458\ttotal: 2.45s\tremaining: 4.12s\n",
      "373:\tlearn: 0.0405011\ttotal: 2.46s\tremaining: 4.11s\n",
      "374:\tlearn: 0.0404162\ttotal: 2.46s\tremaining: 4.1s\n",
      "375:\tlearn: 0.0403031\ttotal: 2.47s\tremaining: 4.09s\n",
      "376:\tlearn: 0.0402233\ttotal: 2.47s\tremaining: 4.09s\n",
      "377:\tlearn: 0.0400326\ttotal: 2.48s\tremaining: 4.08s\n",
      "378:\tlearn: 0.0398881\ttotal: 2.48s\tremaining: 4.07s\n",
      "379:\tlearn: 0.0396686\ttotal: 2.49s\tremaining: 4.06s\n",
      "380:\tlearn: 0.0395169\ttotal: 2.5s\tremaining: 4.06s\n",
      "381:\tlearn: 0.0391634\ttotal: 2.5s\tremaining: 4.05s\n",
      "382:\tlearn: 0.0389775\ttotal: 2.51s\tremaining: 4.04s\n",
      "383:\tlearn: 0.0387710\ttotal: 2.51s\tremaining: 4.03s\n",
      "384:\tlearn: 0.0386694\ttotal: 2.52s\tremaining: 4.02s\n",
      "385:\tlearn: 0.0385030\ttotal: 2.52s\tremaining: 4.02s\n",
      "386:\tlearn: 0.0382500\ttotal: 2.53s\tremaining: 4.01s\n",
      "387:\tlearn: 0.0380935\ttotal: 2.54s\tremaining: 4s\n",
      "388:\tlearn: 0.0379600\ttotal: 2.54s\tremaining: 3.99s\n",
      "389:\tlearn: 0.0378171\ttotal: 2.55s\tremaining: 3.98s\n",
      "390:\tlearn: 0.0375898\ttotal: 2.55s\tremaining: 3.98s\n",
      "391:\tlearn: 0.0373576\ttotal: 2.56s\tremaining: 3.97s\n",
      "392:\tlearn: 0.0371518\ttotal: 2.56s\tremaining: 3.96s\n",
      "393:\tlearn: 0.0370209\ttotal: 2.57s\tremaining: 3.95s\n",
      "394:\tlearn: 0.0369186\ttotal: 2.58s\tremaining: 3.94s\n",
      "395:\tlearn: 0.0368731\ttotal: 2.58s\tremaining: 3.94s\n",
      "396:\tlearn: 0.0367131\ttotal: 2.59s\tremaining: 3.93s\n",
      "397:\tlearn: 0.0364081\ttotal: 2.6s\tremaining: 3.92s\n",
      "398:\tlearn: 0.0361622\ttotal: 2.6s\tremaining: 3.92s\n",
      "399:\tlearn: 0.0359602\ttotal: 2.61s\tremaining: 3.91s\n",
      "400:\tlearn: 0.0357824\ttotal: 2.61s\tremaining: 3.9s\n",
      "401:\tlearn: 0.0355697\ttotal: 2.62s\tremaining: 3.9s\n",
      "402:\tlearn: 0.0354226\ttotal: 2.63s\tremaining: 3.89s\n",
      "403:\tlearn: 0.0352279\ttotal: 2.63s\tremaining: 3.88s\n",
      "404:\tlearn: 0.0351836\ttotal: 2.64s\tremaining: 3.87s\n",
      "405:\tlearn: 0.0351013\ttotal: 2.64s\tremaining: 3.87s\n",
      "406:\tlearn: 0.0350254\ttotal: 2.65s\tremaining: 3.86s\n",
      "407:\tlearn: 0.0348529\ttotal: 2.65s\tremaining: 3.85s\n",
      "408:\tlearn: 0.0347817\ttotal: 2.66s\tremaining: 3.84s\n",
      "409:\tlearn: 0.0346521\ttotal: 2.67s\tremaining: 3.83s\n",
      "410:\tlearn: 0.0345509\ttotal: 2.67s\tremaining: 3.83s\n",
      "411:\tlearn: 0.0344349\ttotal: 2.68s\tremaining: 3.82s\n",
      "412:\tlearn: 0.0342967\ttotal: 2.68s\tremaining: 3.81s\n",
      "413:\tlearn: 0.0341965\ttotal: 2.69s\tremaining: 3.81s\n",
      "414:\tlearn: 0.0340942\ttotal: 2.69s\tremaining: 3.8s\n",
      "415:\tlearn: 0.0339739\ttotal: 2.7s\tremaining: 3.79s\n",
      "416:\tlearn: 0.0339111\ttotal: 2.71s\tremaining: 3.78s\n",
      "417:\tlearn: 0.0337614\ttotal: 2.71s\tremaining: 3.77s\n",
      "418:\tlearn: 0.0336721\ttotal: 2.72s\tremaining: 3.77s\n",
      "419:\tlearn: 0.0336218\ttotal: 2.72s\tremaining: 3.76s\n",
      "420:\tlearn: 0.0334509\ttotal: 2.73s\tremaining: 3.75s\n",
      "421:\tlearn: 0.0333158\ttotal: 2.73s\tremaining: 3.74s\n",
      "422:\tlearn: 0.0332481\ttotal: 2.74s\tremaining: 3.74s\n",
      "423:\tlearn: 0.0330799\ttotal: 2.75s\tremaining: 3.73s\n",
      "424:\tlearn: 0.0329199\ttotal: 2.75s\tremaining: 3.72s\n",
      "425:\tlearn: 0.0328279\ttotal: 2.76s\tremaining: 3.71s\n",
      "426:\tlearn: 0.0327729\ttotal: 2.76s\tremaining: 3.71s\n",
      "427:\tlearn: 0.0326841\ttotal: 2.77s\tremaining: 3.7s\n",
      "428:\tlearn: 0.0325584\ttotal: 2.77s\tremaining: 3.69s\n",
      "429:\tlearn: 0.0323746\ttotal: 2.78s\tremaining: 3.68s\n",
      "430:\tlearn: 0.0321075\ttotal: 2.79s\tremaining: 3.68s\n",
      "431:\tlearn: 0.0320029\ttotal: 2.79s\tremaining: 3.67s\n",
      "432:\tlearn: 0.0319351\ttotal: 2.8s\tremaining: 3.66s\n",
      "433:\tlearn: 0.0317614\ttotal: 2.8s\tremaining: 3.65s\n",
      "434:\tlearn: 0.0316994\ttotal: 2.81s\tremaining: 3.65s\n",
      "435:\tlearn: 0.0315793\ttotal: 2.81s\tremaining: 3.64s\n",
      "436:\tlearn: 0.0314820\ttotal: 2.82s\tremaining: 3.63s\n",
      "437:\tlearn: 0.0312778\ttotal: 2.82s\tremaining: 3.62s\n",
      "438:\tlearn: 0.0311704\ttotal: 2.83s\tremaining: 3.62s\n",
      "439:\tlearn: 0.0309928\ttotal: 2.83s\tremaining: 3.61s\n",
      "440:\tlearn: 0.0308053\ttotal: 2.84s\tremaining: 3.6s\n",
      "441:\tlearn: 0.0307104\ttotal: 2.85s\tremaining: 3.59s\n",
      "442:\tlearn: 0.0305453\ttotal: 2.85s\tremaining: 3.59s\n",
      "443:\tlearn: 0.0305118\ttotal: 2.86s\tremaining: 3.58s\n",
      "444:\tlearn: 0.0304475\ttotal: 2.87s\tremaining: 3.58s\n",
      "445:\tlearn: 0.0303951\ttotal: 2.87s\tremaining: 3.57s\n",
      "446:\tlearn: 0.0303069\ttotal: 2.88s\tremaining: 3.56s\n",
      "447:\tlearn: 0.0301838\ttotal: 2.88s\tremaining: 3.55s\n",
      "448:\tlearn: 0.0301030\ttotal: 2.89s\tremaining: 3.55s\n",
      "449:\tlearn: 0.0300240\ttotal: 2.9s\tremaining: 3.54s\n",
      "450:\tlearn: 0.0299364\ttotal: 2.9s\tremaining: 3.53s\n",
      "451:\tlearn: 0.0297623\ttotal: 2.91s\tremaining: 3.53s\n",
      "452:\tlearn: 0.0296255\ttotal: 2.91s\tremaining: 3.52s\n",
      "453:\tlearn: 0.0295778\ttotal: 2.92s\tremaining: 3.51s\n",
      "454:\tlearn: 0.0295125\ttotal: 2.92s\tremaining: 3.5s\n",
      "455:\tlearn: 0.0294309\ttotal: 2.93s\tremaining: 3.5s\n",
      "456:\tlearn: 0.0293676\ttotal: 2.94s\tremaining: 3.49s\n",
      "457:\tlearn: 0.0292503\ttotal: 2.94s\tremaining: 3.48s\n",
      "458:\tlearn: 0.0291745\ttotal: 2.95s\tremaining: 3.48s\n",
      "459:\tlearn: 0.0290939\ttotal: 2.95s\tremaining: 3.47s\n",
      "460:\tlearn: 0.0290533\ttotal: 2.96s\tremaining: 3.46s\n",
      "461:\tlearn: 0.0289074\ttotal: 2.96s\tremaining: 3.45s\n",
      "462:\tlearn: 0.0288526\ttotal: 2.97s\tremaining: 3.44s\n",
      "463:\tlearn: 0.0286396\ttotal: 2.98s\tremaining: 3.44s\n",
      "464:\tlearn: 0.0285055\ttotal: 2.98s\tremaining: 3.43s\n",
      "465:\tlearn: 0.0284369\ttotal: 2.99s\tremaining: 3.42s\n",
      "466:\tlearn: 0.0283264\ttotal: 2.99s\tremaining: 3.42s\n",
      "467:\tlearn: 0.0282462\ttotal: 3s\tremaining: 3.41s\n",
      "468:\tlearn: 0.0281320\ttotal: 3s\tremaining: 3.4s\n",
      "469:\tlearn: 0.0280468\ttotal: 3.01s\tremaining: 3.39s\n",
      "470:\tlearn: 0.0279510\ttotal: 3.02s\tremaining: 3.39s\n",
      "471:\tlearn: 0.0277778\ttotal: 3.02s\tremaining: 3.38s\n",
      "472:\tlearn: 0.0277108\ttotal: 3.03s\tremaining: 3.37s\n",
      "473:\tlearn: 0.0276804\ttotal: 3.03s\tremaining: 3.37s\n",
      "474:\tlearn: 0.0276189\ttotal: 3.04s\tremaining: 3.36s\n",
      "475:\tlearn: 0.0275454\ttotal: 3.04s\tremaining: 3.35s\n",
      "476:\tlearn: 0.0273365\ttotal: 3.05s\tremaining: 3.35s\n",
      "477:\tlearn: 0.0272858\ttotal: 3.06s\tremaining: 3.34s\n",
      "478:\tlearn: 0.0271141\ttotal: 3.06s\tremaining: 3.33s\n",
      "479:\tlearn: 0.0269978\ttotal: 3.07s\tremaining: 3.32s\n",
      "480:\tlearn: 0.0268777\ttotal: 3.08s\tremaining: 3.32s\n",
      "481:\tlearn: 0.0267922\ttotal: 3.08s\tremaining: 3.31s\n",
      "482:\tlearn: 0.0267366\ttotal: 3.09s\tremaining: 3.3s\n",
      "483:\tlearn: 0.0266791\ttotal: 3.09s\tremaining: 3.3s\n",
      "484:\tlearn: 0.0265206\ttotal: 3.1s\tremaining: 3.29s\n",
      "485:\tlearn: 0.0264997\ttotal: 3.1s\tremaining: 3.28s\n",
      "486:\tlearn: 0.0264644\ttotal: 3.11s\tremaining: 3.27s\n",
      "487:\tlearn: 0.0263529\ttotal: 3.11s\tremaining: 3.27s\n",
      "488:\tlearn: 0.0261807\ttotal: 3.12s\tremaining: 3.26s\n",
      "489:\tlearn: 0.0260337\ttotal: 3.13s\tremaining: 3.25s\n",
      "490:\tlearn: 0.0257835\ttotal: 3.13s\tremaining: 3.25s\n",
      "491:\tlearn: 0.0256599\ttotal: 3.14s\tremaining: 3.24s\n",
      "492:\tlearn: 0.0256143\ttotal: 3.14s\tremaining: 3.23s\n",
      "493:\tlearn: 0.0255033\ttotal: 3.15s\tremaining: 3.22s\n",
      "494:\tlearn: 0.0254321\ttotal: 3.15s\tremaining: 3.22s\n",
      "495:\tlearn: 0.0253129\ttotal: 3.16s\tremaining: 3.21s\n",
      "496:\tlearn: 0.0252144\ttotal: 3.17s\tremaining: 3.2s\n",
      "497:\tlearn: 0.0251455\ttotal: 3.17s\tremaining: 3.2s\n",
      "498:\tlearn: 0.0250742\ttotal: 3.18s\tremaining: 3.19s\n",
      "499:\tlearn: 0.0250206\ttotal: 3.18s\tremaining: 3.18s\n",
      "500:\tlearn: 0.0249533\ttotal: 3.19s\tremaining: 3.17s\n",
      "501:\tlearn: 0.0248960\ttotal: 3.19s\tremaining: 3.17s\n",
      "502:\tlearn: 0.0247778\ttotal: 3.2s\tremaining: 3.16s\n",
      "503:\tlearn: 0.0247374\ttotal: 3.2s\tremaining: 3.15s\n",
      "504:\tlearn: 0.0245614\ttotal: 3.21s\tremaining: 3.15s\n",
      "505:\tlearn: 0.0244671\ttotal: 3.22s\tremaining: 3.14s\n",
      "506:\tlearn: 0.0243087\ttotal: 3.22s\tremaining: 3.13s\n",
      "507:\tlearn: 0.0242541\ttotal: 3.23s\tremaining: 3.13s\n",
      "508:\tlearn: 0.0242151\ttotal: 3.23s\tremaining: 3.12s\n",
      "509:\tlearn: 0.0240714\ttotal: 3.24s\tremaining: 3.11s\n",
      "510:\tlearn: 0.0239462\ttotal: 3.25s\tremaining: 3.1s\n",
      "511:\tlearn: 0.0238876\ttotal: 3.25s\tremaining: 3.1s\n",
      "512:\tlearn: 0.0238064\ttotal: 3.26s\tremaining: 3.09s\n",
      "513:\tlearn: 0.0237439\ttotal: 3.26s\tremaining: 3.08s\n",
      "514:\tlearn: 0.0235924\ttotal: 3.27s\tremaining: 3.08s\n",
      "515:\tlearn: 0.0234065\ttotal: 3.27s\tremaining: 3.07s\n",
      "516:\tlearn: 0.0233322\ttotal: 3.28s\tremaining: 3.06s\n",
      "517:\tlearn: 0.0232884\ttotal: 3.29s\tremaining: 3.06s\n",
      "518:\tlearn: 0.0231843\ttotal: 3.29s\tremaining: 3.05s\n",
      "519:\tlearn: 0.0231017\ttotal: 3.3s\tremaining: 3.04s\n",
      "520:\tlearn: 0.0230069\ttotal: 3.3s\tremaining: 3.04s\n",
      "521:\tlearn: 0.0229372\ttotal: 3.31s\tremaining: 3.03s\n",
      "522:\tlearn: 0.0228923\ttotal: 3.31s\tremaining: 3.02s\n",
      "523:\tlearn: 0.0228477\ttotal: 3.32s\tremaining: 3.02s\n",
      "524:\tlearn: 0.0227910\ttotal: 3.33s\tremaining: 3.01s\n",
      "525:\tlearn: 0.0226639\ttotal: 3.33s\tremaining: 3s\n",
      "526:\tlearn: 0.0226449\ttotal: 3.34s\tremaining: 2.99s\n",
      "527:\tlearn: 0.0225600\ttotal: 3.34s\tremaining: 2.99s\n",
      "528:\tlearn: 0.0224818\ttotal: 3.35s\tremaining: 2.98s\n",
      "529:\tlearn: 0.0224287\ttotal: 3.35s\tremaining: 2.97s\n",
      "530:\tlearn: 0.0223000\ttotal: 3.36s\tremaining: 2.97s\n",
      "531:\tlearn: 0.0221523\ttotal: 3.37s\tremaining: 2.96s\n",
      "532:\tlearn: 0.0220467\ttotal: 3.37s\tremaining: 2.95s\n",
      "533:\tlearn: 0.0219998\ttotal: 3.38s\tremaining: 2.95s\n",
      "534:\tlearn: 0.0219274\ttotal: 3.38s\tremaining: 2.94s\n",
      "535:\tlearn: 0.0217974\ttotal: 3.39s\tremaining: 2.93s\n",
      "536:\tlearn: 0.0217405\ttotal: 3.39s\tremaining: 2.93s\n",
      "537:\tlearn: 0.0216567\ttotal: 3.4s\tremaining: 2.92s\n",
      "538:\tlearn: 0.0216252\ttotal: 3.4s\tremaining: 2.91s\n",
      "539:\tlearn: 0.0215125\ttotal: 3.41s\tremaining: 2.91s\n",
      "540:\tlearn: 0.0214470\ttotal: 3.42s\tremaining: 2.9s\n",
      "541:\tlearn: 0.0214188\ttotal: 3.42s\tremaining: 2.89s\n",
      "542:\tlearn: 0.0213868\ttotal: 3.43s\tremaining: 2.89s\n",
      "543:\tlearn: 0.0213194\ttotal: 3.44s\tremaining: 2.88s\n",
      "544:\tlearn: 0.0211968\ttotal: 3.44s\tremaining: 2.87s\n",
      "545:\tlearn: 0.0211256\ttotal: 3.45s\tremaining: 2.87s\n",
      "546:\tlearn: 0.0210402\ttotal: 3.45s\tremaining: 2.86s\n",
      "547:\tlearn: 0.0209719\ttotal: 3.46s\tremaining: 2.85s\n",
      "548:\tlearn: 0.0209334\ttotal: 3.46s\tremaining: 2.84s\n",
      "549:\tlearn: 0.0208564\ttotal: 3.47s\tremaining: 2.84s\n",
      "550:\tlearn: 0.0207771\ttotal: 3.47s\tremaining: 2.83s\n",
      "551:\tlearn: 0.0207220\ttotal: 3.48s\tremaining: 2.82s\n",
      "552:\tlearn: 0.0205948\ttotal: 3.49s\tremaining: 2.82s\n",
      "553:\tlearn: 0.0205463\ttotal: 3.49s\tremaining: 2.81s\n",
      "554:\tlearn: 0.0205053\ttotal: 3.5s\tremaining: 2.8s\n",
      "555:\tlearn: 0.0203858\ttotal: 3.5s\tremaining: 2.8s\n",
      "556:\tlearn: 0.0203201\ttotal: 3.51s\tremaining: 2.79s\n",
      "557:\tlearn: 0.0202269\ttotal: 3.51s\tremaining: 2.78s\n",
      "558:\tlearn: 0.0201508\ttotal: 3.52s\tremaining: 2.78s\n",
      "559:\tlearn: 0.0200738\ttotal: 3.52s\tremaining: 2.77s\n",
      "560:\tlearn: 0.0200002\ttotal: 3.53s\tremaining: 2.76s\n",
      "561:\tlearn: 0.0198903\ttotal: 3.54s\tremaining: 2.76s\n",
      "562:\tlearn: 0.0198402\ttotal: 3.54s\tremaining: 2.75s\n",
      "563:\tlearn: 0.0197844\ttotal: 3.55s\tremaining: 2.74s\n",
      "564:\tlearn: 0.0197256\ttotal: 3.55s\tremaining: 2.73s\n",
      "565:\tlearn: 0.0196844\ttotal: 3.56s\tremaining: 2.73s\n",
      "566:\tlearn: 0.0195472\ttotal: 3.57s\tremaining: 2.72s\n",
      "567:\tlearn: 0.0194840\ttotal: 3.57s\tremaining: 2.72s\n",
      "568:\tlearn: 0.0194334\ttotal: 3.58s\tremaining: 2.71s\n",
      "569:\tlearn: 0.0194098\ttotal: 3.58s\tremaining: 2.7s\n",
      "570:\tlearn: 0.0193695\ttotal: 3.59s\tremaining: 2.7s\n",
      "571:\tlearn: 0.0193245\ttotal: 3.6s\tremaining: 2.69s\n",
      "572:\tlearn: 0.0192917\ttotal: 3.6s\tremaining: 2.68s\n",
      "573:\tlearn: 0.0192012\ttotal: 3.61s\tremaining: 2.68s\n",
      "574:\tlearn: 0.0191115\ttotal: 3.61s\tremaining: 2.67s\n",
      "575:\tlearn: 0.0190659\ttotal: 3.62s\tremaining: 2.66s\n",
      "576:\tlearn: 0.0189676\ttotal: 3.62s\tremaining: 2.66s\n",
      "577:\tlearn: 0.0189215\ttotal: 3.63s\tremaining: 2.65s\n",
      "578:\tlearn: 0.0187910\ttotal: 3.63s\tremaining: 2.64s\n",
      "579:\tlearn: 0.0187557\ttotal: 3.64s\tremaining: 2.64s\n",
      "580:\tlearn: 0.0187006\ttotal: 3.65s\tremaining: 2.63s\n",
      "581:\tlearn: 0.0186024\ttotal: 3.65s\tremaining: 2.62s\n",
      "582:\tlearn: 0.0185147\ttotal: 3.66s\tremaining: 2.62s\n",
      "583:\tlearn: 0.0184485\ttotal: 3.66s\tremaining: 2.61s\n",
      "584:\tlearn: 0.0183697\ttotal: 3.67s\tremaining: 2.6s\n",
      "585:\tlearn: 0.0183481\ttotal: 3.67s\tremaining: 2.6s\n",
      "586:\tlearn: 0.0182588\ttotal: 3.68s\tremaining: 2.59s\n",
      "587:\tlearn: 0.0182104\ttotal: 3.69s\tremaining: 2.58s\n",
      "588:\tlearn: 0.0181467\ttotal: 3.69s\tremaining: 2.58s\n",
      "589:\tlearn: 0.0180029\ttotal: 3.7s\tremaining: 2.57s\n",
      "590:\tlearn: 0.0179700\ttotal: 3.7s\tremaining: 2.56s\n",
      "591:\tlearn: 0.0179309\ttotal: 3.71s\tremaining: 2.56s\n",
      "592:\tlearn: 0.0178926\ttotal: 3.71s\tremaining: 2.55s\n",
      "593:\tlearn: 0.0178569\ttotal: 3.72s\tremaining: 2.54s\n",
      "594:\tlearn: 0.0178180\ttotal: 3.73s\tremaining: 2.54s\n",
      "595:\tlearn: 0.0177845\ttotal: 3.73s\tremaining: 2.53s\n",
      "596:\tlearn: 0.0177408\ttotal: 3.74s\tremaining: 2.52s\n",
      "597:\tlearn: 0.0177044\ttotal: 3.74s\tremaining: 2.52s\n",
      "598:\tlearn: 0.0176639\ttotal: 3.75s\tremaining: 2.51s\n",
      "599:\tlearn: 0.0176269\ttotal: 3.75s\tremaining: 2.5s\n",
      "600:\tlearn: 0.0175745\ttotal: 3.76s\tremaining: 2.5s\n",
      "601:\tlearn: 0.0175435\ttotal: 3.77s\tremaining: 2.49s\n",
      "602:\tlearn: 0.0174985\ttotal: 3.77s\tremaining: 2.48s\n",
      "603:\tlearn: 0.0173893\ttotal: 3.78s\tremaining: 2.48s\n",
      "604:\tlearn: 0.0172527\ttotal: 3.78s\tremaining: 2.47s\n",
      "605:\tlearn: 0.0171892\ttotal: 3.79s\tremaining: 2.46s\n",
      "606:\tlearn: 0.0171069\ttotal: 3.8s\tremaining: 2.46s\n",
      "607:\tlearn: 0.0170865\ttotal: 3.8s\tremaining: 2.45s\n",
      "608:\tlearn: 0.0170299\ttotal: 3.81s\tremaining: 2.44s\n",
      "609:\tlearn: 0.0170021\ttotal: 3.81s\tremaining: 2.44s\n",
      "610:\tlearn: 0.0169322\ttotal: 3.82s\tremaining: 2.43s\n",
      "611:\tlearn: 0.0169151\ttotal: 3.83s\tremaining: 2.42s\n",
      "612:\tlearn: 0.0168583\ttotal: 3.83s\tremaining: 2.42s\n",
      "613:\tlearn: 0.0168150\ttotal: 3.84s\tremaining: 2.41s\n",
      "614:\tlearn: 0.0167426\ttotal: 3.84s\tremaining: 2.4s\n",
      "615:\tlearn: 0.0167251\ttotal: 3.85s\tremaining: 2.4s\n",
      "616:\tlearn: 0.0166741\ttotal: 3.85s\tremaining: 2.39s\n",
      "617:\tlearn: 0.0166236\ttotal: 3.86s\tremaining: 2.39s\n",
      "618:\tlearn: 0.0165553\ttotal: 3.87s\tremaining: 2.38s\n",
      "619:\tlearn: 0.0165280\ttotal: 3.87s\tremaining: 2.37s\n",
      "620:\tlearn: 0.0164778\ttotal: 3.88s\tremaining: 2.37s\n",
      "621:\tlearn: 0.0164340\ttotal: 3.88s\tremaining: 2.36s\n",
      "622:\tlearn: 0.0164132\ttotal: 3.89s\tremaining: 2.35s\n",
      "623:\tlearn: 0.0163945\ttotal: 3.9s\tremaining: 2.35s\n",
      "624:\tlearn: 0.0163534\ttotal: 3.9s\tremaining: 2.34s\n",
      "625:\tlearn: 0.0163071\ttotal: 3.91s\tremaining: 2.33s\n",
      "626:\tlearn: 0.0162421\ttotal: 3.91s\tremaining: 2.33s\n",
      "627:\tlearn: 0.0162180\ttotal: 3.92s\tremaining: 2.32s\n",
      "628:\tlearn: 0.0162035\ttotal: 3.92s\tremaining: 2.31s\n",
      "629:\tlearn: 0.0161052\ttotal: 3.93s\tremaining: 2.31s\n",
      "630:\tlearn: 0.0160502\ttotal: 3.94s\tremaining: 2.3s\n",
      "631:\tlearn: 0.0160185\ttotal: 3.94s\tremaining: 2.29s\n",
      "632:\tlearn: 0.0159965\ttotal: 3.95s\tremaining: 2.29s\n",
      "633:\tlearn: 0.0159619\ttotal: 3.95s\tremaining: 2.28s\n",
      "634:\tlearn: 0.0158663\ttotal: 3.96s\tremaining: 2.28s\n",
      "635:\tlearn: 0.0157995\ttotal: 3.97s\tremaining: 2.27s\n",
      "636:\tlearn: 0.0157565\ttotal: 3.97s\tremaining: 2.26s\n",
      "637:\tlearn: 0.0157355\ttotal: 3.98s\tremaining: 2.26s\n",
      "638:\tlearn: 0.0156793\ttotal: 3.98s\tremaining: 2.25s\n",
      "639:\tlearn: 0.0156262\ttotal: 3.99s\tremaining: 2.24s\n",
      "640:\tlearn: 0.0155726\ttotal: 3.99s\tremaining: 2.24s\n",
      "641:\tlearn: 0.0155034\ttotal: 4s\tremaining: 2.23s\n",
      "642:\tlearn: 0.0154038\ttotal: 4.01s\tremaining: 2.22s\n",
      "643:\tlearn: 0.0153681\ttotal: 4.01s\tremaining: 2.22s\n",
      "644:\tlearn: 0.0153384\ttotal: 4.02s\tremaining: 2.21s\n",
      "645:\tlearn: 0.0153007\ttotal: 4.02s\tremaining: 2.2s\n",
      "646:\tlearn: 0.0152792\ttotal: 4.03s\tremaining: 2.2s\n",
      "647:\tlearn: 0.0152172\ttotal: 4.03s\tremaining: 2.19s\n",
      "648:\tlearn: 0.0151683\ttotal: 4.04s\tremaining: 2.18s\n",
      "649:\tlearn: 0.0151512\ttotal: 4.04s\tremaining: 2.18s\n",
      "650:\tlearn: 0.0150806\ttotal: 4.05s\tremaining: 2.17s\n",
      "651:\tlearn: 0.0150409\ttotal: 4.05s\tremaining: 2.16s\n",
      "652:\tlearn: 0.0150251\ttotal: 4.06s\tremaining: 2.16s\n",
      "653:\tlearn: 0.0149613\ttotal: 4.07s\tremaining: 2.15s\n",
      "654:\tlearn: 0.0149449\ttotal: 4.07s\tremaining: 2.14s\n",
      "655:\tlearn: 0.0148778\ttotal: 4.08s\tremaining: 2.14s\n",
      "656:\tlearn: 0.0148276\ttotal: 4.08s\tremaining: 2.13s\n",
      "657:\tlearn: 0.0148099\ttotal: 4.09s\tremaining: 2.13s\n",
      "658:\tlearn: 0.0147645\ttotal: 4.09s\tremaining: 2.12s\n",
      "659:\tlearn: 0.0147095\ttotal: 4.1s\tremaining: 2.11s\n",
      "660:\tlearn: 0.0146733\ttotal: 4.11s\tremaining: 2.1s\n",
      "661:\tlearn: 0.0146246\ttotal: 4.11s\tremaining: 2.1s\n",
      "662:\tlearn: 0.0145523\ttotal: 4.12s\tremaining: 2.09s\n",
      "663:\tlearn: 0.0145256\ttotal: 4.12s\tremaining: 2.09s\n",
      "664:\tlearn: 0.0144652\ttotal: 4.13s\tremaining: 2.08s\n",
      "665:\tlearn: 0.0144079\ttotal: 4.13s\tremaining: 2.07s\n",
      "666:\tlearn: 0.0143831\ttotal: 4.14s\tremaining: 2.07s\n",
      "667:\tlearn: 0.0143702\ttotal: 4.15s\tremaining: 2.06s\n",
      "668:\tlearn: 0.0142712\ttotal: 4.15s\tremaining: 2.05s\n",
      "669:\tlearn: 0.0142159\ttotal: 4.16s\tremaining: 2.05s\n",
      "670:\tlearn: 0.0141434\ttotal: 4.16s\tremaining: 2.04s\n",
      "671:\tlearn: 0.0140915\ttotal: 4.17s\tremaining: 2.03s\n",
      "672:\tlearn: 0.0140483\ttotal: 4.17s\tremaining: 2.03s\n",
      "673:\tlearn: 0.0140329\ttotal: 4.18s\tremaining: 2.02s\n",
      "674:\tlearn: 0.0139975\ttotal: 4.19s\tremaining: 2.02s\n",
      "675:\tlearn: 0.0139763\ttotal: 4.19s\tremaining: 2.01s\n",
      "676:\tlearn: 0.0139335\ttotal: 4.2s\tremaining: 2s\n",
      "677:\tlearn: 0.0138870\ttotal: 4.21s\tremaining: 2s\n",
      "678:\tlearn: 0.0138360\ttotal: 4.21s\tremaining: 1.99s\n",
      "679:\tlearn: 0.0138043\ttotal: 4.22s\tremaining: 1.99s\n",
      "680:\tlearn: 0.0137649\ttotal: 4.22s\tremaining: 1.98s\n",
      "681:\tlearn: 0.0137340\ttotal: 4.23s\tremaining: 1.97s\n",
      "682:\tlearn: 0.0137058\ttotal: 4.24s\tremaining: 1.97s\n",
      "683:\tlearn: 0.0136621\ttotal: 4.25s\tremaining: 1.96s\n",
      "684:\tlearn: 0.0136212\ttotal: 4.25s\tremaining: 1.96s\n",
      "685:\tlearn: 0.0135945\ttotal: 4.26s\tremaining: 1.95s\n",
      "686:\tlearn: 0.0135439\ttotal: 4.26s\tremaining: 1.94s\n",
      "687:\tlearn: 0.0135186\ttotal: 4.27s\tremaining: 1.94s\n",
      "688:\tlearn: 0.0134728\ttotal: 4.28s\tremaining: 1.93s\n",
      "689:\tlearn: 0.0134401\ttotal: 4.28s\tremaining: 1.92s\n",
      "690:\tlearn: 0.0134126\ttotal: 4.29s\tremaining: 1.92s\n",
      "691:\tlearn: 0.0133525\ttotal: 4.29s\tremaining: 1.91s\n",
      "692:\tlearn: 0.0133341\ttotal: 4.3s\tremaining: 1.91s\n",
      "693:\tlearn: 0.0133082\ttotal: 4.31s\tremaining: 1.9s\n",
      "694:\tlearn: 0.0132900\ttotal: 4.31s\tremaining: 1.89s\n",
      "695:\tlearn: 0.0132390\ttotal: 4.32s\tremaining: 1.89s\n",
      "696:\tlearn: 0.0132186\ttotal: 4.32s\tremaining: 1.88s\n",
      "697:\tlearn: 0.0132052\ttotal: 4.33s\tremaining: 1.87s\n",
      "698:\tlearn: 0.0131643\ttotal: 4.34s\tremaining: 1.87s\n",
      "699:\tlearn: 0.0130946\ttotal: 4.34s\tremaining: 1.86s\n",
      "700:\tlearn: 0.0130536\ttotal: 4.35s\tremaining: 1.85s\n",
      "701:\tlearn: 0.0130140\ttotal: 4.35s\tremaining: 1.85s\n",
      "702:\tlearn: 0.0129578\ttotal: 4.36s\tremaining: 1.84s\n",
      "703:\tlearn: 0.0129116\ttotal: 4.37s\tremaining: 1.84s\n",
      "704:\tlearn: 0.0128634\ttotal: 4.37s\tremaining: 1.83s\n",
      "705:\tlearn: 0.0128318\ttotal: 4.38s\tremaining: 1.82s\n",
      "706:\tlearn: 0.0127795\ttotal: 4.38s\tremaining: 1.82s\n",
      "707:\tlearn: 0.0127226\ttotal: 4.39s\tremaining: 1.81s\n",
      "708:\tlearn: 0.0127040\ttotal: 4.4s\tremaining: 1.8s\n",
      "709:\tlearn: 0.0126755\ttotal: 4.4s\tremaining: 1.8s\n",
      "710:\tlearn: 0.0126508\ttotal: 4.41s\tremaining: 1.79s\n",
      "711:\tlearn: 0.0126270\ttotal: 4.41s\tremaining: 1.78s\n",
      "712:\tlearn: 0.0126039\ttotal: 4.42s\tremaining: 1.78s\n",
      "713:\tlearn: 0.0125372\ttotal: 4.42s\tremaining: 1.77s\n",
      "714:\tlearn: 0.0125044\ttotal: 4.43s\tremaining: 1.77s\n",
      "715:\tlearn: 0.0124510\ttotal: 4.44s\tremaining: 1.76s\n",
      "716:\tlearn: 0.0123686\ttotal: 4.44s\tremaining: 1.75s\n",
      "717:\tlearn: 0.0123484\ttotal: 4.45s\tremaining: 1.75s\n",
      "718:\tlearn: 0.0122734\ttotal: 4.45s\tremaining: 1.74s\n",
      "719:\tlearn: 0.0122503\ttotal: 4.46s\tremaining: 1.73s\n",
      "720:\tlearn: 0.0122326\ttotal: 4.46s\tremaining: 1.73s\n",
      "721:\tlearn: 0.0122021\ttotal: 4.47s\tremaining: 1.72s\n",
      "722:\tlearn: 0.0121829\ttotal: 4.48s\tremaining: 1.72s\n",
      "723:\tlearn: 0.0121417\ttotal: 4.48s\tremaining: 1.71s\n",
      "724:\tlearn: 0.0121016\ttotal: 4.49s\tremaining: 1.7s\n",
      "725:\tlearn: 0.0120330\ttotal: 4.49s\tremaining: 1.7s\n",
      "726:\tlearn: 0.0119856\ttotal: 4.5s\tremaining: 1.69s\n",
      "727:\tlearn: 0.0119430\ttotal: 4.5s\tremaining: 1.68s\n",
      "728:\tlearn: 0.0119140\ttotal: 4.51s\tremaining: 1.68s\n",
      "729:\tlearn: 0.0118865\ttotal: 4.52s\tremaining: 1.67s\n",
      "730:\tlearn: 0.0118390\ttotal: 4.52s\tremaining: 1.67s\n",
      "731:\tlearn: 0.0118306\ttotal: 4.53s\tremaining: 1.66s\n",
      "732:\tlearn: 0.0118070\ttotal: 4.54s\tremaining: 1.65s\n",
      "733:\tlearn: 0.0117747\ttotal: 4.55s\tremaining: 1.65s\n",
      "734:\tlearn: 0.0117426\ttotal: 4.55s\tremaining: 1.64s\n",
      "735:\tlearn: 0.0116714\ttotal: 4.56s\tremaining: 1.64s\n",
      "736:\tlearn: 0.0116224\ttotal: 4.57s\tremaining: 1.63s\n",
      "737:\tlearn: 0.0116025\ttotal: 4.58s\tremaining: 1.63s\n",
      "738:\tlearn: 0.0115689\ttotal: 4.58s\tremaining: 1.62s\n",
      "739:\tlearn: 0.0115295\ttotal: 4.59s\tremaining: 1.61s\n",
      "740:\tlearn: 0.0115135\ttotal: 4.6s\tremaining: 1.61s\n",
      "741:\tlearn: 0.0114585\ttotal: 4.61s\tremaining: 1.6s\n",
      "742:\tlearn: 0.0114170\ttotal: 4.61s\tremaining: 1.6s\n",
      "743:\tlearn: 0.0113794\ttotal: 4.62s\tremaining: 1.59s\n",
      "744:\tlearn: 0.0113567\ttotal: 4.63s\tremaining: 1.58s\n",
      "745:\tlearn: 0.0113156\ttotal: 4.64s\tremaining: 1.58s\n",
      "746:\tlearn: 0.0112862\ttotal: 4.64s\tremaining: 1.57s\n",
      "747:\tlearn: 0.0112807\ttotal: 4.65s\tremaining: 1.57s\n",
      "748:\tlearn: 0.0112476\ttotal: 4.66s\tremaining: 1.56s\n",
      "749:\tlearn: 0.0112315\ttotal: 4.67s\tremaining: 1.55s\n",
      "750:\tlearn: 0.0111818\ttotal: 4.67s\tremaining: 1.55s\n",
      "751:\tlearn: 0.0111467\ttotal: 4.68s\tremaining: 1.54s\n",
      "752:\tlearn: 0.0111140\ttotal: 4.68s\tremaining: 1.54s\n",
      "753:\tlearn: 0.0110821\ttotal: 4.69s\tremaining: 1.53s\n",
      "754:\tlearn: 0.0110542\ttotal: 4.7s\tremaining: 1.52s\n",
      "755:\tlearn: 0.0110425\ttotal: 4.7s\tremaining: 1.52s\n",
      "756:\tlearn: 0.0110053\ttotal: 4.71s\tremaining: 1.51s\n",
      "757:\tlearn: 0.0109905\ttotal: 4.71s\tremaining: 1.5s\n",
      "758:\tlearn: 0.0109803\ttotal: 4.72s\tremaining: 1.5s\n",
      "759:\tlearn: 0.0109450\ttotal: 4.72s\tremaining: 1.49s\n",
      "760:\tlearn: 0.0109353\ttotal: 4.73s\tremaining: 1.49s\n",
      "761:\tlearn: 0.0109091\ttotal: 4.74s\tremaining: 1.48s\n",
      "762:\tlearn: 0.0108950\ttotal: 4.74s\tremaining: 1.47s\n",
      "763:\tlearn: 0.0108357\ttotal: 4.75s\tremaining: 1.47s\n",
      "764:\tlearn: 0.0107990\ttotal: 4.75s\tremaining: 1.46s\n",
      "765:\tlearn: 0.0107785\ttotal: 4.76s\tremaining: 1.45s\n",
      "766:\tlearn: 0.0107444\ttotal: 4.77s\tremaining: 1.45s\n",
      "767:\tlearn: 0.0107083\ttotal: 4.77s\tremaining: 1.44s\n",
      "768:\tlearn: 0.0106838\ttotal: 4.78s\tremaining: 1.44s\n",
      "769:\tlearn: 0.0106316\ttotal: 4.79s\tremaining: 1.43s\n",
      "770:\tlearn: 0.0106182\ttotal: 4.79s\tremaining: 1.42s\n",
      "771:\tlearn: 0.0105615\ttotal: 4.8s\tremaining: 1.42s\n",
      "772:\tlearn: 0.0105316\ttotal: 4.8s\tremaining: 1.41s\n",
      "773:\tlearn: 0.0105103\ttotal: 4.81s\tremaining: 1.4s\n",
      "774:\tlearn: 0.0104916\ttotal: 4.81s\tremaining: 1.4s\n",
      "775:\tlearn: 0.0104576\ttotal: 4.82s\tremaining: 1.39s\n",
      "776:\tlearn: 0.0104481\ttotal: 4.83s\tremaining: 1.39s\n",
      "777:\tlearn: 0.0104348\ttotal: 4.83s\tremaining: 1.38s\n",
      "778:\tlearn: 0.0104232\ttotal: 4.84s\tremaining: 1.37s\n",
      "779:\tlearn: 0.0103797\ttotal: 4.84s\tremaining: 1.37s\n",
      "780:\tlearn: 0.0103525\ttotal: 4.85s\tremaining: 1.36s\n",
      "781:\tlearn: 0.0103015\ttotal: 4.85s\tremaining: 1.35s\n",
      "782:\tlearn: 0.0102873\ttotal: 4.86s\tremaining: 1.35s\n",
      "783:\tlearn: 0.0102521\ttotal: 4.87s\tremaining: 1.34s\n",
      "784:\tlearn: 0.0102182\ttotal: 4.87s\tremaining: 1.33s\n",
      "785:\tlearn: 0.0101902\ttotal: 4.88s\tremaining: 1.33s\n",
      "786:\tlearn: 0.0101364\ttotal: 4.88s\tremaining: 1.32s\n",
      "787:\tlearn: 0.0101212\ttotal: 4.89s\tremaining: 1.31s\n",
      "788:\tlearn: 0.0101033\ttotal: 4.9s\tremaining: 1.31s\n",
      "789:\tlearn: 0.0100960\ttotal: 4.9s\tremaining: 1.3s\n",
      "790:\tlearn: 0.0100746\ttotal: 4.91s\tremaining: 1.3s\n",
      "791:\tlearn: 0.0100627\ttotal: 4.91s\tremaining: 1.29s\n",
      "792:\tlearn: 0.0100236\ttotal: 4.92s\tremaining: 1.28s\n",
      "793:\tlearn: 0.0100004\ttotal: 4.92s\tremaining: 1.28s\n",
      "794:\tlearn: 0.0099800\ttotal: 4.93s\tremaining: 1.27s\n",
      "795:\tlearn: 0.0099603\ttotal: 4.94s\tremaining: 1.26s\n",
      "796:\tlearn: 0.0099409\ttotal: 4.94s\tremaining: 1.26s\n",
      "797:\tlearn: 0.0099267\ttotal: 4.95s\tremaining: 1.25s\n",
      "798:\tlearn: 0.0099000\ttotal: 4.95s\tremaining: 1.25s\n",
      "799:\tlearn: 0.0098353\ttotal: 4.96s\tremaining: 1.24s\n",
      "800:\tlearn: 0.0098145\ttotal: 4.97s\tremaining: 1.23s\n",
      "801:\tlearn: 0.0097927\ttotal: 4.98s\tremaining: 1.23s\n",
      "802:\tlearn: 0.0097748\ttotal: 4.99s\tremaining: 1.22s\n",
      "803:\tlearn: 0.0097442\ttotal: 5s\tremaining: 1.22s\n",
      "804:\tlearn: 0.0097039\ttotal: 5s\tremaining: 1.21s\n",
      "805:\tlearn: 0.0096907\ttotal: 5.01s\tremaining: 1.21s\n",
      "806:\tlearn: 0.0096483\ttotal: 5.01s\tremaining: 1.2s\n",
      "807:\tlearn: 0.0096276\ttotal: 5.02s\tremaining: 1.19s\n",
      "808:\tlearn: 0.0096045\ttotal: 5.03s\tremaining: 1.19s\n",
      "809:\tlearn: 0.0095942\ttotal: 5.03s\tremaining: 1.18s\n",
      "810:\tlearn: 0.0095790\ttotal: 5.04s\tremaining: 1.17s\n",
      "811:\tlearn: 0.0095476\ttotal: 5.05s\tremaining: 1.17s\n",
      "812:\tlearn: 0.0095342\ttotal: 5.05s\tremaining: 1.16s\n",
      "813:\tlearn: 0.0095039\ttotal: 5.06s\tremaining: 1.16s\n",
      "814:\tlearn: 0.0094869\ttotal: 5.07s\tremaining: 1.15s\n",
      "815:\tlearn: 0.0094539\ttotal: 5.08s\tremaining: 1.14s\n",
      "816:\tlearn: 0.0094311\ttotal: 5.08s\tremaining: 1.14s\n",
      "817:\tlearn: 0.0093780\ttotal: 5.09s\tremaining: 1.13s\n",
      "818:\tlearn: 0.0093687\ttotal: 5.1s\tremaining: 1.13s\n",
      "819:\tlearn: 0.0093216\ttotal: 5.11s\tremaining: 1.12s\n",
      "820:\tlearn: 0.0092882\ttotal: 5.11s\tremaining: 1.11s\n",
      "821:\tlearn: 0.0092599\ttotal: 5.12s\tremaining: 1.11s\n",
      "822:\tlearn: 0.0092518\ttotal: 5.13s\tremaining: 1.1s\n",
      "823:\tlearn: 0.0092257\ttotal: 5.13s\tremaining: 1.1s\n",
      "824:\tlearn: 0.0092087\ttotal: 5.14s\tremaining: 1.09s\n",
      "825:\tlearn: 0.0091972\ttotal: 5.14s\tremaining: 1.08s\n",
      "826:\tlearn: 0.0091711\ttotal: 5.15s\tremaining: 1.08s\n",
      "827:\tlearn: 0.0091448\ttotal: 5.16s\tremaining: 1.07s\n",
      "828:\tlearn: 0.0091170\ttotal: 5.17s\tremaining: 1.06s\n",
      "829:\tlearn: 0.0090986\ttotal: 5.17s\tremaining: 1.06s\n",
      "830:\tlearn: 0.0090481\ttotal: 5.18s\tremaining: 1.05s\n",
      "831:\tlearn: 0.0090230\ttotal: 5.19s\tremaining: 1.05s\n",
      "832:\tlearn: 0.0090133\ttotal: 5.19s\tremaining: 1.04s\n",
      "833:\tlearn: 0.0089972\ttotal: 5.2s\tremaining: 1.03s\n",
      "834:\tlearn: 0.0089773\ttotal: 5.21s\tremaining: 1.03s\n",
      "835:\tlearn: 0.0089593\ttotal: 5.21s\tremaining: 1.02s\n",
      "836:\tlearn: 0.0089527\ttotal: 5.22s\tremaining: 1.02s\n",
      "837:\tlearn: 0.0089111\ttotal: 5.23s\tremaining: 1.01s\n",
      "838:\tlearn: 0.0089021\ttotal: 5.23s\tremaining: 1s\n",
      "839:\tlearn: 0.0088864\ttotal: 5.24s\tremaining: 998ms\n",
      "840:\tlearn: 0.0088578\ttotal: 5.25s\tremaining: 992ms\n",
      "841:\tlearn: 0.0088316\ttotal: 5.25s\tremaining: 986ms\n",
      "842:\tlearn: 0.0088061\ttotal: 5.26s\tremaining: 980ms\n",
      "843:\tlearn: 0.0087973\ttotal: 5.27s\tremaining: 974ms\n",
      "844:\tlearn: 0.0087784\ttotal: 5.27s\tremaining: 967ms\n",
      "845:\tlearn: 0.0087668\ttotal: 5.28s\tremaining: 961ms\n",
      "846:\tlearn: 0.0087499\ttotal: 5.29s\tremaining: 955ms\n",
      "847:\tlearn: 0.0087255\ttotal: 5.29s\tremaining: 948ms\n",
      "848:\tlearn: 0.0087183\ttotal: 5.3s\tremaining: 942ms\n",
      "849:\tlearn: 0.0086891\ttotal: 5.3s\tremaining: 936ms\n",
      "850:\tlearn: 0.0086769\ttotal: 5.31s\tremaining: 929ms\n",
      "851:\tlearn: 0.0086663\ttotal: 5.32s\tremaining: 923ms\n",
      "852:\tlearn: 0.0086602\ttotal: 5.32s\tremaining: 917ms\n",
      "853:\tlearn: 0.0086518\ttotal: 5.33s\tremaining: 910ms\n",
      "854:\tlearn: 0.0086356\ttotal: 5.33s\tremaining: 904ms\n",
      "855:\tlearn: 0.0086243\ttotal: 5.34s\tremaining: 898ms\n",
      "856:\tlearn: 0.0085971\ttotal: 5.34s\tremaining: 891ms\n",
      "857:\tlearn: 0.0085772\ttotal: 5.35s\tremaining: 885ms\n",
      "858:\tlearn: 0.0085514\ttotal: 5.35s\tremaining: 879ms\n",
      "859:\tlearn: 0.0085349\ttotal: 5.36s\tremaining: 873ms\n",
      "860:\tlearn: 0.0085202\ttotal: 5.37s\tremaining: 866ms\n",
      "861:\tlearn: 0.0084950\ttotal: 5.37s\tremaining: 860ms\n",
      "862:\tlearn: 0.0084710\ttotal: 5.38s\tremaining: 854ms\n",
      "863:\tlearn: 0.0084658\ttotal: 5.38s\tremaining: 848ms\n",
      "864:\tlearn: 0.0084582\ttotal: 5.39s\tremaining: 841ms\n",
      "865:\tlearn: 0.0084255\ttotal: 5.4s\tremaining: 835ms\n",
      "866:\tlearn: 0.0084151\ttotal: 5.4s\tremaining: 829ms\n",
      "867:\tlearn: 0.0083932\ttotal: 5.41s\tremaining: 822ms\n",
      "868:\tlearn: 0.0083675\ttotal: 5.41s\tremaining: 816ms\n",
      "869:\tlearn: 0.0083343\ttotal: 5.42s\tremaining: 810ms\n",
      "870:\tlearn: 0.0083189\ttotal: 5.42s\tremaining: 804ms\n",
      "871:\tlearn: 0.0082888\ttotal: 5.43s\tremaining: 797ms\n",
      "872:\tlearn: 0.0082802\ttotal: 5.44s\tremaining: 791ms\n",
      "873:\tlearn: 0.0082723\ttotal: 5.44s\tremaining: 785ms\n",
      "874:\tlearn: 0.0082489\ttotal: 5.45s\tremaining: 778ms\n",
      "875:\tlearn: 0.0082355\ttotal: 5.45s\tremaining: 772ms\n",
      "876:\tlearn: 0.0082254\ttotal: 5.46s\tremaining: 765ms\n",
      "877:\tlearn: 0.0082077\ttotal: 5.46s\tremaining: 759ms\n",
      "878:\tlearn: 0.0081921\ttotal: 5.47s\tremaining: 753ms\n",
      "879:\tlearn: 0.0081646\ttotal: 5.47s\tremaining: 747ms\n",
      "880:\tlearn: 0.0081508\ttotal: 5.48s\tremaining: 741ms\n",
      "881:\tlearn: 0.0081226\ttotal: 5.49s\tremaining: 735ms\n",
      "882:\tlearn: 0.0080956\ttotal: 5.5s\tremaining: 729ms\n",
      "883:\tlearn: 0.0080425\ttotal: 5.51s\tremaining: 723ms\n",
      "884:\tlearn: 0.0080325\ttotal: 5.51s\tremaining: 717ms\n",
      "885:\tlearn: 0.0080216\ttotal: 5.52s\tremaining: 711ms\n",
      "886:\tlearn: 0.0079979\ttotal: 5.53s\tremaining: 704ms\n",
      "887:\tlearn: 0.0079687\ttotal: 5.54s\tremaining: 698ms\n",
      "888:\tlearn: 0.0079614\ttotal: 5.54s\tremaining: 692ms\n",
      "889:\tlearn: 0.0079329\ttotal: 5.55s\tremaining: 686ms\n",
      "890:\tlearn: 0.0079293\ttotal: 5.56s\tremaining: 680ms\n",
      "891:\tlearn: 0.0079052\ttotal: 5.57s\tremaining: 674ms\n",
      "892:\tlearn: 0.0078967\ttotal: 5.57s\tremaining: 668ms\n",
      "893:\tlearn: 0.0078870\ttotal: 5.58s\tremaining: 662ms\n",
      "894:\tlearn: 0.0078806\ttotal: 5.59s\tremaining: 655ms\n",
      "895:\tlearn: 0.0078530\ttotal: 5.59s\tremaining: 649ms\n",
      "896:\tlearn: 0.0078285\ttotal: 5.6s\tremaining: 643ms\n",
      "897:\tlearn: 0.0078211\ttotal: 5.61s\tremaining: 637ms\n",
      "898:\tlearn: 0.0078017\ttotal: 5.61s\tremaining: 631ms\n",
      "899:\tlearn: 0.0077929\ttotal: 5.62s\tremaining: 624ms\n",
      "900:\tlearn: 0.0077644\ttotal: 5.63s\tremaining: 618ms\n",
      "901:\tlearn: 0.0077567\ttotal: 5.63s\tremaining: 612ms\n",
      "902:\tlearn: 0.0077413\ttotal: 5.64s\tremaining: 606ms\n",
      "903:\tlearn: 0.0077195\ttotal: 5.65s\tremaining: 600ms\n",
      "904:\tlearn: 0.0076775\ttotal: 5.65s\tremaining: 594ms\n",
      "905:\tlearn: 0.0076704\ttotal: 5.66s\tremaining: 587ms\n",
      "906:\tlearn: 0.0076440\ttotal: 5.67s\tremaining: 581ms\n",
      "907:\tlearn: 0.0076282\ttotal: 5.67s\tremaining: 575ms\n",
      "908:\tlearn: 0.0075878\ttotal: 5.68s\tremaining: 568ms\n",
      "909:\tlearn: 0.0075696\ttotal: 5.68s\tremaining: 562ms\n",
      "910:\tlearn: 0.0075596\ttotal: 5.69s\tremaining: 556ms\n",
      "911:\tlearn: 0.0075368\ttotal: 5.7s\tremaining: 550ms\n",
      "912:\tlearn: 0.0075008\ttotal: 5.7s\tremaining: 543ms\n",
      "913:\tlearn: 0.0074849\ttotal: 5.71s\tremaining: 537ms\n",
      "914:\tlearn: 0.0074486\ttotal: 5.71s\tremaining: 531ms\n",
      "915:\tlearn: 0.0074394\ttotal: 5.72s\tremaining: 525ms\n",
      "916:\tlearn: 0.0074283\ttotal: 5.72s\tremaining: 518ms\n",
      "917:\tlearn: 0.0073909\ttotal: 5.73s\tremaining: 512ms\n",
      "918:\tlearn: 0.0073839\ttotal: 5.74s\tremaining: 506ms\n",
      "919:\tlearn: 0.0073511\ttotal: 5.74s\tremaining: 499ms\n",
      "920:\tlearn: 0.0073290\ttotal: 5.75s\tremaining: 493ms\n",
      "921:\tlearn: 0.0073258\ttotal: 5.75s\tremaining: 487ms\n",
      "922:\tlearn: 0.0073082\ttotal: 5.76s\tremaining: 481ms\n",
      "923:\tlearn: 0.0073009\ttotal: 5.77s\tremaining: 474ms\n",
      "924:\tlearn: 0.0072752\ttotal: 5.77s\tremaining: 468ms\n",
      "925:\tlearn: 0.0072557\ttotal: 5.78s\tremaining: 462ms\n",
      "926:\tlearn: 0.0072494\ttotal: 5.79s\tremaining: 456ms\n",
      "927:\tlearn: 0.0072419\ttotal: 5.79s\tremaining: 449ms\n",
      "928:\tlearn: 0.0072353\ttotal: 5.8s\tremaining: 443ms\n",
      "929:\tlearn: 0.0072250\ttotal: 5.8s\tremaining: 437ms\n",
      "930:\tlearn: 0.0072154\ttotal: 5.81s\tremaining: 431ms\n",
      "931:\tlearn: 0.0072049\ttotal: 5.82s\tremaining: 424ms\n",
      "932:\tlearn: 0.0071968\ttotal: 5.82s\tremaining: 418ms\n",
      "933:\tlearn: 0.0071921\ttotal: 5.83s\tremaining: 412ms\n",
      "934:\tlearn: 0.0071776\ttotal: 5.83s\tremaining: 405ms\n",
      "935:\tlearn: 0.0071627\ttotal: 5.84s\tremaining: 399ms\n",
      "936:\tlearn: 0.0071605\ttotal: 5.84s\tremaining: 393ms\n",
      "937:\tlearn: 0.0071362\ttotal: 5.85s\tremaining: 387ms\n",
      "938:\tlearn: 0.0071159\ttotal: 5.86s\tremaining: 380ms\n",
      "939:\tlearn: 0.0070819\ttotal: 5.86s\tremaining: 374ms\n",
      "940:\tlearn: 0.0070718\ttotal: 5.87s\tremaining: 368ms\n",
      "941:\tlearn: 0.0070536\ttotal: 5.87s\tremaining: 362ms\n",
      "942:\tlearn: 0.0070246\ttotal: 5.88s\tremaining: 355ms\n",
      "943:\tlearn: 0.0069826\ttotal: 5.88s\tremaining: 349ms\n",
      "944:\tlearn: 0.0069690\ttotal: 5.89s\tremaining: 343ms\n",
      "945:\tlearn: 0.0069505\ttotal: 5.9s\tremaining: 337ms\n",
      "946:\tlearn: 0.0069407\ttotal: 5.9s\tremaining: 330ms\n",
      "947:\tlearn: 0.0069242\ttotal: 5.91s\tremaining: 324ms\n",
      "948:\tlearn: 0.0069152\ttotal: 5.91s\tremaining: 318ms\n",
      "949:\tlearn: 0.0068988\ttotal: 5.92s\tremaining: 312ms\n",
      "950:\tlearn: 0.0068908\ttotal: 5.92s\tremaining: 305ms\n",
      "951:\tlearn: 0.0068802\ttotal: 5.93s\tremaining: 299ms\n",
      "952:\tlearn: 0.0068563\ttotal: 5.94s\tremaining: 293ms\n",
      "953:\tlearn: 0.0068386\ttotal: 5.94s\tremaining: 287ms\n",
      "954:\tlearn: 0.0068230\ttotal: 5.95s\tremaining: 280ms\n",
      "955:\tlearn: 0.0068182\ttotal: 5.95s\tremaining: 274ms\n",
      "956:\tlearn: 0.0068075\ttotal: 5.96s\tremaining: 268ms\n",
      "957:\tlearn: 0.0067977\ttotal: 5.97s\tremaining: 262ms\n",
      "958:\tlearn: 0.0067908\ttotal: 5.97s\tremaining: 255ms\n",
      "959:\tlearn: 0.0067643\ttotal: 5.98s\tremaining: 249ms\n",
      "960:\tlearn: 0.0067551\ttotal: 5.98s\tremaining: 243ms\n",
      "961:\tlearn: 0.0067412\ttotal: 5.99s\tremaining: 237ms\n",
      "962:\tlearn: 0.0067351\ttotal: 6s\tremaining: 230ms\n",
      "963:\tlearn: 0.0067149\ttotal: 6s\tremaining: 224ms\n",
      "964:\tlearn: 0.0067133\ttotal: 6.01s\tremaining: 218ms\n",
      "965:\tlearn: 0.0066984\ttotal: 6.01s\tremaining: 212ms\n",
      "966:\tlearn: 0.0066806\ttotal: 6.02s\tremaining: 205ms\n",
      "967:\tlearn: 0.0066761\ttotal: 6.03s\tremaining: 199ms\n",
      "968:\tlearn: 0.0066594\ttotal: 6.03s\tremaining: 193ms\n",
      "969:\tlearn: 0.0066526\ttotal: 6.04s\tremaining: 187ms\n",
      "970:\tlearn: 0.0066430\ttotal: 6.04s\tremaining: 180ms\n",
      "971:\tlearn: 0.0066359\ttotal: 6.05s\tremaining: 174ms\n",
      "972:\tlearn: 0.0066151\ttotal: 6.05s\tremaining: 168ms\n",
      "973:\tlearn: 0.0066064\ttotal: 6.06s\tremaining: 162ms\n",
      "974:\tlearn: 0.0065944\ttotal: 6.07s\tremaining: 156ms\n",
      "975:\tlearn: 0.0065874\ttotal: 6.07s\tremaining: 149ms\n",
      "976:\tlearn: 0.0065595\ttotal: 6.08s\tremaining: 143ms\n",
      "977:\tlearn: 0.0065385\ttotal: 6.08s\tremaining: 137ms\n",
      "978:\tlearn: 0.0065280\ttotal: 6.09s\tremaining: 131ms\n",
      "979:\tlearn: 0.0065131\ttotal: 6.09s\tremaining: 124ms\n",
      "980:\tlearn: 0.0064957\ttotal: 6.1s\tremaining: 118ms\n",
      "981:\tlearn: 0.0064842\ttotal: 6.11s\tremaining: 112ms\n",
      "982:\tlearn: 0.0064631\ttotal: 6.11s\tremaining: 106ms\n",
      "983:\tlearn: 0.0064575\ttotal: 6.12s\tremaining: 99.5ms\n",
      "984:\tlearn: 0.0064450\ttotal: 6.12s\tremaining: 93.2ms\n",
      "985:\tlearn: 0.0064248\ttotal: 6.13s\tremaining: 87ms\n",
      "986:\tlearn: 0.0064107\ttotal: 6.13s\tremaining: 80.8ms\n",
      "987:\tlearn: 0.0063831\ttotal: 6.14s\tremaining: 74.6ms\n",
      "988:\tlearn: 0.0063769\ttotal: 6.14s\tremaining: 68.4ms\n",
      "989:\tlearn: 0.0063688\ttotal: 6.15s\tremaining: 62.1ms\n",
      "990:\tlearn: 0.0063620\ttotal: 6.16s\tremaining: 55.9ms\n",
      "991:\tlearn: 0.0063522\ttotal: 6.16s\tremaining: 49.7ms\n",
      "992:\tlearn: 0.0063380\ttotal: 6.17s\tremaining: 43.5ms\n",
      "993:\tlearn: 0.0063285\ttotal: 6.17s\tremaining: 37.3ms\n",
      "994:\tlearn: 0.0063113\ttotal: 6.18s\tremaining: 31.1ms\n",
      "995:\tlearn: 0.0062977\ttotal: 6.19s\tremaining: 24.8ms\n",
      "996:\tlearn: 0.0062933\ttotal: 6.19s\tremaining: 18.6ms\n",
      "997:\tlearn: 0.0062867\ttotal: 6.2s\tremaining: 12.4ms\n",
      "998:\tlearn: 0.0062583\ttotal: 6.2s\tremaining: 6.21ms\n",
      "999:\tlearn: 0.0062476\ttotal: 6.21s\tremaining: 0us\n",
      "Training and evaluating Gradient Boosting...\n",
      "Training and evaluating Naive Bayes...\n",
      "Training and evaluating AdaBoost...\n"
     ]
    },
    {
     "name": "stderr",
     "output_type": "stream",
     "text": [
      "c:\\Users\\ASUS\\AppData\\Local\\Programs\\Python\\Python311\\Lib\\site-packages\\sklearn\\ensemble\\_weight_boosting.py:519: FutureWarning: The SAMME.R algorithm (the default) is deprecated and will be removed in 1.6. Use the SAMME algorithm to circumvent this warning.\n",
      "  warnings.warn(\n"
     ]
    }
   ],
   "source": [
    "from sklearn.tree import DecisionTreeClassifier\n",
    "from xgboost import XGBClassifier\n",
    "from catboost import CatBoostClassifier\n",
    "from sklearn.ensemble import GradientBoostingClassifier\n",
    "from sklearn.ensemble import RandomForestClassifier\n",
    "from sklearn.linear_model import LogisticRegression\n",
    "from sklearn.svm import SVC\n",
    "from sklearn.neighbors import KNeighborsClassifier\n",
    "from sklearn.metrics import accuracy_score, precision_score, recall_score, f1_score\n",
    "from sklearn.naive_bayes import MultinomialNB\n",
    "from sklearn.ensemble import AdaBoostClassifier\n",
    "\n",
    "# Define models\n",
    "models = {\n",
    "    'SVM': SVC(),\n",
    "    'Random Forest': RandomForestClassifier(),\n",
    "    'Logistic Regression': LogisticRegression(),\n",
    "    'Decision Tree': DecisionTreeClassifier(),\n",
    "    'K-Nearest Neighbors': KNeighborsClassifier(),\n",
    "    'XGBoost': XGBClassifier(),\n",
    "    'CatBoost': CatBoostClassifier(),\n",
    "    'Gradient Boosting': GradientBoostingClassifier(),\n",
    "    'Naive Bayes': MultinomialNB(),\n",
    "    'AdaBoost': AdaBoostClassifier()\n",
    "    \n",
    "}\n",
    "\n",
    "\n",
    "\n",
    "# Initialize empty lists to store evaluation results\n",
    "model_names = []\n",
    "accuracies = []\n",
    "precisions = []\n",
    "recalls = []\n",
    "f1_scores = []\n",
    "\n",
    "# Train and evaluate models\n",
    "for name, model in models.items():\n",
    "    print(f'Training and evaluating {name}...')\n",
    "    model.fit(preprocess(X_train), y_train)\n",
    "    y_pred = model.predict(preprocess(X_val))\n",
    "    accuracy = accuracy_score(y_val, y_pred)\n",
    "    precision = precision_score(y_val, y_pred, average='weighted')\n",
    "    recall = recall_score(y_val, y_pred, average='weighted')\n",
    "    f1 = f1_score(y_val, y_pred, average='weighted')\n",
    "    \n",
    "    # Append results to lists\n",
    "    model_names.append(name)\n",
    "    accuracies.append(accuracy)\n",
    "    precisions.append(precision)\n",
    "    recalls.append(recall)\n",
    "    f1_scores.append(f1)\n",
    "\n",
    "# Create DataFrame\n",
    "results_df = pd.DataFrame({\n",
    "    'Model': model_names,\n",
    "    'Accuracy': accuracies,\n",
    "    'Precision': precisions,\n",
    "    'Recall': recalls,\n",
    "    'F1-Score': f1_scores\n",
    "})\n"
   ]
  },
  {
   "cell_type": "code",
   "execution_count": 10,
   "metadata": {},
   "outputs": [
    {
     "data": {
      "text/html": [
       "<div>\n",
       "<style scoped>\n",
       "    .dataframe tbody tr th:only-of-type {\n",
       "        vertical-align: middle;\n",
       "    }\n",
       "\n",
       "    .dataframe tbody tr th {\n",
       "        vertical-align: top;\n",
       "    }\n",
       "\n",
       "    .dataframe thead th {\n",
       "        text-align: right;\n",
       "    }\n",
       "</style>\n",
       "<table border=\"1\" class=\"dataframe\">\n",
       "  <thead>\n",
       "    <tr style=\"text-align: right;\">\n",
       "      <th></th>\n",
       "      <th>Model</th>\n",
       "      <th>Accuracy</th>\n",
       "      <th>Precision</th>\n",
       "      <th>Recall</th>\n",
       "      <th>F1-Score</th>\n",
       "    </tr>\n",
       "  </thead>\n",
       "  <tbody>\n",
       "    <tr>\n",
       "      <th>4</th>\n",
       "      <td>K-Nearest Neighbors</td>\n",
       "      <td>0.764541</td>\n",
       "      <td>0.770035</td>\n",
       "      <td>0.764541</td>\n",
       "      <td>0.766964</td>\n",
       "    </tr>\n",
       "    <tr>\n",
       "      <th>7</th>\n",
       "      <td>Gradient Boosting</td>\n",
       "      <td>0.738032</td>\n",
       "      <td>0.733437</td>\n",
       "      <td>0.738032</td>\n",
       "      <td>0.734976</td>\n",
       "    </tr>\n",
       "    <tr>\n",
       "      <th>5</th>\n",
       "      <td>XGBoost</td>\n",
       "      <td>0.731795</td>\n",
       "      <td>0.725302</td>\n",
       "      <td>0.731795</td>\n",
       "      <td>0.727847</td>\n",
       "    </tr>\n",
       "    <tr>\n",
       "      <th>0</th>\n",
       "      <td>SVM</td>\n",
       "      <td>0.724154</td>\n",
       "      <td>0.750034</td>\n",
       "      <td>0.724154</td>\n",
       "      <td>0.733062</td>\n",
       "    </tr>\n",
       "    <tr>\n",
       "      <th>6</th>\n",
       "      <td>CatBoost</td>\n",
       "      <td>0.720568</td>\n",
       "      <td>0.708383</td>\n",
       "      <td>0.720568</td>\n",
       "      <td>0.709079</td>\n",
       "    </tr>\n",
       "    <tr>\n",
       "      <th>1</th>\n",
       "      <td>Random Forest</td>\n",
       "      <td>0.686886</td>\n",
       "      <td>0.673583</td>\n",
       "      <td>0.686886</td>\n",
       "      <td>0.665194</td>\n",
       "    </tr>\n",
       "    <tr>\n",
       "      <th>3</th>\n",
       "      <td>Decision Tree</td>\n",
       "      <td>0.686886</td>\n",
       "      <td>0.673583</td>\n",
       "      <td>0.686886</td>\n",
       "      <td>0.665194</td>\n",
       "    </tr>\n",
       "    <tr>\n",
       "      <th>9</th>\n",
       "      <td>AdaBoost</td>\n",
       "      <td>0.681272</td>\n",
       "      <td>0.663955</td>\n",
       "      <td>0.681272</td>\n",
       "      <td>0.670067</td>\n",
       "    </tr>\n",
       "    <tr>\n",
       "      <th>8</th>\n",
       "      <td>Naive Bayes</td>\n",
       "      <td>0.580072</td>\n",
       "      <td>0.540923</td>\n",
       "      <td>0.580072</td>\n",
       "      <td>0.552248</td>\n",
       "    </tr>\n",
       "    <tr>\n",
       "      <th>2</th>\n",
       "      <td>Logistic Regression</td>\n",
       "      <td>0.516763</td>\n",
       "      <td>0.421893</td>\n",
       "      <td>0.516763</td>\n",
       "      <td>0.389049</td>\n",
       "    </tr>\n",
       "  </tbody>\n",
       "</table>\n",
       "</div>"
      ],
      "text/plain": [
       "                 Model  Accuracy  Precision    Recall  F1-Score\n",
       "4  K-Nearest Neighbors  0.764541   0.770035  0.764541  0.766964\n",
       "7    Gradient Boosting  0.738032   0.733437  0.738032  0.734976\n",
       "5              XGBoost  0.731795   0.725302  0.731795  0.727847\n",
       "0                  SVM  0.724154   0.750034  0.724154  0.733062\n",
       "6             CatBoost  0.720568   0.708383  0.720568  0.709079\n",
       "1        Random Forest  0.686886   0.673583  0.686886  0.665194\n",
       "3        Decision Tree  0.686886   0.673583  0.686886  0.665194\n",
       "9             AdaBoost  0.681272   0.663955  0.681272  0.670067\n",
       "8          Naive Bayes  0.580072   0.540923  0.580072  0.552248\n",
       "2  Logistic Regression  0.516763   0.421893  0.516763  0.389049"
      ]
     },
     "execution_count": 10,
     "metadata": {},
     "output_type": "execute_result"
    }
   ],
   "source": [
    "results_df.sort_values(by='Accuracy', ascending=False)"
   ]
  },
  {
   "cell_type": "code",
   "execution_count": 11,
   "metadata": {},
   "outputs": [
    {
     "data": {
      "application/vnd.plotly.v1+json": {
       "config": {
        "plotlyServerURL": "https://plot.ly"
       },
       "data": [
        {
         "hoverongaps": false,
         "type": "heatmap",
         "x": [
          "Accuracy",
          "Precision",
          "Recall",
          "F1-Score"
         ],
         "y": [
          "Logistic Regression",
          "Naive Bayes",
          "AdaBoost",
          "Random Forest",
          "Decision Tree",
          "CatBoost",
          "SVM",
          "XGBoost",
          "Gradient Boosting",
          "K-Nearest Neighbors"
         ],
         "z": [
          [
           0.5167628255106814,
           0.4218931167083027,
           0.5167628255106814,
           0.3890492988616765
          ],
          [
           0.5800717292998596,
           0.5409233238952292,
           0.5800717292998596,
           0.5522481799621873
          ],
          [
           0.6812724154062061,
           0.6639554249069365,
           0.6812724154062061,
           0.6700665970413412
          ],
          [
           0.6868860127865274,
           0.6735825178972932,
           0.6868860127865274,
           0.665194139514023
          ],
          [
           0.6868860127865274,
           0.6735825178972932,
           0.6868860127865274,
           0.665194139514023
          ],
          [
           0.7205675970684547,
           0.7083827132155861,
           0.7205675970684547,
           0.7090793178223235
          ],
          [
           0.7241540620614377,
           0.7500342075501008,
           0.7241540620614377,
           0.7330622548898377
          ],
          [
           0.7317947918290971,
           0.7253019778888566,
           0.7317947918290971,
           0.7278465665544817
          ],
          [
           0.7380321222516762,
           0.7334373911975323,
           0.7380321222516762,
           0.7349763449605411
          ],
          [
           0.7645407765476376,
           0.7700352260588423,
           0.7645407765476376,
           0.7669635580926515
          ]
         ]
        }
       ],
       "layout": {
        "template": {
         "data": {
          "bar": [
           {
            "error_x": {
             "color": "#2a3f5f"
            },
            "error_y": {
             "color": "#2a3f5f"
            },
            "marker": {
             "line": {
              "color": "#E5ECF6",
              "width": 0.5
             },
             "pattern": {
              "fillmode": "overlay",
              "size": 10,
              "solidity": 0.2
             }
            },
            "type": "bar"
           }
          ],
          "barpolar": [
           {
            "marker": {
             "line": {
              "color": "#E5ECF6",
              "width": 0.5
             },
             "pattern": {
              "fillmode": "overlay",
              "size": 10,
              "solidity": 0.2
             }
            },
            "type": "barpolar"
           }
          ],
          "carpet": [
           {
            "aaxis": {
             "endlinecolor": "#2a3f5f",
             "gridcolor": "white",
             "linecolor": "white",
             "minorgridcolor": "white",
             "startlinecolor": "#2a3f5f"
            },
            "baxis": {
             "endlinecolor": "#2a3f5f",
             "gridcolor": "white",
             "linecolor": "white",
             "minorgridcolor": "white",
             "startlinecolor": "#2a3f5f"
            },
            "type": "carpet"
           }
          ],
          "choropleth": [
           {
            "colorbar": {
             "outlinewidth": 0,
             "ticks": ""
            },
            "type": "choropleth"
           }
          ],
          "contour": [
           {
            "colorbar": {
             "outlinewidth": 0,
             "ticks": ""
            },
            "colorscale": [
             [
              0,
              "#0d0887"
             ],
             [
              0.1111111111111111,
              "#46039f"
             ],
             [
              0.2222222222222222,
              "#7201a8"
             ],
             [
              0.3333333333333333,
              "#9c179e"
             ],
             [
              0.4444444444444444,
              "#bd3786"
             ],
             [
              0.5555555555555556,
              "#d8576b"
             ],
             [
              0.6666666666666666,
              "#ed7953"
             ],
             [
              0.7777777777777778,
              "#fb9f3a"
             ],
             [
              0.8888888888888888,
              "#fdca26"
             ],
             [
              1,
              "#f0f921"
             ]
            ],
            "type": "contour"
           }
          ],
          "contourcarpet": [
           {
            "colorbar": {
             "outlinewidth": 0,
             "ticks": ""
            },
            "type": "contourcarpet"
           }
          ],
          "heatmap": [
           {
            "colorbar": {
             "outlinewidth": 0,
             "ticks": ""
            },
            "colorscale": [
             [
              0,
              "#0d0887"
             ],
             [
              0.1111111111111111,
              "#46039f"
             ],
             [
              0.2222222222222222,
              "#7201a8"
             ],
             [
              0.3333333333333333,
              "#9c179e"
             ],
             [
              0.4444444444444444,
              "#bd3786"
             ],
             [
              0.5555555555555556,
              "#d8576b"
             ],
             [
              0.6666666666666666,
              "#ed7953"
             ],
             [
              0.7777777777777778,
              "#fb9f3a"
             ],
             [
              0.8888888888888888,
              "#fdca26"
             ],
             [
              1,
              "#f0f921"
             ]
            ],
            "type": "heatmap"
           }
          ],
          "heatmapgl": [
           {
            "colorbar": {
             "outlinewidth": 0,
             "ticks": ""
            },
            "colorscale": [
             [
              0,
              "#0d0887"
             ],
             [
              0.1111111111111111,
              "#46039f"
             ],
             [
              0.2222222222222222,
              "#7201a8"
             ],
             [
              0.3333333333333333,
              "#9c179e"
             ],
             [
              0.4444444444444444,
              "#bd3786"
             ],
             [
              0.5555555555555556,
              "#d8576b"
             ],
             [
              0.6666666666666666,
              "#ed7953"
             ],
             [
              0.7777777777777778,
              "#fb9f3a"
             ],
             [
              0.8888888888888888,
              "#fdca26"
             ],
             [
              1,
              "#f0f921"
             ]
            ],
            "type": "heatmapgl"
           }
          ],
          "histogram": [
           {
            "marker": {
             "pattern": {
              "fillmode": "overlay",
              "size": 10,
              "solidity": 0.2
             }
            },
            "type": "histogram"
           }
          ],
          "histogram2d": [
           {
            "colorbar": {
             "outlinewidth": 0,
             "ticks": ""
            },
            "colorscale": [
             [
              0,
              "#0d0887"
             ],
             [
              0.1111111111111111,
              "#46039f"
             ],
             [
              0.2222222222222222,
              "#7201a8"
             ],
             [
              0.3333333333333333,
              "#9c179e"
             ],
             [
              0.4444444444444444,
              "#bd3786"
             ],
             [
              0.5555555555555556,
              "#d8576b"
             ],
             [
              0.6666666666666666,
              "#ed7953"
             ],
             [
              0.7777777777777778,
              "#fb9f3a"
             ],
             [
              0.8888888888888888,
              "#fdca26"
             ],
             [
              1,
              "#f0f921"
             ]
            ],
            "type": "histogram2d"
           }
          ],
          "histogram2dcontour": [
           {
            "colorbar": {
             "outlinewidth": 0,
             "ticks": ""
            },
            "colorscale": [
             [
              0,
              "#0d0887"
             ],
             [
              0.1111111111111111,
              "#46039f"
             ],
             [
              0.2222222222222222,
              "#7201a8"
             ],
             [
              0.3333333333333333,
              "#9c179e"
             ],
             [
              0.4444444444444444,
              "#bd3786"
             ],
             [
              0.5555555555555556,
              "#d8576b"
             ],
             [
              0.6666666666666666,
              "#ed7953"
             ],
             [
              0.7777777777777778,
              "#fb9f3a"
             ],
             [
              0.8888888888888888,
              "#fdca26"
             ],
             [
              1,
              "#f0f921"
             ]
            ],
            "type": "histogram2dcontour"
           }
          ],
          "mesh3d": [
           {
            "colorbar": {
             "outlinewidth": 0,
             "ticks": ""
            },
            "type": "mesh3d"
           }
          ],
          "parcoords": [
           {
            "line": {
             "colorbar": {
              "outlinewidth": 0,
              "ticks": ""
             }
            },
            "type": "parcoords"
           }
          ],
          "pie": [
           {
            "automargin": true,
            "type": "pie"
           }
          ],
          "scatter": [
           {
            "fillpattern": {
             "fillmode": "overlay",
             "size": 10,
             "solidity": 0.2
            },
            "type": "scatter"
           }
          ],
          "scatter3d": [
           {
            "line": {
             "colorbar": {
              "outlinewidth": 0,
              "ticks": ""
             }
            },
            "marker": {
             "colorbar": {
              "outlinewidth": 0,
              "ticks": ""
             }
            },
            "type": "scatter3d"
           }
          ],
          "scattercarpet": [
           {
            "marker": {
             "colorbar": {
              "outlinewidth": 0,
              "ticks": ""
             }
            },
            "type": "scattercarpet"
           }
          ],
          "scattergeo": [
           {
            "marker": {
             "colorbar": {
              "outlinewidth": 0,
              "ticks": ""
             }
            },
            "type": "scattergeo"
           }
          ],
          "scattergl": [
           {
            "marker": {
             "colorbar": {
              "outlinewidth": 0,
              "ticks": ""
             }
            },
            "type": "scattergl"
           }
          ],
          "scattermapbox": [
           {
            "marker": {
             "colorbar": {
              "outlinewidth": 0,
              "ticks": ""
             }
            },
            "type": "scattermapbox"
           }
          ],
          "scatterpolar": [
           {
            "marker": {
             "colorbar": {
              "outlinewidth": 0,
              "ticks": ""
             }
            },
            "type": "scatterpolar"
           }
          ],
          "scatterpolargl": [
           {
            "marker": {
             "colorbar": {
              "outlinewidth": 0,
              "ticks": ""
             }
            },
            "type": "scatterpolargl"
           }
          ],
          "scatterternary": [
           {
            "marker": {
             "colorbar": {
              "outlinewidth": 0,
              "ticks": ""
             }
            },
            "type": "scatterternary"
           }
          ],
          "surface": [
           {
            "colorbar": {
             "outlinewidth": 0,
             "ticks": ""
            },
            "colorscale": [
             [
              0,
              "#0d0887"
             ],
             [
              0.1111111111111111,
              "#46039f"
             ],
             [
              0.2222222222222222,
              "#7201a8"
             ],
             [
              0.3333333333333333,
              "#9c179e"
             ],
             [
              0.4444444444444444,
              "#bd3786"
             ],
             [
              0.5555555555555556,
              "#d8576b"
             ],
             [
              0.6666666666666666,
              "#ed7953"
             ],
             [
              0.7777777777777778,
              "#fb9f3a"
             ],
             [
              0.8888888888888888,
              "#fdca26"
             ],
             [
              1,
              "#f0f921"
             ]
            ],
            "type": "surface"
           }
          ],
          "table": [
           {
            "cells": {
             "fill": {
              "color": "#EBF0F8"
             },
             "line": {
              "color": "white"
             }
            },
            "header": {
             "fill": {
              "color": "#C8D4E3"
             },
             "line": {
              "color": "white"
             }
            },
            "type": "table"
           }
          ]
         },
         "layout": {
          "annotationdefaults": {
           "arrowcolor": "#2a3f5f",
           "arrowhead": 0,
           "arrowwidth": 1
          },
          "autotypenumbers": "strict",
          "coloraxis": {
           "colorbar": {
            "outlinewidth": 0,
            "ticks": ""
           }
          },
          "colorscale": {
           "diverging": [
            [
             0,
             "#8e0152"
            ],
            [
             0.1,
             "#c51b7d"
            ],
            [
             0.2,
             "#de77ae"
            ],
            [
             0.3,
             "#f1b6da"
            ],
            [
             0.4,
             "#fde0ef"
            ],
            [
             0.5,
             "#f7f7f7"
            ],
            [
             0.6,
             "#e6f5d0"
            ],
            [
             0.7,
             "#b8e186"
            ],
            [
             0.8,
             "#7fbc41"
            ],
            [
             0.9,
             "#4d9221"
            ],
            [
             1,
             "#276419"
            ]
           ],
           "sequential": [
            [
             0,
             "#0d0887"
            ],
            [
             0.1111111111111111,
             "#46039f"
            ],
            [
             0.2222222222222222,
             "#7201a8"
            ],
            [
             0.3333333333333333,
             "#9c179e"
            ],
            [
             0.4444444444444444,
             "#bd3786"
            ],
            [
             0.5555555555555556,
             "#d8576b"
            ],
            [
             0.6666666666666666,
             "#ed7953"
            ],
            [
             0.7777777777777778,
             "#fb9f3a"
            ],
            [
             0.8888888888888888,
             "#fdca26"
            ],
            [
             1,
             "#f0f921"
            ]
           ],
           "sequentialminus": [
            [
             0,
             "#0d0887"
            ],
            [
             0.1111111111111111,
             "#46039f"
            ],
            [
             0.2222222222222222,
             "#7201a8"
            ],
            [
             0.3333333333333333,
             "#9c179e"
            ],
            [
             0.4444444444444444,
             "#bd3786"
            ],
            [
             0.5555555555555556,
             "#d8576b"
            ],
            [
             0.6666666666666666,
             "#ed7953"
            ],
            [
             0.7777777777777778,
             "#fb9f3a"
            ],
            [
             0.8888888888888888,
             "#fdca26"
            ],
            [
             1,
             "#f0f921"
            ]
           ]
          },
          "colorway": [
           "#636efa",
           "#EF553B",
           "#00cc96",
           "#ab63fa",
           "#FFA15A",
           "#19d3f3",
           "#FF6692",
           "#B6E880",
           "#FF97FF",
           "#FECB52"
          ],
          "font": {
           "color": "#2a3f5f"
          },
          "geo": {
           "bgcolor": "white",
           "lakecolor": "white",
           "landcolor": "#E5ECF6",
           "showlakes": true,
           "showland": true,
           "subunitcolor": "white"
          },
          "hoverlabel": {
           "align": "left"
          },
          "hovermode": "closest",
          "mapbox": {
           "style": "light"
          },
          "paper_bgcolor": "white",
          "plot_bgcolor": "#E5ECF6",
          "polar": {
           "angularaxis": {
            "gridcolor": "white",
            "linecolor": "white",
            "ticks": ""
           },
           "bgcolor": "#E5ECF6",
           "radialaxis": {
            "gridcolor": "white",
            "linecolor": "white",
            "ticks": ""
           }
          },
          "scene": {
           "xaxis": {
            "backgroundcolor": "#E5ECF6",
            "gridcolor": "white",
            "gridwidth": 2,
            "linecolor": "white",
            "showbackground": true,
            "ticks": "",
            "zerolinecolor": "white"
           },
           "yaxis": {
            "backgroundcolor": "#E5ECF6",
            "gridcolor": "white",
            "gridwidth": 2,
            "linecolor": "white",
            "showbackground": true,
            "ticks": "",
            "zerolinecolor": "white"
           },
           "zaxis": {
            "backgroundcolor": "#E5ECF6",
            "gridcolor": "white",
            "gridwidth": 2,
            "linecolor": "white",
            "showbackground": true,
            "ticks": "",
            "zerolinecolor": "white"
           }
          },
          "shapedefaults": {
           "line": {
            "color": "#2a3f5f"
           }
          },
          "ternary": {
           "aaxis": {
            "gridcolor": "white",
            "linecolor": "white",
            "ticks": ""
           },
           "baxis": {
            "gridcolor": "white",
            "linecolor": "white",
            "ticks": ""
           },
           "bgcolor": "#E5ECF6",
           "caxis": {
            "gridcolor": "white",
            "linecolor": "white",
            "ticks": ""
           }
          },
          "title": {
           "x": 0.05
          },
          "xaxis": {
           "automargin": true,
           "gridcolor": "white",
           "linecolor": "white",
           "ticks": "",
           "title": {
            "standoff": 15
           },
           "zerolinecolor": "white",
           "zerolinewidth": 2
          },
          "yaxis": {
           "automargin": true,
           "gridcolor": "white",
           "linecolor": "white",
           "ticks": "",
           "title": {
            "standoff": 15
           },
           "zerolinecolor": "white",
           "zerolinewidth": 2
          }
         }
        },
        "title": {
         "text": "Model Evaluation Metrics"
        },
        "xaxis": {
         "title": {
          "text": "Metrics"
         }
        },
        "yaxis": {
         "title": {
          "text": "Models"
         }
        }
       }
      }
     },
     "metadata": {},
     "output_type": "display_data"
    }
   ],
   "source": [
    "import plotly.graph_objects as go\n",
    "\n",
    "# Create a list of models and metrics\n",
    "models = results_df.sort_values(by='Accuracy', ascending=True)['Model'].tolist() \n",
    "metrics = ['Accuracy', 'Precision', 'Recall', 'F1-Score']\n",
    "\n",
    "# Create a 2D list of values for the heatmap\n",
    "values =results_df.sort_values(by='Accuracy', ascending=True).iloc[:,1:]\n",
    "\n",
    "\n",
    "# Create the heatmap\n",
    "fig = go.Figure(data=go.Heatmap(\n",
    "    z=values,\n",
    "    x=metrics,\n",
    "    y=models,\n",
    "    hoverongaps=False))\n",
    "\n",
    "# Update layout\n",
    "fig.update_layout(\n",
    "    title='Model Evaluation Metrics',\n",
    "    xaxis_title='Metrics',\n",
    "    yaxis_title='Models')\n",
    "\n",
    "# Show the plot\n",
    "fig.show()\n"
   ]
  },
  {
   "cell_type": "code",
   "execution_count": 12,
   "metadata": {},
   "outputs": [],
   "source": [
    "def simple_model_from_eda(df):\n",
    "    if df[0] <=32400 or df[0]>=83700:\n",
    "        return 0\n",
    "    elif df[0]>32400 and df[0]<=36000:\n",
    "        return 1\n",
    "    elif df[0]>36000 and df[0]<=43200:\n",
    "        return 2\n",
    "    elif df[0]>43200 and df[0]<=46800:\n",
    "        return 1\n",
    "    else:\n",
    "        if datetime.datetime(2018, df[2], df[1])<=datetime.datetime(2018, 2, 28):\n",
    "            if df[0]>46800 and df[0]<=61200:\n",
    "                return 1\n",
    "            elif df[0]>61200 and df[0]<=72000:\n",
    "                return 2\n",
    "            elif df[0]>72000 and df[0]<=79200:\n",
    "                return 1\n",
    "            else:\n",
    "                return 2\n",
    "        else:\n",
    "            if df[0]>46800 and df[0]<=61200:\n",
    "                return 2\n",
    "            else:\n",
    "                return 1\n",
    "\n"
   ]
  },
  {
   "cell_type": "code",
   "execution_count": 13,
   "metadata": {},
   "outputs": [],
   "source": [
    "y_pred=list(map(lambda x: simple_model_from_eda(x), preprocess(X_train)))"
   ]
  },
  {
   "cell_type": "code",
   "execution_count": 14,
   "metadata": {},
   "outputs": [
    {
     "name": "stdout",
     "output_type": "stream",
     "text": [
      "0.9061245175626681\n",
      "0.9061245175626681\n",
      "0.905487356707332\n",
      "0.9212430409514518\n"
     ]
    }
   ],
   "source": [
    "print(accuracy_score(y_train, y_pred))\n",
    "print(recall_score(y_train, y_pred, average='weighted'))\n",
    "print(f1_score(y_train, y_pred, average='weighted'))\n",
    "print(precision_score(y_train, y_pred, average='weighted'))"
   ]
  },
  {
   "cell_type": "code",
   "execution_count": 15,
   "metadata": {},
   "outputs": [],
   "source": [
    "accuracy = sum(y_train == y_pred) / len(y_train)"
   ]
  },
  {
   "cell_type": "code",
   "execution_count": 16,
   "metadata": {},
   "outputs": [
    {
     "data": {
      "text/plain": [
       "0.9061245175626681"
      ]
     },
     "execution_count": 16,
     "metadata": {},
     "output_type": "execute_result"
    }
   ],
   "source": [
    "1-(43*56)/len(y_train) # this 44 is unique light_load_dates and 56 is number of minutes from 9am to 11:00 pm"
   ]
  },
  {
   "cell_type": "code",
   "execution_count": 17,
   "metadata": {},
   "outputs": [],
   "source": [
    "val_pred=list(map(lambda x: simple_model_from_eda(x), preprocess(X_val)))"
   ]
  },
  {
   "cell_type": "code",
   "execution_count": 18,
   "metadata": {},
   "outputs": [
    {
     "name": "stdout",
     "output_type": "stream",
     "text": [
      "0.7779510369561827\n",
      "0.7779510369561827\n",
      "0.7677217425448057\n",
      "0.7694966662440178\n"
     ]
    }
   ],
   "source": [
    "print(accuracy_score(val_pred, y_val))\n",
    "print(recall_score(val_pred, y_val, average='weighted'))\n",
    "print(f1_score(val_pred, y_val, average='weighted'))\n",
    "print(precision_score(val_pred, y_val, average='weighted'))"
   ]
  },
  {
   "cell_type": "markdown",
   "metadata": {},
   "source": [
    "# Still simple_model_from_eda outperforms the rest"
   ]
  },
  {
   "cell_type": "markdown",
   "metadata": {},
   "source": [
    "It results in the same accuracy as the above model. There is 13% decrease in the accuracy with the validation model. We need to investigate about other datavalues."
   ]
  },
  {
   "cell_type": "code",
   "execution_count": 19,
   "metadata": {},
   "outputs": [
    {
     "data": {
      "application/vnd.plotly.v1+json": {
       "config": {
        "plotlyServerURL": "https://plot.ly"
       },
       "data": [
        {
         "customdata": [
          [
           "25-09-2018 05:00"
          ],
          [
           "25-09-2018 05:15"
          ],
          [
           "25-09-2018 05:30"
          ],
          [
           "25-09-2018 05:45"
          ],
          [
           "25-09-2018 06:00"
          ],
          [
           "25-09-2018 06:15"
          ],
          [
           "25-09-2018 06:30"
          ],
          [
           "25-09-2018 06:45"
          ],
          [
           "25-09-2018 07:00"
          ],
          [
           "25-09-2018 07:15"
          ],
          [
           "25-09-2018 07:30"
          ],
          [
           "25-09-2018 07:45"
          ],
          [
           "25-09-2018 08:00"
          ],
          [
           "25-09-2018 08:15"
          ],
          [
           "25-09-2018 08:30"
          ],
          [
           "25-09-2018 08:45"
          ],
          [
           "25-09-2018 09:00"
          ],
          [
           "25-09-2018 09:15"
          ],
          [
           "25-09-2018 09:30"
          ],
          [
           "25-09-2018 09:45"
          ],
          [
           "25-09-2018 10:00"
          ],
          [
           "25-09-2018 10:15"
          ],
          [
           "25-09-2018 10:30"
          ],
          [
           "25-09-2018 10:45"
          ],
          [
           "25-09-2018 11:00"
          ],
          [
           "25-09-2018 11:15"
          ],
          [
           "25-09-2018 11:30"
          ],
          [
           "25-09-2018 11:45"
          ],
          [
           "25-09-2018 12:00"
          ],
          [
           "25-09-2018 12:15"
          ],
          [
           "25-09-2018 12:30"
          ],
          [
           "25-09-2018 12:45"
          ],
          [
           "25-09-2018 13:00"
          ],
          [
           "25-09-2018 13:15"
          ],
          [
           "25-09-2018 13:30"
          ],
          [
           "25-09-2018 13:45"
          ],
          [
           "25-09-2018 14:00"
          ],
          [
           "25-09-2018 14:15"
          ],
          [
           "25-09-2018 14:30"
          ],
          [
           "25-09-2018 14:45"
          ],
          [
           "25-09-2018 15:00"
          ],
          [
           "25-09-2018 15:15"
          ],
          [
           "25-09-2018 15:30"
          ],
          [
           "25-09-2018 15:45"
          ],
          [
           "25-09-2018 16:00"
          ],
          [
           "25-09-2018 16:15"
          ],
          [
           "25-09-2018 16:30"
          ],
          [
           "25-09-2018 16:45"
          ],
          [
           "25-09-2018 17:00"
          ],
          [
           "25-09-2018 17:15"
          ],
          [
           "25-09-2018 17:30"
          ],
          [
           "25-09-2018 17:45"
          ],
          [
           "25-09-2018 18:00"
          ],
          [
           "25-09-2018 18:15"
          ],
          [
           "25-09-2018 18:30"
          ],
          [
           "25-09-2018 18:45"
          ],
          [
           "25-09-2018 19:00"
          ],
          [
           "25-09-2018 19:15"
          ],
          [
           "25-09-2018 19:30"
          ],
          [
           "25-09-2018 19:45"
          ],
          [
           "25-09-2018 20:00"
          ],
          [
           "25-09-2018 20:15"
          ],
          [
           "25-09-2018 20:30"
          ],
          [
           "25-09-2018 20:45"
          ],
          [
           "25-09-2018 21:00"
          ],
          [
           "25-09-2018 21:15"
          ],
          [
           "25-09-2018 21:30"
          ],
          [
           "25-09-2018 21:45"
          ],
          [
           "25-09-2018 22:00"
          ],
          [
           "25-09-2018 22:15"
          ],
          [
           "25-09-2018 22:30"
          ],
          [
           "25-09-2018 22:45"
          ],
          [
           "25-09-2018 23:00"
          ],
          [
           "25-09-2018 23:15"
          ],
          [
           "25-09-2018 23:30"
          ],
          [
           "25-09-2018 23:45"
          ],
          [
           "25-09-2018 00:00"
          ],
          [
           "26-09-2018 00:15"
          ],
          [
           "26-09-2018 00:30"
          ],
          [
           "26-09-2018 00:45"
          ],
          [
           "26-09-2018 01:00"
          ],
          [
           "26-09-2018 01:15"
          ],
          [
           "26-09-2018 01:30"
          ],
          [
           "26-09-2018 01:45"
          ],
          [
           "26-09-2018 02:00"
          ],
          [
           "26-09-2018 02:15"
          ],
          [
           "26-09-2018 02:30"
          ],
          [
           "26-09-2018 02:45"
          ],
          [
           "26-09-2018 03:00"
          ],
          [
           "26-09-2018 03:15"
          ],
          [
           "26-09-2018 03:30"
          ],
          [
           "26-09-2018 03:45"
          ],
          [
           "26-09-2018 04:00"
          ],
          [
           "26-09-2018 04:15"
          ],
          [
           "26-09-2018 04:30"
          ],
          [
           "26-09-2018 04:45"
          ],
          [
           "26-09-2018 05:00"
          ],
          [
           "26-09-2018 05:15"
          ],
          [
           "26-09-2018 05:30"
          ],
          [
           "26-09-2018 05:45"
          ],
          [
           "26-09-2018 06:00"
          ],
          [
           "26-09-2018 06:15"
          ],
          [
           "26-09-2018 06:30"
          ],
          [
           "26-09-2018 06:45"
          ],
          [
           "26-09-2018 07:00"
          ],
          [
           "26-09-2018 07:15"
          ],
          [
           "26-09-2018 07:30"
          ],
          [
           "26-09-2018 07:45"
          ],
          [
           "26-09-2018 08:00"
          ],
          [
           "26-09-2018 08:15"
          ],
          [
           "26-09-2018 08:30"
          ],
          [
           "26-09-2018 08:45"
          ],
          [
           "26-09-2018 09:00"
          ],
          [
           "26-09-2018 09:15"
          ],
          [
           "26-09-2018 09:30"
          ],
          [
           "26-09-2018 09:45"
          ],
          [
           "26-09-2018 10:00"
          ],
          [
           "26-09-2018 10:15"
          ],
          [
           "26-09-2018 10:30"
          ],
          [
           "26-09-2018 10:45"
          ],
          [
           "26-09-2018 11:00"
          ],
          [
           "26-09-2018 11:15"
          ],
          [
           "26-09-2018 11:30"
          ],
          [
           "26-09-2018 11:45"
          ],
          [
           "26-09-2018 12:00"
          ],
          [
           "26-09-2018 12:15"
          ],
          [
           "26-09-2018 12:30"
          ],
          [
           "26-09-2018 12:45"
          ],
          [
           "26-09-2018 13:00"
          ],
          [
           "26-09-2018 13:15"
          ],
          [
           "26-09-2018 13:30"
          ],
          [
           "26-09-2018 13:45"
          ],
          [
           "26-09-2018 14:00"
          ],
          [
           "26-09-2018 14:15"
          ],
          [
           "26-09-2018 14:30"
          ],
          [
           "26-09-2018 14:45"
          ],
          [
           "26-09-2018 15:00"
          ],
          [
           "26-09-2018 15:15"
          ],
          [
           "26-09-2018 15:30"
          ],
          [
           "26-09-2018 15:45"
          ],
          [
           "26-09-2018 16:00"
          ],
          [
           "26-09-2018 16:15"
          ],
          [
           "26-09-2018 16:30"
          ],
          [
           "26-09-2018 16:45"
          ],
          [
           "26-09-2018 17:00"
          ],
          [
           "26-09-2018 17:15"
          ],
          [
           "26-09-2018 17:30"
          ],
          [
           "26-09-2018 17:45"
          ],
          [
           "26-09-2018 18:00"
          ],
          [
           "26-09-2018 18:15"
          ],
          [
           "26-09-2018 18:30"
          ],
          [
           "26-09-2018 18:45"
          ],
          [
           "26-09-2018 19:00"
          ],
          [
           "26-09-2018 19:15"
          ],
          [
           "26-09-2018 19:30"
          ],
          [
           "26-09-2018 19:45"
          ],
          [
           "26-09-2018 20:00"
          ],
          [
           "26-09-2018 20:15"
          ],
          [
           "26-09-2018 20:30"
          ],
          [
           "26-09-2018 20:45"
          ],
          [
           "26-09-2018 21:00"
          ],
          [
           "26-09-2018 21:15"
          ],
          [
           "26-09-2018 21:30"
          ],
          [
           "26-09-2018 21:45"
          ],
          [
           "26-09-2018 22:00"
          ],
          [
           "26-09-2018 22:15"
          ],
          [
           "26-09-2018 22:30"
          ],
          [
           "26-09-2018 22:45"
          ],
          [
           "26-09-2018 23:00"
          ],
          [
           "26-09-2018 23:15"
          ],
          [
           "26-09-2018 23:30"
          ],
          [
           "26-09-2018 23:45"
          ],
          [
           "26-09-2018 00:00"
          ],
          [
           "27-09-2018 00:15"
          ],
          [
           "27-09-2018 00:30"
          ],
          [
           "27-09-2018 00:45"
          ],
          [
           "27-09-2018 01:00"
          ],
          [
           "27-09-2018 01:15"
          ],
          [
           "27-09-2018 01:30"
          ],
          [
           "27-09-2018 01:45"
          ],
          [
           "27-09-2018 02:00"
          ],
          [
           "27-09-2018 02:15"
          ],
          [
           "27-09-2018 02:30"
          ],
          [
           "27-09-2018 02:45"
          ],
          [
           "27-09-2018 03:00"
          ],
          [
           "27-09-2018 03:15"
          ],
          [
           "27-09-2018 03:30"
          ],
          [
           "27-09-2018 03:45"
          ],
          [
           "27-09-2018 04:00"
          ],
          [
           "27-09-2018 04:15"
          ],
          [
           "27-09-2018 04:30"
          ],
          [
           "27-09-2018 04:45"
          ],
          [
           "27-09-2018 05:00"
          ],
          [
           "27-09-2018 05:15"
          ],
          [
           "27-09-2018 05:30"
          ],
          [
           "27-09-2018 05:45"
          ],
          [
           "27-09-2018 06:00"
          ],
          [
           "27-09-2018 06:15"
          ],
          [
           "27-09-2018 06:30"
          ],
          [
           "27-09-2018 06:45"
          ],
          [
           "27-09-2018 07:00"
          ],
          [
           "27-09-2018 07:15"
          ],
          [
           "27-09-2018 07:30"
          ],
          [
           "27-09-2018 07:45"
          ],
          [
           "27-09-2018 08:00"
          ],
          [
           "27-09-2018 08:15"
          ],
          [
           "27-09-2018 08:30"
          ],
          [
           "27-09-2018 08:45"
          ],
          [
           "27-09-2018 09:00"
          ],
          [
           "27-09-2018 23:15"
          ],
          [
           "27-09-2018 23:30"
          ],
          [
           "27-09-2018 23:45"
          ],
          [
           "27-09-2018 00:00"
          ],
          [
           "28-09-2018 00:15"
          ],
          [
           "28-09-2018 00:30"
          ],
          [
           "28-09-2018 00:45"
          ],
          [
           "28-09-2018 01:00"
          ],
          [
           "28-09-2018 01:15"
          ],
          [
           "28-09-2018 01:30"
          ],
          [
           "28-09-2018 01:45"
          ],
          [
           "28-09-2018 02:00"
          ],
          [
           "28-09-2018 02:15"
          ],
          [
           "28-09-2018 02:30"
          ],
          [
           "28-09-2018 02:45"
          ],
          [
           "28-09-2018 03:00"
          ],
          [
           "28-09-2018 03:15"
          ],
          [
           "28-09-2018 03:30"
          ],
          [
           "28-09-2018 03:45"
          ],
          [
           "28-09-2018 04:00"
          ],
          [
           "28-09-2018 04:15"
          ],
          [
           "28-09-2018 04:30"
          ],
          [
           "28-09-2018 04:45"
          ],
          [
           "28-09-2018 05:00"
          ],
          [
           "28-09-2018 05:15"
          ],
          [
           "28-09-2018 05:30"
          ],
          [
           "28-09-2018 05:45"
          ],
          [
           "28-09-2018 06:00"
          ],
          [
           "28-09-2018 06:15"
          ],
          [
           "28-09-2018 06:30"
          ],
          [
           "28-09-2018 06:45"
          ],
          [
           "28-09-2018 07:00"
          ],
          [
           "28-09-2018 07:15"
          ],
          [
           "28-09-2018 07:30"
          ],
          [
           "28-09-2018 07:45"
          ],
          [
           "28-09-2018 08:00"
          ],
          [
           "28-09-2018 08:15"
          ],
          [
           "28-09-2018 08:30"
          ],
          [
           "28-09-2018 08:45"
          ],
          [
           "28-09-2018 09:00"
          ],
          [
           "28-09-2018 23:15"
          ],
          [
           "28-09-2018 23:30"
          ],
          [
           "28-09-2018 23:45"
          ],
          [
           "28-09-2018 00:00"
          ],
          [
           "29-09-2018 00:15"
          ],
          [
           "29-09-2018 00:30"
          ],
          [
           "29-09-2018 00:45"
          ],
          [
           "29-09-2018 01:00"
          ],
          [
           "29-09-2018 01:15"
          ],
          [
           "29-09-2018 01:30"
          ],
          [
           "29-09-2018 01:45"
          ],
          [
           "29-09-2018 02:00"
          ],
          [
           "29-09-2018 02:15"
          ],
          [
           "29-09-2018 02:30"
          ],
          [
           "29-09-2018 02:45"
          ],
          [
           "29-09-2018 03:00"
          ],
          [
           "29-09-2018 03:15"
          ],
          [
           "29-09-2018 03:30"
          ],
          [
           "29-09-2018 03:45"
          ],
          [
           "29-09-2018 04:00"
          ],
          [
           "29-09-2018 04:15"
          ],
          [
           "29-09-2018 04:30"
          ],
          [
           "29-09-2018 04:45"
          ],
          [
           "29-09-2018 05:00"
          ],
          [
           "29-09-2018 05:15"
          ],
          [
           "29-09-2018 05:30"
          ],
          [
           "29-09-2018 05:45"
          ],
          [
           "29-09-2018 06:00"
          ],
          [
           "29-09-2018 06:15"
          ],
          [
           "29-09-2018 06:30"
          ],
          [
           "29-09-2018 06:45"
          ],
          [
           "29-09-2018 07:00"
          ],
          [
           "29-09-2018 07:15"
          ],
          [
           "29-09-2018 07:30"
          ],
          [
           "29-09-2018 07:45"
          ],
          [
           "29-09-2018 08:00"
          ],
          [
           "29-09-2018 08:15"
          ],
          [
           "29-09-2018 08:30"
          ],
          [
           "29-09-2018 08:45"
          ],
          [
           "29-09-2018 09:00"
          ],
          [
           "29-09-2018 23:15"
          ],
          [
           "29-09-2018 23:30"
          ],
          [
           "29-09-2018 23:45"
          ],
          [
           "29-09-2018 00:00"
          ],
          [
           "30-09-2018 00:15"
          ],
          [
           "30-09-2018 00:30"
          ],
          [
           "30-09-2018 00:45"
          ],
          [
           "30-09-2018 01:00"
          ],
          [
           "30-09-2018 01:15"
          ],
          [
           "30-09-2018 01:30"
          ],
          [
           "30-09-2018 01:45"
          ],
          [
           "30-09-2018 02:00"
          ],
          [
           "30-09-2018 02:15"
          ],
          [
           "30-09-2018 02:30"
          ],
          [
           "30-09-2018 02:45"
          ],
          [
           "30-09-2018 03:00"
          ],
          [
           "30-09-2018 03:15"
          ],
          [
           "30-09-2018 03:30"
          ],
          [
           "30-09-2018 03:45"
          ],
          [
           "30-09-2018 04:00"
          ],
          [
           "30-09-2018 04:15"
          ],
          [
           "30-09-2018 04:30"
          ],
          [
           "30-09-2018 04:45"
          ],
          [
           "30-09-2018 05:00"
          ],
          [
           "30-09-2018 05:15"
          ],
          [
           "30-09-2018 05:30"
          ],
          [
           "30-09-2018 05:45"
          ],
          [
           "30-09-2018 06:00"
          ],
          [
           "30-09-2018 06:15"
          ],
          [
           "30-09-2018 06:30"
          ],
          [
           "30-09-2018 06:45"
          ],
          [
           "30-09-2018 07:00"
          ],
          [
           "30-09-2018 07:15"
          ],
          [
           "30-09-2018 07:30"
          ],
          [
           "30-09-2018 07:45"
          ],
          [
           "30-09-2018 08:00"
          ],
          [
           "30-09-2018 08:15"
          ],
          [
           "30-09-2018 08:30"
          ],
          [
           "30-09-2018 08:45"
          ],
          [
           "30-09-2018 09:00"
          ],
          [
           "30-09-2018 09:15"
          ],
          [
           "30-09-2018 09:30"
          ],
          [
           "30-09-2018 09:45"
          ],
          [
           "30-09-2018 10:00"
          ],
          [
           "30-09-2018 10:15"
          ],
          [
           "30-09-2018 10:30"
          ],
          [
           "30-09-2018 10:45"
          ],
          [
           "30-09-2018 11:00"
          ],
          [
           "30-09-2018 11:15"
          ],
          [
           "30-09-2018 11:30"
          ],
          [
           "30-09-2018 11:45"
          ],
          [
           "30-09-2018 12:00"
          ],
          [
           "30-09-2018 12:15"
          ],
          [
           "30-09-2018 12:30"
          ],
          [
           "30-09-2018 12:45"
          ],
          [
           "30-09-2018 13:00"
          ],
          [
           "30-09-2018 13:15"
          ],
          [
           "30-09-2018 13:30"
          ],
          [
           "30-09-2018 13:45"
          ],
          [
           "30-09-2018 14:00"
          ],
          [
           "30-09-2018 14:15"
          ],
          [
           "30-09-2018 14:30"
          ],
          [
           "30-09-2018 14:45"
          ],
          [
           "30-09-2018 15:00"
          ],
          [
           "30-09-2018 15:15"
          ],
          [
           "30-09-2018 15:30"
          ],
          [
           "30-09-2018 15:45"
          ],
          [
           "30-09-2018 16:00"
          ],
          [
           "30-09-2018 16:15"
          ],
          [
           "30-09-2018 16:30"
          ],
          [
           "30-09-2018 16:45"
          ],
          [
           "30-09-2018 17:00"
          ],
          [
           "30-09-2018 17:15"
          ],
          [
           "30-09-2018 17:30"
          ],
          [
           "30-09-2018 17:45"
          ],
          [
           "30-09-2018 18:00"
          ],
          [
           "30-09-2018 18:15"
          ],
          [
           "30-09-2018 18:30"
          ],
          [
           "30-09-2018 18:45"
          ],
          [
           "30-09-2018 19:00"
          ],
          [
           "30-09-2018 19:15"
          ],
          [
           "30-09-2018 19:30"
          ],
          [
           "30-09-2018 19:45"
          ],
          [
           "30-09-2018 20:00"
          ],
          [
           "30-09-2018 20:15"
          ],
          [
           "30-09-2018 20:30"
          ],
          [
           "30-09-2018 20:45"
          ],
          [
           "30-09-2018 21:00"
          ],
          [
           "30-09-2018 21:15"
          ],
          [
           "30-09-2018 21:30"
          ],
          [
           "30-09-2018 21:45"
          ],
          [
           "30-09-2018 22:00"
          ],
          [
           "30-09-2018 22:15"
          ],
          [
           "30-09-2018 22:30"
          ],
          [
           "30-09-2018 22:45"
          ],
          [
           "30-09-2018 23:00"
          ],
          [
           "30-09-2018 23:15"
          ],
          [
           "30-09-2018 23:30"
          ],
          [
           "30-09-2018 23:45"
          ],
          [
           "30-09-2018 00:00"
          ],
          [
           "01-10-2018 00:15"
          ],
          [
           "01-10-2018 00:30"
          ],
          [
           "01-10-2018 00:45"
          ],
          [
           "01-10-2018 01:00"
          ],
          [
           "01-10-2018 01:15"
          ],
          [
           "01-10-2018 01:30"
          ],
          [
           "01-10-2018 01:45"
          ],
          [
           "01-10-2018 02:00"
          ],
          [
           "01-10-2018 02:15"
          ],
          [
           "01-10-2018 02:30"
          ],
          [
           "01-10-2018 02:45"
          ],
          [
           "01-10-2018 03:00"
          ],
          [
           "01-10-2018 03:15"
          ],
          [
           "01-10-2018 03:30"
          ],
          [
           "01-10-2018 03:45"
          ],
          [
           "01-10-2018 04:00"
          ],
          [
           "01-10-2018 04:15"
          ],
          [
           "01-10-2018 04:30"
          ],
          [
           "01-10-2018 04:45"
          ],
          [
           "01-10-2018 05:00"
          ],
          [
           "01-10-2018 05:15"
          ],
          [
           "01-10-2018 05:30"
          ],
          [
           "01-10-2018 05:45"
          ],
          [
           "01-10-2018 06:00"
          ],
          [
           "01-10-2018 06:15"
          ],
          [
           "01-10-2018 06:30"
          ],
          [
           "01-10-2018 06:45"
          ],
          [
           "01-10-2018 07:00"
          ],
          [
           "01-10-2018 07:15"
          ],
          [
           "01-10-2018 07:30"
          ],
          [
           "01-10-2018 07:45"
          ],
          [
           "01-10-2018 08:00"
          ],
          [
           "01-10-2018 08:15"
          ],
          [
           "01-10-2018 08:30"
          ],
          [
           "01-10-2018 08:45"
          ],
          [
           "01-10-2018 09:00"
          ],
          [
           "01-10-2018 23:15"
          ],
          [
           "01-10-2018 23:30"
          ],
          [
           "01-10-2018 23:45"
          ],
          [
           "01-10-2018 00:00"
          ],
          [
           "02-10-2018 00:15"
          ],
          [
           "02-10-2018 00:30"
          ],
          [
           "02-10-2018 00:45"
          ],
          [
           "02-10-2018 01:00"
          ],
          [
           "02-10-2018 01:15"
          ],
          [
           "02-10-2018 01:30"
          ],
          [
           "02-10-2018 01:45"
          ],
          [
           "02-10-2018 02:00"
          ],
          [
           "02-10-2018 02:15"
          ],
          [
           "02-10-2018 02:30"
          ],
          [
           "02-10-2018 02:45"
          ],
          [
           "02-10-2018 03:00"
          ],
          [
           "02-10-2018 03:15"
          ],
          [
           "02-10-2018 03:30"
          ],
          [
           "02-10-2018 03:45"
          ],
          [
           "02-10-2018 04:00"
          ],
          [
           "02-10-2018 04:15"
          ],
          [
           "02-10-2018 04:30"
          ],
          [
           "02-10-2018 04:45"
          ],
          [
           "02-10-2018 05:00"
          ],
          [
           "02-10-2018 05:15"
          ],
          [
           "02-10-2018 05:30"
          ],
          [
           "02-10-2018 05:45"
          ],
          [
           "02-10-2018 06:00"
          ],
          [
           "02-10-2018 06:15"
          ],
          [
           "02-10-2018 06:30"
          ],
          [
           "02-10-2018 06:45"
          ],
          [
           "02-10-2018 07:00"
          ],
          [
           "02-10-2018 07:15"
          ],
          [
           "02-10-2018 07:30"
          ],
          [
           "02-10-2018 07:45"
          ],
          [
           "02-10-2018 08:00"
          ],
          [
           "02-10-2018 08:15"
          ],
          [
           "02-10-2018 08:30"
          ],
          [
           "02-10-2018 08:45"
          ],
          [
           "02-10-2018 09:00"
          ],
          [
           "02-10-2018 23:15"
          ],
          [
           "02-10-2018 23:30"
          ],
          [
           "02-10-2018 23:45"
          ],
          [
           "02-10-2018 00:00"
          ],
          [
           "03-10-2018 00:15"
          ],
          [
           "03-10-2018 00:30"
          ],
          [
           "03-10-2018 00:45"
          ],
          [
           "03-10-2018 01:00"
          ],
          [
           "03-10-2018 01:15"
          ],
          [
           "03-10-2018 01:30"
          ],
          [
           "03-10-2018 01:45"
          ],
          [
           "03-10-2018 02:00"
          ],
          [
           "03-10-2018 02:15"
          ],
          [
           "03-10-2018 02:30"
          ],
          [
           "03-10-2018 02:45"
          ],
          [
           "03-10-2018 03:00"
          ],
          [
           "03-10-2018 03:15"
          ],
          [
           "03-10-2018 03:30"
          ],
          [
           "03-10-2018 03:45"
          ],
          [
           "03-10-2018 04:00"
          ],
          [
           "03-10-2018 04:15"
          ],
          [
           "03-10-2018 04:30"
          ],
          [
           "03-10-2018 04:45"
          ],
          [
           "03-10-2018 05:00"
          ],
          [
           "03-10-2018 05:15"
          ],
          [
           "03-10-2018 05:30"
          ],
          [
           "03-10-2018 05:45"
          ],
          [
           "03-10-2018 06:00"
          ],
          [
           "03-10-2018 06:15"
          ],
          [
           "03-10-2018 06:30"
          ],
          [
           "03-10-2018 06:45"
          ],
          [
           "03-10-2018 07:00"
          ],
          [
           "03-10-2018 07:15"
          ],
          [
           "03-10-2018 07:30"
          ],
          [
           "03-10-2018 07:45"
          ],
          [
           "03-10-2018 08:00"
          ],
          [
           "03-10-2018 08:15"
          ],
          [
           "03-10-2018 08:30"
          ],
          [
           "03-10-2018 08:45"
          ],
          [
           "03-10-2018 09:00"
          ],
          [
           "03-10-2018 23:15"
          ],
          [
           "03-10-2018 23:30"
          ],
          [
           "03-10-2018 23:45"
          ],
          [
           "03-10-2018 00:00"
          ],
          [
           "04-10-2018 00:15"
          ],
          [
           "04-10-2018 00:30"
          ],
          [
           "04-10-2018 00:45"
          ],
          [
           "04-10-2018 01:00"
          ],
          [
           "04-10-2018 01:15"
          ],
          [
           "04-10-2018 01:30"
          ],
          [
           "04-10-2018 01:45"
          ],
          [
           "04-10-2018 02:00"
          ],
          [
           "04-10-2018 02:15"
          ],
          [
           "04-10-2018 02:30"
          ],
          [
           "04-10-2018 02:45"
          ],
          [
           "04-10-2018 03:00"
          ],
          [
           "04-10-2018 03:15"
          ],
          [
           "04-10-2018 03:30"
          ],
          [
           "04-10-2018 03:45"
          ],
          [
           "04-10-2018 04:00"
          ],
          [
           "04-10-2018 04:15"
          ],
          [
           "04-10-2018 04:30"
          ],
          [
           "04-10-2018 04:45"
          ],
          [
           "04-10-2018 05:00"
          ],
          [
           "04-10-2018 05:15"
          ],
          [
           "04-10-2018 05:30"
          ],
          [
           "04-10-2018 05:45"
          ],
          [
           "04-10-2018 06:00"
          ],
          [
           "04-10-2018 06:15"
          ],
          [
           "04-10-2018 06:30"
          ],
          [
           "04-10-2018 06:45"
          ],
          [
           "04-10-2018 07:00"
          ],
          [
           "04-10-2018 07:15"
          ],
          [
           "04-10-2018 07:30"
          ],
          [
           "04-10-2018 07:45"
          ],
          [
           "04-10-2018 08:00"
          ],
          [
           "04-10-2018 08:15"
          ],
          [
           "04-10-2018 08:30"
          ],
          [
           "04-10-2018 08:45"
          ],
          [
           "04-10-2018 09:00"
          ],
          [
           "04-10-2018 23:15"
          ],
          [
           "04-10-2018 23:30"
          ],
          [
           "04-10-2018 23:45"
          ],
          [
           "04-10-2018 00:00"
          ],
          [
           "05-10-2018 00:15"
          ],
          [
           "05-10-2018 00:30"
          ],
          [
           "05-10-2018 00:45"
          ],
          [
           "05-10-2018 01:00"
          ],
          [
           "05-10-2018 01:15"
          ],
          [
           "05-10-2018 01:30"
          ],
          [
           "05-10-2018 01:45"
          ],
          [
           "05-10-2018 02:00"
          ],
          [
           "05-10-2018 02:15"
          ],
          [
           "05-10-2018 02:30"
          ],
          [
           "05-10-2018 02:45"
          ],
          [
           "05-10-2018 03:00"
          ],
          [
           "05-10-2018 03:15"
          ],
          [
           "05-10-2018 03:30"
          ],
          [
           "05-10-2018 03:45"
          ],
          [
           "05-10-2018 04:00"
          ],
          [
           "05-10-2018 04:15"
          ],
          [
           "05-10-2018 04:30"
          ],
          [
           "05-10-2018 04:45"
          ],
          [
           "05-10-2018 05:00"
          ],
          [
           "05-10-2018 05:15"
          ],
          [
           "05-10-2018 05:30"
          ],
          [
           "05-10-2018 05:45"
          ],
          [
           "05-10-2018 06:00"
          ],
          [
           "05-10-2018 06:15"
          ],
          [
           "05-10-2018 06:30"
          ],
          [
           "05-10-2018 06:45"
          ],
          [
           "05-10-2018 07:00"
          ],
          [
           "05-10-2018 07:15"
          ],
          [
           "05-10-2018 07:30"
          ],
          [
           "05-10-2018 07:45"
          ],
          [
           "05-10-2018 08:00"
          ],
          [
           "05-10-2018 08:15"
          ],
          [
           "05-10-2018 08:30"
          ],
          [
           "05-10-2018 08:45"
          ],
          [
           "05-10-2018 09:00"
          ],
          [
           "05-10-2018 23:15"
          ],
          [
           "05-10-2018 23:30"
          ],
          [
           "05-10-2018 23:45"
          ],
          [
           "05-10-2018 00:00"
          ],
          [
           "06-10-2018 00:15"
          ],
          [
           "06-10-2018 00:30"
          ],
          [
           "06-10-2018 00:45"
          ],
          [
           "06-10-2018 01:00"
          ],
          [
           "06-10-2018 01:15"
          ],
          [
           "06-10-2018 01:30"
          ],
          [
           "06-10-2018 01:45"
          ],
          [
           "06-10-2018 02:00"
          ],
          [
           "06-10-2018 02:15"
          ],
          [
           "06-10-2018 02:30"
          ],
          [
           "06-10-2018 02:45"
          ],
          [
           "06-10-2018 03:00"
          ],
          [
           "06-10-2018 03:15"
          ],
          [
           "06-10-2018 03:30"
          ],
          [
           "06-10-2018 03:45"
          ],
          [
           "06-10-2018 04:00"
          ],
          [
           "06-10-2018 04:15"
          ],
          [
           "06-10-2018 04:30"
          ],
          [
           "06-10-2018 04:45"
          ],
          [
           "06-10-2018 05:00"
          ],
          [
           "06-10-2018 05:15"
          ],
          [
           "06-10-2018 05:30"
          ],
          [
           "06-10-2018 05:45"
          ],
          [
           "06-10-2018 06:00"
          ],
          [
           "06-10-2018 06:15"
          ],
          [
           "06-10-2018 06:30"
          ],
          [
           "06-10-2018 06:45"
          ],
          [
           "06-10-2018 07:00"
          ],
          [
           "06-10-2018 07:15"
          ],
          [
           "06-10-2018 07:30"
          ],
          [
           "06-10-2018 07:45"
          ],
          [
           "06-10-2018 08:00"
          ],
          [
           "06-10-2018 08:15"
          ],
          [
           "06-10-2018 08:30"
          ],
          [
           "06-10-2018 08:45"
          ],
          [
           "06-10-2018 09:00"
          ],
          [
           "06-10-2018 23:15"
          ],
          [
           "06-10-2018 23:30"
          ],
          [
           "06-10-2018 23:45"
          ],
          [
           "06-10-2018 00:00"
          ],
          [
           "07-10-2018 00:15"
          ],
          [
           "07-10-2018 00:30"
          ],
          [
           "07-10-2018 00:45"
          ],
          [
           "07-10-2018 01:00"
          ],
          [
           "07-10-2018 01:15"
          ],
          [
           "07-10-2018 01:30"
          ],
          [
           "07-10-2018 01:45"
          ],
          [
           "07-10-2018 02:00"
          ],
          [
           "07-10-2018 02:15"
          ],
          [
           "07-10-2018 02:30"
          ],
          [
           "07-10-2018 02:45"
          ],
          [
           "07-10-2018 03:00"
          ],
          [
           "07-10-2018 03:15"
          ],
          [
           "07-10-2018 03:30"
          ],
          [
           "07-10-2018 03:45"
          ],
          [
           "07-10-2018 04:00"
          ],
          [
           "07-10-2018 04:15"
          ],
          [
           "07-10-2018 04:30"
          ],
          [
           "07-10-2018 04:45"
          ],
          [
           "07-10-2018 05:00"
          ],
          [
           "07-10-2018 05:15"
          ],
          [
           "07-10-2018 05:30"
          ],
          [
           "07-10-2018 05:45"
          ],
          [
           "07-10-2018 06:00"
          ],
          [
           "07-10-2018 06:15"
          ],
          [
           "07-10-2018 06:30"
          ],
          [
           "07-10-2018 06:45"
          ],
          [
           "07-10-2018 07:00"
          ],
          [
           "07-10-2018 07:15"
          ],
          [
           "07-10-2018 07:30"
          ],
          [
           "07-10-2018 07:45"
          ],
          [
           "07-10-2018 08:00"
          ],
          [
           "07-10-2018 08:15"
          ],
          [
           "07-10-2018 08:30"
          ],
          [
           "07-10-2018 08:45"
          ],
          [
           "07-10-2018 09:00"
          ],
          [
           "07-10-2018 09:15"
          ],
          [
           "07-10-2018 09:30"
          ],
          [
           "07-10-2018 09:45"
          ],
          [
           "07-10-2018 10:00"
          ],
          [
           "07-10-2018 10:15"
          ],
          [
           "07-10-2018 10:30"
          ],
          [
           "07-10-2018 10:45"
          ],
          [
           "07-10-2018 11:00"
          ],
          [
           "07-10-2018 11:15"
          ],
          [
           "07-10-2018 11:30"
          ],
          [
           "07-10-2018 11:45"
          ],
          [
           "07-10-2018 12:00"
          ],
          [
           "07-10-2018 12:15"
          ],
          [
           "07-10-2018 12:30"
          ],
          [
           "07-10-2018 12:45"
          ],
          [
           "07-10-2018 13:00"
          ],
          [
           "07-10-2018 13:15"
          ],
          [
           "07-10-2018 13:30"
          ],
          [
           "07-10-2018 13:45"
          ],
          [
           "07-10-2018 14:00"
          ],
          [
           "07-10-2018 14:15"
          ],
          [
           "07-10-2018 14:30"
          ],
          [
           "07-10-2018 14:45"
          ],
          [
           "07-10-2018 15:00"
          ],
          [
           "07-10-2018 15:15"
          ],
          [
           "07-10-2018 15:30"
          ],
          [
           "07-10-2018 15:45"
          ],
          [
           "07-10-2018 16:00"
          ],
          [
           "07-10-2018 16:15"
          ],
          [
           "07-10-2018 16:30"
          ],
          [
           "07-10-2018 16:45"
          ],
          [
           "07-10-2018 17:00"
          ],
          [
           "07-10-2018 17:15"
          ],
          [
           "07-10-2018 17:30"
          ],
          [
           "07-10-2018 17:45"
          ],
          [
           "07-10-2018 18:00"
          ],
          [
           "07-10-2018 18:15"
          ],
          [
           "07-10-2018 18:30"
          ],
          [
           "07-10-2018 18:45"
          ],
          [
           "07-10-2018 19:00"
          ],
          [
           "07-10-2018 19:15"
          ],
          [
           "07-10-2018 19:30"
          ],
          [
           "07-10-2018 19:45"
          ],
          [
           "07-10-2018 20:00"
          ],
          [
           "07-10-2018 20:15"
          ],
          [
           "07-10-2018 20:30"
          ],
          [
           "07-10-2018 20:45"
          ],
          [
           "07-10-2018 21:00"
          ],
          [
           "07-10-2018 21:15"
          ],
          [
           "07-10-2018 21:30"
          ],
          [
           "07-10-2018 21:45"
          ],
          [
           "07-10-2018 22:00"
          ],
          [
           "07-10-2018 22:15"
          ],
          [
           "07-10-2018 22:30"
          ],
          [
           "07-10-2018 22:45"
          ],
          [
           "07-10-2018 23:00"
          ],
          [
           "07-10-2018 23:15"
          ],
          [
           "07-10-2018 23:30"
          ],
          [
           "07-10-2018 23:45"
          ],
          [
           "07-10-2018 00:00"
          ],
          [
           "08-10-2018 00:15"
          ],
          [
           "08-10-2018 00:30"
          ],
          [
           "08-10-2018 00:45"
          ],
          [
           "08-10-2018 01:00"
          ],
          [
           "08-10-2018 01:15"
          ],
          [
           "08-10-2018 01:30"
          ],
          [
           "08-10-2018 01:45"
          ],
          [
           "08-10-2018 02:00"
          ],
          [
           "08-10-2018 02:15"
          ],
          [
           "08-10-2018 02:30"
          ],
          [
           "08-10-2018 02:45"
          ],
          [
           "08-10-2018 03:00"
          ],
          [
           "08-10-2018 03:15"
          ],
          [
           "08-10-2018 03:30"
          ],
          [
           "08-10-2018 03:45"
          ],
          [
           "08-10-2018 04:00"
          ],
          [
           "08-10-2018 04:15"
          ],
          [
           "08-10-2018 04:30"
          ],
          [
           "08-10-2018 04:45"
          ],
          [
           "08-10-2018 05:00"
          ],
          [
           "08-10-2018 05:15"
          ],
          [
           "08-10-2018 05:30"
          ],
          [
           "08-10-2018 05:45"
          ],
          [
           "08-10-2018 06:00"
          ],
          [
           "08-10-2018 06:15"
          ],
          [
           "08-10-2018 06:30"
          ],
          [
           "08-10-2018 06:45"
          ],
          [
           "08-10-2018 07:00"
          ],
          [
           "08-10-2018 07:15"
          ],
          [
           "08-10-2018 07:30"
          ],
          [
           "08-10-2018 07:45"
          ],
          [
           "08-10-2018 08:00"
          ],
          [
           "08-10-2018 08:15"
          ],
          [
           "08-10-2018 08:30"
          ],
          [
           "08-10-2018 08:45"
          ],
          [
           "08-10-2018 09:00"
          ],
          [
           "08-10-2018 23:15"
          ],
          [
           "08-10-2018 23:30"
          ],
          [
           "08-10-2018 23:45"
          ],
          [
           "08-10-2018 00:00"
          ],
          [
           "09-10-2018 00:15"
          ],
          [
           "09-10-2018 00:30"
          ],
          [
           "09-10-2018 00:45"
          ],
          [
           "09-10-2018 01:00"
          ],
          [
           "09-10-2018 01:15"
          ],
          [
           "09-10-2018 01:30"
          ],
          [
           "09-10-2018 01:45"
          ],
          [
           "09-10-2018 02:00"
          ],
          [
           "09-10-2018 02:15"
          ],
          [
           "09-10-2018 02:30"
          ],
          [
           "09-10-2018 02:45"
          ],
          [
           "09-10-2018 03:00"
          ],
          [
           "09-10-2018 03:15"
          ],
          [
           "09-10-2018 03:30"
          ],
          [
           "09-10-2018 03:45"
          ],
          [
           "09-10-2018 04:00"
          ],
          [
           "09-10-2018 04:15"
          ],
          [
           "09-10-2018 04:30"
          ],
          [
           "09-10-2018 04:45"
          ],
          [
           "09-10-2018 05:00"
          ],
          [
           "09-10-2018 05:15"
          ],
          [
           "09-10-2018 05:30"
          ],
          [
           "09-10-2018 05:45"
          ],
          [
           "09-10-2018 06:00"
          ],
          [
           "09-10-2018 06:15"
          ],
          [
           "09-10-2018 06:30"
          ],
          [
           "09-10-2018 06:45"
          ],
          [
           "09-10-2018 07:00"
          ],
          [
           "09-10-2018 07:15"
          ],
          [
           "09-10-2018 07:30"
          ],
          [
           "09-10-2018 07:45"
          ],
          [
           "09-10-2018 08:00"
          ],
          [
           "09-10-2018 08:15"
          ],
          [
           "09-10-2018 08:30"
          ],
          [
           "09-10-2018 08:45"
          ],
          [
           "09-10-2018 09:00"
          ],
          [
           "09-10-2018 23:15"
          ],
          [
           "09-10-2018 23:30"
          ],
          [
           "09-10-2018 23:45"
          ],
          [
           "09-10-2018 00:00"
          ],
          [
           "10-10-2018 00:15"
          ],
          [
           "10-10-2018 00:30"
          ],
          [
           "10-10-2018 00:45"
          ],
          [
           "10-10-2018 01:00"
          ],
          [
           "10-10-2018 01:15"
          ],
          [
           "10-10-2018 01:30"
          ],
          [
           "10-10-2018 01:45"
          ],
          [
           "10-10-2018 02:00"
          ],
          [
           "10-10-2018 02:15"
          ],
          [
           "10-10-2018 02:30"
          ],
          [
           "10-10-2018 02:45"
          ],
          [
           "10-10-2018 03:00"
          ],
          [
           "10-10-2018 03:15"
          ],
          [
           "10-10-2018 03:30"
          ],
          [
           "10-10-2018 03:45"
          ],
          [
           "10-10-2018 04:00"
          ],
          [
           "10-10-2018 04:15"
          ],
          [
           "10-10-2018 04:30"
          ],
          [
           "10-10-2018 04:45"
          ],
          [
           "10-10-2018 05:00"
          ],
          [
           "10-10-2018 05:15"
          ],
          [
           "10-10-2018 05:30"
          ],
          [
           "10-10-2018 05:45"
          ],
          [
           "10-10-2018 06:00"
          ],
          [
           "10-10-2018 06:15"
          ],
          [
           "10-10-2018 06:30"
          ],
          [
           "10-10-2018 06:45"
          ],
          [
           "10-10-2018 07:00"
          ],
          [
           "10-10-2018 07:15"
          ],
          [
           "10-10-2018 07:30"
          ],
          [
           "10-10-2018 07:45"
          ],
          [
           "10-10-2018 08:00"
          ],
          [
           "10-10-2018 08:15"
          ],
          [
           "10-10-2018 08:30"
          ],
          [
           "10-10-2018 08:45"
          ],
          [
           "10-10-2018 09:00"
          ],
          [
           "10-10-2018 23:15"
          ],
          [
           "10-10-2018 23:30"
          ],
          [
           "10-10-2018 23:45"
          ],
          [
           "10-10-2018 00:00"
          ],
          [
           "11-10-2018 00:15"
          ],
          [
           "11-10-2018 00:30"
          ],
          [
           "11-10-2018 00:45"
          ],
          [
           "11-10-2018 01:00"
          ],
          [
           "11-10-2018 01:15"
          ],
          [
           "11-10-2018 01:30"
          ],
          [
           "11-10-2018 01:45"
          ],
          [
           "11-10-2018 02:00"
          ],
          [
           "11-10-2018 02:15"
          ],
          [
           "11-10-2018 02:30"
          ],
          [
           "11-10-2018 02:45"
          ],
          [
           "11-10-2018 03:00"
          ],
          [
           "11-10-2018 03:15"
          ],
          [
           "11-10-2018 03:30"
          ],
          [
           "11-10-2018 03:45"
          ],
          [
           "11-10-2018 04:00"
          ],
          [
           "11-10-2018 04:15"
          ],
          [
           "11-10-2018 04:30"
          ],
          [
           "11-10-2018 04:45"
          ],
          [
           "11-10-2018 05:00"
          ],
          [
           "11-10-2018 05:15"
          ],
          [
           "11-10-2018 05:30"
          ],
          [
           "11-10-2018 05:45"
          ],
          [
           "11-10-2018 06:00"
          ],
          [
           "11-10-2018 06:15"
          ],
          [
           "11-10-2018 06:30"
          ],
          [
           "11-10-2018 06:45"
          ],
          [
           "11-10-2018 07:00"
          ],
          [
           "11-10-2018 07:15"
          ],
          [
           "11-10-2018 07:30"
          ],
          [
           "11-10-2018 07:45"
          ],
          [
           "11-10-2018 08:00"
          ],
          [
           "11-10-2018 08:15"
          ],
          [
           "11-10-2018 08:30"
          ],
          [
           "11-10-2018 08:45"
          ],
          [
           "11-10-2018 09:00"
          ],
          [
           "11-10-2018 23:15"
          ],
          [
           "11-10-2018 23:30"
          ],
          [
           "11-10-2018 23:45"
          ],
          [
           "11-10-2018 00:00"
          ],
          [
           "12-10-2018 00:15"
          ],
          [
           "12-10-2018 00:30"
          ],
          [
           "12-10-2018 00:45"
          ],
          [
           "12-10-2018 01:00"
          ],
          [
           "12-10-2018 01:15"
          ],
          [
           "12-10-2018 01:30"
          ],
          [
           "12-10-2018 01:45"
          ],
          [
           "12-10-2018 02:00"
          ],
          [
           "12-10-2018 02:15"
          ],
          [
           "12-10-2018 02:30"
          ],
          [
           "12-10-2018 02:45"
          ],
          [
           "12-10-2018 03:00"
          ],
          [
           "12-10-2018 03:15"
          ],
          [
           "12-10-2018 03:30"
          ],
          [
           "12-10-2018 03:45"
          ],
          [
           "12-10-2018 04:00"
          ],
          [
           "12-10-2018 04:15"
          ],
          [
           "12-10-2018 04:30"
          ],
          [
           "12-10-2018 04:45"
          ],
          [
           "12-10-2018 05:00"
          ],
          [
           "12-10-2018 05:15"
          ],
          [
           "12-10-2018 05:30"
          ],
          [
           "12-10-2018 05:45"
          ],
          [
           "12-10-2018 06:00"
          ],
          [
           "12-10-2018 06:15"
          ],
          [
           "12-10-2018 06:30"
          ],
          [
           "12-10-2018 06:45"
          ],
          [
           "12-10-2018 07:00"
          ],
          [
           "12-10-2018 07:15"
          ],
          [
           "12-10-2018 07:30"
          ],
          [
           "12-10-2018 07:45"
          ],
          [
           "12-10-2018 08:00"
          ],
          [
           "12-10-2018 08:15"
          ],
          [
           "12-10-2018 08:30"
          ],
          [
           "12-10-2018 08:45"
          ],
          [
           "12-10-2018 09:00"
          ],
          [
           "12-10-2018 23:15"
          ],
          [
           "12-10-2018 23:30"
          ],
          [
           "12-10-2018 23:45"
          ],
          [
           "12-10-2018 00:00"
          ],
          [
           "13-10-2018 00:15"
          ],
          [
           "13-10-2018 00:30"
          ],
          [
           "13-10-2018 00:45"
          ],
          [
           "13-10-2018 01:00"
          ],
          [
           "13-10-2018 01:15"
          ],
          [
           "13-10-2018 01:30"
          ],
          [
           "13-10-2018 01:45"
          ],
          [
           "13-10-2018 02:00"
          ],
          [
           "13-10-2018 02:15"
          ],
          [
           "13-10-2018 02:30"
          ],
          [
           "13-10-2018 02:45"
          ],
          [
           "13-10-2018 03:00"
          ],
          [
           "13-10-2018 03:15"
          ],
          [
           "13-10-2018 03:30"
          ],
          [
           "13-10-2018 03:45"
          ],
          [
           "13-10-2018 04:00"
          ],
          [
           "13-10-2018 04:15"
          ],
          [
           "13-10-2018 04:30"
          ],
          [
           "13-10-2018 04:45"
          ],
          [
           "13-10-2018 05:00"
          ],
          [
           "13-10-2018 05:15"
          ],
          [
           "13-10-2018 05:30"
          ],
          [
           "13-10-2018 05:45"
          ],
          [
           "13-10-2018 06:00"
          ],
          [
           "13-10-2018 06:15"
          ],
          [
           "13-10-2018 06:30"
          ],
          [
           "13-10-2018 06:45"
          ],
          [
           "13-10-2018 07:00"
          ],
          [
           "13-10-2018 07:15"
          ],
          [
           "13-10-2018 07:30"
          ],
          [
           "13-10-2018 07:45"
          ],
          [
           "13-10-2018 08:00"
          ],
          [
           "13-10-2018 08:15"
          ],
          [
           "13-10-2018 08:30"
          ],
          [
           "13-10-2018 08:45"
          ],
          [
           "13-10-2018 09:00"
          ],
          [
           "13-10-2018 23:15"
          ],
          [
           "13-10-2018 23:30"
          ],
          [
           "13-10-2018 23:45"
          ],
          [
           "13-10-2018 00:00"
          ],
          [
           "14-10-2018 00:15"
          ],
          [
           "14-10-2018 00:30"
          ],
          [
           "14-10-2018 00:45"
          ],
          [
           "14-10-2018 01:00"
          ],
          [
           "14-10-2018 01:15"
          ],
          [
           "14-10-2018 01:30"
          ],
          [
           "14-10-2018 01:45"
          ],
          [
           "14-10-2018 02:00"
          ],
          [
           "14-10-2018 02:15"
          ],
          [
           "14-10-2018 02:30"
          ],
          [
           "14-10-2018 02:45"
          ],
          [
           "14-10-2018 03:00"
          ],
          [
           "14-10-2018 03:15"
          ],
          [
           "14-10-2018 03:30"
          ],
          [
           "14-10-2018 03:45"
          ],
          [
           "14-10-2018 04:00"
          ],
          [
           "14-10-2018 04:15"
          ],
          [
           "14-10-2018 04:30"
          ],
          [
           "14-10-2018 04:45"
          ],
          [
           "14-10-2018 05:00"
          ],
          [
           "14-10-2018 05:15"
          ],
          [
           "14-10-2018 05:30"
          ],
          [
           "14-10-2018 05:45"
          ],
          [
           "14-10-2018 06:00"
          ],
          [
           "14-10-2018 06:15"
          ],
          [
           "14-10-2018 06:30"
          ],
          [
           "14-10-2018 06:45"
          ],
          [
           "14-10-2018 07:00"
          ],
          [
           "14-10-2018 07:15"
          ],
          [
           "14-10-2018 07:30"
          ],
          [
           "14-10-2018 07:45"
          ],
          [
           "14-10-2018 08:00"
          ],
          [
           "14-10-2018 08:15"
          ],
          [
           "14-10-2018 08:30"
          ],
          [
           "14-10-2018 08:45"
          ],
          [
           "14-10-2018 09:00"
          ],
          [
           "14-10-2018 09:15"
          ],
          [
           "14-10-2018 09:30"
          ],
          [
           "14-10-2018 09:45"
          ],
          [
           "14-10-2018 10:00"
          ],
          [
           "14-10-2018 10:15"
          ],
          [
           "14-10-2018 10:30"
          ],
          [
           "14-10-2018 10:45"
          ],
          [
           "14-10-2018 11:00"
          ],
          [
           "14-10-2018 11:15"
          ],
          [
           "14-10-2018 11:30"
          ],
          [
           "14-10-2018 11:45"
          ],
          [
           "14-10-2018 12:00"
          ],
          [
           "14-10-2018 12:15"
          ],
          [
           "14-10-2018 12:30"
          ],
          [
           "14-10-2018 12:45"
          ],
          [
           "14-10-2018 13:00"
          ],
          [
           "14-10-2018 13:15"
          ],
          [
           "14-10-2018 13:30"
          ],
          [
           "14-10-2018 13:45"
          ],
          [
           "14-10-2018 14:00"
          ],
          [
           "14-10-2018 14:15"
          ],
          [
           "14-10-2018 14:30"
          ],
          [
           "14-10-2018 14:45"
          ],
          [
           "14-10-2018 15:00"
          ],
          [
           "14-10-2018 15:15"
          ],
          [
           "14-10-2018 15:30"
          ],
          [
           "14-10-2018 15:45"
          ],
          [
           "14-10-2018 16:00"
          ],
          [
           "14-10-2018 16:15"
          ],
          [
           "14-10-2018 16:30"
          ],
          [
           "14-10-2018 16:45"
          ],
          [
           "14-10-2018 17:00"
          ],
          [
           "14-10-2018 17:15"
          ],
          [
           "14-10-2018 17:30"
          ],
          [
           "14-10-2018 17:45"
          ],
          [
           "14-10-2018 18:00"
          ],
          [
           "14-10-2018 18:15"
          ],
          [
           "14-10-2018 18:30"
          ],
          [
           "14-10-2018 18:45"
          ],
          [
           "14-10-2018 19:00"
          ],
          [
           "14-10-2018 19:15"
          ],
          [
           "14-10-2018 19:30"
          ],
          [
           "14-10-2018 19:45"
          ],
          [
           "14-10-2018 20:00"
          ],
          [
           "14-10-2018 20:15"
          ],
          [
           "14-10-2018 20:30"
          ],
          [
           "14-10-2018 20:45"
          ],
          [
           "14-10-2018 21:00"
          ],
          [
           "14-10-2018 21:15"
          ],
          [
           "14-10-2018 21:30"
          ],
          [
           "14-10-2018 21:45"
          ],
          [
           "14-10-2018 22:00"
          ],
          [
           "14-10-2018 22:15"
          ],
          [
           "14-10-2018 22:30"
          ],
          [
           "14-10-2018 22:45"
          ],
          [
           "14-10-2018 23:00"
          ],
          [
           "14-10-2018 23:15"
          ],
          [
           "14-10-2018 23:30"
          ],
          [
           "14-10-2018 23:45"
          ],
          [
           "14-10-2018 00:00"
          ],
          [
           "15-10-2018 00:15"
          ],
          [
           "15-10-2018 00:30"
          ],
          [
           "15-10-2018 00:45"
          ],
          [
           "15-10-2018 01:00"
          ],
          [
           "15-10-2018 01:15"
          ],
          [
           "15-10-2018 01:30"
          ],
          [
           "15-10-2018 01:45"
          ],
          [
           "15-10-2018 02:00"
          ],
          [
           "15-10-2018 02:15"
          ],
          [
           "15-10-2018 02:30"
          ],
          [
           "15-10-2018 02:45"
          ],
          [
           "15-10-2018 03:00"
          ],
          [
           "15-10-2018 03:15"
          ],
          [
           "15-10-2018 03:30"
          ],
          [
           "15-10-2018 03:45"
          ],
          [
           "15-10-2018 04:00"
          ],
          [
           "15-10-2018 04:15"
          ],
          [
           "15-10-2018 04:30"
          ],
          [
           "15-10-2018 04:45"
          ],
          [
           "15-10-2018 05:00"
          ],
          [
           "15-10-2018 05:15"
          ],
          [
           "15-10-2018 05:30"
          ],
          [
           "15-10-2018 05:45"
          ],
          [
           "15-10-2018 06:00"
          ],
          [
           "15-10-2018 06:15"
          ],
          [
           "15-10-2018 06:30"
          ],
          [
           "15-10-2018 06:45"
          ],
          [
           "15-10-2018 07:00"
          ],
          [
           "15-10-2018 07:15"
          ],
          [
           "15-10-2018 07:30"
          ],
          [
           "15-10-2018 07:45"
          ],
          [
           "15-10-2018 08:00"
          ],
          [
           "15-10-2018 08:15"
          ],
          [
           "15-10-2018 08:30"
          ],
          [
           "15-10-2018 08:45"
          ],
          [
           "15-10-2018 09:00"
          ],
          [
           "15-10-2018 23:15"
          ],
          [
           "15-10-2018 23:30"
          ],
          [
           "15-10-2018 23:45"
          ],
          [
           "15-10-2018 00:00"
          ],
          [
           "16-10-2018 00:15"
          ],
          [
           "16-10-2018 00:30"
          ],
          [
           "16-10-2018 00:45"
          ],
          [
           "16-10-2018 01:00"
          ],
          [
           "16-10-2018 01:15"
          ],
          [
           "16-10-2018 01:30"
          ],
          [
           "16-10-2018 01:45"
          ],
          [
           "16-10-2018 02:00"
          ],
          [
           "16-10-2018 02:15"
          ],
          [
           "16-10-2018 02:30"
          ],
          [
           "16-10-2018 02:45"
          ],
          [
           "16-10-2018 03:00"
          ],
          [
           "16-10-2018 03:15"
          ],
          [
           "16-10-2018 03:30"
          ],
          [
           "16-10-2018 03:45"
          ],
          [
           "16-10-2018 04:00"
          ],
          [
           "16-10-2018 04:15"
          ],
          [
           "16-10-2018 04:30"
          ],
          [
           "16-10-2018 04:45"
          ],
          [
           "16-10-2018 05:00"
          ],
          [
           "16-10-2018 05:15"
          ],
          [
           "16-10-2018 05:30"
          ],
          [
           "16-10-2018 05:45"
          ],
          [
           "16-10-2018 06:00"
          ],
          [
           "16-10-2018 06:15"
          ],
          [
           "16-10-2018 06:30"
          ],
          [
           "16-10-2018 06:45"
          ],
          [
           "16-10-2018 07:00"
          ],
          [
           "16-10-2018 07:15"
          ],
          [
           "16-10-2018 07:30"
          ],
          [
           "16-10-2018 07:45"
          ],
          [
           "16-10-2018 08:00"
          ],
          [
           "16-10-2018 08:15"
          ],
          [
           "16-10-2018 08:30"
          ],
          [
           "16-10-2018 08:45"
          ],
          [
           "16-10-2018 09:00"
          ],
          [
           "16-10-2018 23:15"
          ],
          [
           "16-10-2018 23:30"
          ],
          [
           "16-10-2018 23:45"
          ],
          [
           "16-10-2018 00:00"
          ],
          [
           "17-10-2018 00:15"
          ],
          [
           "17-10-2018 00:30"
          ],
          [
           "17-10-2018 00:45"
          ],
          [
           "17-10-2018 01:00"
          ],
          [
           "17-10-2018 01:15"
          ],
          [
           "17-10-2018 01:30"
          ],
          [
           "17-10-2018 01:45"
          ],
          [
           "17-10-2018 02:00"
          ],
          [
           "17-10-2018 02:15"
          ],
          [
           "17-10-2018 02:30"
          ],
          [
           "17-10-2018 02:45"
          ],
          [
           "17-10-2018 03:00"
          ],
          [
           "17-10-2018 03:15"
          ],
          [
           "17-10-2018 03:30"
          ],
          [
           "17-10-2018 03:45"
          ],
          [
           "17-10-2018 04:00"
          ],
          [
           "17-10-2018 04:15"
          ],
          [
           "17-10-2018 04:30"
          ],
          [
           "17-10-2018 04:45"
          ],
          [
           "17-10-2018 05:00"
          ],
          [
           "17-10-2018 05:15"
          ],
          [
           "17-10-2018 05:30"
          ],
          [
           "17-10-2018 05:45"
          ],
          [
           "17-10-2018 06:00"
          ],
          [
           "17-10-2018 06:15"
          ],
          [
           "17-10-2018 06:30"
          ],
          [
           "17-10-2018 06:45"
          ],
          [
           "17-10-2018 07:00"
          ],
          [
           "17-10-2018 07:15"
          ],
          [
           "17-10-2018 07:30"
          ],
          [
           "17-10-2018 07:45"
          ],
          [
           "17-10-2018 08:00"
          ],
          [
           "17-10-2018 08:15"
          ],
          [
           "17-10-2018 08:30"
          ],
          [
           "17-10-2018 08:45"
          ],
          [
           "17-10-2018 09:00"
          ],
          [
           "17-10-2018 23:15"
          ],
          [
           "17-10-2018 23:30"
          ],
          [
           "17-10-2018 23:45"
          ],
          [
           "17-10-2018 00:00"
          ],
          [
           "18-10-2018 00:15"
          ],
          [
           "18-10-2018 00:30"
          ],
          [
           "18-10-2018 00:45"
          ],
          [
           "18-10-2018 01:00"
          ],
          [
           "18-10-2018 01:15"
          ],
          [
           "18-10-2018 01:30"
          ],
          [
           "18-10-2018 01:45"
          ],
          [
           "18-10-2018 02:00"
          ],
          [
           "18-10-2018 02:15"
          ],
          [
           "18-10-2018 02:30"
          ],
          [
           "18-10-2018 02:45"
          ],
          [
           "18-10-2018 03:00"
          ],
          [
           "18-10-2018 03:15"
          ],
          [
           "18-10-2018 03:30"
          ],
          [
           "18-10-2018 03:45"
          ],
          [
           "18-10-2018 04:00"
          ],
          [
           "18-10-2018 04:15"
          ],
          [
           "18-10-2018 04:30"
          ],
          [
           "18-10-2018 04:45"
          ],
          [
           "18-10-2018 05:00"
          ],
          [
           "18-10-2018 05:15"
          ],
          [
           "18-10-2018 05:30"
          ],
          [
           "18-10-2018 05:45"
          ],
          [
           "18-10-2018 06:00"
          ],
          [
           "18-10-2018 06:15"
          ],
          [
           "18-10-2018 06:30"
          ],
          [
           "18-10-2018 06:45"
          ],
          [
           "18-10-2018 07:00"
          ],
          [
           "18-10-2018 07:15"
          ],
          [
           "18-10-2018 07:30"
          ],
          [
           "18-10-2018 07:45"
          ],
          [
           "18-10-2018 08:00"
          ],
          [
           "18-10-2018 08:15"
          ],
          [
           "18-10-2018 08:30"
          ],
          [
           "18-10-2018 08:45"
          ],
          [
           "18-10-2018 09:00"
          ],
          [
           "18-10-2018 23:15"
          ],
          [
           "18-10-2018 23:30"
          ],
          [
           "18-10-2018 23:45"
          ],
          [
           "18-10-2018 00:00"
          ],
          [
           "19-10-2018 00:15"
          ],
          [
           "19-10-2018 00:30"
          ],
          [
           "19-10-2018 00:45"
          ],
          [
           "19-10-2018 01:00"
          ],
          [
           "19-10-2018 01:15"
          ],
          [
           "19-10-2018 01:30"
          ],
          [
           "19-10-2018 01:45"
          ],
          [
           "19-10-2018 02:00"
          ],
          [
           "19-10-2018 02:15"
          ],
          [
           "19-10-2018 02:30"
          ],
          [
           "19-10-2018 02:45"
          ],
          [
           "19-10-2018 03:00"
          ],
          [
           "19-10-2018 03:15"
          ],
          [
           "19-10-2018 03:30"
          ],
          [
           "19-10-2018 03:45"
          ],
          [
           "19-10-2018 04:00"
          ],
          [
           "19-10-2018 04:15"
          ],
          [
           "19-10-2018 04:30"
          ],
          [
           "19-10-2018 04:45"
          ],
          [
           "19-10-2018 05:00"
          ],
          [
           "19-10-2018 05:15"
          ],
          [
           "19-10-2018 05:30"
          ],
          [
           "19-10-2018 05:45"
          ],
          [
           "19-10-2018 06:00"
          ],
          [
           "19-10-2018 06:15"
          ],
          [
           "19-10-2018 06:30"
          ],
          [
           "19-10-2018 06:45"
          ],
          [
           "19-10-2018 07:00"
          ],
          [
           "19-10-2018 07:15"
          ],
          [
           "19-10-2018 07:30"
          ],
          [
           "19-10-2018 07:45"
          ],
          [
           "19-10-2018 08:00"
          ],
          [
           "19-10-2018 08:15"
          ],
          [
           "19-10-2018 08:30"
          ],
          [
           "19-10-2018 08:45"
          ],
          [
           "19-10-2018 09:00"
          ],
          [
           "19-10-2018 23:15"
          ],
          [
           "19-10-2018 23:30"
          ],
          [
           "19-10-2018 23:45"
          ],
          [
           "19-10-2018 00:00"
          ],
          [
           "20-10-2018 00:15"
          ],
          [
           "20-10-2018 00:30"
          ],
          [
           "20-10-2018 00:45"
          ],
          [
           "20-10-2018 01:00"
          ],
          [
           "20-10-2018 01:15"
          ],
          [
           "20-10-2018 01:30"
          ],
          [
           "20-10-2018 01:45"
          ],
          [
           "20-10-2018 02:00"
          ],
          [
           "20-10-2018 02:15"
          ],
          [
           "20-10-2018 02:30"
          ],
          [
           "20-10-2018 02:45"
          ],
          [
           "20-10-2018 03:00"
          ],
          [
           "20-10-2018 03:15"
          ],
          [
           "20-10-2018 03:30"
          ],
          [
           "20-10-2018 03:45"
          ],
          [
           "20-10-2018 04:00"
          ],
          [
           "20-10-2018 04:15"
          ],
          [
           "20-10-2018 04:30"
          ],
          [
           "20-10-2018 04:45"
          ],
          [
           "20-10-2018 05:00"
          ],
          [
           "20-10-2018 05:15"
          ],
          [
           "20-10-2018 05:30"
          ],
          [
           "20-10-2018 05:45"
          ],
          [
           "20-10-2018 06:00"
          ],
          [
           "20-10-2018 06:15"
          ],
          [
           "20-10-2018 06:30"
          ],
          [
           "20-10-2018 06:45"
          ],
          [
           "20-10-2018 07:00"
          ],
          [
           "20-10-2018 07:15"
          ],
          [
           "20-10-2018 07:30"
          ],
          [
           "20-10-2018 07:45"
          ],
          [
           "20-10-2018 08:00"
          ],
          [
           "20-10-2018 08:15"
          ],
          [
           "20-10-2018 08:30"
          ],
          [
           "20-10-2018 08:45"
          ],
          [
           "20-10-2018 09:00"
          ],
          [
           "20-10-2018 23:15"
          ],
          [
           "20-10-2018 23:30"
          ],
          [
           "20-10-2018 23:45"
          ],
          [
           "20-10-2018 00:00"
          ],
          [
           "21-10-2018 00:15"
          ],
          [
           "21-10-2018 00:30"
          ],
          [
           "21-10-2018 00:45"
          ],
          [
           "21-10-2018 01:00"
          ],
          [
           "21-10-2018 01:15"
          ],
          [
           "21-10-2018 01:30"
          ],
          [
           "21-10-2018 01:45"
          ],
          [
           "21-10-2018 02:00"
          ],
          [
           "21-10-2018 02:15"
          ],
          [
           "21-10-2018 02:30"
          ],
          [
           "21-10-2018 02:45"
          ],
          [
           "21-10-2018 03:00"
          ],
          [
           "21-10-2018 03:15"
          ],
          [
           "21-10-2018 03:30"
          ],
          [
           "21-10-2018 03:45"
          ],
          [
           "21-10-2018 04:00"
          ],
          [
           "21-10-2018 04:15"
          ],
          [
           "21-10-2018 04:30"
          ],
          [
           "21-10-2018 04:45"
          ],
          [
           "21-10-2018 05:00"
          ],
          [
           "21-10-2018 05:15"
          ],
          [
           "21-10-2018 05:30"
          ],
          [
           "21-10-2018 05:45"
          ],
          [
           "21-10-2018 06:00"
          ],
          [
           "21-10-2018 06:15"
          ],
          [
           "21-10-2018 06:30"
          ],
          [
           "21-10-2018 06:45"
          ],
          [
           "21-10-2018 07:00"
          ],
          [
           "21-10-2018 07:15"
          ],
          [
           "21-10-2018 07:30"
          ],
          [
           "21-10-2018 07:45"
          ],
          [
           "21-10-2018 08:00"
          ],
          [
           "21-10-2018 08:15"
          ],
          [
           "21-10-2018 08:30"
          ],
          [
           "21-10-2018 08:45"
          ],
          [
           "21-10-2018 09:00"
          ],
          [
           "21-10-2018 09:15"
          ],
          [
           "21-10-2018 09:30"
          ],
          [
           "21-10-2018 09:45"
          ],
          [
           "21-10-2018 10:00"
          ],
          [
           "21-10-2018 10:15"
          ],
          [
           "21-10-2018 10:30"
          ],
          [
           "21-10-2018 10:45"
          ],
          [
           "21-10-2018 11:00"
          ],
          [
           "21-10-2018 11:15"
          ],
          [
           "21-10-2018 11:30"
          ],
          [
           "21-10-2018 11:45"
          ],
          [
           "21-10-2018 12:00"
          ],
          [
           "21-10-2018 12:15"
          ],
          [
           "21-10-2018 12:30"
          ],
          [
           "21-10-2018 12:45"
          ],
          [
           "21-10-2018 13:00"
          ],
          [
           "21-10-2018 13:15"
          ],
          [
           "21-10-2018 13:30"
          ],
          [
           "21-10-2018 13:45"
          ],
          [
           "21-10-2018 14:00"
          ],
          [
           "21-10-2018 14:15"
          ],
          [
           "21-10-2018 14:30"
          ],
          [
           "21-10-2018 14:45"
          ],
          [
           "21-10-2018 15:00"
          ],
          [
           "21-10-2018 15:15"
          ],
          [
           "21-10-2018 15:30"
          ],
          [
           "21-10-2018 15:45"
          ],
          [
           "21-10-2018 16:00"
          ],
          [
           "21-10-2018 16:15"
          ],
          [
           "21-10-2018 16:30"
          ],
          [
           "21-10-2018 16:45"
          ],
          [
           "21-10-2018 17:00"
          ],
          [
           "21-10-2018 17:15"
          ],
          [
           "21-10-2018 17:30"
          ],
          [
           "21-10-2018 17:45"
          ],
          [
           "21-10-2018 18:00"
          ],
          [
           "21-10-2018 18:15"
          ],
          [
           "21-10-2018 18:30"
          ],
          [
           "21-10-2018 18:45"
          ],
          [
           "21-10-2018 19:00"
          ],
          [
           "21-10-2018 19:15"
          ],
          [
           "21-10-2018 19:30"
          ],
          [
           "21-10-2018 19:45"
          ],
          [
           "21-10-2018 20:00"
          ],
          [
           "21-10-2018 20:15"
          ],
          [
           "21-10-2018 20:30"
          ],
          [
           "21-10-2018 20:45"
          ],
          [
           "21-10-2018 21:00"
          ],
          [
           "21-10-2018 21:15"
          ],
          [
           "21-10-2018 21:30"
          ],
          [
           "21-10-2018 21:45"
          ],
          [
           "21-10-2018 22:00"
          ],
          [
           "21-10-2018 22:15"
          ],
          [
           "21-10-2018 22:30"
          ],
          [
           "21-10-2018 22:45"
          ],
          [
           "21-10-2018 23:00"
          ],
          [
           "21-10-2018 23:15"
          ],
          [
           "21-10-2018 23:30"
          ],
          [
           "21-10-2018 23:45"
          ],
          [
           "21-10-2018 00:00"
          ],
          [
           "22-10-2018 00:15"
          ],
          [
           "22-10-2018 00:30"
          ],
          [
           "22-10-2018 00:45"
          ],
          [
           "22-10-2018 01:00"
          ],
          [
           "22-10-2018 01:15"
          ],
          [
           "22-10-2018 01:30"
          ],
          [
           "22-10-2018 01:45"
          ],
          [
           "22-10-2018 02:00"
          ],
          [
           "22-10-2018 02:15"
          ],
          [
           "22-10-2018 02:30"
          ],
          [
           "22-10-2018 02:45"
          ],
          [
           "22-10-2018 03:00"
          ],
          [
           "22-10-2018 03:15"
          ],
          [
           "22-10-2018 03:30"
          ],
          [
           "22-10-2018 03:45"
          ],
          [
           "22-10-2018 04:00"
          ],
          [
           "22-10-2018 04:15"
          ],
          [
           "22-10-2018 04:30"
          ],
          [
           "22-10-2018 04:45"
          ],
          [
           "22-10-2018 05:00"
          ],
          [
           "22-10-2018 05:15"
          ],
          [
           "22-10-2018 05:30"
          ],
          [
           "22-10-2018 05:45"
          ],
          [
           "22-10-2018 06:00"
          ],
          [
           "22-10-2018 06:15"
          ],
          [
           "22-10-2018 06:30"
          ],
          [
           "22-10-2018 06:45"
          ],
          [
           "22-10-2018 07:00"
          ],
          [
           "22-10-2018 07:15"
          ],
          [
           "22-10-2018 07:30"
          ],
          [
           "22-10-2018 07:45"
          ],
          [
           "22-10-2018 08:00"
          ],
          [
           "22-10-2018 08:15"
          ],
          [
           "22-10-2018 08:30"
          ],
          [
           "22-10-2018 08:45"
          ],
          [
           "22-10-2018 09:00"
          ],
          [
           "22-10-2018 23:15"
          ],
          [
           "22-10-2018 23:30"
          ],
          [
           "22-10-2018 23:45"
          ],
          [
           "22-10-2018 00:00"
          ],
          [
           "23-10-2018 00:15"
          ],
          [
           "23-10-2018 00:30"
          ],
          [
           "23-10-2018 00:45"
          ],
          [
           "23-10-2018 01:00"
          ],
          [
           "23-10-2018 01:15"
          ],
          [
           "23-10-2018 01:30"
          ],
          [
           "23-10-2018 01:45"
          ],
          [
           "23-10-2018 02:00"
          ],
          [
           "23-10-2018 02:15"
          ],
          [
           "23-10-2018 02:30"
          ],
          [
           "23-10-2018 02:45"
          ],
          [
           "23-10-2018 03:00"
          ],
          [
           "23-10-2018 03:15"
          ],
          [
           "23-10-2018 03:30"
          ],
          [
           "23-10-2018 03:45"
          ],
          [
           "23-10-2018 04:00"
          ],
          [
           "23-10-2018 04:15"
          ],
          [
           "23-10-2018 04:30"
          ],
          [
           "23-10-2018 04:45"
          ],
          [
           "23-10-2018 05:00"
          ],
          [
           "23-10-2018 05:15"
          ],
          [
           "23-10-2018 05:30"
          ],
          [
           "23-10-2018 05:45"
          ],
          [
           "23-10-2018 06:00"
          ],
          [
           "23-10-2018 06:15"
          ],
          [
           "23-10-2018 06:30"
          ],
          [
           "23-10-2018 06:45"
          ],
          [
           "23-10-2018 07:00"
          ],
          [
           "23-10-2018 07:15"
          ],
          [
           "23-10-2018 07:30"
          ],
          [
           "23-10-2018 07:45"
          ],
          [
           "23-10-2018 08:00"
          ],
          [
           "23-10-2018 08:15"
          ],
          [
           "23-10-2018 08:30"
          ],
          [
           "23-10-2018 08:45"
          ],
          [
           "23-10-2018 09:00"
          ],
          [
           "23-10-2018 23:15"
          ],
          [
           "23-10-2018 23:30"
          ],
          [
           "23-10-2018 23:45"
          ],
          [
           "23-10-2018 00:00"
          ],
          [
           "24-10-2018 00:15"
          ],
          [
           "24-10-2018 00:30"
          ],
          [
           "24-10-2018 00:45"
          ],
          [
           "24-10-2018 01:00"
          ],
          [
           "24-10-2018 01:15"
          ],
          [
           "24-10-2018 01:30"
          ],
          [
           "24-10-2018 01:45"
          ],
          [
           "24-10-2018 02:00"
          ],
          [
           "24-10-2018 02:15"
          ],
          [
           "24-10-2018 02:30"
          ],
          [
           "24-10-2018 02:45"
          ],
          [
           "24-10-2018 03:00"
          ],
          [
           "24-10-2018 03:15"
          ],
          [
           "24-10-2018 03:30"
          ],
          [
           "24-10-2018 03:45"
          ],
          [
           "24-10-2018 04:00"
          ],
          [
           "24-10-2018 04:15"
          ],
          [
           "24-10-2018 04:30"
          ],
          [
           "24-10-2018 04:45"
          ],
          [
           "24-10-2018 05:00"
          ],
          [
           "24-10-2018 05:15"
          ],
          [
           "24-10-2018 05:30"
          ],
          [
           "24-10-2018 05:45"
          ],
          [
           "24-10-2018 06:00"
          ],
          [
           "24-10-2018 06:15"
          ],
          [
           "24-10-2018 06:30"
          ],
          [
           "24-10-2018 06:45"
          ],
          [
           "24-10-2018 07:00"
          ],
          [
           "24-10-2018 07:15"
          ],
          [
           "24-10-2018 07:30"
          ],
          [
           "24-10-2018 07:45"
          ],
          [
           "24-10-2018 08:00"
          ],
          [
           "24-10-2018 08:15"
          ],
          [
           "24-10-2018 08:30"
          ],
          [
           "24-10-2018 08:45"
          ],
          [
           "24-10-2018 09:00"
          ],
          [
           "24-10-2018 23:15"
          ],
          [
           "24-10-2018 23:30"
          ],
          [
           "24-10-2018 23:45"
          ],
          [
           "24-10-2018 00:00"
          ],
          [
           "25-10-2018 00:15"
          ],
          [
           "25-10-2018 00:30"
          ],
          [
           "25-10-2018 00:45"
          ],
          [
           "25-10-2018 01:00"
          ],
          [
           "25-10-2018 01:15"
          ],
          [
           "25-10-2018 01:30"
          ],
          [
           "25-10-2018 01:45"
          ],
          [
           "25-10-2018 02:00"
          ],
          [
           "25-10-2018 02:15"
          ],
          [
           "25-10-2018 02:30"
          ],
          [
           "25-10-2018 02:45"
          ],
          [
           "25-10-2018 03:00"
          ],
          [
           "25-10-2018 03:15"
          ],
          [
           "25-10-2018 03:30"
          ],
          [
           "25-10-2018 03:45"
          ],
          [
           "25-10-2018 04:00"
          ],
          [
           "25-10-2018 04:15"
          ],
          [
           "25-10-2018 04:30"
          ],
          [
           "25-10-2018 04:45"
          ],
          [
           "25-10-2018 05:00"
          ],
          [
           "25-10-2018 05:15"
          ],
          [
           "25-10-2018 05:30"
          ],
          [
           "25-10-2018 05:45"
          ],
          [
           "25-10-2018 06:00"
          ],
          [
           "25-10-2018 06:15"
          ],
          [
           "25-10-2018 06:30"
          ],
          [
           "25-10-2018 06:45"
          ],
          [
           "25-10-2018 07:00"
          ],
          [
           "25-10-2018 07:15"
          ],
          [
           "25-10-2018 07:30"
          ],
          [
           "25-10-2018 07:45"
          ],
          [
           "25-10-2018 08:00"
          ],
          [
           "25-10-2018 08:15"
          ],
          [
           "25-10-2018 08:30"
          ],
          [
           "25-10-2018 08:45"
          ],
          [
           "25-10-2018 09:00"
          ],
          [
           "25-10-2018 23:15"
          ],
          [
           "25-10-2018 23:30"
          ],
          [
           "25-10-2018 23:45"
          ],
          [
           "25-10-2018 00:00"
          ],
          [
           "26-10-2018 00:15"
          ],
          [
           "26-10-2018 00:30"
          ],
          [
           "26-10-2018 00:45"
          ],
          [
           "26-10-2018 01:00"
          ],
          [
           "26-10-2018 01:15"
          ],
          [
           "26-10-2018 01:30"
          ],
          [
           "26-10-2018 01:45"
          ],
          [
           "26-10-2018 02:00"
          ],
          [
           "26-10-2018 02:15"
          ],
          [
           "26-10-2018 02:30"
          ],
          [
           "26-10-2018 02:45"
          ],
          [
           "26-10-2018 03:00"
          ],
          [
           "26-10-2018 03:15"
          ],
          [
           "26-10-2018 03:30"
          ],
          [
           "26-10-2018 03:45"
          ],
          [
           "26-10-2018 04:00"
          ],
          [
           "26-10-2018 04:15"
          ],
          [
           "26-10-2018 04:30"
          ],
          [
           "26-10-2018 04:45"
          ],
          [
           "26-10-2018 05:00"
          ],
          [
           "26-10-2018 05:15"
          ],
          [
           "26-10-2018 05:30"
          ],
          [
           "26-10-2018 05:45"
          ],
          [
           "26-10-2018 06:00"
          ],
          [
           "26-10-2018 06:15"
          ],
          [
           "26-10-2018 06:30"
          ],
          [
           "26-10-2018 06:45"
          ],
          [
           "26-10-2018 07:00"
          ],
          [
           "26-10-2018 07:15"
          ],
          [
           "26-10-2018 07:30"
          ],
          [
           "26-10-2018 07:45"
          ],
          [
           "26-10-2018 08:00"
          ],
          [
           "26-10-2018 08:15"
          ],
          [
           "26-10-2018 08:30"
          ],
          [
           "26-10-2018 08:45"
          ],
          [
           "26-10-2018 09:00"
          ],
          [
           "26-10-2018 23:15"
          ],
          [
           "26-10-2018 23:30"
          ],
          [
           "26-10-2018 23:45"
          ],
          [
           "26-10-2018 00:00"
          ],
          [
           "27-10-2018 00:15"
          ],
          [
           "27-10-2018 00:30"
          ],
          [
           "27-10-2018 00:45"
          ],
          [
           "27-10-2018 01:00"
          ],
          [
           "27-10-2018 01:15"
          ],
          [
           "27-10-2018 01:30"
          ],
          [
           "27-10-2018 01:45"
          ],
          [
           "27-10-2018 02:00"
          ],
          [
           "27-10-2018 02:15"
          ],
          [
           "27-10-2018 02:30"
          ],
          [
           "27-10-2018 02:45"
          ],
          [
           "27-10-2018 03:00"
          ],
          [
           "27-10-2018 03:15"
          ],
          [
           "27-10-2018 03:30"
          ],
          [
           "27-10-2018 03:45"
          ],
          [
           "27-10-2018 04:00"
          ],
          [
           "27-10-2018 04:15"
          ],
          [
           "27-10-2018 04:30"
          ],
          [
           "27-10-2018 04:45"
          ],
          [
           "27-10-2018 05:00"
          ],
          [
           "27-10-2018 05:15"
          ],
          [
           "27-10-2018 05:30"
          ],
          [
           "27-10-2018 05:45"
          ],
          [
           "27-10-2018 06:00"
          ],
          [
           "27-10-2018 06:15"
          ],
          [
           "27-10-2018 06:30"
          ],
          [
           "27-10-2018 06:45"
          ],
          [
           "27-10-2018 07:00"
          ],
          [
           "27-10-2018 07:15"
          ],
          [
           "27-10-2018 07:30"
          ],
          [
           "27-10-2018 07:45"
          ],
          [
           "27-10-2018 08:00"
          ],
          [
           "27-10-2018 08:15"
          ],
          [
           "27-10-2018 08:30"
          ],
          [
           "27-10-2018 08:45"
          ],
          [
           "27-10-2018 09:00"
          ],
          [
           "27-10-2018 23:15"
          ],
          [
           "27-10-2018 23:30"
          ],
          [
           "27-10-2018 23:45"
          ],
          [
           "27-10-2018 00:00"
          ],
          [
           "28-10-2018 00:15"
          ],
          [
           "28-10-2018 00:30"
          ],
          [
           "28-10-2018 00:45"
          ],
          [
           "28-10-2018 01:00"
          ],
          [
           "28-10-2018 01:15"
          ],
          [
           "28-10-2018 01:30"
          ],
          [
           "28-10-2018 01:45"
          ],
          [
           "28-10-2018 02:00"
          ],
          [
           "28-10-2018 02:15"
          ],
          [
           "28-10-2018 02:30"
          ],
          [
           "28-10-2018 02:45"
          ],
          [
           "28-10-2018 03:00"
          ],
          [
           "28-10-2018 03:15"
          ],
          [
           "28-10-2018 03:30"
          ],
          [
           "28-10-2018 03:45"
          ],
          [
           "28-10-2018 04:00"
          ],
          [
           "28-10-2018 04:15"
          ],
          [
           "28-10-2018 04:30"
          ],
          [
           "28-10-2018 04:45"
          ],
          [
           "28-10-2018 05:00"
          ],
          [
           "28-10-2018 05:15"
          ],
          [
           "28-10-2018 05:30"
          ],
          [
           "28-10-2018 05:45"
          ],
          [
           "28-10-2018 06:00"
          ],
          [
           "28-10-2018 06:15"
          ],
          [
           "28-10-2018 06:30"
          ],
          [
           "28-10-2018 06:45"
          ],
          [
           "28-10-2018 07:00"
          ],
          [
           "28-10-2018 07:15"
          ],
          [
           "28-10-2018 07:30"
          ],
          [
           "28-10-2018 07:45"
          ],
          [
           "28-10-2018 08:00"
          ],
          [
           "28-10-2018 08:15"
          ],
          [
           "28-10-2018 08:30"
          ],
          [
           "28-10-2018 08:45"
          ],
          [
           "28-10-2018 09:00"
          ],
          [
           "28-10-2018 09:15"
          ],
          [
           "28-10-2018 09:30"
          ],
          [
           "28-10-2018 09:45"
          ],
          [
           "28-10-2018 10:00"
          ],
          [
           "28-10-2018 10:15"
          ],
          [
           "28-10-2018 10:30"
          ],
          [
           "28-10-2018 10:45"
          ],
          [
           "28-10-2018 11:00"
          ],
          [
           "28-10-2018 11:15"
          ],
          [
           "28-10-2018 11:30"
          ],
          [
           "28-10-2018 11:45"
          ],
          [
           "28-10-2018 12:00"
          ],
          [
           "28-10-2018 12:15"
          ],
          [
           "28-10-2018 12:30"
          ],
          [
           "28-10-2018 12:45"
          ],
          [
           "28-10-2018 13:00"
          ],
          [
           "28-10-2018 13:15"
          ],
          [
           "28-10-2018 13:30"
          ],
          [
           "28-10-2018 13:45"
          ],
          [
           "28-10-2018 14:00"
          ],
          [
           "28-10-2018 14:15"
          ],
          [
           "28-10-2018 14:30"
          ],
          [
           "28-10-2018 14:45"
          ],
          [
           "28-10-2018 15:00"
          ],
          [
           "28-10-2018 15:15"
          ],
          [
           "28-10-2018 15:30"
          ],
          [
           "28-10-2018 15:45"
          ],
          [
           "28-10-2018 16:00"
          ],
          [
           "28-10-2018 16:15"
          ],
          [
           "28-10-2018 16:30"
          ],
          [
           "28-10-2018 16:45"
          ],
          [
           "28-10-2018 17:00"
          ],
          [
           "28-10-2018 17:15"
          ],
          [
           "28-10-2018 17:30"
          ],
          [
           "28-10-2018 17:45"
          ],
          [
           "28-10-2018 18:00"
          ],
          [
           "28-10-2018 18:15"
          ],
          [
           "28-10-2018 18:30"
          ],
          [
           "28-10-2018 18:45"
          ],
          [
           "28-10-2018 19:00"
          ],
          [
           "28-10-2018 19:15"
          ],
          [
           "28-10-2018 19:30"
          ],
          [
           "28-10-2018 19:45"
          ],
          [
           "28-10-2018 20:00"
          ],
          [
           "28-10-2018 20:15"
          ],
          [
           "28-10-2018 20:30"
          ],
          [
           "28-10-2018 20:45"
          ],
          [
           "28-10-2018 21:00"
          ],
          [
           "28-10-2018 21:15"
          ],
          [
           "28-10-2018 21:30"
          ],
          [
           "28-10-2018 21:45"
          ],
          [
           "28-10-2018 22:00"
          ],
          [
           "28-10-2018 22:15"
          ],
          [
           "28-10-2018 22:30"
          ],
          [
           "28-10-2018 22:45"
          ],
          [
           "28-10-2018 23:00"
          ],
          [
           "28-10-2018 23:15"
          ],
          [
           "28-10-2018 23:30"
          ],
          [
           "28-10-2018 23:45"
          ],
          [
           "28-10-2018 00:00"
          ],
          [
           "29-10-2018 00:15"
          ],
          [
           "29-10-2018 00:30"
          ],
          [
           "29-10-2018 00:45"
          ],
          [
           "29-10-2018 01:00"
          ],
          [
           "29-10-2018 01:15"
          ],
          [
           "29-10-2018 01:30"
          ],
          [
           "29-10-2018 01:45"
          ],
          [
           "29-10-2018 02:00"
          ],
          [
           "29-10-2018 02:15"
          ],
          [
           "29-10-2018 02:30"
          ],
          [
           "29-10-2018 02:45"
          ],
          [
           "29-10-2018 03:00"
          ],
          [
           "29-10-2018 03:15"
          ],
          [
           "29-10-2018 03:30"
          ],
          [
           "29-10-2018 03:45"
          ],
          [
           "29-10-2018 04:00"
          ],
          [
           "29-10-2018 04:15"
          ],
          [
           "29-10-2018 04:30"
          ],
          [
           "29-10-2018 04:45"
          ],
          [
           "29-10-2018 05:00"
          ],
          [
           "29-10-2018 05:15"
          ],
          [
           "29-10-2018 05:30"
          ],
          [
           "29-10-2018 05:45"
          ],
          [
           "29-10-2018 06:00"
          ],
          [
           "29-10-2018 06:15"
          ],
          [
           "29-10-2018 06:30"
          ],
          [
           "29-10-2018 06:45"
          ],
          [
           "29-10-2018 07:00"
          ],
          [
           "29-10-2018 07:15"
          ],
          [
           "29-10-2018 07:30"
          ],
          [
           "29-10-2018 07:45"
          ],
          [
           "29-10-2018 08:00"
          ],
          [
           "29-10-2018 08:15"
          ],
          [
           "29-10-2018 08:30"
          ],
          [
           "29-10-2018 08:45"
          ],
          [
           "29-10-2018 09:00"
          ],
          [
           "29-10-2018 23:15"
          ],
          [
           "29-10-2018 23:30"
          ],
          [
           "29-10-2018 23:45"
          ],
          [
           "29-10-2018 00:00"
          ],
          [
           "30-10-2018 00:15"
          ],
          [
           "30-10-2018 00:30"
          ],
          [
           "30-10-2018 00:45"
          ],
          [
           "30-10-2018 01:00"
          ],
          [
           "30-10-2018 01:15"
          ],
          [
           "30-10-2018 01:30"
          ],
          [
           "30-10-2018 01:45"
          ],
          [
           "30-10-2018 02:00"
          ],
          [
           "30-10-2018 02:15"
          ],
          [
           "30-10-2018 02:30"
          ],
          [
           "30-10-2018 02:45"
          ],
          [
           "30-10-2018 03:00"
          ],
          [
           "30-10-2018 03:15"
          ],
          [
           "30-10-2018 03:30"
          ],
          [
           "30-10-2018 03:45"
          ],
          [
           "30-10-2018 04:00"
          ],
          [
           "30-10-2018 04:15"
          ],
          [
           "30-10-2018 04:30"
          ],
          [
           "30-10-2018 04:45"
          ],
          [
           "30-10-2018 05:00"
          ],
          [
           "30-10-2018 05:15"
          ],
          [
           "30-10-2018 05:30"
          ],
          [
           "30-10-2018 05:45"
          ],
          [
           "30-10-2018 06:00"
          ],
          [
           "30-10-2018 06:15"
          ],
          [
           "30-10-2018 06:30"
          ],
          [
           "30-10-2018 06:45"
          ],
          [
           "30-10-2018 07:00"
          ],
          [
           "30-10-2018 07:15"
          ],
          [
           "30-10-2018 07:30"
          ],
          [
           "30-10-2018 07:45"
          ],
          [
           "30-10-2018 08:00"
          ],
          [
           "30-10-2018 08:15"
          ],
          [
           "30-10-2018 08:30"
          ],
          [
           "30-10-2018 08:45"
          ],
          [
           "30-10-2018 09:00"
          ],
          [
           "30-10-2018 23:15"
          ],
          [
           "30-10-2018 23:30"
          ],
          [
           "30-10-2018 23:45"
          ],
          [
           "30-10-2018 00:00"
          ],
          [
           "31-10-2018 00:15"
          ],
          [
           "31-10-2018 00:30"
          ],
          [
           "31-10-2018 00:45"
          ],
          [
           "31-10-2018 01:00"
          ],
          [
           "31-10-2018 01:15"
          ],
          [
           "31-10-2018 01:30"
          ],
          [
           "31-10-2018 01:45"
          ],
          [
           "31-10-2018 02:00"
          ],
          [
           "31-10-2018 02:15"
          ],
          [
           "31-10-2018 02:30"
          ],
          [
           "31-10-2018 02:45"
          ],
          [
           "31-10-2018 03:00"
          ],
          [
           "31-10-2018 03:15"
          ],
          [
           "31-10-2018 03:30"
          ],
          [
           "31-10-2018 03:45"
          ],
          [
           "31-10-2018 04:00"
          ],
          [
           "31-10-2018 04:15"
          ],
          [
           "31-10-2018 04:30"
          ],
          [
           "31-10-2018 04:45"
          ],
          [
           "31-10-2018 05:00"
          ],
          [
           "31-10-2018 05:15"
          ],
          [
           "31-10-2018 05:30"
          ],
          [
           "31-10-2018 05:45"
          ],
          [
           "31-10-2018 06:00"
          ],
          [
           "31-10-2018 06:15"
          ],
          [
           "31-10-2018 06:30"
          ],
          [
           "31-10-2018 06:45"
          ],
          [
           "31-10-2018 07:00"
          ],
          [
           "31-10-2018 07:15"
          ],
          [
           "31-10-2018 07:30"
          ],
          [
           "31-10-2018 07:45"
          ],
          [
           "31-10-2018 08:00"
          ],
          [
           "31-10-2018 08:15"
          ],
          [
           "31-10-2018 08:30"
          ],
          [
           "31-10-2018 08:45"
          ],
          [
           "31-10-2018 09:00"
          ],
          [
           "31-10-2018 23:15"
          ],
          [
           "31-10-2018 23:30"
          ],
          [
           "31-10-2018 23:45"
          ],
          [
           "31-10-2018 00:00"
          ],
          [
           "01-11-2018 00:15"
          ],
          [
           "01-11-2018 00:30"
          ],
          [
           "01-11-2018 00:45"
          ],
          [
           "01-11-2018 01:00"
          ],
          [
           "01-11-2018 01:15"
          ],
          [
           "01-11-2018 01:30"
          ],
          [
           "01-11-2018 01:45"
          ],
          [
           "01-11-2018 02:00"
          ],
          [
           "01-11-2018 02:15"
          ],
          [
           "01-11-2018 02:30"
          ],
          [
           "01-11-2018 02:45"
          ],
          [
           "01-11-2018 03:00"
          ],
          [
           "01-11-2018 03:15"
          ],
          [
           "01-11-2018 03:30"
          ],
          [
           "01-11-2018 03:45"
          ],
          [
           "01-11-2018 04:00"
          ],
          [
           "01-11-2018 04:15"
          ],
          [
           "01-11-2018 04:30"
          ],
          [
           "01-11-2018 04:45"
          ],
          [
           "01-11-2018 05:00"
          ],
          [
           "01-11-2018 05:15"
          ],
          [
           "01-11-2018 05:30"
          ],
          [
           "01-11-2018 05:45"
          ],
          [
           "01-11-2018 06:00"
          ],
          [
           "01-11-2018 06:15"
          ],
          [
           "01-11-2018 06:30"
          ],
          [
           "01-11-2018 06:45"
          ],
          [
           "01-11-2018 07:00"
          ],
          [
           "01-11-2018 07:15"
          ],
          [
           "01-11-2018 07:30"
          ],
          [
           "01-11-2018 07:45"
          ],
          [
           "01-11-2018 08:00"
          ],
          [
           "01-11-2018 08:15"
          ],
          [
           "01-11-2018 08:30"
          ],
          [
           "01-11-2018 08:45"
          ],
          [
           "01-11-2018 09:00"
          ],
          [
           "01-11-2018 23:15"
          ],
          [
           "01-11-2018 23:30"
          ],
          [
           "01-11-2018 23:45"
          ],
          [
           "01-11-2018 00:00"
          ],
          [
           "02-11-2018 00:15"
          ],
          [
           "02-11-2018 00:30"
          ],
          [
           "02-11-2018 00:45"
          ],
          [
           "02-11-2018 01:00"
          ],
          [
           "02-11-2018 01:15"
          ],
          [
           "02-11-2018 01:30"
          ],
          [
           "02-11-2018 01:45"
          ],
          [
           "02-11-2018 02:00"
          ],
          [
           "02-11-2018 02:15"
          ],
          [
           "02-11-2018 02:30"
          ],
          [
           "02-11-2018 02:45"
          ],
          [
           "02-11-2018 03:00"
          ],
          [
           "02-11-2018 03:15"
          ],
          [
           "02-11-2018 03:30"
          ],
          [
           "02-11-2018 03:45"
          ],
          [
           "02-11-2018 04:00"
          ],
          [
           "02-11-2018 04:15"
          ],
          [
           "02-11-2018 04:30"
          ],
          [
           "02-11-2018 04:45"
          ],
          [
           "02-11-2018 05:00"
          ],
          [
           "02-11-2018 05:15"
          ],
          [
           "02-11-2018 05:30"
          ],
          [
           "02-11-2018 05:45"
          ],
          [
           "02-11-2018 06:00"
          ],
          [
           "02-11-2018 06:15"
          ],
          [
           "02-11-2018 06:30"
          ],
          [
           "02-11-2018 06:45"
          ],
          [
           "02-11-2018 07:00"
          ],
          [
           "02-11-2018 07:15"
          ],
          [
           "02-11-2018 07:30"
          ],
          [
           "02-11-2018 07:45"
          ],
          [
           "02-11-2018 08:00"
          ],
          [
           "02-11-2018 08:15"
          ],
          [
           "02-11-2018 08:30"
          ],
          [
           "02-11-2018 08:45"
          ],
          [
           "02-11-2018 09:00"
          ],
          [
           "02-11-2018 23:15"
          ],
          [
           "02-11-2018 23:30"
          ],
          [
           "02-11-2018 23:45"
          ],
          [
           "02-11-2018 00:00"
          ],
          [
           "03-11-2018 00:15"
          ],
          [
           "03-11-2018 00:30"
          ],
          [
           "03-11-2018 00:45"
          ],
          [
           "03-11-2018 01:00"
          ],
          [
           "03-11-2018 01:15"
          ],
          [
           "03-11-2018 01:30"
          ],
          [
           "03-11-2018 01:45"
          ],
          [
           "03-11-2018 02:00"
          ],
          [
           "03-11-2018 02:15"
          ],
          [
           "03-11-2018 02:30"
          ],
          [
           "03-11-2018 02:45"
          ],
          [
           "03-11-2018 03:00"
          ],
          [
           "03-11-2018 03:15"
          ],
          [
           "03-11-2018 03:30"
          ],
          [
           "03-11-2018 03:45"
          ],
          [
           "03-11-2018 04:00"
          ],
          [
           "03-11-2018 04:15"
          ],
          [
           "03-11-2018 04:30"
          ],
          [
           "03-11-2018 04:45"
          ],
          [
           "03-11-2018 05:00"
          ],
          [
           "03-11-2018 05:15"
          ],
          [
           "03-11-2018 05:30"
          ],
          [
           "03-11-2018 05:45"
          ],
          [
           "03-11-2018 06:00"
          ],
          [
           "03-11-2018 06:15"
          ],
          [
           "03-11-2018 06:30"
          ],
          [
           "03-11-2018 06:45"
          ],
          [
           "03-11-2018 07:00"
          ],
          [
           "03-11-2018 07:15"
          ],
          [
           "03-11-2018 07:30"
          ],
          [
           "03-11-2018 07:45"
          ],
          [
           "03-11-2018 08:00"
          ],
          [
           "03-11-2018 08:15"
          ],
          [
           "03-11-2018 08:30"
          ],
          [
           "03-11-2018 08:45"
          ],
          [
           "03-11-2018 09:00"
          ],
          [
           "03-11-2018 23:15"
          ],
          [
           "03-11-2018 23:30"
          ],
          [
           "03-11-2018 23:45"
          ],
          [
           "03-11-2018 00:00"
          ],
          [
           "04-11-2018 00:15"
          ],
          [
           "04-11-2018 00:30"
          ],
          [
           "04-11-2018 00:45"
          ],
          [
           "04-11-2018 01:00"
          ],
          [
           "04-11-2018 01:15"
          ],
          [
           "04-11-2018 01:30"
          ],
          [
           "04-11-2018 01:45"
          ],
          [
           "04-11-2018 02:00"
          ],
          [
           "04-11-2018 02:15"
          ],
          [
           "04-11-2018 02:30"
          ],
          [
           "04-11-2018 02:45"
          ],
          [
           "04-11-2018 03:00"
          ],
          [
           "04-11-2018 03:15"
          ],
          [
           "04-11-2018 03:30"
          ],
          [
           "04-11-2018 03:45"
          ],
          [
           "04-11-2018 04:00"
          ],
          [
           "04-11-2018 04:15"
          ],
          [
           "04-11-2018 04:30"
          ],
          [
           "04-11-2018 04:45"
          ],
          [
           "04-11-2018 05:00"
          ],
          [
           "04-11-2018 05:15"
          ],
          [
           "04-11-2018 05:30"
          ],
          [
           "04-11-2018 05:45"
          ],
          [
           "04-11-2018 06:00"
          ],
          [
           "04-11-2018 06:15"
          ],
          [
           "04-11-2018 06:30"
          ],
          [
           "04-11-2018 06:45"
          ],
          [
           "04-11-2018 07:00"
          ],
          [
           "04-11-2018 07:15"
          ],
          [
           "04-11-2018 07:30"
          ],
          [
           "04-11-2018 07:45"
          ],
          [
           "04-11-2018 08:00"
          ],
          [
           "04-11-2018 08:15"
          ],
          [
           "04-11-2018 08:30"
          ],
          [
           "04-11-2018 08:45"
          ],
          [
           "04-11-2018 09:00"
          ],
          [
           "04-11-2018 23:15"
          ],
          [
           "04-11-2018 23:30"
          ],
          [
           "04-11-2018 23:45"
          ],
          [
           "04-11-2018 00:00"
          ],
          [
           "05-11-2018 00:15"
          ],
          [
           "05-11-2018 00:30"
          ],
          [
           "05-11-2018 00:45"
          ],
          [
           "05-11-2018 01:00"
          ],
          [
           "05-11-2018 01:15"
          ],
          [
           "05-11-2018 01:30"
          ],
          [
           "05-11-2018 01:45"
          ],
          [
           "05-11-2018 02:00"
          ],
          [
           "05-11-2018 02:15"
          ],
          [
           "05-11-2018 02:30"
          ],
          [
           "05-11-2018 02:45"
          ],
          [
           "05-11-2018 03:00"
          ],
          [
           "05-11-2018 03:15"
          ],
          [
           "05-11-2018 03:30"
          ],
          [
           "05-11-2018 03:45"
          ],
          [
           "05-11-2018 04:00"
          ],
          [
           "05-11-2018 04:15"
          ],
          [
           "05-11-2018 04:30"
          ],
          [
           "05-11-2018 04:45"
          ],
          [
           "05-11-2018 05:00"
          ],
          [
           "05-11-2018 05:15"
          ],
          [
           "05-11-2018 05:30"
          ],
          [
           "05-11-2018 05:45"
          ],
          [
           "05-11-2018 06:00"
          ],
          [
           "05-11-2018 06:15"
          ],
          [
           "05-11-2018 06:30"
          ],
          [
           "05-11-2018 06:45"
          ],
          [
           "05-11-2018 07:00"
          ],
          [
           "05-11-2018 07:15"
          ],
          [
           "05-11-2018 07:30"
          ],
          [
           "05-11-2018 07:45"
          ],
          [
           "05-11-2018 08:00"
          ],
          [
           "05-11-2018 08:15"
          ],
          [
           "05-11-2018 08:30"
          ],
          [
           "05-11-2018 08:45"
          ],
          [
           "05-11-2018 09:00"
          ],
          [
           "05-11-2018 23:15"
          ],
          [
           "05-11-2018 23:30"
          ],
          [
           "05-11-2018 23:45"
          ],
          [
           "05-11-2018 00:00"
          ],
          [
           "06-11-2018 00:15"
          ],
          [
           "06-11-2018 00:30"
          ],
          [
           "06-11-2018 00:45"
          ],
          [
           "06-11-2018 01:00"
          ],
          [
           "06-11-2018 01:15"
          ],
          [
           "06-11-2018 01:30"
          ],
          [
           "06-11-2018 01:45"
          ],
          [
           "06-11-2018 02:00"
          ],
          [
           "06-11-2018 02:15"
          ],
          [
           "06-11-2018 02:30"
          ],
          [
           "06-11-2018 02:45"
          ],
          [
           "06-11-2018 03:00"
          ],
          [
           "06-11-2018 03:15"
          ],
          [
           "06-11-2018 03:30"
          ],
          [
           "06-11-2018 03:45"
          ],
          [
           "06-11-2018 04:00"
          ],
          [
           "06-11-2018 04:15"
          ],
          [
           "06-11-2018 04:30"
          ],
          [
           "06-11-2018 04:45"
          ],
          [
           "06-11-2018 05:00"
          ],
          [
           "06-11-2018 05:15"
          ],
          [
           "06-11-2018 05:30"
          ],
          [
           "06-11-2018 05:45"
          ],
          [
           "06-11-2018 06:00"
          ],
          [
           "06-11-2018 06:15"
          ],
          [
           "06-11-2018 06:30"
          ],
          [
           "06-11-2018 06:45"
          ],
          [
           "06-11-2018 07:00"
          ],
          [
           "06-11-2018 07:15"
          ],
          [
           "06-11-2018 07:30"
          ],
          [
           "06-11-2018 07:45"
          ],
          [
           "06-11-2018 08:00"
          ],
          [
           "06-11-2018 08:15"
          ],
          [
           "06-11-2018 08:30"
          ],
          [
           "06-11-2018 08:45"
          ],
          [
           "06-11-2018 09:00"
          ],
          [
           "06-11-2018 23:15"
          ],
          [
           "06-11-2018 23:30"
          ],
          [
           "06-11-2018 23:45"
          ],
          [
           "06-11-2018 00:00"
          ],
          [
           "07-11-2018 00:15"
          ],
          [
           "07-11-2018 00:30"
          ],
          [
           "07-11-2018 00:45"
          ],
          [
           "07-11-2018 01:00"
          ],
          [
           "07-11-2018 01:15"
          ],
          [
           "07-11-2018 01:30"
          ],
          [
           "07-11-2018 01:45"
          ],
          [
           "07-11-2018 02:00"
          ],
          [
           "07-11-2018 02:15"
          ],
          [
           "07-11-2018 02:30"
          ],
          [
           "07-11-2018 02:45"
          ],
          [
           "07-11-2018 03:00"
          ],
          [
           "07-11-2018 03:15"
          ],
          [
           "07-11-2018 03:30"
          ],
          [
           "07-11-2018 03:45"
          ],
          [
           "07-11-2018 04:00"
          ],
          [
           "07-11-2018 04:15"
          ],
          [
           "07-11-2018 04:30"
          ],
          [
           "07-11-2018 04:45"
          ],
          [
           "07-11-2018 05:00"
          ],
          [
           "07-11-2018 05:15"
          ],
          [
           "07-11-2018 05:30"
          ],
          [
           "07-11-2018 05:45"
          ],
          [
           "07-11-2018 06:00"
          ],
          [
           "07-11-2018 06:15"
          ],
          [
           "07-11-2018 06:30"
          ],
          [
           "07-11-2018 06:45"
          ],
          [
           "07-11-2018 07:00"
          ],
          [
           "07-11-2018 07:15"
          ],
          [
           "07-11-2018 07:30"
          ],
          [
           "07-11-2018 07:45"
          ],
          [
           "07-11-2018 08:00"
          ],
          [
           "07-11-2018 08:15"
          ],
          [
           "07-11-2018 08:30"
          ],
          [
           "07-11-2018 08:45"
          ],
          [
           "07-11-2018 09:00"
          ],
          [
           "07-11-2018 23:15"
          ],
          [
           "07-11-2018 23:30"
          ],
          [
           "07-11-2018 23:45"
          ],
          [
           "07-11-2018 00:00"
          ],
          [
           "08-11-2018 00:15"
          ],
          [
           "08-11-2018 00:30"
          ],
          [
           "08-11-2018 00:45"
          ],
          [
           "08-11-2018 01:00"
          ],
          [
           "08-11-2018 01:15"
          ],
          [
           "08-11-2018 01:30"
          ],
          [
           "08-11-2018 01:45"
          ],
          [
           "08-11-2018 02:00"
          ],
          [
           "08-11-2018 02:15"
          ],
          [
           "08-11-2018 02:30"
          ],
          [
           "08-11-2018 02:45"
          ],
          [
           "08-11-2018 03:00"
          ],
          [
           "08-11-2018 03:15"
          ],
          [
           "08-11-2018 03:30"
          ],
          [
           "08-11-2018 03:45"
          ],
          [
           "08-11-2018 04:00"
          ],
          [
           "08-11-2018 04:15"
          ],
          [
           "08-11-2018 04:30"
          ],
          [
           "08-11-2018 04:45"
          ],
          [
           "08-11-2018 05:00"
          ],
          [
           "08-11-2018 05:15"
          ],
          [
           "08-11-2018 05:30"
          ],
          [
           "08-11-2018 05:45"
          ],
          [
           "08-11-2018 06:00"
          ],
          [
           "08-11-2018 06:15"
          ],
          [
           "08-11-2018 06:30"
          ],
          [
           "08-11-2018 06:45"
          ],
          [
           "08-11-2018 07:00"
          ],
          [
           "08-11-2018 07:15"
          ],
          [
           "08-11-2018 07:30"
          ],
          [
           "08-11-2018 07:45"
          ],
          [
           "08-11-2018 08:00"
          ],
          [
           "08-11-2018 08:15"
          ],
          [
           "08-11-2018 08:30"
          ],
          [
           "08-11-2018 08:45"
          ],
          [
           "08-11-2018 09:00"
          ],
          [
           "08-11-2018 23:15"
          ],
          [
           "08-11-2018 23:30"
          ],
          [
           "08-11-2018 23:45"
          ],
          [
           "08-11-2018 00:00"
          ],
          [
           "09-11-2018 00:15"
          ],
          [
           "09-11-2018 00:30"
          ],
          [
           "09-11-2018 00:45"
          ],
          [
           "09-11-2018 01:00"
          ],
          [
           "09-11-2018 01:15"
          ],
          [
           "09-11-2018 01:30"
          ],
          [
           "09-11-2018 01:45"
          ],
          [
           "09-11-2018 02:00"
          ],
          [
           "09-11-2018 02:15"
          ],
          [
           "09-11-2018 02:30"
          ],
          [
           "09-11-2018 02:45"
          ],
          [
           "09-11-2018 03:00"
          ],
          [
           "09-11-2018 03:15"
          ],
          [
           "09-11-2018 03:30"
          ],
          [
           "09-11-2018 03:45"
          ],
          [
           "09-11-2018 04:00"
          ],
          [
           "09-11-2018 04:15"
          ],
          [
           "09-11-2018 04:30"
          ],
          [
           "09-11-2018 04:45"
          ],
          [
           "09-11-2018 05:00"
          ],
          [
           "09-11-2018 05:15"
          ],
          [
           "09-11-2018 05:30"
          ],
          [
           "09-11-2018 05:45"
          ],
          [
           "09-11-2018 06:00"
          ],
          [
           "09-11-2018 06:15"
          ],
          [
           "09-11-2018 06:30"
          ],
          [
           "09-11-2018 06:45"
          ],
          [
           "09-11-2018 07:00"
          ],
          [
           "09-11-2018 07:15"
          ],
          [
           "09-11-2018 07:30"
          ],
          [
           "09-11-2018 07:45"
          ],
          [
           "09-11-2018 08:00"
          ],
          [
           "09-11-2018 08:15"
          ],
          [
           "09-11-2018 08:30"
          ],
          [
           "09-11-2018 08:45"
          ],
          [
           "09-11-2018 09:00"
          ],
          [
           "09-11-2018 23:15"
          ],
          [
           "09-11-2018 23:30"
          ],
          [
           "09-11-2018 23:45"
          ],
          [
           "09-11-2018 00:00"
          ],
          [
           "10-11-2018 00:15"
          ],
          [
           "10-11-2018 00:30"
          ],
          [
           "10-11-2018 00:45"
          ],
          [
           "10-11-2018 01:00"
          ],
          [
           "10-11-2018 01:15"
          ],
          [
           "10-11-2018 01:30"
          ],
          [
           "10-11-2018 01:45"
          ],
          [
           "10-11-2018 02:00"
          ],
          [
           "10-11-2018 02:15"
          ],
          [
           "10-11-2018 02:30"
          ],
          [
           "10-11-2018 02:45"
          ],
          [
           "10-11-2018 03:00"
          ],
          [
           "10-11-2018 03:15"
          ],
          [
           "10-11-2018 03:30"
          ],
          [
           "10-11-2018 03:45"
          ],
          [
           "10-11-2018 04:00"
          ],
          [
           "10-11-2018 04:15"
          ],
          [
           "10-11-2018 04:30"
          ],
          [
           "10-11-2018 04:45"
          ],
          [
           "10-11-2018 05:00"
          ],
          [
           "10-11-2018 05:15"
          ],
          [
           "10-11-2018 05:30"
          ],
          [
           "10-11-2018 05:45"
          ],
          [
           "10-11-2018 06:00"
          ],
          [
           "10-11-2018 06:15"
          ],
          [
           "10-11-2018 06:30"
          ],
          [
           "10-11-2018 06:45"
          ],
          [
           "10-11-2018 07:00"
          ],
          [
           "10-11-2018 07:15"
          ],
          [
           "10-11-2018 07:30"
          ],
          [
           "10-11-2018 07:45"
          ],
          [
           "10-11-2018 08:00"
          ],
          [
           "10-11-2018 08:15"
          ],
          [
           "10-11-2018 08:30"
          ],
          [
           "10-11-2018 08:45"
          ],
          [
           "10-11-2018 09:00"
          ],
          [
           "10-11-2018 23:15"
          ],
          [
           "10-11-2018 23:30"
          ],
          [
           "10-11-2018 23:45"
          ],
          [
           "10-11-2018 00:00"
          ],
          [
           "11-11-2018 00:15"
          ],
          [
           "11-11-2018 00:30"
          ],
          [
           "11-11-2018 00:45"
          ],
          [
           "11-11-2018 01:00"
          ],
          [
           "11-11-2018 01:15"
          ],
          [
           "11-11-2018 01:30"
          ],
          [
           "11-11-2018 01:45"
          ],
          [
           "11-11-2018 02:00"
          ],
          [
           "11-11-2018 02:15"
          ],
          [
           "11-11-2018 02:30"
          ],
          [
           "11-11-2018 02:45"
          ],
          [
           "11-11-2018 03:00"
          ],
          [
           "11-11-2018 03:15"
          ],
          [
           "11-11-2018 03:30"
          ],
          [
           "11-11-2018 03:45"
          ],
          [
           "11-11-2018 04:00"
          ],
          [
           "11-11-2018 04:15"
          ],
          [
           "11-11-2018 04:30"
          ],
          [
           "11-11-2018 04:45"
          ],
          [
           "11-11-2018 05:00"
          ],
          [
           "11-11-2018 05:15"
          ],
          [
           "11-11-2018 05:30"
          ],
          [
           "11-11-2018 05:45"
          ],
          [
           "11-11-2018 06:00"
          ],
          [
           "11-11-2018 06:15"
          ],
          [
           "11-11-2018 06:30"
          ],
          [
           "11-11-2018 06:45"
          ],
          [
           "11-11-2018 07:00"
          ],
          [
           "11-11-2018 07:15"
          ],
          [
           "11-11-2018 07:30"
          ],
          [
           "11-11-2018 07:45"
          ],
          [
           "11-11-2018 08:00"
          ],
          [
           "11-11-2018 08:15"
          ],
          [
           "11-11-2018 08:30"
          ],
          [
           "11-11-2018 08:45"
          ],
          [
           "11-11-2018 09:00"
          ],
          [
           "11-11-2018 09:15"
          ],
          [
           "11-11-2018 09:30"
          ],
          [
           "11-11-2018 09:45"
          ],
          [
           "11-11-2018 10:00"
          ],
          [
           "11-11-2018 10:15"
          ],
          [
           "11-11-2018 10:30"
          ],
          [
           "11-11-2018 10:45"
          ],
          [
           "11-11-2018 11:00"
          ],
          [
           "11-11-2018 11:15"
          ],
          [
           "11-11-2018 11:30"
          ],
          [
           "11-11-2018 11:45"
          ],
          [
           "11-11-2018 12:00"
          ],
          [
           "11-11-2018 12:15"
          ],
          [
           "11-11-2018 12:30"
          ],
          [
           "11-11-2018 12:45"
          ],
          [
           "11-11-2018 13:00"
          ],
          [
           "11-11-2018 13:15"
          ],
          [
           "11-11-2018 13:30"
          ],
          [
           "11-11-2018 13:45"
          ],
          [
           "11-11-2018 14:00"
          ],
          [
           "11-11-2018 14:15"
          ],
          [
           "11-11-2018 14:30"
          ],
          [
           "11-11-2018 14:45"
          ],
          [
           "11-11-2018 15:00"
          ],
          [
           "11-11-2018 15:15"
          ],
          [
           "11-11-2018 15:30"
          ],
          [
           "11-11-2018 15:45"
          ],
          [
           "11-11-2018 16:00"
          ],
          [
           "11-11-2018 16:15"
          ],
          [
           "11-11-2018 16:30"
          ],
          [
           "11-11-2018 16:45"
          ],
          [
           "11-11-2018 17:00"
          ],
          [
           "11-11-2018 17:15"
          ],
          [
           "11-11-2018 17:30"
          ],
          [
           "11-11-2018 17:45"
          ],
          [
           "11-11-2018 18:00"
          ],
          [
           "11-11-2018 18:15"
          ],
          [
           "11-11-2018 18:30"
          ],
          [
           "11-11-2018 18:45"
          ],
          [
           "11-11-2018 19:00"
          ],
          [
           "11-11-2018 19:15"
          ],
          [
           "11-11-2018 19:30"
          ],
          [
           "11-11-2018 19:45"
          ],
          [
           "11-11-2018 20:00"
          ],
          [
           "11-11-2018 20:15"
          ],
          [
           "11-11-2018 20:30"
          ],
          [
           "11-11-2018 20:45"
          ],
          [
           "11-11-2018 21:00"
          ],
          [
           "11-11-2018 21:15"
          ],
          [
           "11-11-2018 21:30"
          ],
          [
           "11-11-2018 21:45"
          ],
          [
           "11-11-2018 22:00"
          ],
          [
           "11-11-2018 22:15"
          ],
          [
           "11-11-2018 22:30"
          ],
          [
           "11-11-2018 22:45"
          ],
          [
           "11-11-2018 23:00"
          ],
          [
           "11-11-2018 23:15"
          ],
          [
           "11-11-2018 23:30"
          ],
          [
           "11-11-2018 23:45"
          ],
          [
           "11-11-2018 00:00"
          ],
          [
           "12-11-2018 00:15"
          ],
          [
           "12-11-2018 00:30"
          ],
          [
           "12-11-2018 00:45"
          ],
          [
           "12-11-2018 01:00"
          ],
          [
           "12-11-2018 01:15"
          ],
          [
           "12-11-2018 01:30"
          ],
          [
           "12-11-2018 01:45"
          ],
          [
           "12-11-2018 02:00"
          ],
          [
           "12-11-2018 02:15"
          ],
          [
           "12-11-2018 02:30"
          ],
          [
           "12-11-2018 02:45"
          ],
          [
           "12-11-2018 03:00"
          ],
          [
           "12-11-2018 03:15"
          ],
          [
           "12-11-2018 03:30"
          ],
          [
           "12-11-2018 03:45"
          ],
          [
           "12-11-2018 04:00"
          ],
          [
           "12-11-2018 04:15"
          ],
          [
           "12-11-2018 04:30"
          ],
          [
           "12-11-2018 04:45"
          ],
          [
           "12-11-2018 05:00"
          ],
          [
           "12-11-2018 05:15"
          ],
          [
           "12-11-2018 05:30"
          ],
          [
           "12-11-2018 05:45"
          ],
          [
           "12-11-2018 06:00"
          ],
          [
           "12-11-2018 06:15"
          ],
          [
           "12-11-2018 06:30"
          ],
          [
           "12-11-2018 06:45"
          ],
          [
           "12-11-2018 07:00"
          ],
          [
           "12-11-2018 07:15"
          ],
          [
           "12-11-2018 07:30"
          ],
          [
           "12-11-2018 07:45"
          ],
          [
           "12-11-2018 08:00"
          ],
          [
           "12-11-2018 08:15"
          ],
          [
           "12-11-2018 08:30"
          ],
          [
           "12-11-2018 08:45"
          ],
          [
           "12-11-2018 09:00"
          ],
          [
           "12-11-2018 23:15"
          ],
          [
           "12-11-2018 23:30"
          ],
          [
           "12-11-2018 23:45"
          ],
          [
           "12-11-2018 00:00"
          ],
          [
           "13-11-2018 00:15"
          ],
          [
           "13-11-2018 00:30"
          ],
          [
           "13-11-2018 00:45"
          ],
          [
           "13-11-2018 01:00"
          ],
          [
           "13-11-2018 01:15"
          ],
          [
           "13-11-2018 01:30"
          ],
          [
           "13-11-2018 01:45"
          ],
          [
           "13-11-2018 02:00"
          ],
          [
           "13-11-2018 02:15"
          ],
          [
           "13-11-2018 02:30"
          ],
          [
           "13-11-2018 02:45"
          ],
          [
           "13-11-2018 03:00"
          ],
          [
           "13-11-2018 03:15"
          ],
          [
           "13-11-2018 03:30"
          ],
          [
           "13-11-2018 03:45"
          ],
          [
           "13-11-2018 04:00"
          ],
          [
           "13-11-2018 04:15"
          ],
          [
           "13-11-2018 04:30"
          ],
          [
           "13-11-2018 04:45"
          ],
          [
           "13-11-2018 05:00"
          ],
          [
           "13-11-2018 05:15"
          ],
          [
           "13-11-2018 05:30"
          ],
          [
           "13-11-2018 05:45"
          ],
          [
           "13-11-2018 06:00"
          ],
          [
           "13-11-2018 06:15"
          ],
          [
           "13-11-2018 06:30"
          ],
          [
           "13-11-2018 06:45"
          ],
          [
           "13-11-2018 07:00"
          ],
          [
           "13-11-2018 07:15"
          ],
          [
           "13-11-2018 07:30"
          ],
          [
           "13-11-2018 07:45"
          ],
          [
           "13-11-2018 08:00"
          ],
          [
           "13-11-2018 08:15"
          ],
          [
           "13-11-2018 08:30"
          ],
          [
           "13-11-2018 08:45"
          ],
          [
           "13-11-2018 09:00"
          ],
          [
           "13-11-2018 23:15"
          ],
          [
           "13-11-2018 23:30"
          ],
          [
           "13-11-2018 23:45"
          ],
          [
           "13-11-2018 00:00"
          ],
          [
           "14-11-2018 00:15"
          ],
          [
           "14-11-2018 00:30"
          ],
          [
           "14-11-2018 00:45"
          ],
          [
           "14-11-2018 01:00"
          ],
          [
           "14-11-2018 01:15"
          ],
          [
           "14-11-2018 01:30"
          ],
          [
           "14-11-2018 01:45"
          ],
          [
           "14-11-2018 02:00"
          ],
          [
           "14-11-2018 02:15"
          ],
          [
           "14-11-2018 02:30"
          ],
          [
           "14-11-2018 02:45"
          ],
          [
           "14-11-2018 03:00"
          ],
          [
           "14-11-2018 03:15"
          ],
          [
           "14-11-2018 03:30"
          ],
          [
           "14-11-2018 03:45"
          ],
          [
           "14-11-2018 04:00"
          ],
          [
           "14-11-2018 04:15"
          ],
          [
           "14-11-2018 04:30"
          ],
          [
           "14-11-2018 04:45"
          ],
          [
           "14-11-2018 05:00"
          ],
          [
           "14-11-2018 05:15"
          ],
          [
           "14-11-2018 05:30"
          ],
          [
           "14-11-2018 05:45"
          ],
          [
           "14-11-2018 06:00"
          ],
          [
           "14-11-2018 06:15"
          ],
          [
           "14-11-2018 06:30"
          ],
          [
           "14-11-2018 06:45"
          ],
          [
           "14-11-2018 07:00"
          ],
          [
           "14-11-2018 07:15"
          ],
          [
           "14-11-2018 07:30"
          ],
          [
           "14-11-2018 07:45"
          ],
          [
           "14-11-2018 08:00"
          ],
          [
           "14-11-2018 08:15"
          ],
          [
           "14-11-2018 08:30"
          ],
          [
           "14-11-2018 08:45"
          ],
          [
           "14-11-2018 09:00"
          ],
          [
           "14-11-2018 23:15"
          ],
          [
           "14-11-2018 23:30"
          ],
          [
           "14-11-2018 23:45"
          ],
          [
           "14-11-2018 00:00"
          ],
          [
           "15-11-2018 00:15"
          ],
          [
           "15-11-2018 00:30"
          ],
          [
           "15-11-2018 00:45"
          ],
          [
           "15-11-2018 01:00"
          ],
          [
           "15-11-2018 01:15"
          ],
          [
           "15-11-2018 01:30"
          ],
          [
           "15-11-2018 01:45"
          ],
          [
           "15-11-2018 02:00"
          ],
          [
           "15-11-2018 02:15"
          ],
          [
           "15-11-2018 02:30"
          ],
          [
           "15-11-2018 02:45"
          ],
          [
           "15-11-2018 03:00"
          ],
          [
           "15-11-2018 03:15"
          ],
          [
           "15-11-2018 03:30"
          ],
          [
           "15-11-2018 03:45"
          ],
          [
           "15-11-2018 04:00"
          ],
          [
           "15-11-2018 04:15"
          ],
          [
           "15-11-2018 04:30"
          ],
          [
           "15-11-2018 04:45"
          ],
          [
           "15-11-2018 05:00"
          ],
          [
           "15-11-2018 05:15"
          ],
          [
           "15-11-2018 05:30"
          ],
          [
           "15-11-2018 05:45"
          ],
          [
           "15-11-2018 06:00"
          ],
          [
           "15-11-2018 06:15"
          ],
          [
           "15-11-2018 06:30"
          ],
          [
           "15-11-2018 06:45"
          ],
          [
           "15-11-2018 07:00"
          ],
          [
           "15-11-2018 07:15"
          ],
          [
           "15-11-2018 07:30"
          ],
          [
           "15-11-2018 07:45"
          ],
          [
           "15-11-2018 08:00"
          ],
          [
           "15-11-2018 08:15"
          ],
          [
           "15-11-2018 08:30"
          ],
          [
           "15-11-2018 08:45"
          ],
          [
           "15-11-2018 09:00"
          ],
          [
           "15-11-2018 23:15"
          ],
          [
           "15-11-2018 23:30"
          ],
          [
           "15-11-2018 23:45"
          ],
          [
           "15-11-2018 00:00"
          ],
          [
           "16-11-2018 00:15"
          ],
          [
           "16-11-2018 00:30"
          ],
          [
           "16-11-2018 00:45"
          ],
          [
           "16-11-2018 01:00"
          ],
          [
           "16-11-2018 01:15"
          ],
          [
           "16-11-2018 01:30"
          ],
          [
           "16-11-2018 01:45"
          ],
          [
           "16-11-2018 02:00"
          ],
          [
           "16-11-2018 02:15"
          ],
          [
           "16-11-2018 02:30"
          ],
          [
           "16-11-2018 02:45"
          ],
          [
           "16-11-2018 03:00"
          ],
          [
           "16-11-2018 03:15"
          ],
          [
           "16-11-2018 03:30"
          ],
          [
           "16-11-2018 03:45"
          ],
          [
           "16-11-2018 04:00"
          ],
          [
           "16-11-2018 04:15"
          ],
          [
           "16-11-2018 04:30"
          ],
          [
           "16-11-2018 04:45"
          ],
          [
           "16-11-2018 05:00"
          ],
          [
           "16-11-2018 05:15"
          ],
          [
           "16-11-2018 05:30"
          ],
          [
           "16-11-2018 05:45"
          ],
          [
           "16-11-2018 06:00"
          ],
          [
           "16-11-2018 06:15"
          ],
          [
           "16-11-2018 06:30"
          ],
          [
           "16-11-2018 06:45"
          ],
          [
           "16-11-2018 07:00"
          ],
          [
           "16-11-2018 07:15"
          ],
          [
           "16-11-2018 07:30"
          ],
          [
           "16-11-2018 07:45"
          ],
          [
           "16-11-2018 08:00"
          ],
          [
           "16-11-2018 08:15"
          ],
          [
           "16-11-2018 08:30"
          ],
          [
           "16-11-2018 08:45"
          ],
          [
           "16-11-2018 09:00"
          ],
          [
           "16-11-2018 23:15"
          ],
          [
           "16-11-2018 23:30"
          ],
          [
           "16-11-2018 23:45"
          ],
          [
           "16-11-2018 00:00"
          ],
          [
           "17-11-2018 00:15"
          ],
          [
           "17-11-2018 00:30"
          ],
          [
           "17-11-2018 00:45"
          ],
          [
           "17-11-2018 01:00"
          ],
          [
           "17-11-2018 01:15"
          ],
          [
           "17-11-2018 01:30"
          ],
          [
           "17-11-2018 01:45"
          ],
          [
           "17-11-2018 02:00"
          ],
          [
           "17-11-2018 02:15"
          ],
          [
           "17-11-2018 02:30"
          ],
          [
           "17-11-2018 02:45"
          ],
          [
           "17-11-2018 03:00"
          ],
          [
           "17-11-2018 03:15"
          ],
          [
           "17-11-2018 03:30"
          ],
          [
           "17-11-2018 03:45"
          ],
          [
           "17-11-2018 04:00"
          ],
          [
           "17-11-2018 04:15"
          ],
          [
           "17-11-2018 04:30"
          ],
          [
           "17-11-2018 04:45"
          ],
          [
           "17-11-2018 05:00"
          ],
          [
           "17-11-2018 05:15"
          ],
          [
           "17-11-2018 05:30"
          ],
          [
           "17-11-2018 05:45"
          ],
          [
           "17-11-2018 06:00"
          ],
          [
           "17-11-2018 06:15"
          ],
          [
           "17-11-2018 06:30"
          ],
          [
           "17-11-2018 06:45"
          ],
          [
           "17-11-2018 07:00"
          ],
          [
           "17-11-2018 07:15"
          ],
          [
           "17-11-2018 07:30"
          ],
          [
           "17-11-2018 07:45"
          ],
          [
           "17-11-2018 08:00"
          ],
          [
           "17-11-2018 08:15"
          ],
          [
           "17-11-2018 08:30"
          ],
          [
           "17-11-2018 08:45"
          ],
          [
           "17-11-2018 09:00"
          ],
          [
           "17-11-2018 23:15"
          ],
          [
           "17-11-2018 23:30"
          ],
          [
           "17-11-2018 23:45"
          ],
          [
           "17-11-2018 00:00"
          ],
          [
           "18-11-2018 00:15"
          ],
          [
           "18-11-2018 00:30"
          ],
          [
           "18-11-2018 00:45"
          ],
          [
           "18-11-2018 01:00"
          ],
          [
           "18-11-2018 01:15"
          ],
          [
           "18-11-2018 01:30"
          ],
          [
           "18-11-2018 01:45"
          ],
          [
           "18-11-2018 02:00"
          ],
          [
           "18-11-2018 02:15"
          ],
          [
           "18-11-2018 02:30"
          ],
          [
           "18-11-2018 02:45"
          ],
          [
           "18-11-2018 03:00"
          ],
          [
           "18-11-2018 03:15"
          ],
          [
           "18-11-2018 03:30"
          ],
          [
           "18-11-2018 03:45"
          ],
          [
           "18-11-2018 04:00"
          ],
          [
           "18-11-2018 04:15"
          ],
          [
           "18-11-2018 04:30"
          ],
          [
           "18-11-2018 04:45"
          ],
          [
           "18-11-2018 05:00"
          ],
          [
           "18-11-2018 05:15"
          ],
          [
           "18-11-2018 05:30"
          ],
          [
           "18-11-2018 05:45"
          ],
          [
           "18-11-2018 06:00"
          ],
          [
           "18-11-2018 06:15"
          ],
          [
           "18-11-2018 06:30"
          ],
          [
           "18-11-2018 06:45"
          ],
          [
           "18-11-2018 07:00"
          ],
          [
           "18-11-2018 07:15"
          ],
          [
           "18-11-2018 07:30"
          ],
          [
           "18-11-2018 07:45"
          ],
          [
           "18-11-2018 08:00"
          ],
          [
           "18-11-2018 08:15"
          ],
          [
           "18-11-2018 08:30"
          ],
          [
           "18-11-2018 08:45"
          ],
          [
           "18-11-2018 09:00"
          ],
          [
           "18-11-2018 23:15"
          ],
          [
           "18-11-2018 23:30"
          ],
          [
           "18-11-2018 23:45"
          ],
          [
           "18-11-2018 00:00"
          ],
          [
           "19-11-2018 00:15"
          ],
          [
           "19-11-2018 00:30"
          ],
          [
           "19-11-2018 00:45"
          ],
          [
           "19-11-2018 01:00"
          ],
          [
           "19-11-2018 01:15"
          ],
          [
           "19-11-2018 01:30"
          ],
          [
           "19-11-2018 01:45"
          ],
          [
           "19-11-2018 02:00"
          ],
          [
           "19-11-2018 02:15"
          ],
          [
           "19-11-2018 02:30"
          ],
          [
           "19-11-2018 02:45"
          ],
          [
           "19-11-2018 03:00"
          ],
          [
           "19-11-2018 03:15"
          ],
          [
           "19-11-2018 03:30"
          ],
          [
           "19-11-2018 03:45"
          ],
          [
           "19-11-2018 04:00"
          ],
          [
           "19-11-2018 04:15"
          ],
          [
           "19-11-2018 04:30"
          ],
          [
           "19-11-2018 04:45"
          ],
          [
           "19-11-2018 05:00"
          ],
          [
           "19-11-2018 05:15"
          ],
          [
           "19-11-2018 05:30"
          ],
          [
           "19-11-2018 05:45"
          ],
          [
           "19-11-2018 06:00"
          ],
          [
           "19-11-2018 06:15"
          ],
          [
           "19-11-2018 06:30"
          ],
          [
           "19-11-2018 06:45"
          ],
          [
           "19-11-2018 07:00"
          ],
          [
           "19-11-2018 07:15"
          ],
          [
           "19-11-2018 07:30"
          ],
          [
           "19-11-2018 07:45"
          ],
          [
           "19-11-2018 08:00"
          ],
          [
           "19-11-2018 08:15"
          ],
          [
           "19-11-2018 08:30"
          ],
          [
           "19-11-2018 08:45"
          ],
          [
           "19-11-2018 09:00"
          ],
          [
           "19-11-2018 23:15"
          ],
          [
           "19-11-2018 23:30"
          ],
          [
           "19-11-2018 23:45"
          ],
          [
           "19-11-2018 00:00"
          ],
          [
           "20-11-2018 00:15"
          ],
          [
           "20-11-2018 00:30"
          ],
          [
           "20-11-2018 00:45"
          ],
          [
           "20-11-2018 01:00"
          ],
          [
           "20-11-2018 01:15"
          ],
          [
           "20-11-2018 01:30"
          ],
          [
           "20-11-2018 01:45"
          ],
          [
           "20-11-2018 02:00"
          ],
          [
           "20-11-2018 02:15"
          ],
          [
           "20-11-2018 02:30"
          ],
          [
           "20-11-2018 02:45"
          ],
          [
           "20-11-2018 03:00"
          ],
          [
           "20-11-2018 03:15"
          ],
          [
           "20-11-2018 03:30"
          ],
          [
           "20-11-2018 03:45"
          ],
          [
           "20-11-2018 04:00"
          ],
          [
           "20-11-2018 04:15"
          ],
          [
           "20-11-2018 04:30"
          ],
          [
           "20-11-2018 04:45"
          ],
          [
           "20-11-2018 05:00"
          ],
          [
           "20-11-2018 05:15"
          ],
          [
           "20-11-2018 05:30"
          ],
          [
           "20-11-2018 05:45"
          ],
          [
           "20-11-2018 06:00"
          ],
          [
           "20-11-2018 06:15"
          ],
          [
           "20-11-2018 06:30"
          ],
          [
           "20-11-2018 06:45"
          ],
          [
           "20-11-2018 07:00"
          ],
          [
           "20-11-2018 07:15"
          ],
          [
           "20-11-2018 07:30"
          ],
          [
           "20-11-2018 07:45"
          ],
          [
           "20-11-2018 08:00"
          ],
          [
           "20-11-2018 08:15"
          ],
          [
           "20-11-2018 08:30"
          ],
          [
           "20-11-2018 08:45"
          ],
          [
           "20-11-2018 09:00"
          ],
          [
           "20-11-2018 23:15"
          ],
          [
           "20-11-2018 23:30"
          ],
          [
           "20-11-2018 23:45"
          ],
          [
           "20-11-2018 00:00"
          ],
          [
           "21-11-2018 00:15"
          ],
          [
           "21-11-2018 00:30"
          ],
          [
           "21-11-2018 00:45"
          ],
          [
           "21-11-2018 01:00"
          ],
          [
           "21-11-2018 01:15"
          ],
          [
           "21-11-2018 01:30"
          ],
          [
           "21-11-2018 01:45"
          ],
          [
           "21-11-2018 02:00"
          ],
          [
           "21-11-2018 02:15"
          ],
          [
           "21-11-2018 02:30"
          ],
          [
           "21-11-2018 02:45"
          ],
          [
           "21-11-2018 03:00"
          ],
          [
           "21-11-2018 03:15"
          ],
          [
           "21-11-2018 03:30"
          ],
          [
           "21-11-2018 03:45"
          ],
          [
           "21-11-2018 04:00"
          ],
          [
           "21-11-2018 04:15"
          ],
          [
           "21-11-2018 04:30"
          ],
          [
           "21-11-2018 04:45"
          ],
          [
           "21-11-2018 05:00"
          ],
          [
           "21-11-2018 05:15"
          ],
          [
           "21-11-2018 05:30"
          ],
          [
           "21-11-2018 05:45"
          ],
          [
           "21-11-2018 06:00"
          ],
          [
           "21-11-2018 06:15"
          ],
          [
           "21-11-2018 06:30"
          ],
          [
           "21-11-2018 06:45"
          ],
          [
           "21-11-2018 07:00"
          ],
          [
           "21-11-2018 07:15"
          ],
          [
           "21-11-2018 07:30"
          ],
          [
           "21-11-2018 07:45"
          ],
          [
           "21-11-2018 08:00"
          ],
          [
           "21-11-2018 08:15"
          ],
          [
           "21-11-2018 08:30"
          ],
          [
           "21-11-2018 08:45"
          ],
          [
           "21-11-2018 09:00"
          ],
          [
           "21-11-2018 23:15"
          ],
          [
           "21-11-2018 23:30"
          ],
          [
           "21-11-2018 23:45"
          ],
          [
           "21-11-2018 00:00"
          ],
          [
           "22-11-2018 00:15"
          ],
          [
           "22-11-2018 00:30"
          ],
          [
           "22-11-2018 00:45"
          ],
          [
           "22-11-2018 01:00"
          ],
          [
           "22-11-2018 01:15"
          ],
          [
           "22-11-2018 01:30"
          ],
          [
           "22-11-2018 01:45"
          ],
          [
           "22-11-2018 02:00"
          ],
          [
           "22-11-2018 02:15"
          ],
          [
           "22-11-2018 02:30"
          ],
          [
           "22-11-2018 02:45"
          ],
          [
           "22-11-2018 03:00"
          ],
          [
           "22-11-2018 03:15"
          ],
          [
           "22-11-2018 03:30"
          ],
          [
           "22-11-2018 03:45"
          ],
          [
           "22-11-2018 04:00"
          ],
          [
           "22-11-2018 04:15"
          ],
          [
           "22-11-2018 04:30"
          ],
          [
           "22-11-2018 04:45"
          ],
          [
           "22-11-2018 05:00"
          ],
          [
           "22-11-2018 05:15"
          ],
          [
           "22-11-2018 05:30"
          ],
          [
           "22-11-2018 05:45"
          ],
          [
           "22-11-2018 06:00"
          ],
          [
           "22-11-2018 06:15"
          ],
          [
           "22-11-2018 06:30"
          ],
          [
           "22-11-2018 06:45"
          ],
          [
           "22-11-2018 07:00"
          ],
          [
           "22-11-2018 07:15"
          ],
          [
           "22-11-2018 07:30"
          ],
          [
           "22-11-2018 07:45"
          ],
          [
           "22-11-2018 08:00"
          ],
          [
           "22-11-2018 08:15"
          ],
          [
           "22-11-2018 08:30"
          ],
          [
           "22-11-2018 08:45"
          ],
          [
           "22-11-2018 09:00"
          ],
          [
           "22-11-2018 23:15"
          ],
          [
           "22-11-2018 23:30"
          ],
          [
           "22-11-2018 23:45"
          ],
          [
           "22-11-2018 00:00"
          ],
          [
           "23-11-2018 00:15"
          ],
          [
           "23-11-2018 00:30"
          ],
          [
           "23-11-2018 00:45"
          ],
          [
           "23-11-2018 01:00"
          ],
          [
           "23-11-2018 01:15"
          ],
          [
           "23-11-2018 01:30"
          ],
          [
           "23-11-2018 01:45"
          ],
          [
           "23-11-2018 02:00"
          ],
          [
           "23-11-2018 02:15"
          ],
          [
           "23-11-2018 02:30"
          ],
          [
           "23-11-2018 02:45"
          ],
          [
           "23-11-2018 03:00"
          ],
          [
           "23-11-2018 03:15"
          ],
          [
           "23-11-2018 03:30"
          ],
          [
           "23-11-2018 03:45"
          ],
          [
           "23-11-2018 04:00"
          ],
          [
           "23-11-2018 04:15"
          ],
          [
           "23-11-2018 04:30"
          ],
          [
           "23-11-2018 04:45"
          ],
          [
           "23-11-2018 05:00"
          ],
          [
           "23-11-2018 05:15"
          ],
          [
           "23-11-2018 05:30"
          ],
          [
           "23-11-2018 05:45"
          ],
          [
           "23-11-2018 06:00"
          ],
          [
           "23-11-2018 06:15"
          ],
          [
           "23-11-2018 06:30"
          ],
          [
           "23-11-2018 06:45"
          ],
          [
           "23-11-2018 07:00"
          ],
          [
           "23-11-2018 07:15"
          ],
          [
           "23-11-2018 07:30"
          ],
          [
           "23-11-2018 07:45"
          ],
          [
           "23-11-2018 08:00"
          ],
          [
           "23-11-2018 08:15"
          ],
          [
           "23-11-2018 08:30"
          ],
          [
           "23-11-2018 08:45"
          ],
          [
           "23-11-2018 09:00"
          ],
          [
           "23-11-2018 23:15"
          ],
          [
           "23-11-2018 23:30"
          ],
          [
           "23-11-2018 23:45"
          ],
          [
           "23-11-2018 00:00"
          ],
          [
           "24-11-2018 00:15"
          ],
          [
           "24-11-2018 00:30"
          ],
          [
           "24-11-2018 00:45"
          ],
          [
           "24-11-2018 01:00"
          ],
          [
           "24-11-2018 01:15"
          ],
          [
           "24-11-2018 01:30"
          ],
          [
           "24-11-2018 01:45"
          ],
          [
           "24-11-2018 02:00"
          ],
          [
           "24-11-2018 02:15"
          ],
          [
           "24-11-2018 02:30"
          ],
          [
           "24-11-2018 02:45"
          ],
          [
           "24-11-2018 03:00"
          ],
          [
           "24-11-2018 03:15"
          ],
          [
           "24-11-2018 03:30"
          ],
          [
           "24-11-2018 03:45"
          ],
          [
           "24-11-2018 04:00"
          ],
          [
           "24-11-2018 04:15"
          ],
          [
           "24-11-2018 04:30"
          ],
          [
           "24-11-2018 04:45"
          ],
          [
           "24-11-2018 05:00"
          ],
          [
           "24-11-2018 05:15"
          ],
          [
           "24-11-2018 05:30"
          ],
          [
           "24-11-2018 05:45"
          ],
          [
           "24-11-2018 06:00"
          ],
          [
           "24-11-2018 06:15"
          ],
          [
           "24-11-2018 06:30"
          ],
          [
           "24-11-2018 06:45"
          ],
          [
           "24-11-2018 07:00"
          ],
          [
           "24-11-2018 07:15"
          ],
          [
           "24-11-2018 07:30"
          ],
          [
           "24-11-2018 07:45"
          ],
          [
           "24-11-2018 08:00"
          ],
          [
           "24-11-2018 08:15"
          ],
          [
           "24-11-2018 08:30"
          ],
          [
           "24-11-2018 08:45"
          ],
          [
           "24-11-2018 09:00"
          ],
          [
           "24-11-2018 09:15"
          ],
          [
           "24-11-2018 09:30"
          ],
          [
           "24-11-2018 09:45"
          ],
          [
           "24-11-2018 10:00"
          ],
          [
           "24-11-2018 10:15"
          ],
          [
           "24-11-2018 10:30"
          ],
          [
           "24-11-2018 10:45"
          ],
          [
           "24-11-2018 11:00"
          ],
          [
           "24-11-2018 11:15"
          ],
          [
           "24-11-2018 11:30"
          ],
          [
           "24-11-2018 11:45"
          ],
          [
           "24-11-2018 12:00"
          ],
          [
           "24-11-2018 12:15"
          ],
          [
           "24-11-2018 12:30"
          ],
          [
           "24-11-2018 12:45"
          ],
          [
           "24-11-2018 13:00"
          ],
          [
           "24-11-2018 13:15"
          ],
          [
           "24-11-2018 13:30"
          ],
          [
           "24-11-2018 13:45"
          ],
          [
           "24-11-2018 14:00"
          ],
          [
           "24-11-2018 14:15"
          ],
          [
           "24-11-2018 14:30"
          ],
          [
           "24-11-2018 14:45"
          ],
          [
           "24-11-2018 15:00"
          ],
          [
           "24-11-2018 15:15"
          ],
          [
           "24-11-2018 15:30"
          ],
          [
           "24-11-2018 15:45"
          ],
          [
           "24-11-2018 16:00"
          ],
          [
           "24-11-2018 16:15"
          ],
          [
           "24-11-2018 16:30"
          ],
          [
           "24-11-2018 16:45"
          ],
          [
           "24-11-2018 17:00"
          ],
          [
           "24-11-2018 17:15"
          ],
          [
           "24-11-2018 17:30"
          ],
          [
           "24-11-2018 17:45"
          ],
          [
           "24-11-2018 18:00"
          ],
          [
           "24-11-2018 18:15"
          ],
          [
           "24-11-2018 18:30"
          ],
          [
           "24-11-2018 18:45"
          ],
          [
           "24-11-2018 19:00"
          ],
          [
           "24-11-2018 19:15"
          ],
          [
           "24-11-2018 19:30"
          ],
          [
           "24-11-2018 19:45"
          ],
          [
           "24-11-2018 20:00"
          ],
          [
           "24-11-2018 20:15"
          ],
          [
           "24-11-2018 20:30"
          ],
          [
           "24-11-2018 20:45"
          ],
          [
           "24-11-2018 21:00"
          ],
          [
           "24-11-2018 21:15"
          ],
          [
           "24-11-2018 21:30"
          ],
          [
           "24-11-2018 21:45"
          ],
          [
           "24-11-2018 22:00"
          ],
          [
           "24-11-2018 22:15"
          ],
          [
           "24-11-2018 22:30"
          ],
          [
           "24-11-2018 22:45"
          ],
          [
           "24-11-2018 23:00"
          ],
          [
           "24-11-2018 23:15"
          ],
          [
           "24-11-2018 23:30"
          ],
          [
           "24-11-2018 23:45"
          ],
          [
           "24-11-2018 00:00"
          ],
          [
           "25-11-2018 00:15"
          ],
          [
           "25-11-2018 00:30"
          ],
          [
           "25-11-2018 00:45"
          ],
          [
           "25-11-2018 01:00"
          ],
          [
           "25-11-2018 01:15"
          ],
          [
           "25-11-2018 01:30"
          ],
          [
           "25-11-2018 01:45"
          ],
          [
           "25-11-2018 02:00"
          ],
          [
           "25-11-2018 02:15"
          ],
          [
           "25-11-2018 02:30"
          ],
          [
           "25-11-2018 02:45"
          ],
          [
           "25-11-2018 03:00"
          ],
          [
           "25-11-2018 03:15"
          ],
          [
           "25-11-2018 03:30"
          ],
          [
           "25-11-2018 03:45"
          ],
          [
           "25-11-2018 04:00"
          ],
          [
           "25-11-2018 04:15"
          ],
          [
           "25-11-2018 04:30"
          ],
          [
           "25-11-2018 04:45"
          ],
          [
           "25-11-2018 05:00"
          ],
          [
           "25-11-2018 05:15"
          ],
          [
           "25-11-2018 05:30"
          ],
          [
           "25-11-2018 05:45"
          ],
          [
           "25-11-2018 06:00"
          ],
          [
           "25-11-2018 06:15"
          ],
          [
           "25-11-2018 06:30"
          ],
          [
           "25-11-2018 06:45"
          ],
          [
           "25-11-2018 07:00"
          ],
          [
           "25-11-2018 07:15"
          ],
          [
           "25-11-2018 07:30"
          ],
          [
           "25-11-2018 07:45"
          ],
          [
           "25-11-2018 08:00"
          ],
          [
           "25-11-2018 08:15"
          ],
          [
           "25-11-2018 08:30"
          ],
          [
           "25-11-2018 08:45"
          ],
          [
           "25-11-2018 09:00"
          ],
          [
           "25-11-2018 09:15"
          ],
          [
           "25-11-2018 09:30"
          ],
          [
           "25-11-2018 09:45"
          ],
          [
           "25-11-2018 10:00"
          ],
          [
           "25-11-2018 10:15"
          ],
          [
           "25-11-2018 10:30"
          ],
          [
           "25-11-2018 10:45"
          ],
          [
           "25-11-2018 11:00"
          ],
          [
           "25-11-2018 11:15"
          ],
          [
           "25-11-2018 11:30"
          ],
          [
           "25-11-2018 11:45"
          ],
          [
           "25-11-2018 12:00"
          ],
          [
           "25-11-2018 12:15"
          ],
          [
           "25-11-2018 12:30"
          ],
          [
           "25-11-2018 12:45"
          ],
          [
           "25-11-2018 13:00"
          ],
          [
           "25-11-2018 13:15"
          ],
          [
           "25-11-2018 13:30"
          ],
          [
           "25-11-2018 13:45"
          ],
          [
           "25-11-2018 14:00"
          ],
          [
           "25-11-2018 14:15"
          ],
          [
           "25-11-2018 14:30"
          ],
          [
           "25-11-2018 14:45"
          ],
          [
           "25-11-2018 15:00"
          ],
          [
           "25-11-2018 15:15"
          ],
          [
           "25-11-2018 15:30"
          ],
          [
           "25-11-2018 15:45"
          ],
          [
           "25-11-2018 16:00"
          ],
          [
           "25-11-2018 16:15"
          ],
          [
           "25-11-2018 16:30"
          ],
          [
           "25-11-2018 16:45"
          ],
          [
           "25-11-2018 17:00"
          ],
          [
           "25-11-2018 17:15"
          ],
          [
           "25-11-2018 17:30"
          ],
          [
           "25-11-2018 17:45"
          ],
          [
           "25-11-2018 18:00"
          ],
          [
           "25-11-2018 18:15"
          ],
          [
           "25-11-2018 18:30"
          ],
          [
           "25-11-2018 18:45"
          ],
          [
           "25-11-2018 19:00"
          ],
          [
           "25-11-2018 19:15"
          ],
          [
           "25-11-2018 19:30"
          ],
          [
           "25-11-2018 19:45"
          ],
          [
           "25-11-2018 20:00"
          ],
          [
           "25-11-2018 20:15"
          ],
          [
           "25-11-2018 20:30"
          ],
          [
           "25-11-2018 20:45"
          ],
          [
           "25-11-2018 21:00"
          ],
          [
           "25-11-2018 21:15"
          ],
          [
           "25-11-2018 21:30"
          ],
          [
           "25-11-2018 21:45"
          ],
          [
           "25-11-2018 22:00"
          ],
          [
           "25-11-2018 22:15"
          ],
          [
           "25-11-2018 22:30"
          ],
          [
           "25-11-2018 22:45"
          ],
          [
           "25-11-2018 23:00"
          ],
          [
           "25-11-2018 23:15"
          ],
          [
           "25-11-2018 23:30"
          ],
          [
           "25-11-2018 23:45"
          ],
          [
           "25-11-2018 00:00"
          ],
          [
           "26-11-2018 00:15"
          ],
          [
           "26-11-2018 00:30"
          ],
          [
           "26-11-2018 00:45"
          ],
          [
           "26-11-2018 01:00"
          ],
          [
           "26-11-2018 01:15"
          ],
          [
           "26-11-2018 01:30"
          ],
          [
           "26-11-2018 01:45"
          ],
          [
           "26-11-2018 02:00"
          ],
          [
           "26-11-2018 02:15"
          ],
          [
           "26-11-2018 02:30"
          ],
          [
           "26-11-2018 02:45"
          ],
          [
           "26-11-2018 03:00"
          ],
          [
           "26-11-2018 03:15"
          ],
          [
           "26-11-2018 03:30"
          ],
          [
           "26-11-2018 03:45"
          ],
          [
           "26-11-2018 04:00"
          ],
          [
           "26-11-2018 04:15"
          ],
          [
           "26-11-2018 04:30"
          ],
          [
           "26-11-2018 04:45"
          ],
          [
           "26-11-2018 05:00"
          ],
          [
           "26-11-2018 05:15"
          ],
          [
           "26-11-2018 05:30"
          ],
          [
           "26-11-2018 05:45"
          ],
          [
           "26-11-2018 06:00"
          ],
          [
           "26-11-2018 06:15"
          ],
          [
           "26-11-2018 06:30"
          ],
          [
           "26-11-2018 06:45"
          ],
          [
           "26-11-2018 07:00"
          ],
          [
           "26-11-2018 07:15"
          ],
          [
           "26-11-2018 07:30"
          ],
          [
           "26-11-2018 07:45"
          ],
          [
           "26-11-2018 08:00"
          ],
          [
           "26-11-2018 08:15"
          ],
          [
           "26-11-2018 08:30"
          ],
          [
           "26-11-2018 08:45"
          ],
          [
           "26-11-2018 09:00"
          ],
          [
           "26-11-2018 23:15"
          ],
          [
           "26-11-2018 23:30"
          ],
          [
           "26-11-2018 23:45"
          ],
          [
           "26-11-2018 00:00"
          ],
          [
           "27-11-2018 00:15"
          ],
          [
           "27-11-2018 00:30"
          ],
          [
           "27-11-2018 00:45"
          ],
          [
           "27-11-2018 01:00"
          ],
          [
           "27-11-2018 01:15"
          ],
          [
           "27-11-2018 01:30"
          ],
          [
           "27-11-2018 01:45"
          ],
          [
           "27-11-2018 02:00"
          ],
          [
           "27-11-2018 02:15"
          ],
          [
           "27-11-2018 02:30"
          ],
          [
           "27-11-2018 02:45"
          ],
          [
           "27-11-2018 03:00"
          ],
          [
           "27-11-2018 03:15"
          ],
          [
           "27-11-2018 03:30"
          ],
          [
           "27-11-2018 03:45"
          ],
          [
           "27-11-2018 04:00"
          ],
          [
           "27-11-2018 04:15"
          ],
          [
           "27-11-2018 04:30"
          ],
          [
           "27-11-2018 04:45"
          ],
          [
           "27-11-2018 05:00"
          ],
          [
           "27-11-2018 05:15"
          ],
          [
           "27-11-2018 05:30"
          ],
          [
           "27-11-2018 05:45"
          ],
          [
           "27-11-2018 06:00"
          ],
          [
           "27-11-2018 06:15"
          ],
          [
           "27-11-2018 06:30"
          ],
          [
           "27-11-2018 06:45"
          ],
          [
           "27-11-2018 07:00"
          ],
          [
           "27-11-2018 07:15"
          ],
          [
           "27-11-2018 07:30"
          ],
          [
           "27-11-2018 07:45"
          ],
          [
           "27-11-2018 08:00"
          ],
          [
           "27-11-2018 08:15"
          ],
          [
           "27-11-2018 08:30"
          ],
          [
           "27-11-2018 08:45"
          ],
          [
           "27-11-2018 09:00"
          ],
          [
           "27-11-2018 23:15"
          ],
          [
           "27-11-2018 23:30"
          ],
          [
           "27-11-2018 23:45"
          ],
          [
           "27-11-2018 00:00"
          ],
          [
           "28-11-2018 00:15"
          ],
          [
           "28-11-2018 00:30"
          ],
          [
           "28-11-2018 00:45"
          ],
          [
           "28-11-2018 01:00"
          ],
          [
           "28-11-2018 01:15"
          ],
          [
           "28-11-2018 01:30"
          ],
          [
           "28-11-2018 01:45"
          ],
          [
           "28-11-2018 02:00"
          ],
          [
           "28-11-2018 02:15"
          ],
          [
           "28-11-2018 02:30"
          ],
          [
           "28-11-2018 02:45"
          ],
          [
           "28-11-2018 03:00"
          ],
          [
           "28-11-2018 03:15"
          ],
          [
           "28-11-2018 03:30"
          ],
          [
           "28-11-2018 03:45"
          ],
          [
           "28-11-2018 04:00"
          ],
          [
           "28-11-2018 04:15"
          ],
          [
           "28-11-2018 04:30"
          ],
          [
           "28-11-2018 04:45"
          ],
          [
           "28-11-2018 05:00"
          ],
          [
           "28-11-2018 05:15"
          ],
          [
           "28-11-2018 05:30"
          ],
          [
           "28-11-2018 05:45"
          ],
          [
           "28-11-2018 06:00"
          ],
          [
           "28-11-2018 06:15"
          ],
          [
           "28-11-2018 06:30"
          ],
          [
           "28-11-2018 06:45"
          ],
          [
           "28-11-2018 07:00"
          ],
          [
           "28-11-2018 07:15"
          ],
          [
           "28-11-2018 07:30"
          ],
          [
           "28-11-2018 07:45"
          ],
          [
           "28-11-2018 08:00"
          ],
          [
           "28-11-2018 08:15"
          ],
          [
           "28-11-2018 08:30"
          ],
          [
           "28-11-2018 08:45"
          ],
          [
           "28-11-2018 09:00"
          ],
          [
           "28-11-2018 23:15"
          ],
          [
           "28-11-2018 23:30"
          ],
          [
           "28-11-2018 23:45"
          ],
          [
           "28-11-2018 00:00"
          ],
          [
           "29-11-2018 00:15"
          ],
          [
           "29-11-2018 00:30"
          ],
          [
           "29-11-2018 00:45"
          ],
          [
           "29-11-2018 01:00"
          ],
          [
           "29-11-2018 01:15"
          ],
          [
           "29-11-2018 01:30"
          ],
          [
           "29-11-2018 01:45"
          ],
          [
           "29-11-2018 02:00"
          ],
          [
           "29-11-2018 02:15"
          ],
          [
           "29-11-2018 02:30"
          ],
          [
           "29-11-2018 02:45"
          ],
          [
           "29-11-2018 03:00"
          ],
          [
           "29-11-2018 03:15"
          ],
          [
           "29-11-2018 03:30"
          ],
          [
           "29-11-2018 03:45"
          ],
          [
           "29-11-2018 04:00"
          ],
          [
           "29-11-2018 04:15"
          ],
          [
           "29-11-2018 04:30"
          ],
          [
           "29-11-2018 04:45"
          ],
          [
           "29-11-2018 05:00"
          ],
          [
           "29-11-2018 05:15"
          ],
          [
           "29-11-2018 05:30"
          ],
          [
           "29-11-2018 05:45"
          ],
          [
           "29-11-2018 06:00"
          ],
          [
           "29-11-2018 06:15"
          ],
          [
           "29-11-2018 06:30"
          ],
          [
           "29-11-2018 06:45"
          ],
          [
           "29-11-2018 07:00"
          ],
          [
           "29-11-2018 07:15"
          ],
          [
           "29-11-2018 07:30"
          ],
          [
           "29-11-2018 07:45"
          ],
          [
           "29-11-2018 08:00"
          ],
          [
           "29-11-2018 08:15"
          ],
          [
           "29-11-2018 08:30"
          ],
          [
           "29-11-2018 08:45"
          ],
          [
           "29-11-2018 09:00"
          ],
          [
           "29-11-2018 23:15"
          ],
          [
           "29-11-2018 23:30"
          ],
          [
           "29-11-2018 23:45"
          ],
          [
           "29-11-2018 00:00"
          ],
          [
           "30-11-2018 00:15"
          ],
          [
           "30-11-2018 00:30"
          ],
          [
           "30-11-2018 00:45"
          ],
          [
           "30-11-2018 01:00"
          ],
          [
           "30-11-2018 01:15"
          ],
          [
           "30-11-2018 01:30"
          ],
          [
           "30-11-2018 01:45"
          ],
          [
           "30-11-2018 02:00"
          ],
          [
           "30-11-2018 02:15"
          ],
          [
           "30-11-2018 02:30"
          ],
          [
           "30-11-2018 02:45"
          ],
          [
           "30-11-2018 03:00"
          ],
          [
           "30-11-2018 03:15"
          ],
          [
           "30-11-2018 03:30"
          ],
          [
           "30-11-2018 03:45"
          ],
          [
           "30-11-2018 04:00"
          ],
          [
           "30-11-2018 04:15"
          ],
          [
           "30-11-2018 04:30"
          ],
          [
           "30-11-2018 04:45"
          ],
          [
           "30-11-2018 05:00"
          ],
          [
           "30-11-2018 05:15"
          ],
          [
           "30-11-2018 05:30"
          ],
          [
           "30-11-2018 05:45"
          ],
          [
           "30-11-2018 06:00"
          ],
          [
           "30-11-2018 06:15"
          ],
          [
           "30-11-2018 06:30"
          ],
          [
           "30-11-2018 06:45"
          ],
          [
           "30-11-2018 07:00"
          ],
          [
           "30-11-2018 07:15"
          ],
          [
           "30-11-2018 07:30"
          ],
          [
           "30-11-2018 07:45"
          ],
          [
           "30-11-2018 08:00"
          ],
          [
           "30-11-2018 08:15"
          ],
          [
           "30-11-2018 08:30"
          ],
          [
           "30-11-2018 08:45"
          ],
          [
           "30-11-2018 09:00"
          ],
          [
           "30-11-2018 23:15"
          ],
          [
           "30-11-2018 23:30"
          ],
          [
           "30-11-2018 23:45"
          ],
          [
           "30-11-2018 00:00"
          ]
         ],
         "hovertemplate": "Load_Type=Light_Load<br>NSM_calculated=%{x}<br>y=%{y}<br>Date_Time=%{customdata[0]}<extra></extra>",
         "legendgroup": "Light_Load",
         "marker": {
          "color": "#636efa",
          "symbol": "circle"
         },
         "mode": "markers",
         "name": "Light_Load",
         "showlegend": true,
         "type": "scattergl",
         "x": [
          18000,
          18900,
          19800,
          20700,
          21600,
          22500,
          23400,
          24300,
          25200,
          26100,
          27000,
          27900,
          28800,
          29700,
          30600,
          31500,
          32400,
          33300,
          34200,
          35100,
          36000,
          36900,
          37800,
          38700,
          39600,
          40500,
          41400,
          42300,
          43200,
          44100,
          45000,
          45900,
          46800,
          47700,
          48600,
          49500,
          50400,
          51300,
          52200,
          53100,
          54000,
          54900,
          55800,
          56700,
          57600,
          58500,
          59400,
          60300,
          61200,
          62100,
          63000,
          63900,
          64800,
          65700,
          66600,
          67500,
          68400,
          69300,
          70200,
          71100,
          72000,
          72900,
          73800,
          74700,
          75600,
          76500,
          77400,
          78300,
          79200,
          80100,
          81000,
          81900,
          82800,
          83700,
          84600,
          85500,
          0,
          900,
          1800,
          2700,
          3600,
          4500,
          5400,
          6300,
          7200,
          8100,
          9000,
          9900,
          10800,
          11700,
          12600,
          13500,
          14400,
          15300,
          16200,
          17100,
          18000,
          18900,
          19800,
          20700,
          21600,
          22500,
          23400,
          24300,
          25200,
          26100,
          27000,
          27900,
          28800,
          29700,
          30600,
          31500,
          32400,
          33300,
          34200,
          35100,
          36000,
          36900,
          37800,
          38700,
          39600,
          40500,
          41400,
          42300,
          43200,
          44100,
          45000,
          45900,
          46800,
          47700,
          48600,
          49500,
          50400,
          51300,
          52200,
          53100,
          54000,
          54900,
          55800,
          56700,
          57600,
          58500,
          59400,
          60300,
          61200,
          62100,
          63000,
          63900,
          64800,
          65700,
          66600,
          67500,
          68400,
          69300,
          70200,
          71100,
          72000,
          72900,
          73800,
          74700,
          75600,
          76500,
          77400,
          78300,
          79200,
          80100,
          81000,
          81900,
          82800,
          83700,
          84600,
          85500,
          0,
          900,
          1800,
          2700,
          3600,
          4500,
          5400,
          6300,
          7200,
          8100,
          9000,
          9900,
          10800,
          11700,
          12600,
          13500,
          14400,
          15300,
          16200,
          17100,
          18000,
          18900,
          19800,
          20700,
          21600,
          22500,
          23400,
          24300,
          25200,
          26100,
          27000,
          27900,
          28800,
          29700,
          30600,
          31500,
          32400,
          83700,
          84600,
          85500,
          0,
          900,
          1800,
          2700,
          3600,
          4500,
          5400,
          6300,
          7200,
          8100,
          9000,
          9900,
          10800,
          11700,
          12600,
          13500,
          14400,
          15300,
          16200,
          17100,
          18000,
          18900,
          19800,
          20700,
          21600,
          22500,
          23400,
          24300,
          25200,
          26100,
          27000,
          27900,
          28800,
          29700,
          30600,
          31500,
          32400,
          83700,
          84600,
          85500,
          0,
          900,
          1800,
          2700,
          3600,
          4500,
          5400,
          6300,
          7200,
          8100,
          9000,
          9900,
          10800,
          11700,
          12600,
          13500,
          14400,
          15300,
          16200,
          17100,
          18000,
          18900,
          19800,
          20700,
          21600,
          22500,
          23400,
          24300,
          25200,
          26100,
          27000,
          27900,
          28800,
          29700,
          30600,
          31500,
          32400,
          83700,
          84600,
          85500,
          0,
          900,
          1800,
          2700,
          3600,
          4500,
          5400,
          6300,
          7200,
          8100,
          9000,
          9900,
          10800,
          11700,
          12600,
          13500,
          14400,
          15300,
          16200,
          17100,
          18000,
          18900,
          19800,
          20700,
          21600,
          22500,
          23400,
          24300,
          25200,
          26100,
          27000,
          27900,
          28800,
          29700,
          30600,
          31500,
          32400,
          33300,
          34200,
          35100,
          36000,
          36900,
          37800,
          38700,
          39600,
          40500,
          41400,
          42300,
          43200,
          44100,
          45000,
          45900,
          46800,
          47700,
          48600,
          49500,
          50400,
          51300,
          52200,
          53100,
          54000,
          54900,
          55800,
          56700,
          57600,
          58500,
          59400,
          60300,
          61200,
          62100,
          63000,
          63900,
          64800,
          65700,
          66600,
          67500,
          68400,
          69300,
          70200,
          71100,
          72000,
          72900,
          73800,
          74700,
          75600,
          76500,
          77400,
          78300,
          79200,
          80100,
          81000,
          81900,
          82800,
          83700,
          84600,
          85500,
          0,
          900,
          1800,
          2700,
          3600,
          4500,
          5400,
          6300,
          7200,
          8100,
          9000,
          9900,
          10800,
          11700,
          12600,
          13500,
          14400,
          15300,
          16200,
          17100,
          18000,
          18900,
          19800,
          20700,
          21600,
          22500,
          23400,
          24300,
          25200,
          26100,
          27000,
          27900,
          28800,
          29700,
          30600,
          31500,
          32400,
          83700,
          84600,
          85500,
          0,
          900,
          1800,
          2700,
          3600,
          4500,
          5400,
          6300,
          7200,
          8100,
          9000,
          9900,
          10800,
          11700,
          12600,
          13500,
          14400,
          15300,
          16200,
          17100,
          18000,
          18900,
          19800,
          20700,
          21600,
          22500,
          23400,
          24300,
          25200,
          26100,
          27000,
          27900,
          28800,
          29700,
          30600,
          31500,
          32400,
          83700,
          84600,
          85500,
          0,
          900,
          1800,
          2700,
          3600,
          4500,
          5400,
          6300,
          7200,
          8100,
          9000,
          9900,
          10800,
          11700,
          12600,
          13500,
          14400,
          15300,
          16200,
          17100,
          18000,
          18900,
          19800,
          20700,
          21600,
          22500,
          23400,
          24300,
          25200,
          26100,
          27000,
          27900,
          28800,
          29700,
          30600,
          31500,
          32400,
          83700,
          84600,
          85500,
          0,
          900,
          1800,
          2700,
          3600,
          4500,
          5400,
          6300,
          7200,
          8100,
          9000,
          9900,
          10800,
          11700,
          12600,
          13500,
          14400,
          15300,
          16200,
          17100,
          18000,
          18900,
          19800,
          20700,
          21600,
          22500,
          23400,
          24300,
          25200,
          26100,
          27000,
          27900,
          28800,
          29700,
          30600,
          31500,
          32400,
          83700,
          84600,
          85500,
          0,
          900,
          1800,
          2700,
          3600,
          4500,
          5400,
          6300,
          7200,
          8100,
          9000,
          9900,
          10800,
          11700,
          12600,
          13500,
          14400,
          15300,
          16200,
          17100,
          18000,
          18900,
          19800,
          20700,
          21600,
          22500,
          23400,
          24300,
          25200,
          26100,
          27000,
          27900,
          28800,
          29700,
          30600,
          31500,
          32400,
          83700,
          84600,
          85500,
          0,
          900,
          1800,
          2700,
          3600,
          4500,
          5400,
          6300,
          7200,
          8100,
          9000,
          9900,
          10800,
          11700,
          12600,
          13500,
          14400,
          15300,
          16200,
          17100,
          18000,
          18900,
          19800,
          20700,
          21600,
          22500,
          23400,
          24300,
          25200,
          26100,
          27000,
          27900,
          28800,
          29700,
          30600,
          31500,
          32400,
          83700,
          84600,
          85500,
          0,
          900,
          1800,
          2700,
          3600,
          4500,
          5400,
          6300,
          7200,
          8100,
          9000,
          9900,
          10800,
          11700,
          12600,
          13500,
          14400,
          15300,
          16200,
          17100,
          18000,
          18900,
          19800,
          20700,
          21600,
          22500,
          23400,
          24300,
          25200,
          26100,
          27000,
          27900,
          28800,
          29700,
          30600,
          31500,
          32400,
          33300,
          34200,
          35100,
          36000,
          36900,
          37800,
          38700,
          39600,
          40500,
          41400,
          42300,
          43200,
          44100,
          45000,
          45900,
          46800,
          47700,
          48600,
          49500,
          50400,
          51300,
          52200,
          53100,
          54000,
          54900,
          55800,
          56700,
          57600,
          58500,
          59400,
          60300,
          61200,
          62100,
          63000,
          63900,
          64800,
          65700,
          66600,
          67500,
          68400,
          69300,
          70200,
          71100,
          72000,
          72900,
          73800,
          74700,
          75600,
          76500,
          77400,
          78300,
          79200,
          80100,
          81000,
          81900,
          82800,
          83700,
          84600,
          85500,
          0,
          900,
          1800,
          2700,
          3600,
          4500,
          5400,
          6300,
          7200,
          8100,
          9000,
          9900,
          10800,
          11700,
          12600,
          13500,
          14400,
          15300,
          16200,
          17100,
          18000,
          18900,
          19800,
          20700,
          21600,
          22500,
          23400,
          24300,
          25200,
          26100,
          27000,
          27900,
          28800,
          29700,
          30600,
          31500,
          32400,
          83700,
          84600,
          85500,
          0,
          900,
          1800,
          2700,
          3600,
          4500,
          5400,
          6300,
          7200,
          8100,
          9000,
          9900,
          10800,
          11700,
          12600,
          13500,
          14400,
          15300,
          16200,
          17100,
          18000,
          18900,
          19800,
          20700,
          21600,
          22500,
          23400,
          24300,
          25200,
          26100,
          27000,
          27900,
          28800,
          29700,
          30600,
          31500,
          32400,
          83700,
          84600,
          85500,
          0,
          900,
          1800,
          2700,
          3600,
          4500,
          5400,
          6300,
          7200,
          8100,
          9000,
          9900,
          10800,
          11700,
          12600,
          13500,
          14400,
          15300,
          16200,
          17100,
          18000,
          18900,
          19800,
          20700,
          21600,
          22500,
          23400,
          24300,
          25200,
          26100,
          27000,
          27900,
          28800,
          29700,
          30600,
          31500,
          32400,
          83700,
          84600,
          85500,
          0,
          900,
          1800,
          2700,
          3600,
          4500,
          5400,
          6300,
          7200,
          8100,
          9000,
          9900,
          10800,
          11700,
          12600,
          13500,
          14400,
          15300,
          16200,
          17100,
          18000,
          18900,
          19800,
          20700,
          21600,
          22500,
          23400,
          24300,
          25200,
          26100,
          27000,
          27900,
          28800,
          29700,
          30600,
          31500,
          32400,
          83700,
          84600,
          85500,
          0,
          900,
          1800,
          2700,
          3600,
          4500,
          5400,
          6300,
          7200,
          8100,
          9000,
          9900,
          10800,
          11700,
          12600,
          13500,
          14400,
          15300,
          16200,
          17100,
          18000,
          18900,
          19800,
          20700,
          21600,
          22500,
          23400,
          24300,
          25200,
          26100,
          27000,
          27900,
          28800,
          29700,
          30600,
          31500,
          32400,
          83700,
          84600,
          85500,
          0,
          900,
          1800,
          2700,
          3600,
          4500,
          5400,
          6300,
          7200,
          8100,
          9000,
          9900,
          10800,
          11700,
          12600,
          13500,
          14400,
          15300,
          16200,
          17100,
          18000,
          18900,
          19800,
          20700,
          21600,
          22500,
          23400,
          24300,
          25200,
          26100,
          27000,
          27900,
          28800,
          29700,
          30600,
          31500,
          32400,
          83700,
          84600,
          85500,
          0,
          900,
          1800,
          2700,
          3600,
          4500,
          5400,
          6300,
          7200,
          8100,
          9000,
          9900,
          10800,
          11700,
          12600,
          13500,
          14400,
          15300,
          16200,
          17100,
          18000,
          18900,
          19800,
          20700,
          21600,
          22500,
          23400,
          24300,
          25200,
          26100,
          27000,
          27900,
          28800,
          29700,
          30600,
          31500,
          32400,
          33300,
          34200,
          35100,
          36000,
          36900,
          37800,
          38700,
          39600,
          40500,
          41400,
          42300,
          43200,
          44100,
          45000,
          45900,
          46800,
          47700,
          48600,
          49500,
          50400,
          51300,
          52200,
          53100,
          54000,
          54900,
          55800,
          56700,
          57600,
          58500,
          59400,
          60300,
          61200,
          62100,
          63000,
          63900,
          64800,
          65700,
          66600,
          67500,
          68400,
          69300,
          70200,
          71100,
          72000,
          72900,
          73800,
          74700,
          75600,
          76500,
          77400,
          78300,
          79200,
          80100,
          81000,
          81900,
          82800,
          83700,
          84600,
          85500,
          0,
          900,
          1800,
          2700,
          3600,
          4500,
          5400,
          6300,
          7200,
          8100,
          9000,
          9900,
          10800,
          11700,
          12600,
          13500,
          14400,
          15300,
          16200,
          17100,
          18000,
          18900,
          19800,
          20700,
          21600,
          22500,
          23400,
          24300,
          25200,
          26100,
          27000,
          27900,
          28800,
          29700,
          30600,
          31500,
          32400,
          83700,
          84600,
          85500,
          0,
          900,
          1800,
          2700,
          3600,
          4500,
          5400,
          6300,
          7200,
          8100,
          9000,
          9900,
          10800,
          11700,
          12600,
          13500,
          14400,
          15300,
          16200,
          17100,
          18000,
          18900,
          19800,
          20700,
          21600,
          22500,
          23400,
          24300,
          25200,
          26100,
          27000,
          27900,
          28800,
          29700,
          30600,
          31500,
          32400,
          83700,
          84600,
          85500,
          0,
          900,
          1800,
          2700,
          3600,
          4500,
          5400,
          6300,
          7200,
          8100,
          9000,
          9900,
          10800,
          11700,
          12600,
          13500,
          14400,
          15300,
          16200,
          17100,
          18000,
          18900,
          19800,
          20700,
          21600,
          22500,
          23400,
          24300,
          25200,
          26100,
          27000,
          27900,
          28800,
          29700,
          30600,
          31500,
          32400,
          83700,
          84600,
          85500,
          0,
          900,
          1800,
          2700,
          3600,
          4500,
          5400,
          6300,
          7200,
          8100,
          9000,
          9900,
          10800,
          11700,
          12600,
          13500,
          14400,
          15300,
          16200,
          17100,
          18000,
          18900,
          19800,
          20700,
          21600,
          22500,
          23400,
          24300,
          25200,
          26100,
          27000,
          27900,
          28800,
          29700,
          30600,
          31500,
          32400,
          83700,
          84600,
          85500,
          0,
          900,
          1800,
          2700,
          3600,
          4500,
          5400,
          6300,
          7200,
          8100,
          9000,
          9900,
          10800,
          11700,
          12600,
          13500,
          14400,
          15300,
          16200,
          17100,
          18000,
          18900,
          19800,
          20700,
          21600,
          22500,
          23400,
          24300,
          25200,
          26100,
          27000,
          27900,
          28800,
          29700,
          30600,
          31500,
          32400,
          83700,
          84600,
          85500,
          0,
          900,
          1800,
          2700,
          3600,
          4500,
          5400,
          6300,
          7200,
          8100,
          9000,
          9900,
          10800,
          11700,
          12600,
          13500,
          14400,
          15300,
          16200,
          17100,
          18000,
          18900,
          19800,
          20700,
          21600,
          22500,
          23400,
          24300,
          25200,
          26100,
          27000,
          27900,
          28800,
          29700,
          30600,
          31500,
          32400,
          83700,
          84600,
          85500,
          0,
          900,
          1800,
          2700,
          3600,
          4500,
          5400,
          6300,
          7200,
          8100,
          9000,
          9900,
          10800,
          11700,
          12600,
          13500,
          14400,
          15300,
          16200,
          17100,
          18000,
          18900,
          19800,
          20700,
          21600,
          22500,
          23400,
          24300,
          25200,
          26100,
          27000,
          27900,
          28800,
          29700,
          30600,
          31500,
          32400,
          33300,
          34200,
          35100,
          36000,
          36900,
          37800,
          38700,
          39600,
          40500,
          41400,
          42300,
          43200,
          44100,
          45000,
          45900,
          46800,
          47700,
          48600,
          49500,
          50400,
          51300,
          52200,
          53100,
          54000,
          54900,
          55800,
          56700,
          57600,
          58500,
          59400,
          60300,
          61200,
          62100,
          63000,
          63900,
          64800,
          65700,
          66600,
          67500,
          68400,
          69300,
          70200,
          71100,
          72000,
          72900,
          73800,
          74700,
          75600,
          76500,
          77400,
          78300,
          79200,
          80100,
          81000,
          81900,
          82800,
          83700,
          84600,
          85500,
          0,
          900,
          1800,
          2700,
          3600,
          4500,
          5400,
          6300,
          7200,
          8100,
          9000,
          9900,
          10800,
          11700,
          12600,
          13500,
          14400,
          15300,
          16200,
          17100,
          18000,
          18900,
          19800,
          20700,
          21600,
          22500,
          23400,
          24300,
          25200,
          26100,
          27000,
          27900,
          28800,
          29700,
          30600,
          31500,
          32400,
          83700,
          84600,
          85500,
          0,
          900,
          1800,
          2700,
          3600,
          4500,
          5400,
          6300,
          7200,
          8100,
          9000,
          9900,
          10800,
          11700,
          12600,
          13500,
          14400,
          15300,
          16200,
          17100,
          18000,
          18900,
          19800,
          20700,
          21600,
          22500,
          23400,
          24300,
          25200,
          26100,
          27000,
          27900,
          28800,
          29700,
          30600,
          31500,
          32400,
          83700,
          84600,
          85500,
          0,
          900,
          1800,
          2700,
          3600,
          4500,
          5400,
          6300,
          7200,
          8100,
          9000,
          9900,
          10800,
          11700,
          12600,
          13500,
          14400,
          15300,
          16200,
          17100,
          18000,
          18900,
          19800,
          20700,
          21600,
          22500,
          23400,
          24300,
          25200,
          26100,
          27000,
          27900,
          28800,
          29700,
          30600,
          31500,
          32400,
          83700,
          84600,
          85500,
          0,
          900,
          1800,
          2700,
          3600,
          4500,
          5400,
          6300,
          7200,
          8100,
          9000,
          9900,
          10800,
          11700,
          12600,
          13500,
          14400,
          15300,
          16200,
          17100,
          18000,
          18900,
          19800,
          20700,
          21600,
          22500,
          23400,
          24300,
          25200,
          26100,
          27000,
          27900,
          28800,
          29700,
          30600,
          31500,
          32400,
          83700,
          84600,
          85500,
          0,
          900,
          1800,
          2700,
          3600,
          4500,
          5400,
          6300,
          7200,
          8100,
          9000,
          9900,
          10800,
          11700,
          12600,
          13500,
          14400,
          15300,
          16200,
          17100,
          18000,
          18900,
          19800,
          20700,
          21600,
          22500,
          23400,
          24300,
          25200,
          26100,
          27000,
          27900,
          28800,
          29700,
          30600,
          31500,
          32400,
          83700,
          84600,
          85500,
          0,
          900,
          1800,
          2700,
          3600,
          4500,
          5400,
          6300,
          7200,
          8100,
          9000,
          9900,
          10800,
          11700,
          12600,
          13500,
          14400,
          15300,
          16200,
          17100,
          18000,
          18900,
          19800,
          20700,
          21600,
          22500,
          23400,
          24300,
          25200,
          26100,
          27000,
          27900,
          28800,
          29700,
          30600,
          31500,
          32400,
          83700,
          84600,
          85500,
          0,
          900,
          1800,
          2700,
          3600,
          4500,
          5400,
          6300,
          7200,
          8100,
          9000,
          9900,
          10800,
          11700,
          12600,
          13500,
          14400,
          15300,
          16200,
          17100,
          18000,
          18900,
          19800,
          20700,
          21600,
          22500,
          23400,
          24300,
          25200,
          26100,
          27000,
          27900,
          28800,
          29700,
          30600,
          31500,
          32400,
          33300,
          34200,
          35100,
          36000,
          36900,
          37800,
          38700,
          39600,
          40500,
          41400,
          42300,
          43200,
          44100,
          45000,
          45900,
          46800,
          47700,
          48600,
          49500,
          50400,
          51300,
          52200,
          53100,
          54000,
          54900,
          55800,
          56700,
          57600,
          58500,
          59400,
          60300,
          61200,
          62100,
          63000,
          63900,
          64800,
          65700,
          66600,
          67500,
          68400,
          69300,
          70200,
          71100,
          72000,
          72900,
          73800,
          74700,
          75600,
          76500,
          77400,
          78300,
          79200,
          80100,
          81000,
          81900,
          82800,
          83700,
          84600,
          85500,
          0,
          900,
          1800,
          2700,
          3600,
          4500,
          5400,
          6300,
          7200,
          8100,
          9000,
          9900,
          10800,
          11700,
          12600,
          13500,
          14400,
          15300,
          16200,
          17100,
          18000,
          18900,
          19800,
          20700,
          21600,
          22500,
          23400,
          24300,
          25200,
          26100,
          27000,
          27900,
          28800,
          29700,
          30600,
          31500,
          32400,
          83700,
          84600,
          85500,
          0,
          900,
          1800,
          2700,
          3600,
          4500,
          5400,
          6300,
          7200,
          8100,
          9000,
          9900,
          10800,
          11700,
          12600,
          13500,
          14400,
          15300,
          16200,
          17100,
          18000,
          18900,
          19800,
          20700,
          21600,
          22500,
          23400,
          24300,
          25200,
          26100,
          27000,
          27900,
          28800,
          29700,
          30600,
          31500,
          32400,
          83700,
          84600,
          85500,
          0,
          900,
          1800,
          2700,
          3600,
          4500,
          5400,
          6300,
          7200,
          8100,
          9000,
          9900,
          10800,
          11700,
          12600,
          13500,
          14400,
          15300,
          16200,
          17100,
          18000,
          18900,
          19800,
          20700,
          21600,
          22500,
          23400,
          24300,
          25200,
          26100,
          27000,
          27900,
          28800,
          29700,
          30600,
          31500,
          32400,
          83700,
          84600,
          85500,
          0,
          900,
          1800,
          2700,
          3600,
          4500,
          5400,
          6300,
          7200,
          8100,
          9000,
          9900,
          10800,
          11700,
          12600,
          13500,
          14400,
          15300,
          16200,
          17100,
          18000,
          18900,
          19800,
          20700,
          21600,
          22500,
          23400,
          24300,
          25200,
          26100,
          27000,
          27900,
          28800,
          29700,
          30600,
          31500,
          32400,
          83700,
          84600,
          85500,
          0,
          900,
          1800,
          2700,
          3600,
          4500,
          5400,
          6300,
          7200,
          8100,
          9000,
          9900,
          10800,
          11700,
          12600,
          13500,
          14400,
          15300,
          16200,
          17100,
          18000,
          18900,
          19800,
          20700,
          21600,
          22500,
          23400,
          24300,
          25200,
          26100,
          27000,
          27900,
          28800,
          29700,
          30600,
          31500,
          32400,
          83700,
          84600,
          85500,
          0,
          900,
          1800,
          2700,
          3600,
          4500,
          5400,
          6300,
          7200,
          8100,
          9000,
          9900,
          10800,
          11700,
          12600,
          13500,
          14400,
          15300,
          16200,
          17100,
          18000,
          18900,
          19800,
          20700,
          21600,
          22500,
          23400,
          24300,
          25200,
          26100,
          27000,
          27900,
          28800,
          29700,
          30600,
          31500,
          32400,
          83700,
          84600,
          85500,
          0,
          900,
          1800,
          2700,
          3600,
          4500,
          5400,
          6300,
          7200,
          8100,
          9000,
          9900,
          10800,
          11700,
          12600,
          13500,
          14400,
          15300,
          16200,
          17100,
          18000,
          18900,
          19800,
          20700,
          21600,
          22500,
          23400,
          24300,
          25200,
          26100,
          27000,
          27900,
          28800,
          29700,
          30600,
          31500,
          32400,
          83700,
          84600,
          85500,
          0,
          900,
          1800,
          2700,
          3600,
          4500,
          5400,
          6300,
          7200,
          8100,
          9000,
          9900,
          10800,
          11700,
          12600,
          13500,
          14400,
          15300,
          16200,
          17100,
          18000,
          18900,
          19800,
          20700,
          21600,
          22500,
          23400,
          24300,
          25200,
          26100,
          27000,
          27900,
          28800,
          29700,
          30600,
          31500,
          32400,
          83700,
          84600,
          85500,
          0,
          900,
          1800,
          2700,
          3600,
          4500,
          5400,
          6300,
          7200,
          8100,
          9000,
          9900,
          10800,
          11700,
          12600,
          13500,
          14400,
          15300,
          16200,
          17100,
          18000,
          18900,
          19800,
          20700,
          21600,
          22500,
          23400,
          24300,
          25200,
          26100,
          27000,
          27900,
          28800,
          29700,
          30600,
          31500,
          32400,
          83700,
          84600,
          85500,
          0,
          900,
          1800,
          2700,
          3600,
          4500,
          5400,
          6300,
          7200,
          8100,
          9000,
          9900,
          10800,
          11700,
          12600,
          13500,
          14400,
          15300,
          16200,
          17100,
          18000,
          18900,
          19800,
          20700,
          21600,
          22500,
          23400,
          24300,
          25200,
          26100,
          27000,
          27900,
          28800,
          29700,
          30600,
          31500,
          32400,
          83700,
          84600,
          85500,
          0,
          900,
          1800,
          2700,
          3600,
          4500,
          5400,
          6300,
          7200,
          8100,
          9000,
          9900,
          10800,
          11700,
          12600,
          13500,
          14400,
          15300,
          16200,
          17100,
          18000,
          18900,
          19800,
          20700,
          21600,
          22500,
          23400,
          24300,
          25200,
          26100,
          27000,
          27900,
          28800,
          29700,
          30600,
          31500,
          32400,
          83700,
          84600,
          85500,
          0,
          900,
          1800,
          2700,
          3600,
          4500,
          5400,
          6300,
          7200,
          8100,
          9000,
          9900,
          10800,
          11700,
          12600,
          13500,
          14400,
          15300,
          16200,
          17100,
          18000,
          18900,
          19800,
          20700,
          21600,
          22500,
          23400,
          24300,
          25200,
          26100,
          27000,
          27900,
          28800,
          29700,
          30600,
          31500,
          32400,
          83700,
          84600,
          85500,
          0,
          900,
          1800,
          2700,
          3600,
          4500,
          5400,
          6300,
          7200,
          8100,
          9000,
          9900,
          10800,
          11700,
          12600,
          13500,
          14400,
          15300,
          16200,
          17100,
          18000,
          18900,
          19800,
          20700,
          21600,
          22500,
          23400,
          24300,
          25200,
          26100,
          27000,
          27900,
          28800,
          29700,
          30600,
          31500,
          32400,
          83700,
          84600,
          85500,
          0,
          900,
          1800,
          2700,
          3600,
          4500,
          5400,
          6300,
          7200,
          8100,
          9000,
          9900,
          10800,
          11700,
          12600,
          13500,
          14400,
          15300,
          16200,
          17100,
          18000,
          18900,
          19800,
          20700,
          21600,
          22500,
          23400,
          24300,
          25200,
          26100,
          27000,
          27900,
          28800,
          29700,
          30600,
          31500,
          32400,
          33300,
          34200,
          35100,
          36000,
          36900,
          37800,
          38700,
          39600,
          40500,
          41400,
          42300,
          43200,
          44100,
          45000,
          45900,
          46800,
          47700,
          48600,
          49500,
          50400,
          51300,
          52200,
          53100,
          54000,
          54900,
          55800,
          56700,
          57600,
          58500,
          59400,
          60300,
          61200,
          62100,
          63000,
          63900,
          64800,
          65700,
          66600,
          67500,
          68400,
          69300,
          70200,
          71100,
          72000,
          72900,
          73800,
          74700,
          75600,
          76500,
          77400,
          78300,
          79200,
          80100,
          81000,
          81900,
          82800,
          83700,
          84600,
          85500,
          0,
          900,
          1800,
          2700,
          3600,
          4500,
          5400,
          6300,
          7200,
          8100,
          9000,
          9900,
          10800,
          11700,
          12600,
          13500,
          14400,
          15300,
          16200,
          17100,
          18000,
          18900,
          19800,
          20700,
          21600,
          22500,
          23400,
          24300,
          25200,
          26100,
          27000,
          27900,
          28800,
          29700,
          30600,
          31500,
          32400,
          83700,
          84600,
          85500,
          0,
          900,
          1800,
          2700,
          3600,
          4500,
          5400,
          6300,
          7200,
          8100,
          9000,
          9900,
          10800,
          11700,
          12600,
          13500,
          14400,
          15300,
          16200,
          17100,
          18000,
          18900,
          19800,
          20700,
          21600,
          22500,
          23400,
          24300,
          25200,
          26100,
          27000,
          27900,
          28800,
          29700,
          30600,
          31500,
          32400,
          83700,
          84600,
          85500,
          0,
          900,
          1800,
          2700,
          3600,
          4500,
          5400,
          6300,
          7200,
          8100,
          9000,
          9900,
          10800,
          11700,
          12600,
          13500,
          14400,
          15300,
          16200,
          17100,
          18000,
          18900,
          19800,
          20700,
          21600,
          22500,
          23400,
          24300,
          25200,
          26100,
          27000,
          27900,
          28800,
          29700,
          30600,
          31500,
          32400,
          83700,
          84600,
          85500,
          0,
          900,
          1800,
          2700,
          3600,
          4500,
          5400,
          6300,
          7200,
          8100,
          9000,
          9900,
          10800,
          11700,
          12600,
          13500,
          14400,
          15300,
          16200,
          17100,
          18000,
          18900,
          19800,
          20700,
          21600,
          22500,
          23400,
          24300,
          25200,
          26100,
          27000,
          27900,
          28800,
          29700,
          30600,
          31500,
          32400,
          83700,
          84600,
          85500,
          0,
          900,
          1800,
          2700,
          3600,
          4500,
          5400,
          6300,
          7200,
          8100,
          9000,
          9900,
          10800,
          11700,
          12600,
          13500,
          14400,
          15300,
          16200,
          17100,
          18000,
          18900,
          19800,
          20700,
          21600,
          22500,
          23400,
          24300,
          25200,
          26100,
          27000,
          27900,
          28800,
          29700,
          30600,
          31500,
          32400,
          83700,
          84600,
          85500,
          0,
          900,
          1800,
          2700,
          3600,
          4500,
          5400,
          6300,
          7200,
          8100,
          9000,
          9900,
          10800,
          11700,
          12600,
          13500,
          14400,
          15300,
          16200,
          17100,
          18000,
          18900,
          19800,
          20700,
          21600,
          22500,
          23400,
          24300,
          25200,
          26100,
          27000,
          27900,
          28800,
          29700,
          30600,
          31500,
          32400,
          83700,
          84600,
          85500,
          0,
          900,
          1800,
          2700,
          3600,
          4500,
          5400,
          6300,
          7200,
          8100,
          9000,
          9900,
          10800,
          11700,
          12600,
          13500,
          14400,
          15300,
          16200,
          17100,
          18000,
          18900,
          19800,
          20700,
          21600,
          22500,
          23400,
          24300,
          25200,
          26100,
          27000,
          27900,
          28800,
          29700,
          30600,
          31500,
          32400,
          83700,
          84600,
          85500,
          0,
          900,
          1800,
          2700,
          3600,
          4500,
          5400,
          6300,
          7200,
          8100,
          9000,
          9900,
          10800,
          11700,
          12600,
          13500,
          14400,
          15300,
          16200,
          17100,
          18000,
          18900,
          19800,
          20700,
          21600,
          22500,
          23400,
          24300,
          25200,
          26100,
          27000,
          27900,
          28800,
          29700,
          30600,
          31500,
          32400,
          83700,
          84600,
          85500,
          0,
          900,
          1800,
          2700,
          3600,
          4500,
          5400,
          6300,
          7200,
          8100,
          9000,
          9900,
          10800,
          11700,
          12600,
          13500,
          14400,
          15300,
          16200,
          17100,
          18000,
          18900,
          19800,
          20700,
          21600,
          22500,
          23400,
          24300,
          25200,
          26100,
          27000,
          27900,
          28800,
          29700,
          30600,
          31500,
          32400,
          83700,
          84600,
          85500,
          0,
          900,
          1800,
          2700,
          3600,
          4500,
          5400,
          6300,
          7200,
          8100,
          9000,
          9900,
          10800,
          11700,
          12600,
          13500,
          14400,
          15300,
          16200,
          17100,
          18000,
          18900,
          19800,
          20700,
          21600,
          22500,
          23400,
          24300,
          25200,
          26100,
          27000,
          27900,
          28800,
          29700,
          30600,
          31500,
          32400,
          83700,
          84600,
          85500,
          0,
          900,
          1800,
          2700,
          3600,
          4500,
          5400,
          6300,
          7200,
          8100,
          9000,
          9900,
          10800,
          11700,
          12600,
          13500,
          14400,
          15300,
          16200,
          17100,
          18000,
          18900,
          19800,
          20700,
          21600,
          22500,
          23400,
          24300,
          25200,
          26100,
          27000,
          27900,
          28800,
          29700,
          30600,
          31500,
          32400,
          83700,
          84600,
          85500,
          0,
          900,
          1800,
          2700,
          3600,
          4500,
          5400,
          6300,
          7200,
          8100,
          9000,
          9900,
          10800,
          11700,
          12600,
          13500,
          14400,
          15300,
          16200,
          17100,
          18000,
          18900,
          19800,
          20700,
          21600,
          22500,
          23400,
          24300,
          25200,
          26100,
          27000,
          27900,
          28800,
          29700,
          30600,
          31500,
          32400,
          83700,
          84600,
          85500,
          0,
          900,
          1800,
          2700,
          3600,
          4500,
          5400,
          6300,
          7200,
          8100,
          9000,
          9900,
          10800,
          11700,
          12600,
          13500,
          14400,
          15300,
          16200,
          17100,
          18000,
          18900,
          19800,
          20700,
          21600,
          22500,
          23400,
          24300,
          25200,
          26100,
          27000,
          27900,
          28800,
          29700,
          30600,
          31500,
          32400,
          33300,
          34200,
          35100,
          36000,
          36900,
          37800,
          38700,
          39600,
          40500,
          41400,
          42300,
          43200,
          44100,
          45000,
          45900,
          46800,
          47700,
          48600,
          49500,
          50400,
          51300,
          52200,
          53100,
          54000,
          54900,
          55800,
          56700,
          57600,
          58500,
          59400,
          60300,
          61200,
          62100,
          63000,
          63900,
          64800,
          65700,
          66600,
          67500,
          68400,
          69300,
          70200,
          71100,
          72000,
          72900,
          73800,
          74700,
          75600,
          76500,
          77400,
          78300,
          79200,
          80100,
          81000,
          81900,
          82800,
          83700,
          84600,
          85500,
          0,
          900,
          1800,
          2700,
          3600,
          4500,
          5400,
          6300,
          7200,
          8100,
          9000,
          9900,
          10800,
          11700,
          12600,
          13500,
          14400,
          15300,
          16200,
          17100,
          18000,
          18900,
          19800,
          20700,
          21600,
          22500,
          23400,
          24300,
          25200,
          26100,
          27000,
          27900,
          28800,
          29700,
          30600,
          31500,
          32400,
          33300,
          34200,
          35100,
          36000,
          36900,
          37800,
          38700,
          39600,
          40500,
          41400,
          42300,
          43200,
          44100,
          45000,
          45900,
          46800,
          47700,
          48600,
          49500,
          50400,
          51300,
          52200,
          53100,
          54000,
          54900,
          55800,
          56700,
          57600,
          58500,
          59400,
          60300,
          61200,
          62100,
          63000,
          63900,
          64800,
          65700,
          66600,
          67500,
          68400,
          69300,
          70200,
          71100,
          72000,
          72900,
          73800,
          74700,
          75600,
          76500,
          77400,
          78300,
          79200,
          80100,
          81000,
          81900,
          82800,
          83700,
          84600,
          85500,
          0,
          900,
          1800,
          2700,
          3600,
          4500,
          5400,
          6300,
          7200,
          8100,
          9000,
          9900,
          10800,
          11700,
          12600,
          13500,
          14400,
          15300,
          16200,
          17100,
          18000,
          18900,
          19800,
          20700,
          21600,
          22500,
          23400,
          24300,
          25200,
          26100,
          27000,
          27900,
          28800,
          29700,
          30600,
          31500,
          32400,
          83700,
          84600,
          85500,
          0,
          900,
          1800,
          2700,
          3600,
          4500,
          5400,
          6300,
          7200,
          8100,
          9000,
          9900,
          10800,
          11700,
          12600,
          13500,
          14400,
          15300,
          16200,
          17100,
          18000,
          18900,
          19800,
          20700,
          21600,
          22500,
          23400,
          24300,
          25200,
          26100,
          27000,
          27900,
          28800,
          29700,
          30600,
          31500,
          32400,
          83700,
          84600,
          85500,
          0,
          900,
          1800,
          2700,
          3600,
          4500,
          5400,
          6300,
          7200,
          8100,
          9000,
          9900,
          10800,
          11700,
          12600,
          13500,
          14400,
          15300,
          16200,
          17100,
          18000,
          18900,
          19800,
          20700,
          21600,
          22500,
          23400,
          24300,
          25200,
          26100,
          27000,
          27900,
          28800,
          29700,
          30600,
          31500,
          32400,
          83700,
          84600,
          85500,
          0,
          900,
          1800,
          2700,
          3600,
          4500,
          5400,
          6300,
          7200,
          8100,
          9000,
          9900,
          10800,
          11700,
          12600,
          13500,
          14400,
          15300,
          16200,
          17100,
          18000,
          18900,
          19800,
          20700,
          21600,
          22500,
          23400,
          24300,
          25200,
          26100,
          27000,
          27900,
          28800,
          29700,
          30600,
          31500,
          32400,
          83700,
          84600,
          85500,
          0,
          900,
          1800,
          2700,
          3600,
          4500,
          5400,
          6300,
          7200,
          8100,
          9000,
          9900,
          10800,
          11700,
          12600,
          13500,
          14400,
          15300,
          16200,
          17100,
          18000,
          18900,
          19800,
          20700,
          21600,
          22500,
          23400,
          24300,
          25200,
          26100,
          27000,
          27900,
          28800,
          29700,
          30600,
          31500,
          32400,
          83700,
          84600,
          85500,
          0
         ],
         "xaxis": "x",
         "y": [
          0,
          1,
          2,
          3,
          4,
          5,
          6,
          7,
          8,
          9,
          10,
          11,
          12,
          13,
          14,
          15,
          16,
          17,
          18,
          19,
          20,
          21,
          22,
          23,
          24,
          25,
          26,
          27,
          28,
          29,
          30,
          31,
          32,
          33,
          34,
          35,
          36,
          37,
          38,
          39,
          40,
          41,
          42,
          43,
          44,
          45,
          46,
          47,
          48,
          49,
          50,
          51,
          52,
          53,
          54,
          55,
          56,
          57,
          58,
          59,
          60,
          61,
          62,
          63,
          64,
          65,
          66,
          67,
          68,
          69,
          70,
          71,
          72,
          73,
          74,
          75,
          76,
          77,
          78,
          79,
          80,
          81,
          82,
          83,
          84,
          85,
          86,
          87,
          88,
          89,
          90,
          91,
          92,
          93,
          94,
          95,
          96,
          97,
          98,
          99,
          100,
          101,
          102,
          103,
          104,
          105,
          106,
          107,
          108,
          109,
          110,
          111,
          112,
          113,
          114,
          115,
          116,
          117,
          118,
          119,
          120,
          121,
          122,
          123,
          124,
          125,
          126,
          127,
          128,
          129,
          130,
          131,
          132,
          133,
          134,
          135,
          136,
          137,
          138,
          139,
          140,
          141,
          142,
          143,
          144,
          145,
          146,
          147,
          148,
          149,
          150,
          151,
          152,
          153,
          154,
          155,
          156,
          157,
          158,
          159,
          160,
          161,
          162,
          163,
          164,
          165,
          166,
          167,
          168,
          169,
          170,
          171,
          172,
          173,
          174,
          175,
          176,
          177,
          178,
          179,
          180,
          181,
          182,
          183,
          184,
          185,
          186,
          187,
          188,
          189,
          190,
          191,
          192,
          193,
          194,
          195,
          196,
          197,
          198,
          199,
          200,
          201,
          202,
          203,
          204,
          205,
          206,
          207,
          208,
          265,
          266,
          267,
          268,
          269,
          270,
          271,
          272,
          273,
          274,
          275,
          276,
          277,
          278,
          279,
          280,
          281,
          282,
          283,
          284,
          285,
          286,
          287,
          288,
          289,
          290,
          291,
          292,
          293,
          294,
          295,
          296,
          297,
          298,
          299,
          300,
          301,
          302,
          303,
          304,
          361,
          362,
          363,
          364,
          365,
          366,
          367,
          368,
          369,
          370,
          371,
          372,
          373,
          374,
          375,
          376,
          377,
          378,
          379,
          380,
          381,
          382,
          383,
          384,
          385,
          386,
          387,
          388,
          389,
          390,
          391,
          392,
          393,
          394,
          395,
          396,
          397,
          398,
          399,
          400,
          457,
          458,
          459,
          460,
          461,
          462,
          463,
          464,
          465,
          466,
          467,
          468,
          469,
          470,
          471,
          472,
          473,
          474,
          475,
          476,
          477,
          478,
          479,
          480,
          481,
          482,
          483,
          484,
          485,
          486,
          487,
          488,
          489,
          490,
          491,
          492,
          493,
          494,
          495,
          496,
          497,
          498,
          499,
          500,
          501,
          502,
          503,
          504,
          505,
          506,
          507,
          508,
          509,
          510,
          511,
          512,
          513,
          514,
          515,
          516,
          517,
          518,
          519,
          520,
          521,
          522,
          523,
          524,
          525,
          526,
          527,
          528,
          529,
          530,
          531,
          532,
          533,
          534,
          535,
          536,
          537,
          538,
          539,
          540,
          541,
          542,
          543,
          544,
          545,
          546,
          547,
          548,
          549,
          550,
          551,
          552,
          553,
          554,
          555,
          556,
          557,
          558,
          559,
          560,
          561,
          562,
          563,
          564,
          565,
          566,
          567,
          568,
          569,
          570,
          571,
          572,
          573,
          574,
          575,
          576,
          577,
          578,
          579,
          580,
          581,
          582,
          583,
          584,
          585,
          586,
          587,
          588,
          589,
          590,
          591,
          592,
          649,
          650,
          651,
          652,
          653,
          654,
          655,
          656,
          657,
          658,
          659,
          660,
          661,
          662,
          663,
          664,
          665,
          666,
          667,
          668,
          669,
          670,
          671,
          672,
          673,
          674,
          675,
          676,
          677,
          678,
          679,
          680,
          681,
          682,
          683,
          684,
          685,
          686,
          687,
          688,
          745,
          746,
          747,
          748,
          749,
          750,
          751,
          752,
          753,
          754,
          755,
          756,
          757,
          758,
          759,
          760,
          761,
          762,
          763,
          764,
          765,
          766,
          767,
          768,
          769,
          770,
          771,
          772,
          773,
          774,
          775,
          776,
          777,
          778,
          779,
          780,
          781,
          782,
          783,
          784,
          841,
          842,
          843,
          844,
          845,
          846,
          847,
          848,
          849,
          850,
          851,
          852,
          853,
          854,
          855,
          856,
          857,
          858,
          859,
          860,
          861,
          862,
          863,
          864,
          865,
          866,
          867,
          868,
          869,
          870,
          871,
          872,
          873,
          874,
          875,
          876,
          877,
          878,
          879,
          880,
          937,
          938,
          939,
          940,
          941,
          942,
          943,
          944,
          945,
          946,
          947,
          948,
          949,
          950,
          951,
          952,
          953,
          954,
          955,
          956,
          957,
          958,
          959,
          960,
          961,
          962,
          963,
          964,
          965,
          966,
          967,
          968,
          969,
          970,
          971,
          972,
          973,
          974,
          975,
          976,
          1033,
          1034,
          1035,
          1036,
          1037,
          1038,
          1039,
          1040,
          1041,
          1042,
          1043,
          1044,
          1045,
          1046,
          1047,
          1048,
          1049,
          1050,
          1051,
          1052,
          1053,
          1054,
          1055,
          1056,
          1057,
          1058,
          1059,
          1060,
          1061,
          1062,
          1063,
          1064,
          1065,
          1066,
          1067,
          1068,
          1069,
          1070,
          1071,
          1072,
          1129,
          1130,
          1131,
          1132,
          1133,
          1134,
          1135,
          1136,
          1137,
          1138,
          1139,
          1140,
          1141,
          1142,
          1143,
          1144,
          1145,
          1146,
          1147,
          1148,
          1149,
          1150,
          1151,
          1152,
          1153,
          1154,
          1155,
          1156,
          1157,
          1158,
          1159,
          1160,
          1161,
          1162,
          1163,
          1164,
          1165,
          1166,
          1167,
          1168,
          1169,
          1170,
          1171,
          1172,
          1173,
          1174,
          1175,
          1176,
          1177,
          1178,
          1179,
          1180,
          1181,
          1182,
          1183,
          1184,
          1185,
          1186,
          1187,
          1188,
          1189,
          1190,
          1191,
          1192,
          1193,
          1194,
          1195,
          1196,
          1197,
          1198,
          1199,
          1200,
          1201,
          1202,
          1203,
          1204,
          1205,
          1206,
          1207,
          1208,
          1209,
          1210,
          1211,
          1212,
          1213,
          1214,
          1215,
          1216,
          1217,
          1218,
          1219,
          1220,
          1221,
          1222,
          1223,
          1224,
          1225,
          1226,
          1227,
          1228,
          1229,
          1230,
          1231,
          1232,
          1233,
          1234,
          1235,
          1236,
          1237,
          1238,
          1239,
          1240,
          1241,
          1242,
          1243,
          1244,
          1245,
          1246,
          1247,
          1248,
          1249,
          1250,
          1251,
          1252,
          1253,
          1254,
          1255,
          1256,
          1257,
          1258,
          1259,
          1260,
          1261,
          1262,
          1263,
          1264,
          1321,
          1322,
          1323,
          1324,
          1325,
          1326,
          1327,
          1328,
          1329,
          1330,
          1331,
          1332,
          1333,
          1334,
          1335,
          1336,
          1337,
          1338,
          1339,
          1340,
          1341,
          1342,
          1343,
          1344,
          1345,
          1346,
          1347,
          1348,
          1349,
          1350,
          1351,
          1352,
          1353,
          1354,
          1355,
          1356,
          1357,
          1358,
          1359,
          1360,
          1417,
          1418,
          1419,
          1420,
          1421,
          1422,
          1423,
          1424,
          1425,
          1426,
          1427,
          1428,
          1429,
          1430,
          1431,
          1432,
          1433,
          1434,
          1435,
          1436,
          1437,
          1438,
          1439,
          1440,
          1441,
          1442,
          1443,
          1444,
          1445,
          1446,
          1447,
          1448,
          1449,
          1450,
          1451,
          1452,
          1453,
          1454,
          1455,
          1456,
          1513,
          1514,
          1515,
          1516,
          1517,
          1518,
          1519,
          1520,
          1521,
          1522,
          1523,
          1524,
          1525,
          1526,
          1527,
          1528,
          1529,
          1530,
          1531,
          1532,
          1533,
          1534,
          1535,
          1536,
          1537,
          1538,
          1539,
          1540,
          1541,
          1542,
          1543,
          1544,
          1545,
          1546,
          1547,
          1548,
          1549,
          1550,
          1551,
          1552,
          1609,
          1610,
          1611,
          1612,
          1613,
          1614,
          1615,
          1616,
          1617,
          1618,
          1619,
          1620,
          1621,
          1622,
          1623,
          1624,
          1625,
          1626,
          1627,
          1628,
          1629,
          1630,
          1631,
          1632,
          1633,
          1634,
          1635,
          1636,
          1637,
          1638,
          1639,
          1640,
          1641,
          1642,
          1643,
          1644,
          1645,
          1646,
          1647,
          1648,
          1705,
          1706,
          1707,
          1708,
          1709,
          1710,
          1711,
          1712,
          1713,
          1714,
          1715,
          1716,
          1717,
          1718,
          1719,
          1720,
          1721,
          1722,
          1723,
          1724,
          1725,
          1726,
          1727,
          1728,
          1729,
          1730,
          1731,
          1732,
          1733,
          1734,
          1735,
          1736,
          1737,
          1738,
          1739,
          1740,
          1741,
          1742,
          1743,
          1744,
          1801,
          1802,
          1803,
          1804,
          1805,
          1806,
          1807,
          1808,
          1809,
          1810,
          1811,
          1812,
          1813,
          1814,
          1815,
          1816,
          1817,
          1818,
          1819,
          1820,
          1821,
          1822,
          1823,
          1824,
          1825,
          1826,
          1827,
          1828,
          1829,
          1830,
          1831,
          1832,
          1833,
          1834,
          1835,
          1836,
          1837,
          1838,
          1839,
          1840,
          1841,
          1842,
          1843,
          1844,
          1845,
          1846,
          1847,
          1848,
          1849,
          1850,
          1851,
          1852,
          1853,
          1854,
          1855,
          1856,
          1857,
          1858,
          1859,
          1860,
          1861,
          1862,
          1863,
          1864,
          1865,
          1866,
          1867,
          1868,
          1869,
          1870,
          1871,
          1872,
          1873,
          1874,
          1875,
          1876,
          1877,
          1878,
          1879,
          1880,
          1881,
          1882,
          1883,
          1884,
          1885,
          1886,
          1887,
          1888,
          1889,
          1890,
          1891,
          1892,
          1893,
          1894,
          1895,
          1896,
          1897,
          1898,
          1899,
          1900,
          1901,
          1902,
          1903,
          1904,
          1905,
          1906,
          1907,
          1908,
          1909,
          1910,
          1911,
          1912,
          1913,
          1914,
          1915,
          1916,
          1917,
          1918,
          1919,
          1920,
          1921,
          1922,
          1923,
          1924,
          1925,
          1926,
          1927,
          1928,
          1929,
          1930,
          1931,
          1932,
          1933,
          1934,
          1935,
          1936,
          1993,
          1994,
          1995,
          1996,
          1997,
          1998,
          1999,
          2000,
          2001,
          2002,
          2003,
          2004,
          2005,
          2006,
          2007,
          2008,
          2009,
          2010,
          2011,
          2012,
          2013,
          2014,
          2015,
          2016,
          2017,
          2018,
          2019,
          2020,
          2021,
          2022,
          2023,
          2024,
          2025,
          2026,
          2027,
          2028,
          2029,
          2030,
          2031,
          2032,
          2089,
          2090,
          2091,
          2092,
          2093,
          2094,
          2095,
          2096,
          2097,
          2098,
          2099,
          2100,
          2101,
          2102,
          2103,
          2104,
          2105,
          2106,
          2107,
          2108,
          2109,
          2110,
          2111,
          2112,
          2113,
          2114,
          2115,
          2116,
          2117,
          2118,
          2119,
          2120,
          2121,
          2122,
          2123,
          2124,
          2125,
          2126,
          2127,
          2128,
          2185,
          2186,
          2187,
          2188,
          2189,
          2190,
          2191,
          2192,
          2193,
          2194,
          2195,
          2196,
          2197,
          2198,
          2199,
          2200,
          2201,
          2202,
          2203,
          2204,
          2205,
          2206,
          2207,
          2208,
          2209,
          2210,
          2211,
          2212,
          2213,
          2214,
          2215,
          2216,
          2217,
          2218,
          2219,
          2220,
          2221,
          2222,
          2223,
          2224,
          2281,
          2282,
          2283,
          2284,
          2285,
          2286,
          2287,
          2288,
          2289,
          2290,
          2291,
          2292,
          2293,
          2294,
          2295,
          2296,
          2297,
          2298,
          2299,
          2300,
          2301,
          2302,
          2303,
          2304,
          2305,
          2306,
          2307,
          2308,
          2309,
          2310,
          2311,
          2312,
          2313,
          2314,
          2315,
          2316,
          2317,
          2318,
          2319,
          2320,
          2377,
          2378,
          2379,
          2380,
          2381,
          2382,
          2383,
          2384,
          2385,
          2386,
          2387,
          2388,
          2389,
          2390,
          2391,
          2392,
          2393,
          2394,
          2395,
          2396,
          2397,
          2398,
          2399,
          2400,
          2401,
          2402,
          2403,
          2404,
          2405,
          2406,
          2407,
          2408,
          2409,
          2410,
          2411,
          2412,
          2413,
          2414,
          2415,
          2416,
          2473,
          2474,
          2475,
          2476,
          2477,
          2478,
          2479,
          2480,
          2481,
          2482,
          2483,
          2484,
          2485,
          2486,
          2487,
          2488,
          2489,
          2490,
          2491,
          2492,
          2493,
          2494,
          2495,
          2496,
          2497,
          2498,
          2499,
          2500,
          2501,
          2502,
          2503,
          2504,
          2505,
          2506,
          2507,
          2508,
          2509,
          2510,
          2511,
          2512,
          2513,
          2514,
          2515,
          2516,
          2517,
          2518,
          2519,
          2520,
          2521,
          2522,
          2523,
          2524,
          2525,
          2526,
          2527,
          2528,
          2529,
          2530,
          2531,
          2532,
          2533,
          2534,
          2535,
          2536,
          2537,
          2538,
          2539,
          2540,
          2541,
          2542,
          2543,
          2544,
          2545,
          2546,
          2547,
          2548,
          2549,
          2550,
          2551,
          2552,
          2553,
          2554,
          2555,
          2556,
          2557,
          2558,
          2559,
          2560,
          2561,
          2562,
          2563,
          2564,
          2565,
          2566,
          2567,
          2568,
          2569,
          2570,
          2571,
          2572,
          2573,
          2574,
          2575,
          2576,
          2577,
          2578,
          2579,
          2580,
          2581,
          2582,
          2583,
          2584,
          2585,
          2586,
          2587,
          2588,
          2589,
          2590,
          2591,
          2592,
          2593,
          2594,
          2595,
          2596,
          2597,
          2598,
          2599,
          2600,
          2601,
          2602,
          2603,
          2604,
          2605,
          2606,
          2607,
          2608,
          2665,
          2666,
          2667,
          2668,
          2669,
          2670,
          2671,
          2672,
          2673,
          2674,
          2675,
          2676,
          2677,
          2678,
          2679,
          2680,
          2681,
          2682,
          2683,
          2684,
          2685,
          2686,
          2687,
          2688,
          2689,
          2690,
          2691,
          2692,
          2693,
          2694,
          2695,
          2696,
          2697,
          2698,
          2699,
          2700,
          2701,
          2702,
          2703,
          2704,
          2761,
          2762,
          2763,
          2764,
          2765,
          2766,
          2767,
          2768,
          2769,
          2770,
          2771,
          2772,
          2773,
          2774,
          2775,
          2776,
          2777,
          2778,
          2779,
          2780,
          2781,
          2782,
          2783,
          2784,
          2785,
          2786,
          2787,
          2788,
          2789,
          2790,
          2791,
          2792,
          2793,
          2794,
          2795,
          2796,
          2797,
          2798,
          2799,
          2800,
          2857,
          2858,
          2859,
          2860,
          2861,
          2862,
          2863,
          2864,
          2865,
          2866,
          2867,
          2868,
          2869,
          2870,
          2871,
          2872,
          2873,
          2874,
          2875,
          2876,
          2877,
          2878,
          2879,
          2880,
          2881,
          2882,
          2883,
          2884,
          2885,
          2886,
          2887,
          2888,
          2889,
          2890,
          2891,
          2892,
          2893,
          2894,
          2895,
          2896,
          2953,
          2954,
          2955,
          2956,
          2957,
          2958,
          2959,
          2960,
          2961,
          2962,
          2963,
          2964,
          2965,
          2966,
          2967,
          2968,
          2969,
          2970,
          2971,
          2972,
          2973,
          2974,
          2975,
          2976,
          2977,
          2978,
          2979,
          2980,
          2981,
          2982,
          2983,
          2984,
          2985,
          2986,
          2987,
          2988,
          2989,
          2990,
          2991,
          2992,
          3049,
          3050,
          3051,
          3052,
          3053,
          3054,
          3055,
          3056,
          3057,
          3058,
          3059,
          3060,
          3061,
          3062,
          3063,
          3064,
          3065,
          3066,
          3067,
          3068,
          3069,
          3070,
          3071,
          3072,
          3073,
          3074,
          3075,
          3076,
          3077,
          3078,
          3079,
          3080,
          3081,
          3082,
          3083,
          3084,
          3085,
          3086,
          3087,
          3088,
          3145,
          3146,
          3147,
          3148,
          3149,
          3150,
          3151,
          3152,
          3153,
          3154,
          3155,
          3156,
          3157,
          3158,
          3159,
          3160,
          3161,
          3162,
          3163,
          3164,
          3165,
          3166,
          3167,
          3168,
          3169,
          3170,
          3171,
          3172,
          3173,
          3174,
          3175,
          3176,
          3177,
          3178,
          3179,
          3180,
          3181,
          3182,
          3183,
          3184,
          3185,
          3186,
          3187,
          3188,
          3189,
          3190,
          3191,
          3192,
          3193,
          3194,
          3195,
          3196,
          3197,
          3198,
          3199,
          3200,
          3201,
          3202,
          3203,
          3204,
          3205,
          3206,
          3207,
          3208,
          3209,
          3210,
          3211,
          3212,
          3213,
          3214,
          3215,
          3216,
          3217,
          3218,
          3219,
          3220,
          3221,
          3222,
          3223,
          3224,
          3225,
          3226,
          3227,
          3228,
          3229,
          3230,
          3231,
          3232,
          3233,
          3234,
          3235,
          3236,
          3237,
          3238,
          3239,
          3240,
          3241,
          3242,
          3243,
          3244,
          3245,
          3246,
          3247,
          3248,
          3249,
          3250,
          3251,
          3252,
          3253,
          3254,
          3255,
          3256,
          3257,
          3258,
          3259,
          3260,
          3261,
          3262,
          3263,
          3264,
          3265,
          3266,
          3267,
          3268,
          3269,
          3270,
          3271,
          3272,
          3273,
          3274,
          3275,
          3276,
          3277,
          3278,
          3279,
          3280,
          3337,
          3338,
          3339,
          3340,
          3341,
          3342,
          3343,
          3344,
          3345,
          3346,
          3347,
          3348,
          3349,
          3350,
          3351,
          3352,
          3353,
          3354,
          3355,
          3356,
          3357,
          3358,
          3359,
          3360,
          3361,
          3362,
          3363,
          3364,
          3365,
          3366,
          3367,
          3368,
          3369,
          3370,
          3371,
          3372,
          3373,
          3374,
          3375,
          3376,
          3433,
          3434,
          3435,
          3436,
          3437,
          3438,
          3439,
          3440,
          3441,
          3442,
          3443,
          3444,
          3445,
          3446,
          3447,
          3448,
          3449,
          3450,
          3451,
          3452,
          3453,
          3454,
          3455,
          3456,
          3457,
          3458,
          3459,
          3460,
          3461,
          3462,
          3463,
          3464,
          3465,
          3466,
          3467,
          3468,
          3469,
          3470,
          3471,
          3472,
          3529,
          3530,
          3531,
          3532,
          3533,
          3534,
          3535,
          3536,
          3537,
          3538,
          3539,
          3540,
          3541,
          3542,
          3543,
          3544,
          3545,
          3546,
          3547,
          3548,
          3549,
          3550,
          3551,
          3552,
          3553,
          3554,
          3555,
          3556,
          3557,
          3558,
          3559,
          3560,
          3561,
          3562,
          3563,
          3564,
          3565,
          3566,
          3567,
          3568,
          3625,
          3626,
          3627,
          3628,
          3629,
          3630,
          3631,
          3632,
          3633,
          3634,
          3635,
          3636,
          3637,
          3638,
          3639,
          3640,
          3641,
          3642,
          3643,
          3644,
          3645,
          3646,
          3647,
          3648,
          3649,
          3650,
          3651,
          3652,
          3653,
          3654,
          3655,
          3656,
          3657,
          3658,
          3659,
          3660,
          3661,
          3662,
          3663,
          3664,
          3721,
          3722,
          3723,
          3724,
          3725,
          3726,
          3727,
          3728,
          3729,
          3730,
          3731,
          3732,
          3733,
          3734,
          3735,
          3736,
          3737,
          3738,
          3739,
          3740,
          3741,
          3742,
          3743,
          3744,
          3745,
          3746,
          3747,
          3748,
          3749,
          3750,
          3751,
          3752,
          3753,
          3754,
          3755,
          3756,
          3757,
          3758,
          3759,
          3760,
          3817,
          3818,
          3819,
          3820,
          3821,
          3822,
          3823,
          3824,
          3825,
          3826,
          3827,
          3828,
          3829,
          3830,
          3831,
          3832,
          3833,
          3834,
          3835,
          3836,
          3837,
          3838,
          3839,
          3840,
          3841,
          3842,
          3843,
          3844,
          3845,
          3846,
          3847,
          3848,
          3849,
          3850,
          3851,
          3852,
          3853,
          3854,
          3855,
          3856,
          3913,
          3914,
          3915,
          3916,
          3917,
          3918,
          3919,
          3920,
          3921,
          3922,
          3923,
          3924,
          3925,
          3926,
          3927,
          3928,
          3929,
          3930,
          3931,
          3932,
          3933,
          3934,
          3935,
          3936,
          3937,
          3938,
          3939,
          3940,
          3941,
          3942,
          3943,
          3944,
          3945,
          3946,
          3947,
          3948,
          3949,
          3950,
          3951,
          3952,
          4009,
          4010,
          4011,
          4012,
          4013,
          4014,
          4015,
          4016,
          4017,
          4018,
          4019,
          4020,
          4021,
          4022,
          4023,
          4024,
          4025,
          4026,
          4027,
          4028,
          4029,
          4030,
          4031,
          4032,
          4033,
          4034,
          4035,
          4036,
          4037,
          4038,
          4039,
          4040,
          4041,
          4042,
          4043,
          4044,
          4045,
          4046,
          4047,
          4048,
          4105,
          4106,
          4107,
          4108,
          4109,
          4110,
          4111,
          4112,
          4113,
          4114,
          4115,
          4116,
          4117,
          4118,
          4119,
          4120,
          4121,
          4122,
          4123,
          4124,
          4125,
          4126,
          4127,
          4128,
          4129,
          4130,
          4131,
          4132,
          4133,
          4134,
          4135,
          4136,
          4137,
          4138,
          4139,
          4140,
          4141,
          4142,
          4143,
          4144,
          4201,
          4202,
          4203,
          4204,
          4205,
          4206,
          4207,
          4208,
          4209,
          4210,
          4211,
          4212,
          4213,
          4214,
          4215,
          4216,
          4217,
          4218,
          4219,
          4220,
          4221,
          4222,
          4223,
          4224,
          4225,
          4226,
          4227,
          4228,
          4229,
          4230,
          4231,
          4232,
          4233,
          4234,
          4235,
          4236,
          4237,
          4238,
          4239,
          4240,
          4297,
          4298,
          4299,
          4300,
          4301,
          4302,
          4303,
          4304,
          4305,
          4306,
          4307,
          4308,
          4309,
          4310,
          4311,
          4312,
          4313,
          4314,
          4315,
          4316,
          4317,
          4318,
          4319,
          4320,
          4321,
          4322,
          4323,
          4324,
          4325,
          4326,
          4327,
          4328,
          4329,
          4330,
          4331,
          4332,
          4333,
          4334,
          4335,
          4336,
          4393,
          4394,
          4395,
          4396,
          4397,
          4398,
          4399,
          4400,
          4401,
          4402,
          4403,
          4404,
          4405,
          4406,
          4407,
          4408,
          4409,
          4410,
          4411,
          4412,
          4413,
          4414,
          4415,
          4416,
          4417,
          4418,
          4419,
          4420,
          4421,
          4422,
          4423,
          4424,
          4425,
          4426,
          4427,
          4428,
          4429,
          4430,
          4431,
          4432,
          4489,
          4490,
          4491,
          4492,
          4493,
          4494,
          4495,
          4496,
          4497,
          4498,
          4499,
          4500,
          4501,
          4502,
          4503,
          4504,
          4505,
          4506,
          4507,
          4508,
          4509,
          4510,
          4511,
          4512,
          4513,
          4514,
          4515,
          4516,
          4517,
          4518,
          4519,
          4520,
          4521,
          4522,
          4523,
          4524,
          4525,
          4526,
          4527,
          4528,
          4529,
          4530,
          4531,
          4532,
          4533,
          4534,
          4535,
          4536,
          4537,
          4538,
          4539,
          4540,
          4541,
          4542,
          4543,
          4544,
          4545,
          4546,
          4547,
          4548,
          4549,
          4550,
          4551,
          4552,
          4553,
          4554,
          4555,
          4556,
          4557,
          4558,
          4559,
          4560,
          4561,
          4562,
          4563,
          4564,
          4565,
          4566,
          4567,
          4568,
          4569,
          4570,
          4571,
          4572,
          4573,
          4574,
          4575,
          4576,
          4577,
          4578,
          4579,
          4580,
          4581,
          4582,
          4583,
          4584,
          4585,
          4586,
          4587,
          4588,
          4589,
          4590,
          4591,
          4592,
          4593,
          4594,
          4595,
          4596,
          4597,
          4598,
          4599,
          4600,
          4601,
          4602,
          4603,
          4604,
          4605,
          4606,
          4607,
          4608,
          4609,
          4610,
          4611,
          4612,
          4613,
          4614,
          4615,
          4616,
          4617,
          4618,
          4619,
          4620,
          4621,
          4622,
          4623,
          4624,
          4681,
          4682,
          4683,
          4684,
          4685,
          4686,
          4687,
          4688,
          4689,
          4690,
          4691,
          4692,
          4693,
          4694,
          4695,
          4696,
          4697,
          4698,
          4699,
          4700,
          4701,
          4702,
          4703,
          4704,
          4705,
          4706,
          4707,
          4708,
          4709,
          4710,
          4711,
          4712,
          4713,
          4714,
          4715,
          4716,
          4717,
          4718,
          4719,
          4720,
          4777,
          4778,
          4779,
          4780,
          4781,
          4782,
          4783,
          4784,
          4785,
          4786,
          4787,
          4788,
          4789,
          4790,
          4791,
          4792,
          4793,
          4794,
          4795,
          4796,
          4797,
          4798,
          4799,
          4800,
          4801,
          4802,
          4803,
          4804,
          4805,
          4806,
          4807,
          4808,
          4809,
          4810,
          4811,
          4812,
          4813,
          4814,
          4815,
          4816,
          4873,
          4874,
          4875,
          4876,
          4877,
          4878,
          4879,
          4880,
          4881,
          4882,
          4883,
          4884,
          4885,
          4886,
          4887,
          4888,
          4889,
          4890,
          4891,
          4892,
          4893,
          4894,
          4895,
          4896,
          4897,
          4898,
          4899,
          4900,
          4901,
          4902,
          4903,
          4904,
          4905,
          4906,
          4907,
          4908,
          4909,
          4910,
          4911,
          4912,
          4969,
          4970,
          4971,
          4972,
          4973,
          4974,
          4975,
          4976,
          4977,
          4978,
          4979,
          4980,
          4981,
          4982,
          4983,
          4984,
          4985,
          4986,
          4987,
          4988,
          4989,
          4990,
          4991,
          4992,
          4993,
          4994,
          4995,
          4996,
          4997,
          4998,
          4999,
          5000,
          5001,
          5002,
          5003,
          5004,
          5005,
          5006,
          5007,
          5008,
          5065,
          5066,
          5067,
          5068,
          5069,
          5070,
          5071,
          5072,
          5073,
          5074,
          5075,
          5076,
          5077,
          5078,
          5079,
          5080,
          5081,
          5082,
          5083,
          5084,
          5085,
          5086,
          5087,
          5088,
          5089,
          5090,
          5091,
          5092,
          5093,
          5094,
          5095,
          5096,
          5097,
          5098,
          5099,
          5100,
          5101,
          5102,
          5103,
          5104,
          5161,
          5162,
          5163,
          5164,
          5165,
          5166,
          5167,
          5168,
          5169,
          5170,
          5171,
          5172,
          5173,
          5174,
          5175,
          5176,
          5177,
          5178,
          5179,
          5180,
          5181,
          5182,
          5183,
          5184,
          5185,
          5186,
          5187,
          5188,
          5189,
          5190,
          5191,
          5192,
          5193,
          5194,
          5195,
          5196,
          5197,
          5198,
          5199,
          5200,
          5257,
          5258,
          5259,
          5260,
          5261,
          5262,
          5263,
          5264,
          5265,
          5266,
          5267,
          5268,
          5269,
          5270,
          5271,
          5272,
          5273,
          5274,
          5275,
          5276,
          5277,
          5278,
          5279,
          5280,
          5281,
          5282,
          5283,
          5284,
          5285,
          5286,
          5287,
          5288,
          5289,
          5290,
          5291,
          5292,
          5293,
          5294,
          5295,
          5296,
          5353,
          5354,
          5355,
          5356,
          5357,
          5358,
          5359,
          5360,
          5361,
          5362,
          5363,
          5364,
          5365,
          5366,
          5367,
          5368,
          5369,
          5370,
          5371,
          5372,
          5373,
          5374,
          5375,
          5376,
          5377,
          5378,
          5379,
          5380,
          5381,
          5382,
          5383,
          5384,
          5385,
          5386,
          5387,
          5388,
          5389,
          5390,
          5391,
          5392,
          5449,
          5450,
          5451,
          5452,
          5453,
          5454,
          5455,
          5456,
          5457,
          5458,
          5459,
          5460,
          5461,
          5462,
          5463,
          5464,
          5465,
          5466,
          5467,
          5468,
          5469,
          5470,
          5471,
          5472,
          5473,
          5474,
          5475,
          5476,
          5477,
          5478,
          5479,
          5480,
          5481,
          5482,
          5483,
          5484,
          5485,
          5486,
          5487,
          5488,
          5545,
          5546,
          5547,
          5548,
          5549,
          5550,
          5551,
          5552,
          5553,
          5554,
          5555,
          5556,
          5557,
          5558,
          5559,
          5560,
          5561,
          5562,
          5563,
          5564,
          5565,
          5566,
          5567,
          5568,
          5569,
          5570,
          5571,
          5572,
          5573,
          5574,
          5575,
          5576,
          5577,
          5578,
          5579,
          5580,
          5581,
          5582,
          5583,
          5584,
          5641,
          5642,
          5643,
          5644,
          5645,
          5646,
          5647,
          5648,
          5649,
          5650,
          5651,
          5652,
          5653,
          5654,
          5655,
          5656,
          5657,
          5658,
          5659,
          5660,
          5661,
          5662,
          5663,
          5664,
          5665,
          5666,
          5667,
          5668,
          5669,
          5670,
          5671,
          5672,
          5673,
          5674,
          5675,
          5676,
          5677,
          5678,
          5679,
          5680,
          5737,
          5738,
          5739,
          5740,
          5741,
          5742,
          5743,
          5744,
          5745,
          5746,
          5747,
          5748,
          5749,
          5750,
          5751,
          5752,
          5753,
          5754,
          5755,
          5756,
          5757,
          5758,
          5759,
          5760,
          5761,
          5762,
          5763,
          5764,
          5765,
          5766,
          5767,
          5768,
          5769,
          5770,
          5771,
          5772,
          5773,
          5774,
          5775,
          5776,
          5777,
          5778,
          5779,
          5780,
          5781,
          5782,
          5783,
          5784,
          5785,
          5786,
          5787,
          5788,
          5789,
          5790,
          5791,
          5792,
          5793,
          5794,
          5795,
          5796,
          5797,
          5798,
          5799,
          5800,
          5801,
          5802,
          5803,
          5804,
          5805,
          5806,
          5807,
          5808,
          5809,
          5810,
          5811,
          5812,
          5813,
          5814,
          5815,
          5816,
          5817,
          5818,
          5819,
          5820,
          5821,
          5822,
          5823,
          5824,
          5825,
          5826,
          5827,
          5828,
          5829,
          5830,
          5831,
          5832,
          5833,
          5834,
          5835,
          5836,
          5837,
          5838,
          5839,
          5840,
          5841,
          5842,
          5843,
          5844,
          5845,
          5846,
          5847,
          5848,
          5849,
          5850,
          5851,
          5852,
          5853,
          5854,
          5855,
          5856,
          5857,
          5858,
          5859,
          5860,
          5861,
          5862,
          5863,
          5864,
          5865,
          5866,
          5867,
          5868,
          5869,
          5870,
          5871,
          5872,
          5873,
          5874,
          5875,
          5876,
          5877,
          5878,
          5879,
          5880,
          5881,
          5882,
          5883,
          5884,
          5885,
          5886,
          5887,
          5888,
          5889,
          5890,
          5891,
          5892,
          5893,
          5894,
          5895,
          5896,
          5897,
          5898,
          5899,
          5900,
          5901,
          5902,
          5903,
          5904,
          5905,
          5906,
          5907,
          5908,
          5909,
          5910,
          5911,
          5912,
          5913,
          5914,
          5915,
          5916,
          5917,
          5918,
          5919,
          5920,
          5921,
          5922,
          5923,
          5924,
          5925,
          5926,
          5927,
          5928,
          5929,
          5930,
          5931,
          5932,
          5933,
          5934,
          5935,
          5936,
          5937,
          5938,
          5939,
          5940,
          5941,
          5942,
          5943,
          5944,
          5945,
          5946,
          5947,
          5948,
          5949,
          5950,
          5951,
          5952,
          5953,
          5954,
          5955,
          5956,
          5957,
          5958,
          5959,
          5960,
          5961,
          5962,
          5963,
          5964,
          5965,
          5966,
          5967,
          5968,
          6025,
          6026,
          6027,
          6028,
          6029,
          6030,
          6031,
          6032,
          6033,
          6034,
          6035,
          6036,
          6037,
          6038,
          6039,
          6040,
          6041,
          6042,
          6043,
          6044,
          6045,
          6046,
          6047,
          6048,
          6049,
          6050,
          6051,
          6052,
          6053,
          6054,
          6055,
          6056,
          6057,
          6058,
          6059,
          6060,
          6061,
          6062,
          6063,
          6064,
          6121,
          6122,
          6123,
          6124,
          6125,
          6126,
          6127,
          6128,
          6129,
          6130,
          6131,
          6132,
          6133,
          6134,
          6135,
          6136,
          6137,
          6138,
          6139,
          6140,
          6141,
          6142,
          6143,
          6144,
          6145,
          6146,
          6147,
          6148,
          6149,
          6150,
          6151,
          6152,
          6153,
          6154,
          6155,
          6156,
          6157,
          6158,
          6159,
          6160,
          6217,
          6218,
          6219,
          6220,
          6221,
          6222,
          6223,
          6224,
          6225,
          6226,
          6227,
          6228,
          6229,
          6230,
          6231,
          6232,
          6233,
          6234,
          6235,
          6236,
          6237,
          6238,
          6239,
          6240,
          6241,
          6242,
          6243,
          6244,
          6245,
          6246,
          6247,
          6248,
          6249,
          6250,
          6251,
          6252,
          6253,
          6254,
          6255,
          6256,
          6313,
          6314,
          6315,
          6316,
          6317,
          6318,
          6319,
          6320,
          6321,
          6322,
          6323,
          6324,
          6325,
          6326,
          6327,
          6328,
          6329,
          6330,
          6331,
          6332,
          6333,
          6334,
          6335,
          6336,
          6337,
          6338,
          6339,
          6340,
          6341,
          6342,
          6343,
          6344,
          6345,
          6346,
          6347,
          6348,
          6349,
          6350,
          6351,
          6352,
          6409,
          6410,
          6411,
          6412
         ],
         "yaxis": "y"
        },
        {
         "customdata": [
          [
           "27-09-2018 09:15"
          ],
          [
           "27-09-2018 09:30"
          ],
          [
           "27-09-2018 09:45"
          ],
          [
           "27-09-2018 10:00"
          ],
          [
           "27-09-2018 12:15"
          ],
          [
           "27-09-2018 12:30"
          ],
          [
           "27-09-2018 12:45"
          ],
          [
           "27-09-2018 13:00"
          ],
          [
           "27-09-2018 17:15"
          ],
          [
           "27-09-2018 17:30"
          ],
          [
           "27-09-2018 17:45"
          ],
          [
           "27-09-2018 18:00"
          ],
          [
           "27-09-2018 18:15"
          ],
          [
           "27-09-2018 18:30"
          ],
          [
           "27-09-2018 18:45"
          ],
          [
           "27-09-2018 19:00"
          ],
          [
           "27-09-2018 19:15"
          ],
          [
           "27-09-2018 19:30"
          ],
          [
           "27-09-2018 19:45"
          ],
          [
           "27-09-2018 20:00"
          ],
          [
           "27-09-2018 20:15"
          ],
          [
           "27-09-2018 20:30"
          ],
          [
           "27-09-2018 20:45"
          ],
          [
           "27-09-2018 21:00"
          ],
          [
           "27-09-2018 21:15"
          ],
          [
           "27-09-2018 21:30"
          ],
          [
           "27-09-2018 21:45"
          ],
          [
           "27-09-2018 22:00"
          ],
          [
           "27-09-2018 22:15"
          ],
          [
           "27-09-2018 22:30"
          ],
          [
           "27-09-2018 22:45"
          ],
          [
           "27-09-2018 23:00"
          ],
          [
           "28-09-2018 09:15"
          ],
          [
           "28-09-2018 09:30"
          ],
          [
           "28-09-2018 09:45"
          ],
          [
           "28-09-2018 10:00"
          ],
          [
           "28-09-2018 12:15"
          ],
          [
           "28-09-2018 12:30"
          ],
          [
           "28-09-2018 12:45"
          ],
          [
           "28-09-2018 13:00"
          ],
          [
           "28-09-2018 17:15"
          ],
          [
           "28-09-2018 17:30"
          ],
          [
           "28-09-2018 17:45"
          ],
          [
           "28-09-2018 18:00"
          ],
          [
           "28-09-2018 18:15"
          ],
          [
           "28-09-2018 18:30"
          ],
          [
           "28-09-2018 18:45"
          ],
          [
           "28-09-2018 19:00"
          ],
          [
           "28-09-2018 19:15"
          ],
          [
           "28-09-2018 19:30"
          ],
          [
           "28-09-2018 19:45"
          ],
          [
           "28-09-2018 20:00"
          ],
          [
           "28-09-2018 20:15"
          ],
          [
           "28-09-2018 20:30"
          ],
          [
           "28-09-2018 20:45"
          ],
          [
           "28-09-2018 21:00"
          ],
          [
           "28-09-2018 21:15"
          ],
          [
           "28-09-2018 21:30"
          ],
          [
           "28-09-2018 21:45"
          ],
          [
           "28-09-2018 22:00"
          ],
          [
           "28-09-2018 22:15"
          ],
          [
           "28-09-2018 22:30"
          ],
          [
           "28-09-2018 22:45"
          ],
          [
           "28-09-2018 23:00"
          ],
          [
           "29-09-2018 09:15"
          ],
          [
           "29-09-2018 09:30"
          ],
          [
           "29-09-2018 09:45"
          ],
          [
           "29-09-2018 10:00"
          ],
          [
           "29-09-2018 12:15"
          ],
          [
           "29-09-2018 12:30"
          ],
          [
           "29-09-2018 12:45"
          ],
          [
           "29-09-2018 13:00"
          ],
          [
           "29-09-2018 17:15"
          ],
          [
           "29-09-2018 17:30"
          ],
          [
           "29-09-2018 17:45"
          ],
          [
           "29-09-2018 18:00"
          ],
          [
           "29-09-2018 18:15"
          ],
          [
           "29-09-2018 18:30"
          ],
          [
           "29-09-2018 18:45"
          ],
          [
           "29-09-2018 19:00"
          ],
          [
           "29-09-2018 19:15"
          ],
          [
           "29-09-2018 19:30"
          ],
          [
           "29-09-2018 19:45"
          ],
          [
           "29-09-2018 20:00"
          ],
          [
           "29-09-2018 20:15"
          ],
          [
           "29-09-2018 20:30"
          ],
          [
           "29-09-2018 20:45"
          ],
          [
           "29-09-2018 21:00"
          ],
          [
           "29-09-2018 21:15"
          ],
          [
           "29-09-2018 21:30"
          ],
          [
           "29-09-2018 21:45"
          ],
          [
           "29-09-2018 22:00"
          ],
          [
           "29-09-2018 22:15"
          ],
          [
           "29-09-2018 22:30"
          ],
          [
           "29-09-2018 22:45"
          ],
          [
           "29-09-2018 23:00"
          ],
          [
           "01-10-2018 09:15"
          ],
          [
           "01-10-2018 09:30"
          ],
          [
           "01-10-2018 09:45"
          ],
          [
           "01-10-2018 10:00"
          ],
          [
           "01-10-2018 12:15"
          ],
          [
           "01-10-2018 12:30"
          ],
          [
           "01-10-2018 12:45"
          ],
          [
           "01-10-2018 13:00"
          ],
          [
           "01-10-2018 17:15"
          ],
          [
           "01-10-2018 17:30"
          ],
          [
           "01-10-2018 17:45"
          ],
          [
           "01-10-2018 18:00"
          ],
          [
           "01-10-2018 18:15"
          ],
          [
           "01-10-2018 18:30"
          ],
          [
           "01-10-2018 18:45"
          ],
          [
           "01-10-2018 19:00"
          ],
          [
           "01-10-2018 19:15"
          ],
          [
           "01-10-2018 19:30"
          ],
          [
           "01-10-2018 19:45"
          ],
          [
           "01-10-2018 20:00"
          ],
          [
           "01-10-2018 20:15"
          ],
          [
           "01-10-2018 20:30"
          ],
          [
           "01-10-2018 20:45"
          ],
          [
           "01-10-2018 21:00"
          ],
          [
           "01-10-2018 21:15"
          ],
          [
           "01-10-2018 21:30"
          ],
          [
           "01-10-2018 21:45"
          ],
          [
           "01-10-2018 22:00"
          ],
          [
           "01-10-2018 22:15"
          ],
          [
           "01-10-2018 22:30"
          ],
          [
           "01-10-2018 22:45"
          ],
          [
           "01-10-2018 23:00"
          ],
          [
           "02-10-2018 09:15"
          ],
          [
           "02-10-2018 09:30"
          ],
          [
           "02-10-2018 09:45"
          ],
          [
           "02-10-2018 10:00"
          ],
          [
           "02-10-2018 12:15"
          ],
          [
           "02-10-2018 12:30"
          ],
          [
           "02-10-2018 12:45"
          ],
          [
           "02-10-2018 13:00"
          ],
          [
           "02-10-2018 17:15"
          ],
          [
           "02-10-2018 17:30"
          ],
          [
           "02-10-2018 17:45"
          ],
          [
           "02-10-2018 18:00"
          ],
          [
           "02-10-2018 18:15"
          ],
          [
           "02-10-2018 18:30"
          ],
          [
           "02-10-2018 18:45"
          ],
          [
           "02-10-2018 19:00"
          ],
          [
           "02-10-2018 19:15"
          ],
          [
           "02-10-2018 19:30"
          ],
          [
           "02-10-2018 19:45"
          ],
          [
           "02-10-2018 20:00"
          ],
          [
           "02-10-2018 20:15"
          ],
          [
           "02-10-2018 20:30"
          ],
          [
           "02-10-2018 20:45"
          ],
          [
           "02-10-2018 21:00"
          ],
          [
           "02-10-2018 21:15"
          ],
          [
           "02-10-2018 21:30"
          ],
          [
           "02-10-2018 21:45"
          ],
          [
           "02-10-2018 22:00"
          ],
          [
           "02-10-2018 22:15"
          ],
          [
           "02-10-2018 22:30"
          ],
          [
           "02-10-2018 22:45"
          ],
          [
           "02-10-2018 23:00"
          ],
          [
           "03-10-2018 09:15"
          ],
          [
           "03-10-2018 09:30"
          ],
          [
           "03-10-2018 09:45"
          ],
          [
           "03-10-2018 10:00"
          ],
          [
           "03-10-2018 12:15"
          ],
          [
           "03-10-2018 12:30"
          ],
          [
           "03-10-2018 12:45"
          ],
          [
           "03-10-2018 13:00"
          ],
          [
           "03-10-2018 17:15"
          ],
          [
           "03-10-2018 17:30"
          ],
          [
           "03-10-2018 17:45"
          ],
          [
           "03-10-2018 18:00"
          ],
          [
           "03-10-2018 18:15"
          ],
          [
           "03-10-2018 18:30"
          ],
          [
           "03-10-2018 18:45"
          ],
          [
           "03-10-2018 19:00"
          ],
          [
           "03-10-2018 19:15"
          ],
          [
           "03-10-2018 19:30"
          ],
          [
           "03-10-2018 19:45"
          ],
          [
           "03-10-2018 20:00"
          ],
          [
           "03-10-2018 20:15"
          ],
          [
           "03-10-2018 20:30"
          ],
          [
           "03-10-2018 20:45"
          ],
          [
           "03-10-2018 21:00"
          ],
          [
           "03-10-2018 21:15"
          ],
          [
           "03-10-2018 21:30"
          ],
          [
           "03-10-2018 21:45"
          ],
          [
           "03-10-2018 22:00"
          ],
          [
           "03-10-2018 22:15"
          ],
          [
           "03-10-2018 22:30"
          ],
          [
           "03-10-2018 22:45"
          ],
          [
           "03-10-2018 23:00"
          ],
          [
           "04-10-2018 09:15"
          ],
          [
           "04-10-2018 09:30"
          ],
          [
           "04-10-2018 09:45"
          ],
          [
           "04-10-2018 10:00"
          ],
          [
           "04-10-2018 12:15"
          ],
          [
           "04-10-2018 12:30"
          ],
          [
           "04-10-2018 12:45"
          ],
          [
           "04-10-2018 13:00"
          ],
          [
           "04-10-2018 17:15"
          ],
          [
           "04-10-2018 17:30"
          ],
          [
           "04-10-2018 17:45"
          ],
          [
           "04-10-2018 18:00"
          ],
          [
           "04-10-2018 18:15"
          ],
          [
           "04-10-2018 18:30"
          ],
          [
           "04-10-2018 18:45"
          ],
          [
           "04-10-2018 19:00"
          ],
          [
           "04-10-2018 19:15"
          ],
          [
           "04-10-2018 19:30"
          ],
          [
           "04-10-2018 19:45"
          ],
          [
           "04-10-2018 20:00"
          ],
          [
           "04-10-2018 20:15"
          ],
          [
           "04-10-2018 20:30"
          ],
          [
           "04-10-2018 20:45"
          ],
          [
           "04-10-2018 21:00"
          ],
          [
           "04-10-2018 21:15"
          ],
          [
           "04-10-2018 21:30"
          ],
          [
           "04-10-2018 21:45"
          ],
          [
           "04-10-2018 22:00"
          ],
          [
           "04-10-2018 22:15"
          ],
          [
           "04-10-2018 22:30"
          ],
          [
           "04-10-2018 22:45"
          ],
          [
           "04-10-2018 23:00"
          ],
          [
           "05-10-2018 09:15"
          ],
          [
           "05-10-2018 09:30"
          ],
          [
           "05-10-2018 09:45"
          ],
          [
           "05-10-2018 10:00"
          ],
          [
           "05-10-2018 12:15"
          ],
          [
           "05-10-2018 12:30"
          ],
          [
           "05-10-2018 12:45"
          ],
          [
           "05-10-2018 13:00"
          ],
          [
           "05-10-2018 17:15"
          ],
          [
           "05-10-2018 17:30"
          ],
          [
           "05-10-2018 17:45"
          ],
          [
           "05-10-2018 18:00"
          ],
          [
           "05-10-2018 18:15"
          ],
          [
           "05-10-2018 18:30"
          ],
          [
           "05-10-2018 18:45"
          ],
          [
           "05-10-2018 19:00"
          ],
          [
           "05-10-2018 19:15"
          ],
          [
           "05-10-2018 19:30"
          ],
          [
           "05-10-2018 19:45"
          ],
          [
           "05-10-2018 20:00"
          ],
          [
           "05-10-2018 20:15"
          ],
          [
           "05-10-2018 20:30"
          ],
          [
           "05-10-2018 20:45"
          ],
          [
           "05-10-2018 21:00"
          ],
          [
           "05-10-2018 21:15"
          ],
          [
           "05-10-2018 21:30"
          ],
          [
           "05-10-2018 21:45"
          ],
          [
           "05-10-2018 22:00"
          ],
          [
           "05-10-2018 22:15"
          ],
          [
           "05-10-2018 22:30"
          ],
          [
           "05-10-2018 22:45"
          ],
          [
           "05-10-2018 23:00"
          ],
          [
           "06-10-2018 09:15"
          ],
          [
           "06-10-2018 09:30"
          ],
          [
           "06-10-2018 09:45"
          ],
          [
           "06-10-2018 10:00"
          ],
          [
           "06-10-2018 12:15"
          ],
          [
           "06-10-2018 12:30"
          ],
          [
           "06-10-2018 12:45"
          ],
          [
           "06-10-2018 13:00"
          ],
          [
           "06-10-2018 17:15"
          ],
          [
           "06-10-2018 17:30"
          ],
          [
           "06-10-2018 17:45"
          ],
          [
           "06-10-2018 18:00"
          ],
          [
           "06-10-2018 18:15"
          ],
          [
           "06-10-2018 18:30"
          ],
          [
           "06-10-2018 18:45"
          ],
          [
           "06-10-2018 19:00"
          ],
          [
           "06-10-2018 19:15"
          ],
          [
           "06-10-2018 19:30"
          ],
          [
           "06-10-2018 19:45"
          ],
          [
           "06-10-2018 20:00"
          ],
          [
           "06-10-2018 20:15"
          ],
          [
           "06-10-2018 20:30"
          ],
          [
           "06-10-2018 20:45"
          ],
          [
           "06-10-2018 21:00"
          ],
          [
           "06-10-2018 21:15"
          ],
          [
           "06-10-2018 21:30"
          ],
          [
           "06-10-2018 21:45"
          ],
          [
           "06-10-2018 22:00"
          ],
          [
           "06-10-2018 22:15"
          ],
          [
           "06-10-2018 22:30"
          ],
          [
           "06-10-2018 22:45"
          ],
          [
           "06-10-2018 23:00"
          ],
          [
           "08-10-2018 09:15"
          ],
          [
           "08-10-2018 09:30"
          ],
          [
           "08-10-2018 09:45"
          ],
          [
           "08-10-2018 10:00"
          ],
          [
           "08-10-2018 12:15"
          ],
          [
           "08-10-2018 12:30"
          ],
          [
           "08-10-2018 12:45"
          ],
          [
           "08-10-2018 13:00"
          ],
          [
           "08-10-2018 17:15"
          ],
          [
           "08-10-2018 17:30"
          ],
          [
           "08-10-2018 17:45"
          ],
          [
           "08-10-2018 18:00"
          ],
          [
           "08-10-2018 18:15"
          ],
          [
           "08-10-2018 18:30"
          ],
          [
           "08-10-2018 18:45"
          ],
          [
           "08-10-2018 19:00"
          ],
          [
           "08-10-2018 19:15"
          ],
          [
           "08-10-2018 19:30"
          ],
          [
           "08-10-2018 19:45"
          ],
          [
           "08-10-2018 20:00"
          ],
          [
           "08-10-2018 20:15"
          ],
          [
           "08-10-2018 20:30"
          ],
          [
           "08-10-2018 20:45"
          ],
          [
           "08-10-2018 21:00"
          ],
          [
           "08-10-2018 21:15"
          ],
          [
           "08-10-2018 21:30"
          ],
          [
           "08-10-2018 21:45"
          ],
          [
           "08-10-2018 22:00"
          ],
          [
           "08-10-2018 22:15"
          ],
          [
           "08-10-2018 22:30"
          ],
          [
           "08-10-2018 22:45"
          ],
          [
           "08-10-2018 23:00"
          ],
          [
           "09-10-2018 09:15"
          ],
          [
           "09-10-2018 09:30"
          ],
          [
           "09-10-2018 09:45"
          ],
          [
           "09-10-2018 10:00"
          ],
          [
           "09-10-2018 12:15"
          ],
          [
           "09-10-2018 12:30"
          ],
          [
           "09-10-2018 12:45"
          ],
          [
           "09-10-2018 13:00"
          ],
          [
           "09-10-2018 17:15"
          ],
          [
           "09-10-2018 17:30"
          ],
          [
           "09-10-2018 17:45"
          ],
          [
           "09-10-2018 18:00"
          ],
          [
           "09-10-2018 18:15"
          ],
          [
           "09-10-2018 18:30"
          ],
          [
           "09-10-2018 18:45"
          ],
          [
           "09-10-2018 19:00"
          ],
          [
           "09-10-2018 19:15"
          ],
          [
           "09-10-2018 19:30"
          ],
          [
           "09-10-2018 19:45"
          ],
          [
           "09-10-2018 20:00"
          ],
          [
           "09-10-2018 20:15"
          ],
          [
           "09-10-2018 20:30"
          ],
          [
           "09-10-2018 20:45"
          ],
          [
           "09-10-2018 21:00"
          ],
          [
           "09-10-2018 21:15"
          ],
          [
           "09-10-2018 21:30"
          ],
          [
           "09-10-2018 21:45"
          ],
          [
           "09-10-2018 22:00"
          ],
          [
           "09-10-2018 22:15"
          ],
          [
           "09-10-2018 22:30"
          ],
          [
           "09-10-2018 22:45"
          ],
          [
           "09-10-2018 23:00"
          ],
          [
           "10-10-2018 09:15"
          ],
          [
           "10-10-2018 09:30"
          ],
          [
           "10-10-2018 09:45"
          ],
          [
           "10-10-2018 10:00"
          ],
          [
           "10-10-2018 12:15"
          ],
          [
           "10-10-2018 12:30"
          ],
          [
           "10-10-2018 12:45"
          ],
          [
           "10-10-2018 13:00"
          ],
          [
           "10-10-2018 17:15"
          ],
          [
           "10-10-2018 17:30"
          ],
          [
           "10-10-2018 17:45"
          ],
          [
           "10-10-2018 18:00"
          ],
          [
           "10-10-2018 18:15"
          ],
          [
           "10-10-2018 18:30"
          ],
          [
           "10-10-2018 18:45"
          ],
          [
           "10-10-2018 19:00"
          ],
          [
           "10-10-2018 19:15"
          ],
          [
           "10-10-2018 19:30"
          ],
          [
           "10-10-2018 19:45"
          ],
          [
           "10-10-2018 20:00"
          ],
          [
           "10-10-2018 20:15"
          ],
          [
           "10-10-2018 20:30"
          ],
          [
           "10-10-2018 20:45"
          ],
          [
           "10-10-2018 21:00"
          ],
          [
           "10-10-2018 21:15"
          ],
          [
           "10-10-2018 21:30"
          ],
          [
           "10-10-2018 21:45"
          ],
          [
           "10-10-2018 22:00"
          ],
          [
           "10-10-2018 22:15"
          ],
          [
           "10-10-2018 22:30"
          ],
          [
           "10-10-2018 22:45"
          ],
          [
           "10-10-2018 23:00"
          ],
          [
           "11-10-2018 09:15"
          ],
          [
           "11-10-2018 09:30"
          ],
          [
           "11-10-2018 09:45"
          ],
          [
           "11-10-2018 10:00"
          ],
          [
           "11-10-2018 12:15"
          ],
          [
           "11-10-2018 12:30"
          ],
          [
           "11-10-2018 12:45"
          ],
          [
           "11-10-2018 13:00"
          ],
          [
           "11-10-2018 17:15"
          ],
          [
           "11-10-2018 17:30"
          ],
          [
           "11-10-2018 17:45"
          ],
          [
           "11-10-2018 18:00"
          ],
          [
           "11-10-2018 18:15"
          ],
          [
           "11-10-2018 18:30"
          ],
          [
           "11-10-2018 18:45"
          ],
          [
           "11-10-2018 19:00"
          ],
          [
           "11-10-2018 19:15"
          ],
          [
           "11-10-2018 19:30"
          ],
          [
           "11-10-2018 19:45"
          ],
          [
           "11-10-2018 20:00"
          ],
          [
           "11-10-2018 20:15"
          ],
          [
           "11-10-2018 20:30"
          ],
          [
           "11-10-2018 20:45"
          ],
          [
           "11-10-2018 21:00"
          ],
          [
           "11-10-2018 21:15"
          ],
          [
           "11-10-2018 21:30"
          ],
          [
           "11-10-2018 21:45"
          ],
          [
           "11-10-2018 22:00"
          ],
          [
           "11-10-2018 22:15"
          ],
          [
           "11-10-2018 22:30"
          ],
          [
           "11-10-2018 22:45"
          ],
          [
           "11-10-2018 23:00"
          ],
          [
           "12-10-2018 09:15"
          ],
          [
           "12-10-2018 09:30"
          ],
          [
           "12-10-2018 09:45"
          ],
          [
           "12-10-2018 10:00"
          ],
          [
           "12-10-2018 12:15"
          ],
          [
           "12-10-2018 12:30"
          ],
          [
           "12-10-2018 12:45"
          ],
          [
           "12-10-2018 13:00"
          ],
          [
           "12-10-2018 17:15"
          ],
          [
           "12-10-2018 17:30"
          ],
          [
           "12-10-2018 17:45"
          ],
          [
           "12-10-2018 18:00"
          ],
          [
           "12-10-2018 18:15"
          ],
          [
           "12-10-2018 18:30"
          ],
          [
           "12-10-2018 18:45"
          ],
          [
           "12-10-2018 19:00"
          ],
          [
           "12-10-2018 19:15"
          ],
          [
           "12-10-2018 19:30"
          ],
          [
           "12-10-2018 19:45"
          ],
          [
           "12-10-2018 20:00"
          ],
          [
           "12-10-2018 20:15"
          ],
          [
           "12-10-2018 20:30"
          ],
          [
           "12-10-2018 20:45"
          ],
          [
           "12-10-2018 21:00"
          ],
          [
           "12-10-2018 21:15"
          ],
          [
           "12-10-2018 21:30"
          ],
          [
           "12-10-2018 21:45"
          ],
          [
           "12-10-2018 22:00"
          ],
          [
           "12-10-2018 22:15"
          ],
          [
           "12-10-2018 22:30"
          ],
          [
           "12-10-2018 22:45"
          ],
          [
           "12-10-2018 23:00"
          ],
          [
           "13-10-2018 09:15"
          ],
          [
           "13-10-2018 09:30"
          ],
          [
           "13-10-2018 09:45"
          ],
          [
           "13-10-2018 10:00"
          ],
          [
           "13-10-2018 12:15"
          ],
          [
           "13-10-2018 12:30"
          ],
          [
           "13-10-2018 12:45"
          ],
          [
           "13-10-2018 13:00"
          ],
          [
           "13-10-2018 17:15"
          ],
          [
           "13-10-2018 17:30"
          ],
          [
           "13-10-2018 17:45"
          ],
          [
           "13-10-2018 18:00"
          ],
          [
           "13-10-2018 18:15"
          ],
          [
           "13-10-2018 18:30"
          ],
          [
           "13-10-2018 18:45"
          ],
          [
           "13-10-2018 19:00"
          ],
          [
           "13-10-2018 19:15"
          ],
          [
           "13-10-2018 19:30"
          ],
          [
           "13-10-2018 19:45"
          ],
          [
           "13-10-2018 20:00"
          ],
          [
           "13-10-2018 20:15"
          ],
          [
           "13-10-2018 20:30"
          ],
          [
           "13-10-2018 20:45"
          ],
          [
           "13-10-2018 21:00"
          ],
          [
           "13-10-2018 21:15"
          ],
          [
           "13-10-2018 21:30"
          ],
          [
           "13-10-2018 21:45"
          ],
          [
           "13-10-2018 22:00"
          ],
          [
           "13-10-2018 22:15"
          ],
          [
           "13-10-2018 22:30"
          ],
          [
           "13-10-2018 22:45"
          ],
          [
           "13-10-2018 23:00"
          ],
          [
           "15-10-2018 09:15"
          ],
          [
           "15-10-2018 09:30"
          ],
          [
           "15-10-2018 09:45"
          ],
          [
           "15-10-2018 10:00"
          ],
          [
           "15-10-2018 12:15"
          ],
          [
           "15-10-2018 12:30"
          ],
          [
           "15-10-2018 12:45"
          ],
          [
           "15-10-2018 13:00"
          ],
          [
           "15-10-2018 17:15"
          ],
          [
           "15-10-2018 17:30"
          ],
          [
           "15-10-2018 17:45"
          ],
          [
           "15-10-2018 18:00"
          ],
          [
           "15-10-2018 18:15"
          ],
          [
           "15-10-2018 18:30"
          ],
          [
           "15-10-2018 18:45"
          ],
          [
           "15-10-2018 19:00"
          ],
          [
           "15-10-2018 19:15"
          ],
          [
           "15-10-2018 19:30"
          ],
          [
           "15-10-2018 19:45"
          ],
          [
           "15-10-2018 20:00"
          ],
          [
           "15-10-2018 20:15"
          ],
          [
           "15-10-2018 20:30"
          ],
          [
           "15-10-2018 20:45"
          ],
          [
           "15-10-2018 21:00"
          ],
          [
           "15-10-2018 21:15"
          ],
          [
           "15-10-2018 21:30"
          ],
          [
           "15-10-2018 21:45"
          ],
          [
           "15-10-2018 22:00"
          ],
          [
           "15-10-2018 22:15"
          ],
          [
           "15-10-2018 22:30"
          ],
          [
           "15-10-2018 22:45"
          ],
          [
           "15-10-2018 23:00"
          ],
          [
           "16-10-2018 09:15"
          ],
          [
           "16-10-2018 09:30"
          ],
          [
           "16-10-2018 09:45"
          ],
          [
           "16-10-2018 10:00"
          ],
          [
           "16-10-2018 12:15"
          ],
          [
           "16-10-2018 12:30"
          ],
          [
           "16-10-2018 12:45"
          ],
          [
           "16-10-2018 13:00"
          ],
          [
           "16-10-2018 17:15"
          ],
          [
           "16-10-2018 17:30"
          ],
          [
           "16-10-2018 17:45"
          ],
          [
           "16-10-2018 18:00"
          ],
          [
           "16-10-2018 18:15"
          ],
          [
           "16-10-2018 18:30"
          ],
          [
           "16-10-2018 18:45"
          ],
          [
           "16-10-2018 19:00"
          ],
          [
           "16-10-2018 19:15"
          ],
          [
           "16-10-2018 19:30"
          ],
          [
           "16-10-2018 19:45"
          ],
          [
           "16-10-2018 20:00"
          ],
          [
           "16-10-2018 20:15"
          ],
          [
           "16-10-2018 20:30"
          ],
          [
           "16-10-2018 20:45"
          ],
          [
           "16-10-2018 21:00"
          ],
          [
           "16-10-2018 21:15"
          ],
          [
           "16-10-2018 21:30"
          ],
          [
           "16-10-2018 21:45"
          ],
          [
           "16-10-2018 22:00"
          ],
          [
           "16-10-2018 22:15"
          ],
          [
           "16-10-2018 22:30"
          ],
          [
           "16-10-2018 22:45"
          ],
          [
           "16-10-2018 23:00"
          ],
          [
           "17-10-2018 09:15"
          ],
          [
           "17-10-2018 09:30"
          ],
          [
           "17-10-2018 09:45"
          ],
          [
           "17-10-2018 10:00"
          ],
          [
           "17-10-2018 12:15"
          ],
          [
           "17-10-2018 12:30"
          ],
          [
           "17-10-2018 12:45"
          ],
          [
           "17-10-2018 13:00"
          ],
          [
           "17-10-2018 17:15"
          ],
          [
           "17-10-2018 17:30"
          ],
          [
           "17-10-2018 17:45"
          ],
          [
           "17-10-2018 18:00"
          ],
          [
           "17-10-2018 18:15"
          ],
          [
           "17-10-2018 18:30"
          ],
          [
           "17-10-2018 18:45"
          ],
          [
           "17-10-2018 19:00"
          ],
          [
           "17-10-2018 19:15"
          ],
          [
           "17-10-2018 19:30"
          ],
          [
           "17-10-2018 19:45"
          ],
          [
           "17-10-2018 20:00"
          ],
          [
           "17-10-2018 20:15"
          ],
          [
           "17-10-2018 20:30"
          ],
          [
           "17-10-2018 20:45"
          ],
          [
           "17-10-2018 21:00"
          ],
          [
           "17-10-2018 21:15"
          ],
          [
           "17-10-2018 21:30"
          ],
          [
           "17-10-2018 21:45"
          ],
          [
           "17-10-2018 22:00"
          ],
          [
           "17-10-2018 22:15"
          ],
          [
           "17-10-2018 22:30"
          ],
          [
           "17-10-2018 22:45"
          ],
          [
           "17-10-2018 23:00"
          ],
          [
           "18-10-2018 09:15"
          ],
          [
           "18-10-2018 09:30"
          ],
          [
           "18-10-2018 09:45"
          ],
          [
           "18-10-2018 10:00"
          ],
          [
           "18-10-2018 12:15"
          ],
          [
           "18-10-2018 12:30"
          ],
          [
           "18-10-2018 12:45"
          ],
          [
           "18-10-2018 13:00"
          ],
          [
           "18-10-2018 17:15"
          ],
          [
           "18-10-2018 17:30"
          ],
          [
           "18-10-2018 17:45"
          ],
          [
           "18-10-2018 18:00"
          ],
          [
           "18-10-2018 18:15"
          ],
          [
           "18-10-2018 18:30"
          ],
          [
           "18-10-2018 18:45"
          ],
          [
           "18-10-2018 19:00"
          ],
          [
           "18-10-2018 19:15"
          ],
          [
           "18-10-2018 19:30"
          ],
          [
           "18-10-2018 19:45"
          ],
          [
           "18-10-2018 20:00"
          ],
          [
           "18-10-2018 20:15"
          ],
          [
           "18-10-2018 20:30"
          ],
          [
           "18-10-2018 20:45"
          ],
          [
           "18-10-2018 21:00"
          ],
          [
           "18-10-2018 21:15"
          ],
          [
           "18-10-2018 21:30"
          ],
          [
           "18-10-2018 21:45"
          ],
          [
           "18-10-2018 22:00"
          ],
          [
           "18-10-2018 22:15"
          ],
          [
           "18-10-2018 22:30"
          ],
          [
           "18-10-2018 22:45"
          ],
          [
           "18-10-2018 23:00"
          ],
          [
           "19-10-2018 09:15"
          ],
          [
           "19-10-2018 09:30"
          ],
          [
           "19-10-2018 09:45"
          ],
          [
           "19-10-2018 10:00"
          ],
          [
           "19-10-2018 12:15"
          ],
          [
           "19-10-2018 12:30"
          ],
          [
           "19-10-2018 12:45"
          ],
          [
           "19-10-2018 13:00"
          ],
          [
           "19-10-2018 17:15"
          ],
          [
           "19-10-2018 17:30"
          ],
          [
           "19-10-2018 17:45"
          ],
          [
           "19-10-2018 18:00"
          ],
          [
           "19-10-2018 18:15"
          ],
          [
           "19-10-2018 18:30"
          ],
          [
           "19-10-2018 18:45"
          ],
          [
           "19-10-2018 19:00"
          ],
          [
           "19-10-2018 19:15"
          ],
          [
           "19-10-2018 19:30"
          ],
          [
           "19-10-2018 19:45"
          ],
          [
           "19-10-2018 20:00"
          ],
          [
           "19-10-2018 20:15"
          ],
          [
           "19-10-2018 20:30"
          ],
          [
           "19-10-2018 20:45"
          ],
          [
           "19-10-2018 21:00"
          ],
          [
           "19-10-2018 21:15"
          ],
          [
           "19-10-2018 21:30"
          ],
          [
           "19-10-2018 21:45"
          ],
          [
           "19-10-2018 22:00"
          ],
          [
           "19-10-2018 22:15"
          ],
          [
           "19-10-2018 22:30"
          ],
          [
           "19-10-2018 22:45"
          ],
          [
           "19-10-2018 23:00"
          ],
          [
           "20-10-2018 09:15"
          ],
          [
           "20-10-2018 09:30"
          ],
          [
           "20-10-2018 09:45"
          ],
          [
           "20-10-2018 10:00"
          ],
          [
           "20-10-2018 12:15"
          ],
          [
           "20-10-2018 12:30"
          ],
          [
           "20-10-2018 12:45"
          ],
          [
           "20-10-2018 13:00"
          ],
          [
           "20-10-2018 17:15"
          ],
          [
           "20-10-2018 17:30"
          ],
          [
           "20-10-2018 17:45"
          ],
          [
           "20-10-2018 18:00"
          ],
          [
           "20-10-2018 18:15"
          ],
          [
           "20-10-2018 18:30"
          ],
          [
           "20-10-2018 18:45"
          ],
          [
           "20-10-2018 19:00"
          ],
          [
           "20-10-2018 19:15"
          ],
          [
           "20-10-2018 19:30"
          ],
          [
           "20-10-2018 19:45"
          ],
          [
           "20-10-2018 20:00"
          ],
          [
           "20-10-2018 20:15"
          ],
          [
           "20-10-2018 20:30"
          ],
          [
           "20-10-2018 20:45"
          ],
          [
           "20-10-2018 21:00"
          ],
          [
           "20-10-2018 21:15"
          ],
          [
           "20-10-2018 21:30"
          ],
          [
           "20-10-2018 21:45"
          ],
          [
           "20-10-2018 22:00"
          ],
          [
           "20-10-2018 22:15"
          ],
          [
           "20-10-2018 22:30"
          ],
          [
           "20-10-2018 22:45"
          ],
          [
           "20-10-2018 23:00"
          ],
          [
           "22-10-2018 09:15"
          ],
          [
           "22-10-2018 09:30"
          ],
          [
           "22-10-2018 09:45"
          ],
          [
           "22-10-2018 10:00"
          ],
          [
           "22-10-2018 12:15"
          ],
          [
           "22-10-2018 12:30"
          ],
          [
           "22-10-2018 12:45"
          ],
          [
           "22-10-2018 13:00"
          ],
          [
           "22-10-2018 17:15"
          ],
          [
           "22-10-2018 17:30"
          ],
          [
           "22-10-2018 17:45"
          ],
          [
           "22-10-2018 18:00"
          ],
          [
           "22-10-2018 18:15"
          ],
          [
           "22-10-2018 18:30"
          ],
          [
           "22-10-2018 18:45"
          ],
          [
           "22-10-2018 19:00"
          ],
          [
           "22-10-2018 19:15"
          ],
          [
           "22-10-2018 19:30"
          ],
          [
           "22-10-2018 19:45"
          ],
          [
           "22-10-2018 20:00"
          ],
          [
           "22-10-2018 20:15"
          ],
          [
           "22-10-2018 20:30"
          ],
          [
           "22-10-2018 20:45"
          ],
          [
           "22-10-2018 21:00"
          ],
          [
           "22-10-2018 21:15"
          ],
          [
           "22-10-2018 21:30"
          ],
          [
           "22-10-2018 21:45"
          ],
          [
           "22-10-2018 22:00"
          ],
          [
           "22-10-2018 22:15"
          ],
          [
           "22-10-2018 22:30"
          ],
          [
           "22-10-2018 22:45"
          ],
          [
           "22-10-2018 23:00"
          ],
          [
           "23-10-2018 09:15"
          ],
          [
           "23-10-2018 09:30"
          ],
          [
           "23-10-2018 09:45"
          ],
          [
           "23-10-2018 10:00"
          ],
          [
           "23-10-2018 12:15"
          ],
          [
           "23-10-2018 12:30"
          ],
          [
           "23-10-2018 12:45"
          ],
          [
           "23-10-2018 13:00"
          ],
          [
           "23-10-2018 17:15"
          ],
          [
           "23-10-2018 17:30"
          ],
          [
           "23-10-2018 17:45"
          ],
          [
           "23-10-2018 18:00"
          ],
          [
           "23-10-2018 18:15"
          ],
          [
           "23-10-2018 18:30"
          ],
          [
           "23-10-2018 18:45"
          ],
          [
           "23-10-2018 19:00"
          ],
          [
           "23-10-2018 19:15"
          ],
          [
           "23-10-2018 19:30"
          ],
          [
           "23-10-2018 19:45"
          ],
          [
           "23-10-2018 20:00"
          ],
          [
           "23-10-2018 20:15"
          ],
          [
           "23-10-2018 20:30"
          ],
          [
           "23-10-2018 20:45"
          ],
          [
           "23-10-2018 21:00"
          ],
          [
           "23-10-2018 21:15"
          ],
          [
           "23-10-2018 21:30"
          ],
          [
           "23-10-2018 21:45"
          ],
          [
           "23-10-2018 22:00"
          ],
          [
           "23-10-2018 22:15"
          ],
          [
           "23-10-2018 22:30"
          ],
          [
           "23-10-2018 22:45"
          ],
          [
           "23-10-2018 23:00"
          ],
          [
           "24-10-2018 09:15"
          ],
          [
           "24-10-2018 09:30"
          ],
          [
           "24-10-2018 09:45"
          ],
          [
           "24-10-2018 10:00"
          ],
          [
           "24-10-2018 12:15"
          ],
          [
           "24-10-2018 12:30"
          ],
          [
           "24-10-2018 12:45"
          ],
          [
           "24-10-2018 13:00"
          ],
          [
           "24-10-2018 17:15"
          ],
          [
           "24-10-2018 17:30"
          ],
          [
           "24-10-2018 17:45"
          ],
          [
           "24-10-2018 18:00"
          ],
          [
           "24-10-2018 18:15"
          ],
          [
           "24-10-2018 18:30"
          ],
          [
           "24-10-2018 18:45"
          ],
          [
           "24-10-2018 19:00"
          ],
          [
           "24-10-2018 19:15"
          ],
          [
           "24-10-2018 19:30"
          ],
          [
           "24-10-2018 19:45"
          ],
          [
           "24-10-2018 20:00"
          ],
          [
           "24-10-2018 20:15"
          ],
          [
           "24-10-2018 20:30"
          ],
          [
           "24-10-2018 20:45"
          ],
          [
           "24-10-2018 21:00"
          ],
          [
           "24-10-2018 21:15"
          ],
          [
           "24-10-2018 21:30"
          ],
          [
           "24-10-2018 21:45"
          ],
          [
           "24-10-2018 22:00"
          ],
          [
           "24-10-2018 22:15"
          ],
          [
           "24-10-2018 22:30"
          ],
          [
           "24-10-2018 22:45"
          ],
          [
           "24-10-2018 23:00"
          ],
          [
           "25-10-2018 09:15"
          ],
          [
           "25-10-2018 09:30"
          ],
          [
           "25-10-2018 09:45"
          ],
          [
           "25-10-2018 10:00"
          ],
          [
           "25-10-2018 12:15"
          ],
          [
           "25-10-2018 12:30"
          ],
          [
           "25-10-2018 12:45"
          ],
          [
           "25-10-2018 13:00"
          ],
          [
           "25-10-2018 17:15"
          ],
          [
           "25-10-2018 17:30"
          ],
          [
           "25-10-2018 17:45"
          ],
          [
           "25-10-2018 18:00"
          ],
          [
           "25-10-2018 18:15"
          ],
          [
           "25-10-2018 18:30"
          ],
          [
           "25-10-2018 18:45"
          ],
          [
           "25-10-2018 19:00"
          ],
          [
           "25-10-2018 19:15"
          ],
          [
           "25-10-2018 19:30"
          ],
          [
           "25-10-2018 19:45"
          ],
          [
           "25-10-2018 20:00"
          ],
          [
           "25-10-2018 20:15"
          ],
          [
           "25-10-2018 20:30"
          ],
          [
           "25-10-2018 20:45"
          ],
          [
           "25-10-2018 21:00"
          ],
          [
           "25-10-2018 21:15"
          ],
          [
           "25-10-2018 21:30"
          ],
          [
           "25-10-2018 21:45"
          ],
          [
           "25-10-2018 22:00"
          ],
          [
           "25-10-2018 22:15"
          ],
          [
           "25-10-2018 22:30"
          ],
          [
           "25-10-2018 22:45"
          ],
          [
           "25-10-2018 23:00"
          ],
          [
           "26-10-2018 09:15"
          ],
          [
           "26-10-2018 09:30"
          ],
          [
           "26-10-2018 09:45"
          ],
          [
           "26-10-2018 10:00"
          ],
          [
           "26-10-2018 12:15"
          ],
          [
           "26-10-2018 12:30"
          ],
          [
           "26-10-2018 12:45"
          ],
          [
           "26-10-2018 13:00"
          ],
          [
           "26-10-2018 17:15"
          ],
          [
           "26-10-2018 17:30"
          ],
          [
           "26-10-2018 17:45"
          ],
          [
           "26-10-2018 18:00"
          ],
          [
           "26-10-2018 18:15"
          ],
          [
           "26-10-2018 18:30"
          ],
          [
           "26-10-2018 18:45"
          ],
          [
           "26-10-2018 19:00"
          ],
          [
           "26-10-2018 19:15"
          ],
          [
           "26-10-2018 19:30"
          ],
          [
           "26-10-2018 19:45"
          ],
          [
           "26-10-2018 20:00"
          ],
          [
           "26-10-2018 20:15"
          ],
          [
           "26-10-2018 20:30"
          ],
          [
           "26-10-2018 20:45"
          ],
          [
           "26-10-2018 21:00"
          ],
          [
           "26-10-2018 21:15"
          ],
          [
           "26-10-2018 21:30"
          ],
          [
           "26-10-2018 21:45"
          ],
          [
           "26-10-2018 22:00"
          ],
          [
           "26-10-2018 22:15"
          ],
          [
           "26-10-2018 22:30"
          ],
          [
           "26-10-2018 22:45"
          ],
          [
           "26-10-2018 23:00"
          ],
          [
           "27-10-2018 09:15"
          ],
          [
           "27-10-2018 09:30"
          ],
          [
           "27-10-2018 09:45"
          ],
          [
           "27-10-2018 10:00"
          ],
          [
           "27-10-2018 12:15"
          ],
          [
           "27-10-2018 12:30"
          ],
          [
           "27-10-2018 12:45"
          ],
          [
           "27-10-2018 13:00"
          ],
          [
           "27-10-2018 17:15"
          ],
          [
           "27-10-2018 17:30"
          ],
          [
           "27-10-2018 17:45"
          ],
          [
           "27-10-2018 18:00"
          ],
          [
           "27-10-2018 18:15"
          ],
          [
           "27-10-2018 18:30"
          ],
          [
           "27-10-2018 18:45"
          ],
          [
           "27-10-2018 19:00"
          ],
          [
           "27-10-2018 19:15"
          ],
          [
           "27-10-2018 19:30"
          ],
          [
           "27-10-2018 19:45"
          ],
          [
           "27-10-2018 20:00"
          ],
          [
           "27-10-2018 20:15"
          ],
          [
           "27-10-2018 20:30"
          ],
          [
           "27-10-2018 20:45"
          ],
          [
           "27-10-2018 21:00"
          ],
          [
           "27-10-2018 21:15"
          ],
          [
           "27-10-2018 21:30"
          ],
          [
           "27-10-2018 21:45"
          ],
          [
           "27-10-2018 22:00"
          ],
          [
           "27-10-2018 22:15"
          ],
          [
           "27-10-2018 22:30"
          ],
          [
           "27-10-2018 22:45"
          ],
          [
           "27-10-2018 23:00"
          ],
          [
           "29-10-2018 09:15"
          ],
          [
           "29-10-2018 09:30"
          ],
          [
           "29-10-2018 09:45"
          ],
          [
           "29-10-2018 10:00"
          ],
          [
           "29-10-2018 12:15"
          ],
          [
           "29-10-2018 12:30"
          ],
          [
           "29-10-2018 12:45"
          ],
          [
           "29-10-2018 13:00"
          ],
          [
           "29-10-2018 17:15"
          ],
          [
           "29-10-2018 17:30"
          ],
          [
           "29-10-2018 17:45"
          ],
          [
           "29-10-2018 18:00"
          ],
          [
           "29-10-2018 18:15"
          ],
          [
           "29-10-2018 18:30"
          ],
          [
           "29-10-2018 18:45"
          ],
          [
           "29-10-2018 19:00"
          ],
          [
           "29-10-2018 19:15"
          ],
          [
           "29-10-2018 19:30"
          ],
          [
           "29-10-2018 19:45"
          ],
          [
           "29-10-2018 20:00"
          ],
          [
           "29-10-2018 20:15"
          ],
          [
           "29-10-2018 20:30"
          ],
          [
           "29-10-2018 20:45"
          ],
          [
           "29-10-2018 21:00"
          ],
          [
           "29-10-2018 21:15"
          ],
          [
           "29-10-2018 21:30"
          ],
          [
           "29-10-2018 21:45"
          ],
          [
           "29-10-2018 22:00"
          ],
          [
           "29-10-2018 22:15"
          ],
          [
           "29-10-2018 22:30"
          ],
          [
           "29-10-2018 22:45"
          ],
          [
           "29-10-2018 23:00"
          ],
          [
           "30-10-2018 09:15"
          ],
          [
           "30-10-2018 09:30"
          ],
          [
           "30-10-2018 09:45"
          ],
          [
           "30-10-2018 10:00"
          ],
          [
           "30-10-2018 12:15"
          ],
          [
           "30-10-2018 12:30"
          ],
          [
           "30-10-2018 12:45"
          ],
          [
           "30-10-2018 13:00"
          ],
          [
           "30-10-2018 17:15"
          ],
          [
           "30-10-2018 17:30"
          ],
          [
           "30-10-2018 17:45"
          ],
          [
           "30-10-2018 18:00"
          ],
          [
           "30-10-2018 18:15"
          ],
          [
           "30-10-2018 18:30"
          ],
          [
           "30-10-2018 18:45"
          ],
          [
           "30-10-2018 19:00"
          ],
          [
           "30-10-2018 19:15"
          ],
          [
           "30-10-2018 19:30"
          ],
          [
           "30-10-2018 19:45"
          ],
          [
           "30-10-2018 20:00"
          ],
          [
           "30-10-2018 20:15"
          ],
          [
           "30-10-2018 20:30"
          ],
          [
           "30-10-2018 20:45"
          ],
          [
           "30-10-2018 21:00"
          ],
          [
           "30-10-2018 21:15"
          ],
          [
           "30-10-2018 21:30"
          ],
          [
           "30-10-2018 21:45"
          ],
          [
           "30-10-2018 22:00"
          ],
          [
           "30-10-2018 22:15"
          ],
          [
           "30-10-2018 22:30"
          ],
          [
           "30-10-2018 22:45"
          ],
          [
           "30-10-2018 23:00"
          ],
          [
           "31-10-2018 09:15"
          ],
          [
           "31-10-2018 09:30"
          ],
          [
           "31-10-2018 09:45"
          ],
          [
           "31-10-2018 10:00"
          ],
          [
           "31-10-2018 12:15"
          ],
          [
           "31-10-2018 12:30"
          ],
          [
           "31-10-2018 12:45"
          ],
          [
           "31-10-2018 13:00"
          ],
          [
           "31-10-2018 17:15"
          ],
          [
           "31-10-2018 17:30"
          ],
          [
           "31-10-2018 17:45"
          ],
          [
           "31-10-2018 18:00"
          ],
          [
           "31-10-2018 18:15"
          ],
          [
           "31-10-2018 18:30"
          ],
          [
           "31-10-2018 18:45"
          ],
          [
           "31-10-2018 19:00"
          ],
          [
           "31-10-2018 19:15"
          ],
          [
           "31-10-2018 19:30"
          ],
          [
           "31-10-2018 19:45"
          ],
          [
           "31-10-2018 20:00"
          ],
          [
           "31-10-2018 20:15"
          ],
          [
           "31-10-2018 20:30"
          ],
          [
           "31-10-2018 20:45"
          ],
          [
           "31-10-2018 21:00"
          ],
          [
           "31-10-2018 21:15"
          ],
          [
           "31-10-2018 21:30"
          ],
          [
           "31-10-2018 21:45"
          ],
          [
           "31-10-2018 22:00"
          ],
          [
           "31-10-2018 22:15"
          ],
          [
           "31-10-2018 22:30"
          ],
          [
           "31-10-2018 22:45"
          ],
          [
           "31-10-2018 23:00"
          ],
          [
           "01-11-2018 09:15"
          ],
          [
           "01-11-2018 09:30"
          ],
          [
           "01-11-2018 09:45"
          ],
          [
           "01-11-2018 10:00"
          ],
          [
           "01-11-2018 12:15"
          ],
          [
           "01-11-2018 12:30"
          ],
          [
           "01-11-2018 12:45"
          ],
          [
           "01-11-2018 13:00"
          ],
          [
           "01-11-2018 13:15"
          ],
          [
           "01-11-2018 13:30"
          ],
          [
           "01-11-2018 13:45"
          ],
          [
           "01-11-2018 14:00"
          ],
          [
           "01-11-2018 14:15"
          ],
          [
           "01-11-2018 14:30"
          ],
          [
           "01-11-2018 14:45"
          ],
          [
           "01-11-2018 15:00"
          ],
          [
           "01-11-2018 15:15"
          ],
          [
           "01-11-2018 15:30"
          ],
          [
           "01-11-2018 15:45"
          ],
          [
           "01-11-2018 16:00"
          ],
          [
           "01-11-2018 16:15"
          ],
          [
           "01-11-2018 16:30"
          ],
          [
           "01-11-2018 16:45"
          ],
          [
           "01-11-2018 17:00"
          ],
          [
           "01-11-2018 20:15"
          ],
          [
           "01-11-2018 20:30"
          ],
          [
           "01-11-2018 20:45"
          ],
          [
           "01-11-2018 21:00"
          ],
          [
           "01-11-2018 21:15"
          ],
          [
           "01-11-2018 21:30"
          ],
          [
           "01-11-2018 21:45"
          ],
          [
           "01-11-2018 22:00"
          ],
          [
           "02-11-2018 09:15"
          ],
          [
           "02-11-2018 09:30"
          ],
          [
           "02-11-2018 09:45"
          ],
          [
           "02-11-2018 10:00"
          ],
          [
           "02-11-2018 12:15"
          ],
          [
           "02-11-2018 12:30"
          ],
          [
           "02-11-2018 12:45"
          ],
          [
           "02-11-2018 13:00"
          ],
          [
           "02-11-2018 13:15"
          ],
          [
           "02-11-2018 13:30"
          ],
          [
           "02-11-2018 13:45"
          ],
          [
           "02-11-2018 14:00"
          ],
          [
           "02-11-2018 14:15"
          ],
          [
           "02-11-2018 14:30"
          ],
          [
           "02-11-2018 14:45"
          ],
          [
           "02-11-2018 15:00"
          ],
          [
           "02-11-2018 15:15"
          ],
          [
           "02-11-2018 15:30"
          ],
          [
           "02-11-2018 15:45"
          ],
          [
           "02-11-2018 16:00"
          ],
          [
           "02-11-2018 16:15"
          ],
          [
           "02-11-2018 16:30"
          ],
          [
           "02-11-2018 16:45"
          ],
          [
           "02-11-2018 17:00"
          ],
          [
           "02-11-2018 20:15"
          ],
          [
           "02-11-2018 20:30"
          ],
          [
           "02-11-2018 20:45"
          ],
          [
           "02-11-2018 21:00"
          ],
          [
           "02-11-2018 21:15"
          ],
          [
           "02-11-2018 21:30"
          ],
          [
           "02-11-2018 21:45"
          ],
          [
           "02-11-2018 22:00"
          ],
          [
           "03-11-2018 09:15"
          ],
          [
           "03-11-2018 09:30"
          ],
          [
           "03-11-2018 09:45"
          ],
          [
           "03-11-2018 10:00"
          ],
          [
           "03-11-2018 12:15"
          ],
          [
           "03-11-2018 12:30"
          ],
          [
           "03-11-2018 12:45"
          ],
          [
           "03-11-2018 13:00"
          ],
          [
           "03-11-2018 13:15"
          ],
          [
           "03-11-2018 13:30"
          ],
          [
           "03-11-2018 13:45"
          ],
          [
           "03-11-2018 14:00"
          ],
          [
           "03-11-2018 14:15"
          ],
          [
           "03-11-2018 14:30"
          ],
          [
           "03-11-2018 14:45"
          ],
          [
           "03-11-2018 15:00"
          ],
          [
           "03-11-2018 15:15"
          ],
          [
           "03-11-2018 15:30"
          ],
          [
           "03-11-2018 15:45"
          ],
          [
           "03-11-2018 16:00"
          ],
          [
           "03-11-2018 16:15"
          ],
          [
           "03-11-2018 16:30"
          ],
          [
           "03-11-2018 16:45"
          ],
          [
           "03-11-2018 17:00"
          ],
          [
           "03-11-2018 20:15"
          ],
          [
           "03-11-2018 20:30"
          ],
          [
           "03-11-2018 20:45"
          ],
          [
           "03-11-2018 21:00"
          ],
          [
           "03-11-2018 21:15"
          ],
          [
           "03-11-2018 21:30"
          ],
          [
           "03-11-2018 21:45"
          ],
          [
           "03-11-2018 22:00"
          ],
          [
           "04-11-2018 09:15"
          ],
          [
           "04-11-2018 09:30"
          ],
          [
           "04-11-2018 09:45"
          ],
          [
           "04-11-2018 10:00"
          ],
          [
           "04-11-2018 12:15"
          ],
          [
           "04-11-2018 12:30"
          ],
          [
           "04-11-2018 12:45"
          ],
          [
           "04-11-2018 13:00"
          ],
          [
           "04-11-2018 13:15"
          ],
          [
           "04-11-2018 13:30"
          ],
          [
           "04-11-2018 13:45"
          ],
          [
           "04-11-2018 14:00"
          ],
          [
           "04-11-2018 14:15"
          ],
          [
           "04-11-2018 14:30"
          ],
          [
           "04-11-2018 14:45"
          ],
          [
           "04-11-2018 15:00"
          ],
          [
           "04-11-2018 15:15"
          ],
          [
           "04-11-2018 15:30"
          ],
          [
           "04-11-2018 15:45"
          ],
          [
           "04-11-2018 16:00"
          ],
          [
           "04-11-2018 16:15"
          ],
          [
           "04-11-2018 16:30"
          ],
          [
           "04-11-2018 16:45"
          ],
          [
           "04-11-2018 17:00"
          ],
          [
           "04-11-2018 20:15"
          ],
          [
           "04-11-2018 20:30"
          ],
          [
           "04-11-2018 20:45"
          ],
          [
           "04-11-2018 21:00"
          ],
          [
           "04-11-2018 21:15"
          ],
          [
           "04-11-2018 21:30"
          ],
          [
           "04-11-2018 21:45"
          ],
          [
           "04-11-2018 22:00"
          ],
          [
           "05-11-2018 09:15"
          ],
          [
           "05-11-2018 09:30"
          ],
          [
           "05-11-2018 09:45"
          ],
          [
           "05-11-2018 10:00"
          ],
          [
           "05-11-2018 12:15"
          ],
          [
           "05-11-2018 12:30"
          ],
          [
           "05-11-2018 12:45"
          ],
          [
           "05-11-2018 13:00"
          ],
          [
           "05-11-2018 13:15"
          ],
          [
           "05-11-2018 13:30"
          ],
          [
           "05-11-2018 13:45"
          ],
          [
           "05-11-2018 14:00"
          ],
          [
           "05-11-2018 14:15"
          ],
          [
           "05-11-2018 14:30"
          ],
          [
           "05-11-2018 14:45"
          ],
          [
           "05-11-2018 15:00"
          ],
          [
           "05-11-2018 15:15"
          ],
          [
           "05-11-2018 15:30"
          ],
          [
           "05-11-2018 15:45"
          ],
          [
           "05-11-2018 16:00"
          ],
          [
           "05-11-2018 16:15"
          ],
          [
           "05-11-2018 16:30"
          ],
          [
           "05-11-2018 16:45"
          ],
          [
           "05-11-2018 17:00"
          ],
          [
           "05-11-2018 20:15"
          ],
          [
           "05-11-2018 20:30"
          ],
          [
           "05-11-2018 20:45"
          ],
          [
           "05-11-2018 21:00"
          ],
          [
           "05-11-2018 21:15"
          ],
          [
           "05-11-2018 21:30"
          ],
          [
           "05-11-2018 21:45"
          ],
          [
           "05-11-2018 22:00"
          ],
          [
           "06-11-2018 09:15"
          ],
          [
           "06-11-2018 09:30"
          ],
          [
           "06-11-2018 09:45"
          ],
          [
           "06-11-2018 10:00"
          ],
          [
           "06-11-2018 12:15"
          ],
          [
           "06-11-2018 12:30"
          ],
          [
           "06-11-2018 12:45"
          ],
          [
           "06-11-2018 13:00"
          ],
          [
           "06-11-2018 13:15"
          ],
          [
           "06-11-2018 13:30"
          ],
          [
           "06-11-2018 13:45"
          ],
          [
           "06-11-2018 14:00"
          ],
          [
           "06-11-2018 14:15"
          ],
          [
           "06-11-2018 14:30"
          ],
          [
           "06-11-2018 14:45"
          ],
          [
           "06-11-2018 15:00"
          ],
          [
           "06-11-2018 15:15"
          ],
          [
           "06-11-2018 15:30"
          ],
          [
           "06-11-2018 15:45"
          ],
          [
           "06-11-2018 16:00"
          ],
          [
           "06-11-2018 16:15"
          ],
          [
           "06-11-2018 16:30"
          ],
          [
           "06-11-2018 16:45"
          ],
          [
           "06-11-2018 17:00"
          ],
          [
           "06-11-2018 20:15"
          ],
          [
           "06-11-2018 20:30"
          ],
          [
           "06-11-2018 20:45"
          ],
          [
           "06-11-2018 21:00"
          ],
          [
           "06-11-2018 21:15"
          ],
          [
           "06-11-2018 21:30"
          ],
          [
           "06-11-2018 21:45"
          ],
          [
           "06-11-2018 22:00"
          ],
          [
           "07-11-2018 09:15"
          ],
          [
           "07-11-2018 09:30"
          ],
          [
           "07-11-2018 09:45"
          ],
          [
           "07-11-2018 10:00"
          ],
          [
           "07-11-2018 12:15"
          ],
          [
           "07-11-2018 12:30"
          ],
          [
           "07-11-2018 12:45"
          ],
          [
           "07-11-2018 13:00"
          ],
          [
           "07-11-2018 13:15"
          ],
          [
           "07-11-2018 13:30"
          ],
          [
           "07-11-2018 13:45"
          ],
          [
           "07-11-2018 14:00"
          ],
          [
           "07-11-2018 14:15"
          ],
          [
           "07-11-2018 14:30"
          ],
          [
           "07-11-2018 14:45"
          ],
          [
           "07-11-2018 15:00"
          ],
          [
           "07-11-2018 15:15"
          ],
          [
           "07-11-2018 15:30"
          ],
          [
           "07-11-2018 15:45"
          ],
          [
           "07-11-2018 16:00"
          ],
          [
           "07-11-2018 16:15"
          ],
          [
           "07-11-2018 16:30"
          ],
          [
           "07-11-2018 16:45"
          ],
          [
           "07-11-2018 17:00"
          ],
          [
           "07-11-2018 20:15"
          ],
          [
           "07-11-2018 20:30"
          ],
          [
           "07-11-2018 20:45"
          ],
          [
           "07-11-2018 21:00"
          ],
          [
           "07-11-2018 21:15"
          ],
          [
           "07-11-2018 21:30"
          ],
          [
           "07-11-2018 21:45"
          ],
          [
           "07-11-2018 22:00"
          ],
          [
           "08-11-2018 09:15"
          ],
          [
           "08-11-2018 09:30"
          ],
          [
           "08-11-2018 09:45"
          ],
          [
           "08-11-2018 10:00"
          ],
          [
           "08-11-2018 12:15"
          ],
          [
           "08-11-2018 12:30"
          ],
          [
           "08-11-2018 12:45"
          ],
          [
           "08-11-2018 13:00"
          ],
          [
           "08-11-2018 13:15"
          ],
          [
           "08-11-2018 13:30"
          ],
          [
           "08-11-2018 13:45"
          ],
          [
           "08-11-2018 14:00"
          ],
          [
           "08-11-2018 14:15"
          ],
          [
           "08-11-2018 14:30"
          ],
          [
           "08-11-2018 14:45"
          ],
          [
           "08-11-2018 15:00"
          ],
          [
           "08-11-2018 15:15"
          ],
          [
           "08-11-2018 15:30"
          ],
          [
           "08-11-2018 15:45"
          ],
          [
           "08-11-2018 16:00"
          ],
          [
           "08-11-2018 16:15"
          ],
          [
           "08-11-2018 16:30"
          ],
          [
           "08-11-2018 16:45"
          ],
          [
           "08-11-2018 17:00"
          ],
          [
           "08-11-2018 20:15"
          ],
          [
           "08-11-2018 20:30"
          ],
          [
           "08-11-2018 20:45"
          ],
          [
           "08-11-2018 21:00"
          ],
          [
           "08-11-2018 21:15"
          ],
          [
           "08-11-2018 21:30"
          ],
          [
           "08-11-2018 21:45"
          ],
          [
           "08-11-2018 22:00"
          ],
          [
           "09-11-2018 09:15"
          ],
          [
           "09-11-2018 09:30"
          ],
          [
           "09-11-2018 09:45"
          ],
          [
           "09-11-2018 10:00"
          ],
          [
           "09-11-2018 12:15"
          ],
          [
           "09-11-2018 12:30"
          ],
          [
           "09-11-2018 12:45"
          ],
          [
           "09-11-2018 13:00"
          ],
          [
           "09-11-2018 13:15"
          ],
          [
           "09-11-2018 13:30"
          ],
          [
           "09-11-2018 13:45"
          ],
          [
           "09-11-2018 14:00"
          ],
          [
           "09-11-2018 14:15"
          ],
          [
           "09-11-2018 14:30"
          ],
          [
           "09-11-2018 14:45"
          ],
          [
           "09-11-2018 15:00"
          ],
          [
           "09-11-2018 15:15"
          ],
          [
           "09-11-2018 15:30"
          ],
          [
           "09-11-2018 15:45"
          ],
          [
           "09-11-2018 16:00"
          ],
          [
           "09-11-2018 16:15"
          ],
          [
           "09-11-2018 16:30"
          ],
          [
           "09-11-2018 16:45"
          ],
          [
           "09-11-2018 17:00"
          ],
          [
           "09-11-2018 20:15"
          ],
          [
           "09-11-2018 20:30"
          ],
          [
           "09-11-2018 20:45"
          ],
          [
           "09-11-2018 21:00"
          ],
          [
           "09-11-2018 21:15"
          ],
          [
           "09-11-2018 21:30"
          ],
          [
           "09-11-2018 21:45"
          ],
          [
           "09-11-2018 22:00"
          ],
          [
           "10-11-2018 09:15"
          ],
          [
           "10-11-2018 09:30"
          ],
          [
           "10-11-2018 09:45"
          ],
          [
           "10-11-2018 10:00"
          ],
          [
           "10-11-2018 12:15"
          ],
          [
           "10-11-2018 12:30"
          ],
          [
           "10-11-2018 12:45"
          ],
          [
           "10-11-2018 13:00"
          ],
          [
           "10-11-2018 13:15"
          ],
          [
           "10-11-2018 13:30"
          ],
          [
           "10-11-2018 13:45"
          ],
          [
           "10-11-2018 14:00"
          ],
          [
           "10-11-2018 14:15"
          ],
          [
           "10-11-2018 14:30"
          ],
          [
           "10-11-2018 14:45"
          ],
          [
           "10-11-2018 15:00"
          ],
          [
           "10-11-2018 15:15"
          ],
          [
           "10-11-2018 15:30"
          ],
          [
           "10-11-2018 15:45"
          ],
          [
           "10-11-2018 16:00"
          ],
          [
           "10-11-2018 16:15"
          ],
          [
           "10-11-2018 16:30"
          ],
          [
           "10-11-2018 16:45"
          ],
          [
           "10-11-2018 17:00"
          ],
          [
           "10-11-2018 20:15"
          ],
          [
           "10-11-2018 20:30"
          ],
          [
           "10-11-2018 20:45"
          ],
          [
           "10-11-2018 21:00"
          ],
          [
           "10-11-2018 21:15"
          ],
          [
           "10-11-2018 21:30"
          ],
          [
           "10-11-2018 21:45"
          ],
          [
           "10-11-2018 22:00"
          ],
          [
           "12-11-2018 09:15"
          ],
          [
           "12-11-2018 09:30"
          ],
          [
           "12-11-2018 09:45"
          ],
          [
           "12-11-2018 10:00"
          ],
          [
           "12-11-2018 12:15"
          ],
          [
           "12-11-2018 12:30"
          ],
          [
           "12-11-2018 12:45"
          ],
          [
           "12-11-2018 13:00"
          ],
          [
           "12-11-2018 13:15"
          ],
          [
           "12-11-2018 13:30"
          ],
          [
           "12-11-2018 13:45"
          ],
          [
           "12-11-2018 14:00"
          ],
          [
           "12-11-2018 14:15"
          ],
          [
           "12-11-2018 14:30"
          ],
          [
           "12-11-2018 14:45"
          ],
          [
           "12-11-2018 15:00"
          ],
          [
           "12-11-2018 15:15"
          ],
          [
           "12-11-2018 15:30"
          ],
          [
           "12-11-2018 15:45"
          ],
          [
           "12-11-2018 16:00"
          ],
          [
           "12-11-2018 16:15"
          ],
          [
           "12-11-2018 16:30"
          ],
          [
           "12-11-2018 16:45"
          ],
          [
           "12-11-2018 17:00"
          ],
          [
           "12-11-2018 20:15"
          ],
          [
           "12-11-2018 20:30"
          ],
          [
           "12-11-2018 20:45"
          ],
          [
           "12-11-2018 21:00"
          ],
          [
           "12-11-2018 21:15"
          ],
          [
           "12-11-2018 21:30"
          ],
          [
           "12-11-2018 21:45"
          ],
          [
           "12-11-2018 22:00"
          ],
          [
           "13-11-2018 09:15"
          ],
          [
           "13-11-2018 09:30"
          ],
          [
           "13-11-2018 09:45"
          ],
          [
           "13-11-2018 10:00"
          ],
          [
           "13-11-2018 12:15"
          ],
          [
           "13-11-2018 12:30"
          ],
          [
           "13-11-2018 12:45"
          ],
          [
           "13-11-2018 13:00"
          ],
          [
           "13-11-2018 13:15"
          ],
          [
           "13-11-2018 13:30"
          ],
          [
           "13-11-2018 13:45"
          ],
          [
           "13-11-2018 14:00"
          ],
          [
           "13-11-2018 14:15"
          ],
          [
           "13-11-2018 14:30"
          ],
          [
           "13-11-2018 14:45"
          ],
          [
           "13-11-2018 15:00"
          ],
          [
           "13-11-2018 15:15"
          ],
          [
           "13-11-2018 15:30"
          ],
          [
           "13-11-2018 15:45"
          ],
          [
           "13-11-2018 16:00"
          ],
          [
           "13-11-2018 16:15"
          ],
          [
           "13-11-2018 16:30"
          ],
          [
           "13-11-2018 16:45"
          ],
          [
           "13-11-2018 17:00"
          ],
          [
           "13-11-2018 20:15"
          ],
          [
           "13-11-2018 20:30"
          ],
          [
           "13-11-2018 20:45"
          ],
          [
           "13-11-2018 21:00"
          ],
          [
           "13-11-2018 21:15"
          ],
          [
           "13-11-2018 21:30"
          ],
          [
           "13-11-2018 21:45"
          ],
          [
           "13-11-2018 22:00"
          ],
          [
           "14-11-2018 09:15"
          ],
          [
           "14-11-2018 09:30"
          ],
          [
           "14-11-2018 09:45"
          ],
          [
           "14-11-2018 10:00"
          ],
          [
           "14-11-2018 12:15"
          ],
          [
           "14-11-2018 12:30"
          ],
          [
           "14-11-2018 12:45"
          ],
          [
           "14-11-2018 13:00"
          ],
          [
           "14-11-2018 13:15"
          ],
          [
           "14-11-2018 13:30"
          ],
          [
           "14-11-2018 13:45"
          ],
          [
           "14-11-2018 14:00"
          ],
          [
           "14-11-2018 14:15"
          ],
          [
           "14-11-2018 14:30"
          ],
          [
           "14-11-2018 14:45"
          ],
          [
           "14-11-2018 15:00"
          ],
          [
           "14-11-2018 15:15"
          ],
          [
           "14-11-2018 15:30"
          ],
          [
           "14-11-2018 15:45"
          ],
          [
           "14-11-2018 16:00"
          ],
          [
           "14-11-2018 16:15"
          ],
          [
           "14-11-2018 16:30"
          ],
          [
           "14-11-2018 16:45"
          ],
          [
           "14-11-2018 17:00"
          ],
          [
           "14-11-2018 20:15"
          ],
          [
           "14-11-2018 20:30"
          ],
          [
           "14-11-2018 20:45"
          ],
          [
           "14-11-2018 21:00"
          ],
          [
           "14-11-2018 21:15"
          ],
          [
           "14-11-2018 21:30"
          ],
          [
           "14-11-2018 21:45"
          ],
          [
           "14-11-2018 22:00"
          ],
          [
           "15-11-2018 09:15"
          ],
          [
           "15-11-2018 09:30"
          ],
          [
           "15-11-2018 09:45"
          ],
          [
           "15-11-2018 10:00"
          ],
          [
           "15-11-2018 12:15"
          ],
          [
           "15-11-2018 12:30"
          ],
          [
           "15-11-2018 12:45"
          ],
          [
           "15-11-2018 13:00"
          ],
          [
           "15-11-2018 13:15"
          ],
          [
           "15-11-2018 13:30"
          ],
          [
           "15-11-2018 13:45"
          ],
          [
           "15-11-2018 14:00"
          ],
          [
           "15-11-2018 14:15"
          ],
          [
           "15-11-2018 14:30"
          ],
          [
           "15-11-2018 14:45"
          ],
          [
           "15-11-2018 15:00"
          ],
          [
           "15-11-2018 15:15"
          ],
          [
           "15-11-2018 15:30"
          ],
          [
           "15-11-2018 15:45"
          ],
          [
           "15-11-2018 16:00"
          ],
          [
           "15-11-2018 16:15"
          ],
          [
           "15-11-2018 16:30"
          ],
          [
           "15-11-2018 16:45"
          ],
          [
           "15-11-2018 17:00"
          ],
          [
           "15-11-2018 20:15"
          ],
          [
           "15-11-2018 20:30"
          ],
          [
           "15-11-2018 20:45"
          ],
          [
           "15-11-2018 21:00"
          ],
          [
           "15-11-2018 21:15"
          ],
          [
           "15-11-2018 21:30"
          ],
          [
           "15-11-2018 21:45"
          ],
          [
           "15-11-2018 22:00"
          ],
          [
           "16-11-2018 09:15"
          ],
          [
           "16-11-2018 09:30"
          ],
          [
           "16-11-2018 09:45"
          ],
          [
           "16-11-2018 10:00"
          ],
          [
           "16-11-2018 12:15"
          ],
          [
           "16-11-2018 12:30"
          ],
          [
           "16-11-2018 12:45"
          ],
          [
           "16-11-2018 13:00"
          ],
          [
           "16-11-2018 13:15"
          ],
          [
           "16-11-2018 13:30"
          ],
          [
           "16-11-2018 13:45"
          ],
          [
           "16-11-2018 14:00"
          ],
          [
           "16-11-2018 14:15"
          ],
          [
           "16-11-2018 14:30"
          ],
          [
           "16-11-2018 14:45"
          ],
          [
           "16-11-2018 15:00"
          ],
          [
           "16-11-2018 15:15"
          ],
          [
           "16-11-2018 15:30"
          ],
          [
           "16-11-2018 15:45"
          ],
          [
           "16-11-2018 16:00"
          ],
          [
           "16-11-2018 16:15"
          ],
          [
           "16-11-2018 16:30"
          ],
          [
           "16-11-2018 16:45"
          ],
          [
           "16-11-2018 17:00"
          ],
          [
           "16-11-2018 20:15"
          ],
          [
           "16-11-2018 20:30"
          ],
          [
           "16-11-2018 20:45"
          ],
          [
           "16-11-2018 21:00"
          ],
          [
           "16-11-2018 21:15"
          ],
          [
           "16-11-2018 21:30"
          ],
          [
           "16-11-2018 21:45"
          ],
          [
           "16-11-2018 22:00"
          ],
          [
           "17-11-2018 09:15"
          ],
          [
           "17-11-2018 09:30"
          ],
          [
           "17-11-2018 09:45"
          ],
          [
           "17-11-2018 10:00"
          ],
          [
           "17-11-2018 12:15"
          ],
          [
           "17-11-2018 12:30"
          ],
          [
           "17-11-2018 12:45"
          ],
          [
           "17-11-2018 13:00"
          ],
          [
           "17-11-2018 13:15"
          ],
          [
           "17-11-2018 13:30"
          ],
          [
           "17-11-2018 13:45"
          ],
          [
           "17-11-2018 14:00"
          ],
          [
           "17-11-2018 14:15"
          ],
          [
           "17-11-2018 14:30"
          ],
          [
           "17-11-2018 14:45"
          ],
          [
           "17-11-2018 15:00"
          ],
          [
           "17-11-2018 15:15"
          ],
          [
           "17-11-2018 15:30"
          ],
          [
           "17-11-2018 15:45"
          ],
          [
           "17-11-2018 16:00"
          ],
          [
           "17-11-2018 16:15"
          ],
          [
           "17-11-2018 16:30"
          ],
          [
           "17-11-2018 16:45"
          ],
          [
           "17-11-2018 17:00"
          ],
          [
           "17-11-2018 20:15"
          ],
          [
           "17-11-2018 20:30"
          ],
          [
           "17-11-2018 20:45"
          ],
          [
           "17-11-2018 21:00"
          ],
          [
           "17-11-2018 21:15"
          ],
          [
           "17-11-2018 21:30"
          ],
          [
           "17-11-2018 21:45"
          ],
          [
           "17-11-2018 22:00"
          ],
          [
           "18-11-2018 09:15"
          ],
          [
           "18-11-2018 09:30"
          ],
          [
           "18-11-2018 09:45"
          ],
          [
           "18-11-2018 10:00"
          ],
          [
           "18-11-2018 12:15"
          ],
          [
           "18-11-2018 12:30"
          ],
          [
           "18-11-2018 12:45"
          ],
          [
           "18-11-2018 13:00"
          ],
          [
           "18-11-2018 13:15"
          ],
          [
           "18-11-2018 13:30"
          ],
          [
           "18-11-2018 13:45"
          ],
          [
           "18-11-2018 14:00"
          ],
          [
           "18-11-2018 14:15"
          ],
          [
           "18-11-2018 14:30"
          ],
          [
           "18-11-2018 14:45"
          ],
          [
           "18-11-2018 15:00"
          ],
          [
           "18-11-2018 15:15"
          ],
          [
           "18-11-2018 15:30"
          ],
          [
           "18-11-2018 15:45"
          ],
          [
           "18-11-2018 16:00"
          ],
          [
           "18-11-2018 16:15"
          ],
          [
           "18-11-2018 16:30"
          ],
          [
           "18-11-2018 16:45"
          ],
          [
           "18-11-2018 17:00"
          ],
          [
           "18-11-2018 20:15"
          ],
          [
           "18-11-2018 20:30"
          ],
          [
           "18-11-2018 20:45"
          ],
          [
           "18-11-2018 21:00"
          ],
          [
           "18-11-2018 21:15"
          ],
          [
           "18-11-2018 21:30"
          ],
          [
           "18-11-2018 21:45"
          ],
          [
           "18-11-2018 22:00"
          ],
          [
           "19-11-2018 09:15"
          ],
          [
           "19-11-2018 09:30"
          ],
          [
           "19-11-2018 09:45"
          ],
          [
           "19-11-2018 10:00"
          ],
          [
           "19-11-2018 12:15"
          ],
          [
           "19-11-2018 12:30"
          ],
          [
           "19-11-2018 12:45"
          ],
          [
           "19-11-2018 13:00"
          ],
          [
           "19-11-2018 13:15"
          ],
          [
           "19-11-2018 13:30"
          ],
          [
           "19-11-2018 13:45"
          ],
          [
           "19-11-2018 14:00"
          ],
          [
           "19-11-2018 14:15"
          ],
          [
           "19-11-2018 14:30"
          ],
          [
           "19-11-2018 14:45"
          ],
          [
           "19-11-2018 15:00"
          ],
          [
           "19-11-2018 15:15"
          ],
          [
           "19-11-2018 15:30"
          ],
          [
           "19-11-2018 15:45"
          ],
          [
           "19-11-2018 16:00"
          ],
          [
           "19-11-2018 16:15"
          ],
          [
           "19-11-2018 16:30"
          ],
          [
           "19-11-2018 16:45"
          ],
          [
           "19-11-2018 17:00"
          ],
          [
           "19-11-2018 20:15"
          ],
          [
           "19-11-2018 20:30"
          ],
          [
           "19-11-2018 20:45"
          ],
          [
           "19-11-2018 21:00"
          ],
          [
           "19-11-2018 21:15"
          ],
          [
           "19-11-2018 21:30"
          ],
          [
           "19-11-2018 21:45"
          ],
          [
           "19-11-2018 22:00"
          ],
          [
           "20-11-2018 09:15"
          ],
          [
           "20-11-2018 09:30"
          ],
          [
           "20-11-2018 09:45"
          ],
          [
           "20-11-2018 10:00"
          ],
          [
           "20-11-2018 12:15"
          ],
          [
           "20-11-2018 12:30"
          ],
          [
           "20-11-2018 12:45"
          ],
          [
           "20-11-2018 13:00"
          ],
          [
           "20-11-2018 13:15"
          ],
          [
           "20-11-2018 13:30"
          ],
          [
           "20-11-2018 13:45"
          ],
          [
           "20-11-2018 14:00"
          ],
          [
           "20-11-2018 14:15"
          ],
          [
           "20-11-2018 14:30"
          ],
          [
           "20-11-2018 14:45"
          ],
          [
           "20-11-2018 15:00"
          ],
          [
           "20-11-2018 15:15"
          ],
          [
           "20-11-2018 15:30"
          ],
          [
           "20-11-2018 15:45"
          ],
          [
           "20-11-2018 16:00"
          ],
          [
           "20-11-2018 16:15"
          ],
          [
           "20-11-2018 16:30"
          ],
          [
           "20-11-2018 16:45"
          ],
          [
           "20-11-2018 17:00"
          ],
          [
           "20-11-2018 20:15"
          ],
          [
           "20-11-2018 20:30"
          ],
          [
           "20-11-2018 20:45"
          ],
          [
           "20-11-2018 21:00"
          ],
          [
           "20-11-2018 21:15"
          ],
          [
           "20-11-2018 21:30"
          ],
          [
           "20-11-2018 21:45"
          ],
          [
           "20-11-2018 22:00"
          ],
          [
           "21-11-2018 09:15"
          ],
          [
           "21-11-2018 09:30"
          ],
          [
           "21-11-2018 09:45"
          ],
          [
           "21-11-2018 10:00"
          ],
          [
           "21-11-2018 12:15"
          ],
          [
           "21-11-2018 12:30"
          ],
          [
           "21-11-2018 12:45"
          ],
          [
           "21-11-2018 13:00"
          ],
          [
           "21-11-2018 13:15"
          ],
          [
           "21-11-2018 13:30"
          ],
          [
           "21-11-2018 13:45"
          ],
          [
           "21-11-2018 14:00"
          ],
          [
           "21-11-2018 14:15"
          ],
          [
           "21-11-2018 14:30"
          ],
          [
           "21-11-2018 14:45"
          ],
          [
           "21-11-2018 15:00"
          ],
          [
           "21-11-2018 15:15"
          ],
          [
           "21-11-2018 15:30"
          ],
          [
           "21-11-2018 15:45"
          ],
          [
           "21-11-2018 16:00"
          ],
          [
           "21-11-2018 16:15"
          ],
          [
           "21-11-2018 16:30"
          ],
          [
           "21-11-2018 16:45"
          ],
          [
           "21-11-2018 17:00"
          ],
          [
           "21-11-2018 20:15"
          ],
          [
           "21-11-2018 20:30"
          ],
          [
           "21-11-2018 20:45"
          ],
          [
           "21-11-2018 21:00"
          ],
          [
           "21-11-2018 21:15"
          ],
          [
           "21-11-2018 21:30"
          ],
          [
           "21-11-2018 21:45"
          ],
          [
           "21-11-2018 22:00"
          ],
          [
           "22-11-2018 09:15"
          ],
          [
           "22-11-2018 09:30"
          ],
          [
           "22-11-2018 09:45"
          ],
          [
           "22-11-2018 10:00"
          ],
          [
           "22-11-2018 12:15"
          ],
          [
           "22-11-2018 12:30"
          ],
          [
           "22-11-2018 12:45"
          ],
          [
           "22-11-2018 13:00"
          ],
          [
           "22-11-2018 13:15"
          ],
          [
           "22-11-2018 13:30"
          ],
          [
           "22-11-2018 13:45"
          ],
          [
           "22-11-2018 14:00"
          ],
          [
           "22-11-2018 14:15"
          ],
          [
           "22-11-2018 14:30"
          ],
          [
           "22-11-2018 14:45"
          ],
          [
           "22-11-2018 15:00"
          ],
          [
           "22-11-2018 15:15"
          ],
          [
           "22-11-2018 15:30"
          ],
          [
           "22-11-2018 15:45"
          ],
          [
           "22-11-2018 16:00"
          ],
          [
           "22-11-2018 16:15"
          ],
          [
           "22-11-2018 16:30"
          ],
          [
           "22-11-2018 16:45"
          ],
          [
           "22-11-2018 17:00"
          ],
          [
           "22-11-2018 20:15"
          ],
          [
           "22-11-2018 20:30"
          ],
          [
           "22-11-2018 20:45"
          ],
          [
           "22-11-2018 21:00"
          ],
          [
           "22-11-2018 21:15"
          ],
          [
           "22-11-2018 21:30"
          ],
          [
           "22-11-2018 21:45"
          ],
          [
           "22-11-2018 22:00"
          ],
          [
           "23-11-2018 09:15"
          ],
          [
           "23-11-2018 09:30"
          ],
          [
           "23-11-2018 09:45"
          ],
          [
           "23-11-2018 10:00"
          ],
          [
           "23-11-2018 12:15"
          ],
          [
           "23-11-2018 12:30"
          ],
          [
           "23-11-2018 12:45"
          ],
          [
           "23-11-2018 13:00"
          ],
          [
           "23-11-2018 13:15"
          ],
          [
           "23-11-2018 13:30"
          ],
          [
           "23-11-2018 13:45"
          ],
          [
           "23-11-2018 14:00"
          ],
          [
           "23-11-2018 14:15"
          ],
          [
           "23-11-2018 14:30"
          ],
          [
           "23-11-2018 14:45"
          ],
          [
           "23-11-2018 15:00"
          ],
          [
           "23-11-2018 15:15"
          ],
          [
           "23-11-2018 15:30"
          ],
          [
           "23-11-2018 15:45"
          ],
          [
           "23-11-2018 16:00"
          ],
          [
           "23-11-2018 16:15"
          ],
          [
           "23-11-2018 16:30"
          ],
          [
           "23-11-2018 16:45"
          ],
          [
           "23-11-2018 17:00"
          ],
          [
           "23-11-2018 20:15"
          ],
          [
           "23-11-2018 20:30"
          ],
          [
           "23-11-2018 20:45"
          ],
          [
           "23-11-2018 21:00"
          ],
          [
           "23-11-2018 21:15"
          ],
          [
           "23-11-2018 21:30"
          ],
          [
           "23-11-2018 21:45"
          ],
          [
           "23-11-2018 22:00"
          ],
          [
           "26-11-2018 09:15"
          ],
          [
           "26-11-2018 09:30"
          ],
          [
           "26-11-2018 09:45"
          ],
          [
           "26-11-2018 10:00"
          ],
          [
           "26-11-2018 12:15"
          ],
          [
           "26-11-2018 12:30"
          ],
          [
           "26-11-2018 12:45"
          ],
          [
           "26-11-2018 13:00"
          ],
          [
           "26-11-2018 13:15"
          ],
          [
           "26-11-2018 13:30"
          ],
          [
           "26-11-2018 13:45"
          ],
          [
           "26-11-2018 14:00"
          ],
          [
           "26-11-2018 14:15"
          ],
          [
           "26-11-2018 14:30"
          ],
          [
           "26-11-2018 14:45"
          ],
          [
           "26-11-2018 15:00"
          ],
          [
           "26-11-2018 15:15"
          ],
          [
           "26-11-2018 15:30"
          ],
          [
           "26-11-2018 15:45"
          ],
          [
           "26-11-2018 16:00"
          ],
          [
           "26-11-2018 16:15"
          ],
          [
           "26-11-2018 16:30"
          ],
          [
           "26-11-2018 16:45"
          ],
          [
           "26-11-2018 17:00"
          ],
          [
           "26-11-2018 20:15"
          ],
          [
           "26-11-2018 20:30"
          ],
          [
           "26-11-2018 20:45"
          ],
          [
           "26-11-2018 21:00"
          ],
          [
           "26-11-2018 21:15"
          ],
          [
           "26-11-2018 21:30"
          ],
          [
           "26-11-2018 21:45"
          ],
          [
           "26-11-2018 22:00"
          ],
          [
           "27-11-2018 09:15"
          ],
          [
           "27-11-2018 09:30"
          ],
          [
           "27-11-2018 09:45"
          ],
          [
           "27-11-2018 10:00"
          ],
          [
           "27-11-2018 12:15"
          ],
          [
           "27-11-2018 12:30"
          ],
          [
           "27-11-2018 12:45"
          ],
          [
           "27-11-2018 13:00"
          ],
          [
           "27-11-2018 13:15"
          ],
          [
           "27-11-2018 13:30"
          ],
          [
           "27-11-2018 13:45"
          ],
          [
           "27-11-2018 14:00"
          ],
          [
           "27-11-2018 14:15"
          ],
          [
           "27-11-2018 14:30"
          ],
          [
           "27-11-2018 14:45"
          ],
          [
           "27-11-2018 15:00"
          ],
          [
           "27-11-2018 15:15"
          ],
          [
           "27-11-2018 15:30"
          ],
          [
           "27-11-2018 15:45"
          ],
          [
           "27-11-2018 16:00"
          ],
          [
           "27-11-2018 16:15"
          ],
          [
           "27-11-2018 16:30"
          ],
          [
           "27-11-2018 16:45"
          ],
          [
           "27-11-2018 17:00"
          ],
          [
           "27-11-2018 20:15"
          ],
          [
           "27-11-2018 20:30"
          ],
          [
           "27-11-2018 20:45"
          ],
          [
           "27-11-2018 21:00"
          ],
          [
           "27-11-2018 21:15"
          ],
          [
           "27-11-2018 21:30"
          ],
          [
           "27-11-2018 21:45"
          ],
          [
           "27-11-2018 22:00"
          ],
          [
           "28-11-2018 09:15"
          ],
          [
           "28-11-2018 09:30"
          ],
          [
           "28-11-2018 09:45"
          ],
          [
           "28-11-2018 10:00"
          ],
          [
           "28-11-2018 12:15"
          ],
          [
           "28-11-2018 12:30"
          ],
          [
           "28-11-2018 12:45"
          ],
          [
           "28-11-2018 13:00"
          ],
          [
           "28-11-2018 13:15"
          ],
          [
           "28-11-2018 13:30"
          ],
          [
           "28-11-2018 13:45"
          ],
          [
           "28-11-2018 14:00"
          ],
          [
           "28-11-2018 14:15"
          ],
          [
           "28-11-2018 14:30"
          ],
          [
           "28-11-2018 14:45"
          ],
          [
           "28-11-2018 15:00"
          ],
          [
           "28-11-2018 15:15"
          ],
          [
           "28-11-2018 15:30"
          ],
          [
           "28-11-2018 15:45"
          ],
          [
           "28-11-2018 16:00"
          ],
          [
           "28-11-2018 16:15"
          ],
          [
           "28-11-2018 16:30"
          ],
          [
           "28-11-2018 16:45"
          ],
          [
           "28-11-2018 17:00"
          ],
          [
           "28-11-2018 20:15"
          ],
          [
           "28-11-2018 20:30"
          ],
          [
           "28-11-2018 20:45"
          ],
          [
           "28-11-2018 21:00"
          ],
          [
           "28-11-2018 21:15"
          ],
          [
           "28-11-2018 21:30"
          ],
          [
           "28-11-2018 21:45"
          ],
          [
           "28-11-2018 22:00"
          ],
          [
           "29-11-2018 09:15"
          ],
          [
           "29-11-2018 09:30"
          ],
          [
           "29-11-2018 09:45"
          ],
          [
           "29-11-2018 10:00"
          ],
          [
           "29-11-2018 12:15"
          ],
          [
           "29-11-2018 12:30"
          ],
          [
           "29-11-2018 12:45"
          ],
          [
           "29-11-2018 13:00"
          ],
          [
           "29-11-2018 13:15"
          ],
          [
           "29-11-2018 13:30"
          ],
          [
           "29-11-2018 13:45"
          ],
          [
           "29-11-2018 14:00"
          ],
          [
           "29-11-2018 14:15"
          ],
          [
           "29-11-2018 14:30"
          ],
          [
           "29-11-2018 14:45"
          ],
          [
           "29-11-2018 15:00"
          ],
          [
           "29-11-2018 15:15"
          ],
          [
           "29-11-2018 15:30"
          ],
          [
           "29-11-2018 15:45"
          ],
          [
           "29-11-2018 16:00"
          ],
          [
           "29-11-2018 16:15"
          ],
          [
           "29-11-2018 16:30"
          ],
          [
           "29-11-2018 16:45"
          ],
          [
           "29-11-2018 17:00"
          ],
          [
           "29-11-2018 20:15"
          ],
          [
           "29-11-2018 20:30"
          ],
          [
           "29-11-2018 20:45"
          ],
          [
           "29-11-2018 21:00"
          ],
          [
           "29-11-2018 21:15"
          ],
          [
           "29-11-2018 21:30"
          ],
          [
           "29-11-2018 21:45"
          ],
          [
           "29-11-2018 22:00"
          ],
          [
           "30-11-2018 09:15"
          ],
          [
           "30-11-2018 09:30"
          ],
          [
           "30-11-2018 09:45"
          ],
          [
           "30-11-2018 10:00"
          ],
          [
           "30-11-2018 12:15"
          ],
          [
           "30-11-2018 12:30"
          ],
          [
           "30-11-2018 12:45"
          ],
          [
           "30-11-2018 13:00"
          ],
          [
           "30-11-2018 13:15"
          ],
          [
           "30-11-2018 13:30"
          ],
          [
           "30-11-2018 13:45"
          ],
          [
           "30-11-2018 14:00"
          ],
          [
           "30-11-2018 14:15"
          ],
          [
           "30-11-2018 14:30"
          ],
          [
           "30-11-2018 14:45"
          ],
          [
           "30-11-2018 15:00"
          ],
          [
           "30-11-2018 15:15"
          ],
          [
           "30-11-2018 15:30"
          ],
          [
           "30-11-2018 15:45"
          ],
          [
           "30-11-2018 16:00"
          ],
          [
           "30-11-2018 16:15"
          ],
          [
           "30-11-2018 16:30"
          ],
          [
           "30-11-2018 16:45"
          ],
          [
           "30-11-2018 17:00"
          ],
          [
           "30-11-2018 20:15"
          ],
          [
           "30-11-2018 20:30"
          ],
          [
           "30-11-2018 20:45"
          ],
          [
           "30-11-2018 21:00"
          ],
          [
           "30-11-2018 21:15"
          ],
          [
           "30-11-2018 21:30"
          ],
          [
           "30-11-2018 21:45"
          ],
          [
           "30-11-2018 22:00"
          ]
         ],
         "hovertemplate": "Load_Type=Medium_Load<br>NSM_calculated=%{x}<br>y=%{y}<br>Date_Time=%{customdata[0]}<extra></extra>",
         "legendgroup": "Medium_Load",
         "marker": {
          "color": "#EF553B",
          "symbol": "circle"
         },
         "mode": "markers",
         "name": "Medium_Load",
         "showlegend": true,
         "type": "scattergl",
         "x": [
          33300,
          34200,
          35100,
          36000,
          44100,
          45000,
          45900,
          46800,
          62100,
          63000,
          63900,
          64800,
          65700,
          66600,
          67500,
          68400,
          69300,
          70200,
          71100,
          72000,
          72900,
          73800,
          74700,
          75600,
          76500,
          77400,
          78300,
          79200,
          80100,
          81000,
          81900,
          82800,
          33300,
          34200,
          35100,
          36000,
          44100,
          45000,
          45900,
          46800,
          62100,
          63000,
          63900,
          64800,
          65700,
          66600,
          67500,
          68400,
          69300,
          70200,
          71100,
          72000,
          72900,
          73800,
          74700,
          75600,
          76500,
          77400,
          78300,
          79200,
          80100,
          81000,
          81900,
          82800,
          33300,
          34200,
          35100,
          36000,
          44100,
          45000,
          45900,
          46800,
          62100,
          63000,
          63900,
          64800,
          65700,
          66600,
          67500,
          68400,
          69300,
          70200,
          71100,
          72000,
          72900,
          73800,
          74700,
          75600,
          76500,
          77400,
          78300,
          79200,
          80100,
          81000,
          81900,
          82800,
          33300,
          34200,
          35100,
          36000,
          44100,
          45000,
          45900,
          46800,
          62100,
          63000,
          63900,
          64800,
          65700,
          66600,
          67500,
          68400,
          69300,
          70200,
          71100,
          72000,
          72900,
          73800,
          74700,
          75600,
          76500,
          77400,
          78300,
          79200,
          80100,
          81000,
          81900,
          82800,
          33300,
          34200,
          35100,
          36000,
          44100,
          45000,
          45900,
          46800,
          62100,
          63000,
          63900,
          64800,
          65700,
          66600,
          67500,
          68400,
          69300,
          70200,
          71100,
          72000,
          72900,
          73800,
          74700,
          75600,
          76500,
          77400,
          78300,
          79200,
          80100,
          81000,
          81900,
          82800,
          33300,
          34200,
          35100,
          36000,
          44100,
          45000,
          45900,
          46800,
          62100,
          63000,
          63900,
          64800,
          65700,
          66600,
          67500,
          68400,
          69300,
          70200,
          71100,
          72000,
          72900,
          73800,
          74700,
          75600,
          76500,
          77400,
          78300,
          79200,
          80100,
          81000,
          81900,
          82800,
          33300,
          34200,
          35100,
          36000,
          44100,
          45000,
          45900,
          46800,
          62100,
          63000,
          63900,
          64800,
          65700,
          66600,
          67500,
          68400,
          69300,
          70200,
          71100,
          72000,
          72900,
          73800,
          74700,
          75600,
          76500,
          77400,
          78300,
          79200,
          80100,
          81000,
          81900,
          82800,
          33300,
          34200,
          35100,
          36000,
          44100,
          45000,
          45900,
          46800,
          62100,
          63000,
          63900,
          64800,
          65700,
          66600,
          67500,
          68400,
          69300,
          70200,
          71100,
          72000,
          72900,
          73800,
          74700,
          75600,
          76500,
          77400,
          78300,
          79200,
          80100,
          81000,
          81900,
          82800,
          33300,
          34200,
          35100,
          36000,
          44100,
          45000,
          45900,
          46800,
          62100,
          63000,
          63900,
          64800,
          65700,
          66600,
          67500,
          68400,
          69300,
          70200,
          71100,
          72000,
          72900,
          73800,
          74700,
          75600,
          76500,
          77400,
          78300,
          79200,
          80100,
          81000,
          81900,
          82800,
          33300,
          34200,
          35100,
          36000,
          44100,
          45000,
          45900,
          46800,
          62100,
          63000,
          63900,
          64800,
          65700,
          66600,
          67500,
          68400,
          69300,
          70200,
          71100,
          72000,
          72900,
          73800,
          74700,
          75600,
          76500,
          77400,
          78300,
          79200,
          80100,
          81000,
          81900,
          82800,
          33300,
          34200,
          35100,
          36000,
          44100,
          45000,
          45900,
          46800,
          62100,
          63000,
          63900,
          64800,
          65700,
          66600,
          67500,
          68400,
          69300,
          70200,
          71100,
          72000,
          72900,
          73800,
          74700,
          75600,
          76500,
          77400,
          78300,
          79200,
          80100,
          81000,
          81900,
          82800,
          33300,
          34200,
          35100,
          36000,
          44100,
          45000,
          45900,
          46800,
          62100,
          63000,
          63900,
          64800,
          65700,
          66600,
          67500,
          68400,
          69300,
          70200,
          71100,
          72000,
          72900,
          73800,
          74700,
          75600,
          76500,
          77400,
          78300,
          79200,
          80100,
          81000,
          81900,
          82800,
          33300,
          34200,
          35100,
          36000,
          44100,
          45000,
          45900,
          46800,
          62100,
          63000,
          63900,
          64800,
          65700,
          66600,
          67500,
          68400,
          69300,
          70200,
          71100,
          72000,
          72900,
          73800,
          74700,
          75600,
          76500,
          77400,
          78300,
          79200,
          80100,
          81000,
          81900,
          82800,
          33300,
          34200,
          35100,
          36000,
          44100,
          45000,
          45900,
          46800,
          62100,
          63000,
          63900,
          64800,
          65700,
          66600,
          67500,
          68400,
          69300,
          70200,
          71100,
          72000,
          72900,
          73800,
          74700,
          75600,
          76500,
          77400,
          78300,
          79200,
          80100,
          81000,
          81900,
          82800,
          33300,
          34200,
          35100,
          36000,
          44100,
          45000,
          45900,
          46800,
          62100,
          63000,
          63900,
          64800,
          65700,
          66600,
          67500,
          68400,
          69300,
          70200,
          71100,
          72000,
          72900,
          73800,
          74700,
          75600,
          76500,
          77400,
          78300,
          79200,
          80100,
          81000,
          81900,
          82800,
          33300,
          34200,
          35100,
          36000,
          44100,
          45000,
          45900,
          46800,
          62100,
          63000,
          63900,
          64800,
          65700,
          66600,
          67500,
          68400,
          69300,
          70200,
          71100,
          72000,
          72900,
          73800,
          74700,
          75600,
          76500,
          77400,
          78300,
          79200,
          80100,
          81000,
          81900,
          82800,
          33300,
          34200,
          35100,
          36000,
          44100,
          45000,
          45900,
          46800,
          62100,
          63000,
          63900,
          64800,
          65700,
          66600,
          67500,
          68400,
          69300,
          70200,
          71100,
          72000,
          72900,
          73800,
          74700,
          75600,
          76500,
          77400,
          78300,
          79200,
          80100,
          81000,
          81900,
          82800,
          33300,
          34200,
          35100,
          36000,
          44100,
          45000,
          45900,
          46800,
          62100,
          63000,
          63900,
          64800,
          65700,
          66600,
          67500,
          68400,
          69300,
          70200,
          71100,
          72000,
          72900,
          73800,
          74700,
          75600,
          76500,
          77400,
          78300,
          79200,
          80100,
          81000,
          81900,
          82800,
          33300,
          34200,
          35100,
          36000,
          44100,
          45000,
          45900,
          46800,
          62100,
          63000,
          63900,
          64800,
          65700,
          66600,
          67500,
          68400,
          69300,
          70200,
          71100,
          72000,
          72900,
          73800,
          74700,
          75600,
          76500,
          77400,
          78300,
          79200,
          80100,
          81000,
          81900,
          82800,
          33300,
          34200,
          35100,
          36000,
          44100,
          45000,
          45900,
          46800,
          62100,
          63000,
          63900,
          64800,
          65700,
          66600,
          67500,
          68400,
          69300,
          70200,
          71100,
          72000,
          72900,
          73800,
          74700,
          75600,
          76500,
          77400,
          78300,
          79200,
          80100,
          81000,
          81900,
          82800,
          33300,
          34200,
          35100,
          36000,
          44100,
          45000,
          45900,
          46800,
          62100,
          63000,
          63900,
          64800,
          65700,
          66600,
          67500,
          68400,
          69300,
          70200,
          71100,
          72000,
          72900,
          73800,
          74700,
          75600,
          76500,
          77400,
          78300,
          79200,
          80100,
          81000,
          81900,
          82800,
          33300,
          34200,
          35100,
          36000,
          44100,
          45000,
          45900,
          46800,
          62100,
          63000,
          63900,
          64800,
          65700,
          66600,
          67500,
          68400,
          69300,
          70200,
          71100,
          72000,
          72900,
          73800,
          74700,
          75600,
          76500,
          77400,
          78300,
          79200,
          80100,
          81000,
          81900,
          82800,
          33300,
          34200,
          35100,
          36000,
          44100,
          45000,
          45900,
          46800,
          62100,
          63000,
          63900,
          64800,
          65700,
          66600,
          67500,
          68400,
          69300,
          70200,
          71100,
          72000,
          72900,
          73800,
          74700,
          75600,
          76500,
          77400,
          78300,
          79200,
          80100,
          81000,
          81900,
          82800,
          33300,
          34200,
          35100,
          36000,
          44100,
          45000,
          45900,
          46800,
          62100,
          63000,
          63900,
          64800,
          65700,
          66600,
          67500,
          68400,
          69300,
          70200,
          71100,
          72000,
          72900,
          73800,
          74700,
          75600,
          76500,
          77400,
          78300,
          79200,
          80100,
          81000,
          81900,
          82800,
          33300,
          34200,
          35100,
          36000,
          44100,
          45000,
          45900,
          46800,
          62100,
          63000,
          63900,
          64800,
          65700,
          66600,
          67500,
          68400,
          69300,
          70200,
          71100,
          72000,
          72900,
          73800,
          74700,
          75600,
          76500,
          77400,
          78300,
          79200,
          80100,
          81000,
          81900,
          82800,
          33300,
          34200,
          35100,
          36000,
          44100,
          45000,
          45900,
          46800,
          62100,
          63000,
          63900,
          64800,
          65700,
          66600,
          67500,
          68400,
          69300,
          70200,
          71100,
          72000,
          72900,
          73800,
          74700,
          75600,
          76500,
          77400,
          78300,
          79200,
          80100,
          81000,
          81900,
          82800,
          33300,
          34200,
          35100,
          36000,
          44100,
          45000,
          45900,
          46800,
          62100,
          63000,
          63900,
          64800,
          65700,
          66600,
          67500,
          68400,
          69300,
          70200,
          71100,
          72000,
          72900,
          73800,
          74700,
          75600,
          76500,
          77400,
          78300,
          79200,
          80100,
          81000,
          81900,
          82800,
          33300,
          34200,
          35100,
          36000,
          44100,
          45000,
          45900,
          46800,
          62100,
          63000,
          63900,
          64800,
          65700,
          66600,
          67500,
          68400,
          69300,
          70200,
          71100,
          72000,
          72900,
          73800,
          74700,
          75600,
          76500,
          77400,
          78300,
          79200,
          80100,
          81000,
          81900,
          82800,
          33300,
          34200,
          35100,
          36000,
          44100,
          45000,
          45900,
          46800,
          62100,
          63000,
          63900,
          64800,
          65700,
          66600,
          67500,
          68400,
          69300,
          70200,
          71100,
          72000,
          72900,
          73800,
          74700,
          75600,
          76500,
          77400,
          78300,
          79200,
          80100,
          81000,
          81900,
          82800,
          33300,
          34200,
          35100,
          36000,
          44100,
          45000,
          45900,
          46800,
          62100,
          63000,
          63900,
          64800,
          65700,
          66600,
          67500,
          68400,
          69300,
          70200,
          71100,
          72000,
          72900,
          73800,
          74700,
          75600,
          76500,
          77400,
          78300,
          79200,
          80100,
          81000,
          81900,
          82800,
          33300,
          34200,
          35100,
          36000,
          44100,
          45000,
          45900,
          46800,
          47700,
          48600,
          49500,
          50400,
          51300,
          52200,
          53100,
          54000,
          54900,
          55800,
          56700,
          57600,
          58500,
          59400,
          60300,
          61200,
          72900,
          73800,
          74700,
          75600,
          76500,
          77400,
          78300,
          79200,
          33300,
          34200,
          35100,
          36000,
          44100,
          45000,
          45900,
          46800,
          47700,
          48600,
          49500,
          50400,
          51300,
          52200,
          53100,
          54000,
          54900,
          55800,
          56700,
          57600,
          58500,
          59400,
          60300,
          61200,
          72900,
          73800,
          74700,
          75600,
          76500,
          77400,
          78300,
          79200,
          33300,
          34200,
          35100,
          36000,
          44100,
          45000,
          45900,
          46800,
          47700,
          48600,
          49500,
          50400,
          51300,
          52200,
          53100,
          54000,
          54900,
          55800,
          56700,
          57600,
          58500,
          59400,
          60300,
          61200,
          72900,
          73800,
          74700,
          75600,
          76500,
          77400,
          78300,
          79200,
          33300,
          34200,
          35100,
          36000,
          44100,
          45000,
          45900,
          46800,
          47700,
          48600,
          49500,
          50400,
          51300,
          52200,
          53100,
          54000,
          54900,
          55800,
          56700,
          57600,
          58500,
          59400,
          60300,
          61200,
          72900,
          73800,
          74700,
          75600,
          76500,
          77400,
          78300,
          79200,
          33300,
          34200,
          35100,
          36000,
          44100,
          45000,
          45900,
          46800,
          47700,
          48600,
          49500,
          50400,
          51300,
          52200,
          53100,
          54000,
          54900,
          55800,
          56700,
          57600,
          58500,
          59400,
          60300,
          61200,
          72900,
          73800,
          74700,
          75600,
          76500,
          77400,
          78300,
          79200,
          33300,
          34200,
          35100,
          36000,
          44100,
          45000,
          45900,
          46800,
          47700,
          48600,
          49500,
          50400,
          51300,
          52200,
          53100,
          54000,
          54900,
          55800,
          56700,
          57600,
          58500,
          59400,
          60300,
          61200,
          72900,
          73800,
          74700,
          75600,
          76500,
          77400,
          78300,
          79200,
          33300,
          34200,
          35100,
          36000,
          44100,
          45000,
          45900,
          46800,
          47700,
          48600,
          49500,
          50400,
          51300,
          52200,
          53100,
          54000,
          54900,
          55800,
          56700,
          57600,
          58500,
          59400,
          60300,
          61200,
          72900,
          73800,
          74700,
          75600,
          76500,
          77400,
          78300,
          79200,
          33300,
          34200,
          35100,
          36000,
          44100,
          45000,
          45900,
          46800,
          47700,
          48600,
          49500,
          50400,
          51300,
          52200,
          53100,
          54000,
          54900,
          55800,
          56700,
          57600,
          58500,
          59400,
          60300,
          61200,
          72900,
          73800,
          74700,
          75600,
          76500,
          77400,
          78300,
          79200,
          33300,
          34200,
          35100,
          36000,
          44100,
          45000,
          45900,
          46800,
          47700,
          48600,
          49500,
          50400,
          51300,
          52200,
          53100,
          54000,
          54900,
          55800,
          56700,
          57600,
          58500,
          59400,
          60300,
          61200,
          72900,
          73800,
          74700,
          75600,
          76500,
          77400,
          78300,
          79200,
          33300,
          34200,
          35100,
          36000,
          44100,
          45000,
          45900,
          46800,
          47700,
          48600,
          49500,
          50400,
          51300,
          52200,
          53100,
          54000,
          54900,
          55800,
          56700,
          57600,
          58500,
          59400,
          60300,
          61200,
          72900,
          73800,
          74700,
          75600,
          76500,
          77400,
          78300,
          79200,
          33300,
          34200,
          35100,
          36000,
          44100,
          45000,
          45900,
          46800,
          47700,
          48600,
          49500,
          50400,
          51300,
          52200,
          53100,
          54000,
          54900,
          55800,
          56700,
          57600,
          58500,
          59400,
          60300,
          61200,
          72900,
          73800,
          74700,
          75600,
          76500,
          77400,
          78300,
          79200,
          33300,
          34200,
          35100,
          36000,
          44100,
          45000,
          45900,
          46800,
          47700,
          48600,
          49500,
          50400,
          51300,
          52200,
          53100,
          54000,
          54900,
          55800,
          56700,
          57600,
          58500,
          59400,
          60300,
          61200,
          72900,
          73800,
          74700,
          75600,
          76500,
          77400,
          78300,
          79200,
          33300,
          34200,
          35100,
          36000,
          44100,
          45000,
          45900,
          46800,
          47700,
          48600,
          49500,
          50400,
          51300,
          52200,
          53100,
          54000,
          54900,
          55800,
          56700,
          57600,
          58500,
          59400,
          60300,
          61200,
          72900,
          73800,
          74700,
          75600,
          76500,
          77400,
          78300,
          79200,
          33300,
          34200,
          35100,
          36000,
          44100,
          45000,
          45900,
          46800,
          47700,
          48600,
          49500,
          50400,
          51300,
          52200,
          53100,
          54000,
          54900,
          55800,
          56700,
          57600,
          58500,
          59400,
          60300,
          61200,
          72900,
          73800,
          74700,
          75600,
          76500,
          77400,
          78300,
          79200,
          33300,
          34200,
          35100,
          36000,
          44100,
          45000,
          45900,
          46800,
          47700,
          48600,
          49500,
          50400,
          51300,
          52200,
          53100,
          54000,
          54900,
          55800,
          56700,
          57600,
          58500,
          59400,
          60300,
          61200,
          72900,
          73800,
          74700,
          75600,
          76500,
          77400,
          78300,
          79200,
          33300,
          34200,
          35100,
          36000,
          44100,
          45000,
          45900,
          46800,
          47700,
          48600,
          49500,
          50400,
          51300,
          52200,
          53100,
          54000,
          54900,
          55800,
          56700,
          57600,
          58500,
          59400,
          60300,
          61200,
          72900,
          73800,
          74700,
          75600,
          76500,
          77400,
          78300,
          79200,
          33300,
          34200,
          35100,
          36000,
          44100,
          45000,
          45900,
          46800,
          47700,
          48600,
          49500,
          50400,
          51300,
          52200,
          53100,
          54000,
          54900,
          55800,
          56700,
          57600,
          58500,
          59400,
          60300,
          61200,
          72900,
          73800,
          74700,
          75600,
          76500,
          77400,
          78300,
          79200,
          33300,
          34200,
          35100,
          36000,
          44100,
          45000,
          45900,
          46800,
          47700,
          48600,
          49500,
          50400,
          51300,
          52200,
          53100,
          54000,
          54900,
          55800,
          56700,
          57600,
          58500,
          59400,
          60300,
          61200,
          72900,
          73800,
          74700,
          75600,
          76500,
          77400,
          78300,
          79200,
          33300,
          34200,
          35100,
          36000,
          44100,
          45000,
          45900,
          46800,
          47700,
          48600,
          49500,
          50400,
          51300,
          52200,
          53100,
          54000,
          54900,
          55800,
          56700,
          57600,
          58500,
          59400,
          60300,
          61200,
          72900,
          73800,
          74700,
          75600,
          76500,
          77400,
          78300,
          79200,
          33300,
          34200,
          35100,
          36000,
          44100,
          45000,
          45900,
          46800,
          47700,
          48600,
          49500,
          50400,
          51300,
          52200,
          53100,
          54000,
          54900,
          55800,
          56700,
          57600,
          58500,
          59400,
          60300,
          61200,
          72900,
          73800,
          74700,
          75600,
          76500,
          77400,
          78300,
          79200,
          33300,
          34200,
          35100,
          36000,
          44100,
          45000,
          45900,
          46800,
          47700,
          48600,
          49500,
          50400,
          51300,
          52200,
          53100,
          54000,
          54900,
          55800,
          56700,
          57600,
          58500,
          59400,
          60300,
          61200,
          72900,
          73800,
          74700,
          75600,
          76500,
          77400,
          78300,
          79200,
          33300,
          34200,
          35100,
          36000,
          44100,
          45000,
          45900,
          46800,
          47700,
          48600,
          49500,
          50400,
          51300,
          52200,
          53100,
          54000,
          54900,
          55800,
          56700,
          57600,
          58500,
          59400,
          60300,
          61200,
          72900,
          73800,
          74700,
          75600,
          76500,
          77400,
          78300,
          79200,
          33300,
          34200,
          35100,
          36000,
          44100,
          45000,
          45900,
          46800,
          47700,
          48600,
          49500,
          50400,
          51300,
          52200,
          53100,
          54000,
          54900,
          55800,
          56700,
          57600,
          58500,
          59400,
          60300,
          61200,
          72900,
          73800,
          74700,
          75600,
          76500,
          77400,
          78300,
          79200,
          33300,
          34200,
          35100,
          36000,
          44100,
          45000,
          45900,
          46800,
          47700,
          48600,
          49500,
          50400,
          51300,
          52200,
          53100,
          54000,
          54900,
          55800,
          56700,
          57600,
          58500,
          59400,
          60300,
          61200,
          72900,
          73800,
          74700,
          75600,
          76500,
          77400,
          78300,
          79200,
          33300,
          34200,
          35100,
          36000,
          44100,
          45000,
          45900,
          46800,
          47700,
          48600,
          49500,
          50400,
          51300,
          52200,
          53100,
          54000,
          54900,
          55800,
          56700,
          57600,
          58500,
          59400,
          60300,
          61200,
          72900,
          73800,
          74700,
          75600,
          76500,
          77400,
          78300,
          79200,
          33300,
          34200,
          35100,
          36000,
          44100,
          45000,
          45900,
          46800,
          47700,
          48600,
          49500,
          50400,
          51300,
          52200,
          53100,
          54000,
          54900,
          55800,
          56700,
          57600,
          58500,
          59400,
          60300,
          61200,
          72900,
          73800,
          74700,
          75600,
          76500,
          77400,
          78300,
          79200,
          33300,
          34200,
          35100,
          36000,
          44100,
          45000,
          45900,
          46800,
          47700,
          48600,
          49500,
          50400,
          51300,
          52200,
          53100,
          54000,
          54900,
          55800,
          56700,
          57600,
          58500,
          59400,
          60300,
          61200,
          72900,
          73800,
          74700,
          75600,
          76500,
          77400,
          78300,
          79200
         ],
         "xaxis": "x",
         "y": [
          209,
          210,
          211,
          212,
          221,
          222,
          223,
          224,
          241,
          242,
          243,
          244,
          245,
          246,
          247,
          248,
          249,
          250,
          251,
          252,
          253,
          254,
          255,
          256,
          257,
          258,
          259,
          260,
          261,
          262,
          263,
          264,
          305,
          306,
          307,
          308,
          317,
          318,
          319,
          320,
          337,
          338,
          339,
          340,
          341,
          342,
          343,
          344,
          345,
          346,
          347,
          348,
          349,
          350,
          351,
          352,
          353,
          354,
          355,
          356,
          357,
          358,
          359,
          360,
          401,
          402,
          403,
          404,
          413,
          414,
          415,
          416,
          433,
          434,
          435,
          436,
          437,
          438,
          439,
          440,
          441,
          442,
          443,
          444,
          445,
          446,
          447,
          448,
          449,
          450,
          451,
          452,
          453,
          454,
          455,
          456,
          593,
          594,
          595,
          596,
          605,
          606,
          607,
          608,
          625,
          626,
          627,
          628,
          629,
          630,
          631,
          632,
          633,
          634,
          635,
          636,
          637,
          638,
          639,
          640,
          641,
          642,
          643,
          644,
          645,
          646,
          647,
          648,
          689,
          690,
          691,
          692,
          701,
          702,
          703,
          704,
          721,
          722,
          723,
          724,
          725,
          726,
          727,
          728,
          729,
          730,
          731,
          732,
          733,
          734,
          735,
          736,
          737,
          738,
          739,
          740,
          741,
          742,
          743,
          744,
          785,
          786,
          787,
          788,
          797,
          798,
          799,
          800,
          817,
          818,
          819,
          820,
          821,
          822,
          823,
          824,
          825,
          826,
          827,
          828,
          829,
          830,
          831,
          832,
          833,
          834,
          835,
          836,
          837,
          838,
          839,
          840,
          881,
          882,
          883,
          884,
          893,
          894,
          895,
          896,
          913,
          914,
          915,
          916,
          917,
          918,
          919,
          920,
          921,
          922,
          923,
          924,
          925,
          926,
          927,
          928,
          929,
          930,
          931,
          932,
          933,
          934,
          935,
          936,
          977,
          978,
          979,
          980,
          989,
          990,
          991,
          992,
          1009,
          1010,
          1011,
          1012,
          1013,
          1014,
          1015,
          1016,
          1017,
          1018,
          1019,
          1020,
          1021,
          1022,
          1023,
          1024,
          1025,
          1026,
          1027,
          1028,
          1029,
          1030,
          1031,
          1032,
          1073,
          1074,
          1075,
          1076,
          1085,
          1086,
          1087,
          1088,
          1105,
          1106,
          1107,
          1108,
          1109,
          1110,
          1111,
          1112,
          1113,
          1114,
          1115,
          1116,
          1117,
          1118,
          1119,
          1120,
          1121,
          1122,
          1123,
          1124,
          1125,
          1126,
          1127,
          1128,
          1265,
          1266,
          1267,
          1268,
          1277,
          1278,
          1279,
          1280,
          1297,
          1298,
          1299,
          1300,
          1301,
          1302,
          1303,
          1304,
          1305,
          1306,
          1307,
          1308,
          1309,
          1310,
          1311,
          1312,
          1313,
          1314,
          1315,
          1316,
          1317,
          1318,
          1319,
          1320,
          1361,
          1362,
          1363,
          1364,
          1373,
          1374,
          1375,
          1376,
          1393,
          1394,
          1395,
          1396,
          1397,
          1398,
          1399,
          1400,
          1401,
          1402,
          1403,
          1404,
          1405,
          1406,
          1407,
          1408,
          1409,
          1410,
          1411,
          1412,
          1413,
          1414,
          1415,
          1416,
          1457,
          1458,
          1459,
          1460,
          1469,
          1470,
          1471,
          1472,
          1489,
          1490,
          1491,
          1492,
          1493,
          1494,
          1495,
          1496,
          1497,
          1498,
          1499,
          1500,
          1501,
          1502,
          1503,
          1504,
          1505,
          1506,
          1507,
          1508,
          1509,
          1510,
          1511,
          1512,
          1553,
          1554,
          1555,
          1556,
          1565,
          1566,
          1567,
          1568,
          1585,
          1586,
          1587,
          1588,
          1589,
          1590,
          1591,
          1592,
          1593,
          1594,
          1595,
          1596,
          1597,
          1598,
          1599,
          1600,
          1601,
          1602,
          1603,
          1604,
          1605,
          1606,
          1607,
          1608,
          1649,
          1650,
          1651,
          1652,
          1661,
          1662,
          1663,
          1664,
          1681,
          1682,
          1683,
          1684,
          1685,
          1686,
          1687,
          1688,
          1689,
          1690,
          1691,
          1692,
          1693,
          1694,
          1695,
          1696,
          1697,
          1698,
          1699,
          1700,
          1701,
          1702,
          1703,
          1704,
          1745,
          1746,
          1747,
          1748,
          1757,
          1758,
          1759,
          1760,
          1777,
          1778,
          1779,
          1780,
          1781,
          1782,
          1783,
          1784,
          1785,
          1786,
          1787,
          1788,
          1789,
          1790,
          1791,
          1792,
          1793,
          1794,
          1795,
          1796,
          1797,
          1798,
          1799,
          1800,
          1937,
          1938,
          1939,
          1940,
          1949,
          1950,
          1951,
          1952,
          1969,
          1970,
          1971,
          1972,
          1973,
          1974,
          1975,
          1976,
          1977,
          1978,
          1979,
          1980,
          1981,
          1982,
          1983,
          1984,
          1985,
          1986,
          1987,
          1988,
          1989,
          1990,
          1991,
          1992,
          2033,
          2034,
          2035,
          2036,
          2045,
          2046,
          2047,
          2048,
          2065,
          2066,
          2067,
          2068,
          2069,
          2070,
          2071,
          2072,
          2073,
          2074,
          2075,
          2076,
          2077,
          2078,
          2079,
          2080,
          2081,
          2082,
          2083,
          2084,
          2085,
          2086,
          2087,
          2088,
          2129,
          2130,
          2131,
          2132,
          2141,
          2142,
          2143,
          2144,
          2161,
          2162,
          2163,
          2164,
          2165,
          2166,
          2167,
          2168,
          2169,
          2170,
          2171,
          2172,
          2173,
          2174,
          2175,
          2176,
          2177,
          2178,
          2179,
          2180,
          2181,
          2182,
          2183,
          2184,
          2225,
          2226,
          2227,
          2228,
          2237,
          2238,
          2239,
          2240,
          2257,
          2258,
          2259,
          2260,
          2261,
          2262,
          2263,
          2264,
          2265,
          2266,
          2267,
          2268,
          2269,
          2270,
          2271,
          2272,
          2273,
          2274,
          2275,
          2276,
          2277,
          2278,
          2279,
          2280,
          2321,
          2322,
          2323,
          2324,
          2333,
          2334,
          2335,
          2336,
          2353,
          2354,
          2355,
          2356,
          2357,
          2358,
          2359,
          2360,
          2361,
          2362,
          2363,
          2364,
          2365,
          2366,
          2367,
          2368,
          2369,
          2370,
          2371,
          2372,
          2373,
          2374,
          2375,
          2376,
          2417,
          2418,
          2419,
          2420,
          2429,
          2430,
          2431,
          2432,
          2449,
          2450,
          2451,
          2452,
          2453,
          2454,
          2455,
          2456,
          2457,
          2458,
          2459,
          2460,
          2461,
          2462,
          2463,
          2464,
          2465,
          2466,
          2467,
          2468,
          2469,
          2470,
          2471,
          2472,
          2609,
          2610,
          2611,
          2612,
          2621,
          2622,
          2623,
          2624,
          2641,
          2642,
          2643,
          2644,
          2645,
          2646,
          2647,
          2648,
          2649,
          2650,
          2651,
          2652,
          2653,
          2654,
          2655,
          2656,
          2657,
          2658,
          2659,
          2660,
          2661,
          2662,
          2663,
          2664,
          2705,
          2706,
          2707,
          2708,
          2717,
          2718,
          2719,
          2720,
          2737,
          2738,
          2739,
          2740,
          2741,
          2742,
          2743,
          2744,
          2745,
          2746,
          2747,
          2748,
          2749,
          2750,
          2751,
          2752,
          2753,
          2754,
          2755,
          2756,
          2757,
          2758,
          2759,
          2760,
          2801,
          2802,
          2803,
          2804,
          2813,
          2814,
          2815,
          2816,
          2833,
          2834,
          2835,
          2836,
          2837,
          2838,
          2839,
          2840,
          2841,
          2842,
          2843,
          2844,
          2845,
          2846,
          2847,
          2848,
          2849,
          2850,
          2851,
          2852,
          2853,
          2854,
          2855,
          2856,
          2897,
          2898,
          2899,
          2900,
          2909,
          2910,
          2911,
          2912,
          2929,
          2930,
          2931,
          2932,
          2933,
          2934,
          2935,
          2936,
          2937,
          2938,
          2939,
          2940,
          2941,
          2942,
          2943,
          2944,
          2945,
          2946,
          2947,
          2948,
          2949,
          2950,
          2951,
          2952,
          2993,
          2994,
          2995,
          2996,
          3005,
          3006,
          3007,
          3008,
          3025,
          3026,
          3027,
          3028,
          3029,
          3030,
          3031,
          3032,
          3033,
          3034,
          3035,
          3036,
          3037,
          3038,
          3039,
          3040,
          3041,
          3042,
          3043,
          3044,
          3045,
          3046,
          3047,
          3048,
          3089,
          3090,
          3091,
          3092,
          3101,
          3102,
          3103,
          3104,
          3121,
          3122,
          3123,
          3124,
          3125,
          3126,
          3127,
          3128,
          3129,
          3130,
          3131,
          3132,
          3133,
          3134,
          3135,
          3136,
          3137,
          3138,
          3139,
          3140,
          3141,
          3142,
          3143,
          3144,
          3281,
          3282,
          3283,
          3284,
          3293,
          3294,
          3295,
          3296,
          3313,
          3314,
          3315,
          3316,
          3317,
          3318,
          3319,
          3320,
          3321,
          3322,
          3323,
          3324,
          3325,
          3326,
          3327,
          3328,
          3329,
          3330,
          3331,
          3332,
          3333,
          3334,
          3335,
          3336,
          3377,
          3378,
          3379,
          3380,
          3389,
          3390,
          3391,
          3392,
          3409,
          3410,
          3411,
          3412,
          3413,
          3414,
          3415,
          3416,
          3417,
          3418,
          3419,
          3420,
          3421,
          3422,
          3423,
          3424,
          3425,
          3426,
          3427,
          3428,
          3429,
          3430,
          3431,
          3432,
          3473,
          3474,
          3475,
          3476,
          3485,
          3486,
          3487,
          3488,
          3505,
          3506,
          3507,
          3508,
          3509,
          3510,
          3511,
          3512,
          3513,
          3514,
          3515,
          3516,
          3517,
          3518,
          3519,
          3520,
          3521,
          3522,
          3523,
          3524,
          3525,
          3526,
          3527,
          3528,
          3569,
          3570,
          3571,
          3572,
          3581,
          3582,
          3583,
          3584,
          3585,
          3586,
          3587,
          3588,
          3589,
          3590,
          3591,
          3592,
          3593,
          3594,
          3595,
          3596,
          3597,
          3598,
          3599,
          3600,
          3613,
          3614,
          3615,
          3616,
          3617,
          3618,
          3619,
          3620,
          3665,
          3666,
          3667,
          3668,
          3677,
          3678,
          3679,
          3680,
          3681,
          3682,
          3683,
          3684,
          3685,
          3686,
          3687,
          3688,
          3689,
          3690,
          3691,
          3692,
          3693,
          3694,
          3695,
          3696,
          3709,
          3710,
          3711,
          3712,
          3713,
          3714,
          3715,
          3716,
          3761,
          3762,
          3763,
          3764,
          3773,
          3774,
          3775,
          3776,
          3777,
          3778,
          3779,
          3780,
          3781,
          3782,
          3783,
          3784,
          3785,
          3786,
          3787,
          3788,
          3789,
          3790,
          3791,
          3792,
          3805,
          3806,
          3807,
          3808,
          3809,
          3810,
          3811,
          3812,
          3857,
          3858,
          3859,
          3860,
          3869,
          3870,
          3871,
          3872,
          3873,
          3874,
          3875,
          3876,
          3877,
          3878,
          3879,
          3880,
          3881,
          3882,
          3883,
          3884,
          3885,
          3886,
          3887,
          3888,
          3901,
          3902,
          3903,
          3904,
          3905,
          3906,
          3907,
          3908,
          3953,
          3954,
          3955,
          3956,
          3965,
          3966,
          3967,
          3968,
          3969,
          3970,
          3971,
          3972,
          3973,
          3974,
          3975,
          3976,
          3977,
          3978,
          3979,
          3980,
          3981,
          3982,
          3983,
          3984,
          3997,
          3998,
          3999,
          4000,
          4001,
          4002,
          4003,
          4004,
          4049,
          4050,
          4051,
          4052,
          4061,
          4062,
          4063,
          4064,
          4065,
          4066,
          4067,
          4068,
          4069,
          4070,
          4071,
          4072,
          4073,
          4074,
          4075,
          4076,
          4077,
          4078,
          4079,
          4080,
          4093,
          4094,
          4095,
          4096,
          4097,
          4098,
          4099,
          4100,
          4145,
          4146,
          4147,
          4148,
          4157,
          4158,
          4159,
          4160,
          4161,
          4162,
          4163,
          4164,
          4165,
          4166,
          4167,
          4168,
          4169,
          4170,
          4171,
          4172,
          4173,
          4174,
          4175,
          4176,
          4189,
          4190,
          4191,
          4192,
          4193,
          4194,
          4195,
          4196,
          4241,
          4242,
          4243,
          4244,
          4253,
          4254,
          4255,
          4256,
          4257,
          4258,
          4259,
          4260,
          4261,
          4262,
          4263,
          4264,
          4265,
          4266,
          4267,
          4268,
          4269,
          4270,
          4271,
          4272,
          4285,
          4286,
          4287,
          4288,
          4289,
          4290,
          4291,
          4292,
          4337,
          4338,
          4339,
          4340,
          4349,
          4350,
          4351,
          4352,
          4353,
          4354,
          4355,
          4356,
          4357,
          4358,
          4359,
          4360,
          4361,
          4362,
          4363,
          4364,
          4365,
          4366,
          4367,
          4368,
          4381,
          4382,
          4383,
          4384,
          4385,
          4386,
          4387,
          4388,
          4433,
          4434,
          4435,
          4436,
          4445,
          4446,
          4447,
          4448,
          4449,
          4450,
          4451,
          4452,
          4453,
          4454,
          4455,
          4456,
          4457,
          4458,
          4459,
          4460,
          4461,
          4462,
          4463,
          4464,
          4477,
          4478,
          4479,
          4480,
          4481,
          4482,
          4483,
          4484,
          4625,
          4626,
          4627,
          4628,
          4637,
          4638,
          4639,
          4640,
          4641,
          4642,
          4643,
          4644,
          4645,
          4646,
          4647,
          4648,
          4649,
          4650,
          4651,
          4652,
          4653,
          4654,
          4655,
          4656,
          4669,
          4670,
          4671,
          4672,
          4673,
          4674,
          4675,
          4676,
          4721,
          4722,
          4723,
          4724,
          4733,
          4734,
          4735,
          4736,
          4737,
          4738,
          4739,
          4740,
          4741,
          4742,
          4743,
          4744,
          4745,
          4746,
          4747,
          4748,
          4749,
          4750,
          4751,
          4752,
          4765,
          4766,
          4767,
          4768,
          4769,
          4770,
          4771,
          4772,
          4817,
          4818,
          4819,
          4820,
          4829,
          4830,
          4831,
          4832,
          4833,
          4834,
          4835,
          4836,
          4837,
          4838,
          4839,
          4840,
          4841,
          4842,
          4843,
          4844,
          4845,
          4846,
          4847,
          4848,
          4861,
          4862,
          4863,
          4864,
          4865,
          4866,
          4867,
          4868,
          4913,
          4914,
          4915,
          4916,
          4925,
          4926,
          4927,
          4928,
          4929,
          4930,
          4931,
          4932,
          4933,
          4934,
          4935,
          4936,
          4937,
          4938,
          4939,
          4940,
          4941,
          4942,
          4943,
          4944,
          4957,
          4958,
          4959,
          4960,
          4961,
          4962,
          4963,
          4964,
          5009,
          5010,
          5011,
          5012,
          5021,
          5022,
          5023,
          5024,
          5025,
          5026,
          5027,
          5028,
          5029,
          5030,
          5031,
          5032,
          5033,
          5034,
          5035,
          5036,
          5037,
          5038,
          5039,
          5040,
          5053,
          5054,
          5055,
          5056,
          5057,
          5058,
          5059,
          5060,
          5105,
          5106,
          5107,
          5108,
          5117,
          5118,
          5119,
          5120,
          5121,
          5122,
          5123,
          5124,
          5125,
          5126,
          5127,
          5128,
          5129,
          5130,
          5131,
          5132,
          5133,
          5134,
          5135,
          5136,
          5149,
          5150,
          5151,
          5152,
          5153,
          5154,
          5155,
          5156,
          5201,
          5202,
          5203,
          5204,
          5213,
          5214,
          5215,
          5216,
          5217,
          5218,
          5219,
          5220,
          5221,
          5222,
          5223,
          5224,
          5225,
          5226,
          5227,
          5228,
          5229,
          5230,
          5231,
          5232,
          5245,
          5246,
          5247,
          5248,
          5249,
          5250,
          5251,
          5252,
          5297,
          5298,
          5299,
          5300,
          5309,
          5310,
          5311,
          5312,
          5313,
          5314,
          5315,
          5316,
          5317,
          5318,
          5319,
          5320,
          5321,
          5322,
          5323,
          5324,
          5325,
          5326,
          5327,
          5328,
          5341,
          5342,
          5343,
          5344,
          5345,
          5346,
          5347,
          5348,
          5393,
          5394,
          5395,
          5396,
          5405,
          5406,
          5407,
          5408,
          5409,
          5410,
          5411,
          5412,
          5413,
          5414,
          5415,
          5416,
          5417,
          5418,
          5419,
          5420,
          5421,
          5422,
          5423,
          5424,
          5437,
          5438,
          5439,
          5440,
          5441,
          5442,
          5443,
          5444,
          5489,
          5490,
          5491,
          5492,
          5501,
          5502,
          5503,
          5504,
          5505,
          5506,
          5507,
          5508,
          5509,
          5510,
          5511,
          5512,
          5513,
          5514,
          5515,
          5516,
          5517,
          5518,
          5519,
          5520,
          5533,
          5534,
          5535,
          5536,
          5537,
          5538,
          5539,
          5540,
          5585,
          5586,
          5587,
          5588,
          5597,
          5598,
          5599,
          5600,
          5601,
          5602,
          5603,
          5604,
          5605,
          5606,
          5607,
          5608,
          5609,
          5610,
          5611,
          5612,
          5613,
          5614,
          5615,
          5616,
          5629,
          5630,
          5631,
          5632,
          5633,
          5634,
          5635,
          5636,
          5681,
          5682,
          5683,
          5684,
          5693,
          5694,
          5695,
          5696,
          5697,
          5698,
          5699,
          5700,
          5701,
          5702,
          5703,
          5704,
          5705,
          5706,
          5707,
          5708,
          5709,
          5710,
          5711,
          5712,
          5725,
          5726,
          5727,
          5728,
          5729,
          5730,
          5731,
          5732,
          5969,
          5970,
          5971,
          5972,
          5981,
          5982,
          5983,
          5984,
          5985,
          5986,
          5987,
          5988,
          5989,
          5990,
          5991,
          5992,
          5993,
          5994,
          5995,
          5996,
          5997,
          5998,
          5999,
          6000,
          6013,
          6014,
          6015,
          6016,
          6017,
          6018,
          6019,
          6020,
          6065,
          6066,
          6067,
          6068,
          6077,
          6078,
          6079,
          6080,
          6081,
          6082,
          6083,
          6084,
          6085,
          6086,
          6087,
          6088,
          6089,
          6090,
          6091,
          6092,
          6093,
          6094,
          6095,
          6096,
          6109,
          6110,
          6111,
          6112,
          6113,
          6114,
          6115,
          6116,
          6161,
          6162,
          6163,
          6164,
          6173,
          6174,
          6175,
          6176,
          6177,
          6178,
          6179,
          6180,
          6181,
          6182,
          6183,
          6184,
          6185,
          6186,
          6187,
          6188,
          6189,
          6190,
          6191,
          6192,
          6205,
          6206,
          6207,
          6208,
          6209,
          6210,
          6211,
          6212,
          6257,
          6258,
          6259,
          6260,
          6269,
          6270,
          6271,
          6272,
          6273,
          6274,
          6275,
          6276,
          6277,
          6278,
          6279,
          6280,
          6281,
          6282,
          6283,
          6284,
          6285,
          6286,
          6287,
          6288,
          6301,
          6302,
          6303,
          6304,
          6305,
          6306,
          6307,
          6308,
          6353,
          6354,
          6355,
          6356,
          6365,
          6366,
          6367,
          6368,
          6369,
          6370,
          6371,
          6372,
          6373,
          6374,
          6375,
          6376,
          6377,
          6378,
          6379,
          6380,
          6381,
          6382,
          6383,
          6384,
          6397,
          6398,
          6399,
          6400,
          6401,
          6402,
          6403,
          6404
         ],
         "yaxis": "y"
        },
        {
         "customdata": [
          [
           "27-09-2018 10:15"
          ],
          [
           "27-09-2018 10:30"
          ],
          [
           "27-09-2018 10:45"
          ],
          [
           "27-09-2018 11:00"
          ],
          [
           "27-09-2018 11:15"
          ],
          [
           "27-09-2018 11:30"
          ],
          [
           "27-09-2018 11:45"
          ],
          [
           "27-09-2018 12:00"
          ],
          [
           "27-09-2018 13:15"
          ],
          [
           "27-09-2018 13:30"
          ],
          [
           "27-09-2018 13:45"
          ],
          [
           "27-09-2018 14:00"
          ],
          [
           "27-09-2018 14:15"
          ],
          [
           "27-09-2018 14:30"
          ],
          [
           "27-09-2018 14:45"
          ],
          [
           "27-09-2018 15:00"
          ],
          [
           "27-09-2018 15:15"
          ],
          [
           "27-09-2018 15:30"
          ],
          [
           "27-09-2018 15:45"
          ],
          [
           "27-09-2018 16:00"
          ],
          [
           "27-09-2018 16:15"
          ],
          [
           "27-09-2018 16:30"
          ],
          [
           "27-09-2018 16:45"
          ],
          [
           "27-09-2018 17:00"
          ],
          [
           "28-09-2018 10:15"
          ],
          [
           "28-09-2018 10:30"
          ],
          [
           "28-09-2018 10:45"
          ],
          [
           "28-09-2018 11:00"
          ],
          [
           "28-09-2018 11:15"
          ],
          [
           "28-09-2018 11:30"
          ],
          [
           "28-09-2018 11:45"
          ],
          [
           "28-09-2018 12:00"
          ],
          [
           "28-09-2018 13:15"
          ],
          [
           "28-09-2018 13:30"
          ],
          [
           "28-09-2018 13:45"
          ],
          [
           "28-09-2018 14:00"
          ],
          [
           "28-09-2018 14:15"
          ],
          [
           "28-09-2018 14:30"
          ],
          [
           "28-09-2018 14:45"
          ],
          [
           "28-09-2018 15:00"
          ],
          [
           "28-09-2018 15:15"
          ],
          [
           "28-09-2018 15:30"
          ],
          [
           "28-09-2018 15:45"
          ],
          [
           "28-09-2018 16:00"
          ],
          [
           "28-09-2018 16:15"
          ],
          [
           "28-09-2018 16:30"
          ],
          [
           "28-09-2018 16:45"
          ],
          [
           "28-09-2018 17:00"
          ],
          [
           "29-09-2018 10:15"
          ],
          [
           "29-09-2018 10:30"
          ],
          [
           "29-09-2018 10:45"
          ],
          [
           "29-09-2018 11:00"
          ],
          [
           "29-09-2018 11:15"
          ],
          [
           "29-09-2018 11:30"
          ],
          [
           "29-09-2018 11:45"
          ],
          [
           "29-09-2018 12:00"
          ],
          [
           "29-09-2018 13:15"
          ],
          [
           "29-09-2018 13:30"
          ],
          [
           "29-09-2018 13:45"
          ],
          [
           "29-09-2018 14:00"
          ],
          [
           "29-09-2018 14:15"
          ],
          [
           "29-09-2018 14:30"
          ],
          [
           "29-09-2018 14:45"
          ],
          [
           "29-09-2018 15:00"
          ],
          [
           "29-09-2018 15:15"
          ],
          [
           "29-09-2018 15:30"
          ],
          [
           "29-09-2018 15:45"
          ],
          [
           "29-09-2018 16:00"
          ],
          [
           "29-09-2018 16:15"
          ],
          [
           "29-09-2018 16:30"
          ],
          [
           "29-09-2018 16:45"
          ],
          [
           "29-09-2018 17:00"
          ],
          [
           "01-10-2018 10:15"
          ],
          [
           "01-10-2018 10:30"
          ],
          [
           "01-10-2018 10:45"
          ],
          [
           "01-10-2018 11:00"
          ],
          [
           "01-10-2018 11:15"
          ],
          [
           "01-10-2018 11:30"
          ],
          [
           "01-10-2018 11:45"
          ],
          [
           "01-10-2018 12:00"
          ],
          [
           "01-10-2018 13:15"
          ],
          [
           "01-10-2018 13:30"
          ],
          [
           "01-10-2018 13:45"
          ],
          [
           "01-10-2018 14:00"
          ],
          [
           "01-10-2018 14:15"
          ],
          [
           "01-10-2018 14:30"
          ],
          [
           "01-10-2018 14:45"
          ],
          [
           "01-10-2018 15:00"
          ],
          [
           "01-10-2018 15:15"
          ],
          [
           "01-10-2018 15:30"
          ],
          [
           "01-10-2018 15:45"
          ],
          [
           "01-10-2018 16:00"
          ],
          [
           "01-10-2018 16:15"
          ],
          [
           "01-10-2018 16:30"
          ],
          [
           "01-10-2018 16:45"
          ],
          [
           "01-10-2018 17:00"
          ],
          [
           "02-10-2018 10:15"
          ],
          [
           "02-10-2018 10:30"
          ],
          [
           "02-10-2018 10:45"
          ],
          [
           "02-10-2018 11:00"
          ],
          [
           "02-10-2018 11:15"
          ],
          [
           "02-10-2018 11:30"
          ],
          [
           "02-10-2018 11:45"
          ],
          [
           "02-10-2018 12:00"
          ],
          [
           "02-10-2018 13:15"
          ],
          [
           "02-10-2018 13:30"
          ],
          [
           "02-10-2018 13:45"
          ],
          [
           "02-10-2018 14:00"
          ],
          [
           "02-10-2018 14:15"
          ],
          [
           "02-10-2018 14:30"
          ],
          [
           "02-10-2018 14:45"
          ],
          [
           "02-10-2018 15:00"
          ],
          [
           "02-10-2018 15:15"
          ],
          [
           "02-10-2018 15:30"
          ],
          [
           "02-10-2018 15:45"
          ],
          [
           "02-10-2018 16:00"
          ],
          [
           "02-10-2018 16:15"
          ],
          [
           "02-10-2018 16:30"
          ],
          [
           "02-10-2018 16:45"
          ],
          [
           "02-10-2018 17:00"
          ],
          [
           "03-10-2018 10:15"
          ],
          [
           "03-10-2018 10:30"
          ],
          [
           "03-10-2018 10:45"
          ],
          [
           "03-10-2018 11:00"
          ],
          [
           "03-10-2018 11:15"
          ],
          [
           "03-10-2018 11:30"
          ],
          [
           "03-10-2018 11:45"
          ],
          [
           "03-10-2018 12:00"
          ],
          [
           "03-10-2018 13:15"
          ],
          [
           "03-10-2018 13:30"
          ],
          [
           "03-10-2018 13:45"
          ],
          [
           "03-10-2018 14:00"
          ],
          [
           "03-10-2018 14:15"
          ],
          [
           "03-10-2018 14:30"
          ],
          [
           "03-10-2018 14:45"
          ],
          [
           "03-10-2018 15:00"
          ],
          [
           "03-10-2018 15:15"
          ],
          [
           "03-10-2018 15:30"
          ],
          [
           "03-10-2018 15:45"
          ],
          [
           "03-10-2018 16:00"
          ],
          [
           "03-10-2018 16:15"
          ],
          [
           "03-10-2018 16:30"
          ],
          [
           "03-10-2018 16:45"
          ],
          [
           "03-10-2018 17:00"
          ],
          [
           "04-10-2018 10:15"
          ],
          [
           "04-10-2018 10:30"
          ],
          [
           "04-10-2018 10:45"
          ],
          [
           "04-10-2018 11:00"
          ],
          [
           "04-10-2018 11:15"
          ],
          [
           "04-10-2018 11:30"
          ],
          [
           "04-10-2018 11:45"
          ],
          [
           "04-10-2018 12:00"
          ],
          [
           "04-10-2018 13:15"
          ],
          [
           "04-10-2018 13:30"
          ],
          [
           "04-10-2018 13:45"
          ],
          [
           "04-10-2018 14:00"
          ],
          [
           "04-10-2018 14:15"
          ],
          [
           "04-10-2018 14:30"
          ],
          [
           "04-10-2018 14:45"
          ],
          [
           "04-10-2018 15:00"
          ],
          [
           "04-10-2018 15:15"
          ],
          [
           "04-10-2018 15:30"
          ],
          [
           "04-10-2018 15:45"
          ],
          [
           "04-10-2018 16:00"
          ],
          [
           "04-10-2018 16:15"
          ],
          [
           "04-10-2018 16:30"
          ],
          [
           "04-10-2018 16:45"
          ],
          [
           "04-10-2018 17:00"
          ],
          [
           "05-10-2018 10:15"
          ],
          [
           "05-10-2018 10:30"
          ],
          [
           "05-10-2018 10:45"
          ],
          [
           "05-10-2018 11:00"
          ],
          [
           "05-10-2018 11:15"
          ],
          [
           "05-10-2018 11:30"
          ],
          [
           "05-10-2018 11:45"
          ],
          [
           "05-10-2018 12:00"
          ],
          [
           "05-10-2018 13:15"
          ],
          [
           "05-10-2018 13:30"
          ],
          [
           "05-10-2018 13:45"
          ],
          [
           "05-10-2018 14:00"
          ],
          [
           "05-10-2018 14:15"
          ],
          [
           "05-10-2018 14:30"
          ],
          [
           "05-10-2018 14:45"
          ],
          [
           "05-10-2018 15:00"
          ],
          [
           "05-10-2018 15:15"
          ],
          [
           "05-10-2018 15:30"
          ],
          [
           "05-10-2018 15:45"
          ],
          [
           "05-10-2018 16:00"
          ],
          [
           "05-10-2018 16:15"
          ],
          [
           "05-10-2018 16:30"
          ],
          [
           "05-10-2018 16:45"
          ],
          [
           "05-10-2018 17:00"
          ],
          [
           "06-10-2018 10:15"
          ],
          [
           "06-10-2018 10:30"
          ],
          [
           "06-10-2018 10:45"
          ],
          [
           "06-10-2018 11:00"
          ],
          [
           "06-10-2018 11:15"
          ],
          [
           "06-10-2018 11:30"
          ],
          [
           "06-10-2018 11:45"
          ],
          [
           "06-10-2018 12:00"
          ],
          [
           "06-10-2018 13:15"
          ],
          [
           "06-10-2018 13:30"
          ],
          [
           "06-10-2018 13:45"
          ],
          [
           "06-10-2018 14:00"
          ],
          [
           "06-10-2018 14:15"
          ],
          [
           "06-10-2018 14:30"
          ],
          [
           "06-10-2018 14:45"
          ],
          [
           "06-10-2018 15:00"
          ],
          [
           "06-10-2018 15:15"
          ],
          [
           "06-10-2018 15:30"
          ],
          [
           "06-10-2018 15:45"
          ],
          [
           "06-10-2018 16:00"
          ],
          [
           "06-10-2018 16:15"
          ],
          [
           "06-10-2018 16:30"
          ],
          [
           "06-10-2018 16:45"
          ],
          [
           "06-10-2018 17:00"
          ],
          [
           "08-10-2018 10:15"
          ],
          [
           "08-10-2018 10:30"
          ],
          [
           "08-10-2018 10:45"
          ],
          [
           "08-10-2018 11:00"
          ],
          [
           "08-10-2018 11:15"
          ],
          [
           "08-10-2018 11:30"
          ],
          [
           "08-10-2018 11:45"
          ],
          [
           "08-10-2018 12:00"
          ],
          [
           "08-10-2018 13:15"
          ],
          [
           "08-10-2018 13:30"
          ],
          [
           "08-10-2018 13:45"
          ],
          [
           "08-10-2018 14:00"
          ],
          [
           "08-10-2018 14:15"
          ],
          [
           "08-10-2018 14:30"
          ],
          [
           "08-10-2018 14:45"
          ],
          [
           "08-10-2018 15:00"
          ],
          [
           "08-10-2018 15:15"
          ],
          [
           "08-10-2018 15:30"
          ],
          [
           "08-10-2018 15:45"
          ],
          [
           "08-10-2018 16:00"
          ],
          [
           "08-10-2018 16:15"
          ],
          [
           "08-10-2018 16:30"
          ],
          [
           "08-10-2018 16:45"
          ],
          [
           "08-10-2018 17:00"
          ],
          [
           "09-10-2018 10:15"
          ],
          [
           "09-10-2018 10:30"
          ],
          [
           "09-10-2018 10:45"
          ],
          [
           "09-10-2018 11:00"
          ],
          [
           "09-10-2018 11:15"
          ],
          [
           "09-10-2018 11:30"
          ],
          [
           "09-10-2018 11:45"
          ],
          [
           "09-10-2018 12:00"
          ],
          [
           "09-10-2018 13:15"
          ],
          [
           "09-10-2018 13:30"
          ],
          [
           "09-10-2018 13:45"
          ],
          [
           "09-10-2018 14:00"
          ],
          [
           "09-10-2018 14:15"
          ],
          [
           "09-10-2018 14:30"
          ],
          [
           "09-10-2018 14:45"
          ],
          [
           "09-10-2018 15:00"
          ],
          [
           "09-10-2018 15:15"
          ],
          [
           "09-10-2018 15:30"
          ],
          [
           "09-10-2018 15:45"
          ],
          [
           "09-10-2018 16:00"
          ],
          [
           "09-10-2018 16:15"
          ],
          [
           "09-10-2018 16:30"
          ],
          [
           "09-10-2018 16:45"
          ],
          [
           "09-10-2018 17:00"
          ],
          [
           "10-10-2018 10:15"
          ],
          [
           "10-10-2018 10:30"
          ],
          [
           "10-10-2018 10:45"
          ],
          [
           "10-10-2018 11:00"
          ],
          [
           "10-10-2018 11:15"
          ],
          [
           "10-10-2018 11:30"
          ],
          [
           "10-10-2018 11:45"
          ],
          [
           "10-10-2018 12:00"
          ],
          [
           "10-10-2018 13:15"
          ],
          [
           "10-10-2018 13:30"
          ],
          [
           "10-10-2018 13:45"
          ],
          [
           "10-10-2018 14:00"
          ],
          [
           "10-10-2018 14:15"
          ],
          [
           "10-10-2018 14:30"
          ],
          [
           "10-10-2018 14:45"
          ],
          [
           "10-10-2018 15:00"
          ],
          [
           "10-10-2018 15:15"
          ],
          [
           "10-10-2018 15:30"
          ],
          [
           "10-10-2018 15:45"
          ],
          [
           "10-10-2018 16:00"
          ],
          [
           "10-10-2018 16:15"
          ],
          [
           "10-10-2018 16:30"
          ],
          [
           "10-10-2018 16:45"
          ],
          [
           "10-10-2018 17:00"
          ],
          [
           "11-10-2018 10:15"
          ],
          [
           "11-10-2018 10:30"
          ],
          [
           "11-10-2018 10:45"
          ],
          [
           "11-10-2018 11:00"
          ],
          [
           "11-10-2018 11:15"
          ],
          [
           "11-10-2018 11:30"
          ],
          [
           "11-10-2018 11:45"
          ],
          [
           "11-10-2018 12:00"
          ],
          [
           "11-10-2018 13:15"
          ],
          [
           "11-10-2018 13:30"
          ],
          [
           "11-10-2018 13:45"
          ],
          [
           "11-10-2018 14:00"
          ],
          [
           "11-10-2018 14:15"
          ],
          [
           "11-10-2018 14:30"
          ],
          [
           "11-10-2018 14:45"
          ],
          [
           "11-10-2018 15:00"
          ],
          [
           "11-10-2018 15:15"
          ],
          [
           "11-10-2018 15:30"
          ],
          [
           "11-10-2018 15:45"
          ],
          [
           "11-10-2018 16:00"
          ],
          [
           "11-10-2018 16:15"
          ],
          [
           "11-10-2018 16:30"
          ],
          [
           "11-10-2018 16:45"
          ],
          [
           "11-10-2018 17:00"
          ],
          [
           "12-10-2018 10:15"
          ],
          [
           "12-10-2018 10:30"
          ],
          [
           "12-10-2018 10:45"
          ],
          [
           "12-10-2018 11:00"
          ],
          [
           "12-10-2018 11:15"
          ],
          [
           "12-10-2018 11:30"
          ],
          [
           "12-10-2018 11:45"
          ],
          [
           "12-10-2018 12:00"
          ],
          [
           "12-10-2018 13:15"
          ],
          [
           "12-10-2018 13:30"
          ],
          [
           "12-10-2018 13:45"
          ],
          [
           "12-10-2018 14:00"
          ],
          [
           "12-10-2018 14:15"
          ],
          [
           "12-10-2018 14:30"
          ],
          [
           "12-10-2018 14:45"
          ],
          [
           "12-10-2018 15:00"
          ],
          [
           "12-10-2018 15:15"
          ],
          [
           "12-10-2018 15:30"
          ],
          [
           "12-10-2018 15:45"
          ],
          [
           "12-10-2018 16:00"
          ],
          [
           "12-10-2018 16:15"
          ],
          [
           "12-10-2018 16:30"
          ],
          [
           "12-10-2018 16:45"
          ],
          [
           "12-10-2018 17:00"
          ],
          [
           "13-10-2018 10:15"
          ],
          [
           "13-10-2018 10:30"
          ],
          [
           "13-10-2018 10:45"
          ],
          [
           "13-10-2018 11:00"
          ],
          [
           "13-10-2018 11:15"
          ],
          [
           "13-10-2018 11:30"
          ],
          [
           "13-10-2018 11:45"
          ],
          [
           "13-10-2018 12:00"
          ],
          [
           "13-10-2018 13:15"
          ],
          [
           "13-10-2018 13:30"
          ],
          [
           "13-10-2018 13:45"
          ],
          [
           "13-10-2018 14:00"
          ],
          [
           "13-10-2018 14:15"
          ],
          [
           "13-10-2018 14:30"
          ],
          [
           "13-10-2018 14:45"
          ],
          [
           "13-10-2018 15:00"
          ],
          [
           "13-10-2018 15:15"
          ],
          [
           "13-10-2018 15:30"
          ],
          [
           "13-10-2018 15:45"
          ],
          [
           "13-10-2018 16:00"
          ],
          [
           "13-10-2018 16:15"
          ],
          [
           "13-10-2018 16:30"
          ],
          [
           "13-10-2018 16:45"
          ],
          [
           "13-10-2018 17:00"
          ],
          [
           "15-10-2018 10:15"
          ],
          [
           "15-10-2018 10:30"
          ],
          [
           "15-10-2018 10:45"
          ],
          [
           "15-10-2018 11:00"
          ],
          [
           "15-10-2018 11:15"
          ],
          [
           "15-10-2018 11:30"
          ],
          [
           "15-10-2018 11:45"
          ],
          [
           "15-10-2018 12:00"
          ],
          [
           "15-10-2018 13:15"
          ],
          [
           "15-10-2018 13:30"
          ],
          [
           "15-10-2018 13:45"
          ],
          [
           "15-10-2018 14:00"
          ],
          [
           "15-10-2018 14:15"
          ],
          [
           "15-10-2018 14:30"
          ],
          [
           "15-10-2018 14:45"
          ],
          [
           "15-10-2018 15:00"
          ],
          [
           "15-10-2018 15:15"
          ],
          [
           "15-10-2018 15:30"
          ],
          [
           "15-10-2018 15:45"
          ],
          [
           "15-10-2018 16:00"
          ],
          [
           "15-10-2018 16:15"
          ],
          [
           "15-10-2018 16:30"
          ],
          [
           "15-10-2018 16:45"
          ],
          [
           "15-10-2018 17:00"
          ],
          [
           "16-10-2018 10:15"
          ],
          [
           "16-10-2018 10:30"
          ],
          [
           "16-10-2018 10:45"
          ],
          [
           "16-10-2018 11:00"
          ],
          [
           "16-10-2018 11:15"
          ],
          [
           "16-10-2018 11:30"
          ],
          [
           "16-10-2018 11:45"
          ],
          [
           "16-10-2018 12:00"
          ],
          [
           "16-10-2018 13:15"
          ],
          [
           "16-10-2018 13:30"
          ],
          [
           "16-10-2018 13:45"
          ],
          [
           "16-10-2018 14:00"
          ],
          [
           "16-10-2018 14:15"
          ],
          [
           "16-10-2018 14:30"
          ],
          [
           "16-10-2018 14:45"
          ],
          [
           "16-10-2018 15:00"
          ],
          [
           "16-10-2018 15:15"
          ],
          [
           "16-10-2018 15:30"
          ],
          [
           "16-10-2018 15:45"
          ],
          [
           "16-10-2018 16:00"
          ],
          [
           "16-10-2018 16:15"
          ],
          [
           "16-10-2018 16:30"
          ],
          [
           "16-10-2018 16:45"
          ],
          [
           "16-10-2018 17:00"
          ],
          [
           "17-10-2018 10:15"
          ],
          [
           "17-10-2018 10:30"
          ],
          [
           "17-10-2018 10:45"
          ],
          [
           "17-10-2018 11:00"
          ],
          [
           "17-10-2018 11:15"
          ],
          [
           "17-10-2018 11:30"
          ],
          [
           "17-10-2018 11:45"
          ],
          [
           "17-10-2018 12:00"
          ],
          [
           "17-10-2018 13:15"
          ],
          [
           "17-10-2018 13:30"
          ],
          [
           "17-10-2018 13:45"
          ],
          [
           "17-10-2018 14:00"
          ],
          [
           "17-10-2018 14:15"
          ],
          [
           "17-10-2018 14:30"
          ],
          [
           "17-10-2018 14:45"
          ],
          [
           "17-10-2018 15:00"
          ],
          [
           "17-10-2018 15:15"
          ],
          [
           "17-10-2018 15:30"
          ],
          [
           "17-10-2018 15:45"
          ],
          [
           "17-10-2018 16:00"
          ],
          [
           "17-10-2018 16:15"
          ],
          [
           "17-10-2018 16:30"
          ],
          [
           "17-10-2018 16:45"
          ],
          [
           "17-10-2018 17:00"
          ],
          [
           "18-10-2018 10:15"
          ],
          [
           "18-10-2018 10:30"
          ],
          [
           "18-10-2018 10:45"
          ],
          [
           "18-10-2018 11:00"
          ],
          [
           "18-10-2018 11:15"
          ],
          [
           "18-10-2018 11:30"
          ],
          [
           "18-10-2018 11:45"
          ],
          [
           "18-10-2018 12:00"
          ],
          [
           "18-10-2018 13:15"
          ],
          [
           "18-10-2018 13:30"
          ],
          [
           "18-10-2018 13:45"
          ],
          [
           "18-10-2018 14:00"
          ],
          [
           "18-10-2018 14:15"
          ],
          [
           "18-10-2018 14:30"
          ],
          [
           "18-10-2018 14:45"
          ],
          [
           "18-10-2018 15:00"
          ],
          [
           "18-10-2018 15:15"
          ],
          [
           "18-10-2018 15:30"
          ],
          [
           "18-10-2018 15:45"
          ],
          [
           "18-10-2018 16:00"
          ],
          [
           "18-10-2018 16:15"
          ],
          [
           "18-10-2018 16:30"
          ],
          [
           "18-10-2018 16:45"
          ],
          [
           "18-10-2018 17:00"
          ],
          [
           "19-10-2018 10:15"
          ],
          [
           "19-10-2018 10:30"
          ],
          [
           "19-10-2018 10:45"
          ],
          [
           "19-10-2018 11:00"
          ],
          [
           "19-10-2018 11:15"
          ],
          [
           "19-10-2018 11:30"
          ],
          [
           "19-10-2018 11:45"
          ],
          [
           "19-10-2018 12:00"
          ],
          [
           "19-10-2018 13:15"
          ],
          [
           "19-10-2018 13:30"
          ],
          [
           "19-10-2018 13:45"
          ],
          [
           "19-10-2018 14:00"
          ],
          [
           "19-10-2018 14:15"
          ],
          [
           "19-10-2018 14:30"
          ],
          [
           "19-10-2018 14:45"
          ],
          [
           "19-10-2018 15:00"
          ],
          [
           "19-10-2018 15:15"
          ],
          [
           "19-10-2018 15:30"
          ],
          [
           "19-10-2018 15:45"
          ],
          [
           "19-10-2018 16:00"
          ],
          [
           "19-10-2018 16:15"
          ],
          [
           "19-10-2018 16:30"
          ],
          [
           "19-10-2018 16:45"
          ],
          [
           "19-10-2018 17:00"
          ],
          [
           "20-10-2018 10:15"
          ],
          [
           "20-10-2018 10:30"
          ],
          [
           "20-10-2018 10:45"
          ],
          [
           "20-10-2018 11:00"
          ],
          [
           "20-10-2018 11:15"
          ],
          [
           "20-10-2018 11:30"
          ],
          [
           "20-10-2018 11:45"
          ],
          [
           "20-10-2018 12:00"
          ],
          [
           "20-10-2018 13:15"
          ],
          [
           "20-10-2018 13:30"
          ],
          [
           "20-10-2018 13:45"
          ],
          [
           "20-10-2018 14:00"
          ],
          [
           "20-10-2018 14:15"
          ],
          [
           "20-10-2018 14:30"
          ],
          [
           "20-10-2018 14:45"
          ],
          [
           "20-10-2018 15:00"
          ],
          [
           "20-10-2018 15:15"
          ],
          [
           "20-10-2018 15:30"
          ],
          [
           "20-10-2018 15:45"
          ],
          [
           "20-10-2018 16:00"
          ],
          [
           "20-10-2018 16:15"
          ],
          [
           "20-10-2018 16:30"
          ],
          [
           "20-10-2018 16:45"
          ],
          [
           "20-10-2018 17:00"
          ],
          [
           "22-10-2018 10:15"
          ],
          [
           "22-10-2018 10:30"
          ],
          [
           "22-10-2018 10:45"
          ],
          [
           "22-10-2018 11:00"
          ],
          [
           "22-10-2018 11:15"
          ],
          [
           "22-10-2018 11:30"
          ],
          [
           "22-10-2018 11:45"
          ],
          [
           "22-10-2018 12:00"
          ],
          [
           "22-10-2018 13:15"
          ],
          [
           "22-10-2018 13:30"
          ],
          [
           "22-10-2018 13:45"
          ],
          [
           "22-10-2018 14:00"
          ],
          [
           "22-10-2018 14:15"
          ],
          [
           "22-10-2018 14:30"
          ],
          [
           "22-10-2018 14:45"
          ],
          [
           "22-10-2018 15:00"
          ],
          [
           "22-10-2018 15:15"
          ],
          [
           "22-10-2018 15:30"
          ],
          [
           "22-10-2018 15:45"
          ],
          [
           "22-10-2018 16:00"
          ],
          [
           "22-10-2018 16:15"
          ],
          [
           "22-10-2018 16:30"
          ],
          [
           "22-10-2018 16:45"
          ],
          [
           "22-10-2018 17:00"
          ],
          [
           "23-10-2018 10:15"
          ],
          [
           "23-10-2018 10:30"
          ],
          [
           "23-10-2018 10:45"
          ],
          [
           "23-10-2018 11:00"
          ],
          [
           "23-10-2018 11:15"
          ],
          [
           "23-10-2018 11:30"
          ],
          [
           "23-10-2018 11:45"
          ],
          [
           "23-10-2018 12:00"
          ],
          [
           "23-10-2018 13:15"
          ],
          [
           "23-10-2018 13:30"
          ],
          [
           "23-10-2018 13:45"
          ],
          [
           "23-10-2018 14:00"
          ],
          [
           "23-10-2018 14:15"
          ],
          [
           "23-10-2018 14:30"
          ],
          [
           "23-10-2018 14:45"
          ],
          [
           "23-10-2018 15:00"
          ],
          [
           "23-10-2018 15:15"
          ],
          [
           "23-10-2018 15:30"
          ],
          [
           "23-10-2018 15:45"
          ],
          [
           "23-10-2018 16:00"
          ],
          [
           "23-10-2018 16:15"
          ],
          [
           "23-10-2018 16:30"
          ],
          [
           "23-10-2018 16:45"
          ],
          [
           "23-10-2018 17:00"
          ],
          [
           "24-10-2018 10:15"
          ],
          [
           "24-10-2018 10:30"
          ],
          [
           "24-10-2018 10:45"
          ],
          [
           "24-10-2018 11:00"
          ],
          [
           "24-10-2018 11:15"
          ],
          [
           "24-10-2018 11:30"
          ],
          [
           "24-10-2018 11:45"
          ],
          [
           "24-10-2018 12:00"
          ],
          [
           "24-10-2018 13:15"
          ],
          [
           "24-10-2018 13:30"
          ],
          [
           "24-10-2018 13:45"
          ],
          [
           "24-10-2018 14:00"
          ],
          [
           "24-10-2018 14:15"
          ],
          [
           "24-10-2018 14:30"
          ],
          [
           "24-10-2018 14:45"
          ],
          [
           "24-10-2018 15:00"
          ],
          [
           "24-10-2018 15:15"
          ],
          [
           "24-10-2018 15:30"
          ],
          [
           "24-10-2018 15:45"
          ],
          [
           "24-10-2018 16:00"
          ],
          [
           "24-10-2018 16:15"
          ],
          [
           "24-10-2018 16:30"
          ],
          [
           "24-10-2018 16:45"
          ],
          [
           "24-10-2018 17:00"
          ],
          [
           "25-10-2018 10:15"
          ],
          [
           "25-10-2018 10:30"
          ],
          [
           "25-10-2018 10:45"
          ],
          [
           "25-10-2018 11:00"
          ],
          [
           "25-10-2018 11:15"
          ],
          [
           "25-10-2018 11:30"
          ],
          [
           "25-10-2018 11:45"
          ],
          [
           "25-10-2018 12:00"
          ],
          [
           "25-10-2018 13:15"
          ],
          [
           "25-10-2018 13:30"
          ],
          [
           "25-10-2018 13:45"
          ],
          [
           "25-10-2018 14:00"
          ],
          [
           "25-10-2018 14:15"
          ],
          [
           "25-10-2018 14:30"
          ],
          [
           "25-10-2018 14:45"
          ],
          [
           "25-10-2018 15:00"
          ],
          [
           "25-10-2018 15:15"
          ],
          [
           "25-10-2018 15:30"
          ],
          [
           "25-10-2018 15:45"
          ],
          [
           "25-10-2018 16:00"
          ],
          [
           "25-10-2018 16:15"
          ],
          [
           "25-10-2018 16:30"
          ],
          [
           "25-10-2018 16:45"
          ],
          [
           "25-10-2018 17:00"
          ],
          [
           "26-10-2018 10:15"
          ],
          [
           "26-10-2018 10:30"
          ],
          [
           "26-10-2018 10:45"
          ],
          [
           "26-10-2018 11:00"
          ],
          [
           "26-10-2018 11:15"
          ],
          [
           "26-10-2018 11:30"
          ],
          [
           "26-10-2018 11:45"
          ],
          [
           "26-10-2018 12:00"
          ],
          [
           "26-10-2018 13:15"
          ],
          [
           "26-10-2018 13:30"
          ],
          [
           "26-10-2018 13:45"
          ],
          [
           "26-10-2018 14:00"
          ],
          [
           "26-10-2018 14:15"
          ],
          [
           "26-10-2018 14:30"
          ],
          [
           "26-10-2018 14:45"
          ],
          [
           "26-10-2018 15:00"
          ],
          [
           "26-10-2018 15:15"
          ],
          [
           "26-10-2018 15:30"
          ],
          [
           "26-10-2018 15:45"
          ],
          [
           "26-10-2018 16:00"
          ],
          [
           "26-10-2018 16:15"
          ],
          [
           "26-10-2018 16:30"
          ],
          [
           "26-10-2018 16:45"
          ],
          [
           "26-10-2018 17:00"
          ],
          [
           "27-10-2018 10:15"
          ],
          [
           "27-10-2018 10:30"
          ],
          [
           "27-10-2018 10:45"
          ],
          [
           "27-10-2018 11:00"
          ],
          [
           "27-10-2018 11:15"
          ],
          [
           "27-10-2018 11:30"
          ],
          [
           "27-10-2018 11:45"
          ],
          [
           "27-10-2018 12:00"
          ],
          [
           "27-10-2018 13:15"
          ],
          [
           "27-10-2018 13:30"
          ],
          [
           "27-10-2018 13:45"
          ],
          [
           "27-10-2018 14:00"
          ],
          [
           "27-10-2018 14:15"
          ],
          [
           "27-10-2018 14:30"
          ],
          [
           "27-10-2018 14:45"
          ],
          [
           "27-10-2018 15:00"
          ],
          [
           "27-10-2018 15:15"
          ],
          [
           "27-10-2018 15:30"
          ],
          [
           "27-10-2018 15:45"
          ],
          [
           "27-10-2018 16:00"
          ],
          [
           "27-10-2018 16:15"
          ],
          [
           "27-10-2018 16:30"
          ],
          [
           "27-10-2018 16:45"
          ],
          [
           "27-10-2018 17:00"
          ],
          [
           "29-10-2018 10:15"
          ],
          [
           "29-10-2018 10:30"
          ],
          [
           "29-10-2018 10:45"
          ],
          [
           "29-10-2018 11:00"
          ],
          [
           "29-10-2018 11:15"
          ],
          [
           "29-10-2018 11:30"
          ],
          [
           "29-10-2018 11:45"
          ],
          [
           "29-10-2018 12:00"
          ],
          [
           "29-10-2018 13:15"
          ],
          [
           "29-10-2018 13:30"
          ],
          [
           "29-10-2018 13:45"
          ],
          [
           "29-10-2018 14:00"
          ],
          [
           "29-10-2018 14:15"
          ],
          [
           "29-10-2018 14:30"
          ],
          [
           "29-10-2018 14:45"
          ],
          [
           "29-10-2018 15:00"
          ],
          [
           "29-10-2018 15:15"
          ],
          [
           "29-10-2018 15:30"
          ],
          [
           "29-10-2018 15:45"
          ],
          [
           "29-10-2018 16:00"
          ],
          [
           "29-10-2018 16:15"
          ],
          [
           "29-10-2018 16:30"
          ],
          [
           "29-10-2018 16:45"
          ],
          [
           "29-10-2018 17:00"
          ],
          [
           "30-10-2018 10:15"
          ],
          [
           "30-10-2018 10:30"
          ],
          [
           "30-10-2018 10:45"
          ],
          [
           "30-10-2018 11:00"
          ],
          [
           "30-10-2018 11:15"
          ],
          [
           "30-10-2018 11:30"
          ],
          [
           "30-10-2018 11:45"
          ],
          [
           "30-10-2018 12:00"
          ],
          [
           "30-10-2018 13:15"
          ],
          [
           "30-10-2018 13:30"
          ],
          [
           "30-10-2018 13:45"
          ],
          [
           "30-10-2018 14:00"
          ],
          [
           "30-10-2018 14:15"
          ],
          [
           "30-10-2018 14:30"
          ],
          [
           "30-10-2018 14:45"
          ],
          [
           "30-10-2018 15:00"
          ],
          [
           "30-10-2018 15:15"
          ],
          [
           "30-10-2018 15:30"
          ],
          [
           "30-10-2018 15:45"
          ],
          [
           "30-10-2018 16:00"
          ],
          [
           "30-10-2018 16:15"
          ],
          [
           "30-10-2018 16:30"
          ],
          [
           "30-10-2018 16:45"
          ],
          [
           "30-10-2018 17:00"
          ],
          [
           "31-10-2018 10:15"
          ],
          [
           "31-10-2018 10:30"
          ],
          [
           "31-10-2018 10:45"
          ],
          [
           "31-10-2018 11:00"
          ],
          [
           "31-10-2018 11:15"
          ],
          [
           "31-10-2018 11:30"
          ],
          [
           "31-10-2018 11:45"
          ],
          [
           "31-10-2018 12:00"
          ],
          [
           "31-10-2018 13:15"
          ],
          [
           "31-10-2018 13:30"
          ],
          [
           "31-10-2018 13:45"
          ],
          [
           "31-10-2018 14:00"
          ],
          [
           "31-10-2018 14:15"
          ],
          [
           "31-10-2018 14:30"
          ],
          [
           "31-10-2018 14:45"
          ],
          [
           "31-10-2018 15:00"
          ],
          [
           "31-10-2018 15:15"
          ],
          [
           "31-10-2018 15:30"
          ],
          [
           "31-10-2018 15:45"
          ],
          [
           "31-10-2018 16:00"
          ],
          [
           "31-10-2018 16:15"
          ],
          [
           "31-10-2018 16:30"
          ],
          [
           "31-10-2018 16:45"
          ],
          [
           "31-10-2018 17:00"
          ],
          [
           "01-11-2018 10:15"
          ],
          [
           "01-11-2018 10:30"
          ],
          [
           "01-11-2018 10:45"
          ],
          [
           "01-11-2018 11:00"
          ],
          [
           "01-11-2018 11:15"
          ],
          [
           "01-11-2018 11:30"
          ],
          [
           "01-11-2018 11:45"
          ],
          [
           "01-11-2018 12:00"
          ],
          [
           "01-11-2018 17:15"
          ],
          [
           "01-11-2018 17:30"
          ],
          [
           "01-11-2018 17:45"
          ],
          [
           "01-11-2018 18:00"
          ],
          [
           "01-11-2018 18:15"
          ],
          [
           "01-11-2018 18:30"
          ],
          [
           "01-11-2018 18:45"
          ],
          [
           "01-11-2018 19:00"
          ],
          [
           "01-11-2018 19:15"
          ],
          [
           "01-11-2018 19:30"
          ],
          [
           "01-11-2018 19:45"
          ],
          [
           "01-11-2018 20:00"
          ],
          [
           "01-11-2018 22:15"
          ],
          [
           "01-11-2018 22:30"
          ],
          [
           "01-11-2018 22:45"
          ],
          [
           "01-11-2018 23:00"
          ],
          [
           "02-11-2018 10:15"
          ],
          [
           "02-11-2018 10:30"
          ],
          [
           "02-11-2018 10:45"
          ],
          [
           "02-11-2018 11:00"
          ],
          [
           "02-11-2018 11:15"
          ],
          [
           "02-11-2018 11:30"
          ],
          [
           "02-11-2018 11:45"
          ],
          [
           "02-11-2018 12:00"
          ],
          [
           "02-11-2018 17:15"
          ],
          [
           "02-11-2018 17:30"
          ],
          [
           "02-11-2018 17:45"
          ],
          [
           "02-11-2018 18:00"
          ],
          [
           "02-11-2018 18:15"
          ],
          [
           "02-11-2018 18:30"
          ],
          [
           "02-11-2018 18:45"
          ],
          [
           "02-11-2018 19:00"
          ],
          [
           "02-11-2018 19:15"
          ],
          [
           "02-11-2018 19:30"
          ],
          [
           "02-11-2018 19:45"
          ],
          [
           "02-11-2018 20:00"
          ],
          [
           "02-11-2018 22:15"
          ],
          [
           "02-11-2018 22:30"
          ],
          [
           "02-11-2018 22:45"
          ],
          [
           "02-11-2018 23:00"
          ],
          [
           "03-11-2018 10:15"
          ],
          [
           "03-11-2018 10:30"
          ],
          [
           "03-11-2018 10:45"
          ],
          [
           "03-11-2018 11:00"
          ],
          [
           "03-11-2018 11:15"
          ],
          [
           "03-11-2018 11:30"
          ],
          [
           "03-11-2018 11:45"
          ],
          [
           "03-11-2018 12:00"
          ],
          [
           "03-11-2018 17:15"
          ],
          [
           "03-11-2018 17:30"
          ],
          [
           "03-11-2018 17:45"
          ],
          [
           "03-11-2018 18:00"
          ],
          [
           "03-11-2018 18:15"
          ],
          [
           "03-11-2018 18:30"
          ],
          [
           "03-11-2018 18:45"
          ],
          [
           "03-11-2018 19:00"
          ],
          [
           "03-11-2018 19:15"
          ],
          [
           "03-11-2018 19:30"
          ],
          [
           "03-11-2018 19:45"
          ],
          [
           "03-11-2018 20:00"
          ],
          [
           "03-11-2018 22:15"
          ],
          [
           "03-11-2018 22:30"
          ],
          [
           "03-11-2018 22:45"
          ],
          [
           "03-11-2018 23:00"
          ],
          [
           "04-11-2018 10:15"
          ],
          [
           "04-11-2018 10:30"
          ],
          [
           "04-11-2018 10:45"
          ],
          [
           "04-11-2018 11:00"
          ],
          [
           "04-11-2018 11:15"
          ],
          [
           "04-11-2018 11:30"
          ],
          [
           "04-11-2018 11:45"
          ],
          [
           "04-11-2018 12:00"
          ],
          [
           "04-11-2018 17:15"
          ],
          [
           "04-11-2018 17:30"
          ],
          [
           "04-11-2018 17:45"
          ],
          [
           "04-11-2018 18:00"
          ],
          [
           "04-11-2018 18:15"
          ],
          [
           "04-11-2018 18:30"
          ],
          [
           "04-11-2018 18:45"
          ],
          [
           "04-11-2018 19:00"
          ],
          [
           "04-11-2018 19:15"
          ],
          [
           "04-11-2018 19:30"
          ],
          [
           "04-11-2018 19:45"
          ],
          [
           "04-11-2018 20:00"
          ],
          [
           "04-11-2018 22:15"
          ],
          [
           "04-11-2018 22:30"
          ],
          [
           "04-11-2018 22:45"
          ],
          [
           "04-11-2018 23:00"
          ],
          [
           "05-11-2018 10:15"
          ],
          [
           "05-11-2018 10:30"
          ],
          [
           "05-11-2018 10:45"
          ],
          [
           "05-11-2018 11:00"
          ],
          [
           "05-11-2018 11:15"
          ],
          [
           "05-11-2018 11:30"
          ],
          [
           "05-11-2018 11:45"
          ],
          [
           "05-11-2018 12:00"
          ],
          [
           "05-11-2018 17:15"
          ],
          [
           "05-11-2018 17:30"
          ],
          [
           "05-11-2018 17:45"
          ],
          [
           "05-11-2018 18:00"
          ],
          [
           "05-11-2018 18:15"
          ],
          [
           "05-11-2018 18:30"
          ],
          [
           "05-11-2018 18:45"
          ],
          [
           "05-11-2018 19:00"
          ],
          [
           "05-11-2018 19:15"
          ],
          [
           "05-11-2018 19:30"
          ],
          [
           "05-11-2018 19:45"
          ],
          [
           "05-11-2018 20:00"
          ],
          [
           "05-11-2018 22:15"
          ],
          [
           "05-11-2018 22:30"
          ],
          [
           "05-11-2018 22:45"
          ],
          [
           "05-11-2018 23:00"
          ],
          [
           "06-11-2018 10:15"
          ],
          [
           "06-11-2018 10:30"
          ],
          [
           "06-11-2018 10:45"
          ],
          [
           "06-11-2018 11:00"
          ],
          [
           "06-11-2018 11:15"
          ],
          [
           "06-11-2018 11:30"
          ],
          [
           "06-11-2018 11:45"
          ],
          [
           "06-11-2018 12:00"
          ],
          [
           "06-11-2018 17:15"
          ],
          [
           "06-11-2018 17:30"
          ],
          [
           "06-11-2018 17:45"
          ],
          [
           "06-11-2018 18:00"
          ],
          [
           "06-11-2018 18:15"
          ],
          [
           "06-11-2018 18:30"
          ],
          [
           "06-11-2018 18:45"
          ],
          [
           "06-11-2018 19:00"
          ],
          [
           "06-11-2018 19:15"
          ],
          [
           "06-11-2018 19:30"
          ],
          [
           "06-11-2018 19:45"
          ],
          [
           "06-11-2018 20:00"
          ],
          [
           "06-11-2018 22:15"
          ],
          [
           "06-11-2018 22:30"
          ],
          [
           "06-11-2018 22:45"
          ],
          [
           "06-11-2018 23:00"
          ],
          [
           "07-11-2018 10:15"
          ],
          [
           "07-11-2018 10:30"
          ],
          [
           "07-11-2018 10:45"
          ],
          [
           "07-11-2018 11:00"
          ],
          [
           "07-11-2018 11:15"
          ],
          [
           "07-11-2018 11:30"
          ],
          [
           "07-11-2018 11:45"
          ],
          [
           "07-11-2018 12:00"
          ],
          [
           "07-11-2018 17:15"
          ],
          [
           "07-11-2018 17:30"
          ],
          [
           "07-11-2018 17:45"
          ],
          [
           "07-11-2018 18:00"
          ],
          [
           "07-11-2018 18:15"
          ],
          [
           "07-11-2018 18:30"
          ],
          [
           "07-11-2018 18:45"
          ],
          [
           "07-11-2018 19:00"
          ],
          [
           "07-11-2018 19:15"
          ],
          [
           "07-11-2018 19:30"
          ],
          [
           "07-11-2018 19:45"
          ],
          [
           "07-11-2018 20:00"
          ],
          [
           "07-11-2018 22:15"
          ],
          [
           "07-11-2018 22:30"
          ],
          [
           "07-11-2018 22:45"
          ],
          [
           "07-11-2018 23:00"
          ],
          [
           "08-11-2018 10:15"
          ],
          [
           "08-11-2018 10:30"
          ],
          [
           "08-11-2018 10:45"
          ],
          [
           "08-11-2018 11:00"
          ],
          [
           "08-11-2018 11:15"
          ],
          [
           "08-11-2018 11:30"
          ],
          [
           "08-11-2018 11:45"
          ],
          [
           "08-11-2018 12:00"
          ],
          [
           "08-11-2018 17:15"
          ],
          [
           "08-11-2018 17:30"
          ],
          [
           "08-11-2018 17:45"
          ],
          [
           "08-11-2018 18:00"
          ],
          [
           "08-11-2018 18:15"
          ],
          [
           "08-11-2018 18:30"
          ],
          [
           "08-11-2018 18:45"
          ],
          [
           "08-11-2018 19:00"
          ],
          [
           "08-11-2018 19:15"
          ],
          [
           "08-11-2018 19:30"
          ],
          [
           "08-11-2018 19:45"
          ],
          [
           "08-11-2018 20:00"
          ],
          [
           "08-11-2018 22:15"
          ],
          [
           "08-11-2018 22:30"
          ],
          [
           "08-11-2018 22:45"
          ],
          [
           "08-11-2018 23:00"
          ],
          [
           "09-11-2018 10:15"
          ],
          [
           "09-11-2018 10:30"
          ],
          [
           "09-11-2018 10:45"
          ],
          [
           "09-11-2018 11:00"
          ],
          [
           "09-11-2018 11:15"
          ],
          [
           "09-11-2018 11:30"
          ],
          [
           "09-11-2018 11:45"
          ],
          [
           "09-11-2018 12:00"
          ],
          [
           "09-11-2018 17:15"
          ],
          [
           "09-11-2018 17:30"
          ],
          [
           "09-11-2018 17:45"
          ],
          [
           "09-11-2018 18:00"
          ],
          [
           "09-11-2018 18:15"
          ],
          [
           "09-11-2018 18:30"
          ],
          [
           "09-11-2018 18:45"
          ],
          [
           "09-11-2018 19:00"
          ],
          [
           "09-11-2018 19:15"
          ],
          [
           "09-11-2018 19:30"
          ],
          [
           "09-11-2018 19:45"
          ],
          [
           "09-11-2018 20:00"
          ],
          [
           "09-11-2018 22:15"
          ],
          [
           "09-11-2018 22:30"
          ],
          [
           "09-11-2018 22:45"
          ],
          [
           "09-11-2018 23:00"
          ],
          [
           "10-11-2018 10:15"
          ],
          [
           "10-11-2018 10:30"
          ],
          [
           "10-11-2018 10:45"
          ],
          [
           "10-11-2018 11:00"
          ],
          [
           "10-11-2018 11:15"
          ],
          [
           "10-11-2018 11:30"
          ],
          [
           "10-11-2018 11:45"
          ],
          [
           "10-11-2018 12:00"
          ],
          [
           "10-11-2018 17:15"
          ],
          [
           "10-11-2018 17:30"
          ],
          [
           "10-11-2018 17:45"
          ],
          [
           "10-11-2018 18:00"
          ],
          [
           "10-11-2018 18:15"
          ],
          [
           "10-11-2018 18:30"
          ],
          [
           "10-11-2018 18:45"
          ],
          [
           "10-11-2018 19:00"
          ],
          [
           "10-11-2018 19:15"
          ],
          [
           "10-11-2018 19:30"
          ],
          [
           "10-11-2018 19:45"
          ],
          [
           "10-11-2018 20:00"
          ],
          [
           "10-11-2018 22:15"
          ],
          [
           "10-11-2018 22:30"
          ],
          [
           "10-11-2018 22:45"
          ],
          [
           "10-11-2018 23:00"
          ],
          [
           "12-11-2018 10:15"
          ],
          [
           "12-11-2018 10:30"
          ],
          [
           "12-11-2018 10:45"
          ],
          [
           "12-11-2018 11:00"
          ],
          [
           "12-11-2018 11:15"
          ],
          [
           "12-11-2018 11:30"
          ],
          [
           "12-11-2018 11:45"
          ],
          [
           "12-11-2018 12:00"
          ],
          [
           "12-11-2018 17:15"
          ],
          [
           "12-11-2018 17:30"
          ],
          [
           "12-11-2018 17:45"
          ],
          [
           "12-11-2018 18:00"
          ],
          [
           "12-11-2018 18:15"
          ],
          [
           "12-11-2018 18:30"
          ],
          [
           "12-11-2018 18:45"
          ],
          [
           "12-11-2018 19:00"
          ],
          [
           "12-11-2018 19:15"
          ],
          [
           "12-11-2018 19:30"
          ],
          [
           "12-11-2018 19:45"
          ],
          [
           "12-11-2018 20:00"
          ],
          [
           "12-11-2018 22:15"
          ],
          [
           "12-11-2018 22:30"
          ],
          [
           "12-11-2018 22:45"
          ],
          [
           "12-11-2018 23:00"
          ],
          [
           "13-11-2018 10:15"
          ],
          [
           "13-11-2018 10:30"
          ],
          [
           "13-11-2018 10:45"
          ],
          [
           "13-11-2018 11:00"
          ],
          [
           "13-11-2018 11:15"
          ],
          [
           "13-11-2018 11:30"
          ],
          [
           "13-11-2018 11:45"
          ],
          [
           "13-11-2018 12:00"
          ],
          [
           "13-11-2018 17:15"
          ],
          [
           "13-11-2018 17:30"
          ],
          [
           "13-11-2018 17:45"
          ],
          [
           "13-11-2018 18:00"
          ],
          [
           "13-11-2018 18:15"
          ],
          [
           "13-11-2018 18:30"
          ],
          [
           "13-11-2018 18:45"
          ],
          [
           "13-11-2018 19:00"
          ],
          [
           "13-11-2018 19:15"
          ],
          [
           "13-11-2018 19:30"
          ],
          [
           "13-11-2018 19:45"
          ],
          [
           "13-11-2018 20:00"
          ],
          [
           "13-11-2018 22:15"
          ],
          [
           "13-11-2018 22:30"
          ],
          [
           "13-11-2018 22:45"
          ],
          [
           "13-11-2018 23:00"
          ],
          [
           "14-11-2018 10:15"
          ],
          [
           "14-11-2018 10:30"
          ],
          [
           "14-11-2018 10:45"
          ],
          [
           "14-11-2018 11:00"
          ],
          [
           "14-11-2018 11:15"
          ],
          [
           "14-11-2018 11:30"
          ],
          [
           "14-11-2018 11:45"
          ],
          [
           "14-11-2018 12:00"
          ],
          [
           "14-11-2018 17:15"
          ],
          [
           "14-11-2018 17:30"
          ],
          [
           "14-11-2018 17:45"
          ],
          [
           "14-11-2018 18:00"
          ],
          [
           "14-11-2018 18:15"
          ],
          [
           "14-11-2018 18:30"
          ],
          [
           "14-11-2018 18:45"
          ],
          [
           "14-11-2018 19:00"
          ],
          [
           "14-11-2018 19:15"
          ],
          [
           "14-11-2018 19:30"
          ],
          [
           "14-11-2018 19:45"
          ],
          [
           "14-11-2018 20:00"
          ],
          [
           "14-11-2018 22:15"
          ],
          [
           "14-11-2018 22:30"
          ],
          [
           "14-11-2018 22:45"
          ],
          [
           "14-11-2018 23:00"
          ],
          [
           "15-11-2018 10:15"
          ],
          [
           "15-11-2018 10:30"
          ],
          [
           "15-11-2018 10:45"
          ],
          [
           "15-11-2018 11:00"
          ],
          [
           "15-11-2018 11:15"
          ],
          [
           "15-11-2018 11:30"
          ],
          [
           "15-11-2018 11:45"
          ],
          [
           "15-11-2018 12:00"
          ],
          [
           "15-11-2018 17:15"
          ],
          [
           "15-11-2018 17:30"
          ],
          [
           "15-11-2018 17:45"
          ],
          [
           "15-11-2018 18:00"
          ],
          [
           "15-11-2018 18:15"
          ],
          [
           "15-11-2018 18:30"
          ],
          [
           "15-11-2018 18:45"
          ],
          [
           "15-11-2018 19:00"
          ],
          [
           "15-11-2018 19:15"
          ],
          [
           "15-11-2018 19:30"
          ],
          [
           "15-11-2018 19:45"
          ],
          [
           "15-11-2018 20:00"
          ],
          [
           "15-11-2018 22:15"
          ],
          [
           "15-11-2018 22:30"
          ],
          [
           "15-11-2018 22:45"
          ],
          [
           "15-11-2018 23:00"
          ],
          [
           "16-11-2018 10:15"
          ],
          [
           "16-11-2018 10:30"
          ],
          [
           "16-11-2018 10:45"
          ],
          [
           "16-11-2018 11:00"
          ],
          [
           "16-11-2018 11:15"
          ],
          [
           "16-11-2018 11:30"
          ],
          [
           "16-11-2018 11:45"
          ],
          [
           "16-11-2018 12:00"
          ],
          [
           "16-11-2018 17:15"
          ],
          [
           "16-11-2018 17:30"
          ],
          [
           "16-11-2018 17:45"
          ],
          [
           "16-11-2018 18:00"
          ],
          [
           "16-11-2018 18:15"
          ],
          [
           "16-11-2018 18:30"
          ],
          [
           "16-11-2018 18:45"
          ],
          [
           "16-11-2018 19:00"
          ],
          [
           "16-11-2018 19:15"
          ],
          [
           "16-11-2018 19:30"
          ],
          [
           "16-11-2018 19:45"
          ],
          [
           "16-11-2018 20:00"
          ],
          [
           "16-11-2018 22:15"
          ],
          [
           "16-11-2018 22:30"
          ],
          [
           "16-11-2018 22:45"
          ],
          [
           "16-11-2018 23:00"
          ],
          [
           "17-11-2018 10:15"
          ],
          [
           "17-11-2018 10:30"
          ],
          [
           "17-11-2018 10:45"
          ],
          [
           "17-11-2018 11:00"
          ],
          [
           "17-11-2018 11:15"
          ],
          [
           "17-11-2018 11:30"
          ],
          [
           "17-11-2018 11:45"
          ],
          [
           "17-11-2018 12:00"
          ],
          [
           "17-11-2018 17:15"
          ],
          [
           "17-11-2018 17:30"
          ],
          [
           "17-11-2018 17:45"
          ],
          [
           "17-11-2018 18:00"
          ],
          [
           "17-11-2018 18:15"
          ],
          [
           "17-11-2018 18:30"
          ],
          [
           "17-11-2018 18:45"
          ],
          [
           "17-11-2018 19:00"
          ],
          [
           "17-11-2018 19:15"
          ],
          [
           "17-11-2018 19:30"
          ],
          [
           "17-11-2018 19:45"
          ],
          [
           "17-11-2018 20:00"
          ],
          [
           "17-11-2018 22:15"
          ],
          [
           "17-11-2018 22:30"
          ],
          [
           "17-11-2018 22:45"
          ],
          [
           "17-11-2018 23:00"
          ],
          [
           "18-11-2018 10:15"
          ],
          [
           "18-11-2018 10:30"
          ],
          [
           "18-11-2018 10:45"
          ],
          [
           "18-11-2018 11:00"
          ],
          [
           "18-11-2018 11:15"
          ],
          [
           "18-11-2018 11:30"
          ],
          [
           "18-11-2018 11:45"
          ],
          [
           "18-11-2018 12:00"
          ],
          [
           "18-11-2018 17:15"
          ],
          [
           "18-11-2018 17:30"
          ],
          [
           "18-11-2018 17:45"
          ],
          [
           "18-11-2018 18:00"
          ],
          [
           "18-11-2018 18:15"
          ],
          [
           "18-11-2018 18:30"
          ],
          [
           "18-11-2018 18:45"
          ],
          [
           "18-11-2018 19:00"
          ],
          [
           "18-11-2018 19:15"
          ],
          [
           "18-11-2018 19:30"
          ],
          [
           "18-11-2018 19:45"
          ],
          [
           "18-11-2018 20:00"
          ],
          [
           "18-11-2018 22:15"
          ],
          [
           "18-11-2018 22:30"
          ],
          [
           "18-11-2018 22:45"
          ],
          [
           "18-11-2018 23:00"
          ],
          [
           "19-11-2018 10:15"
          ],
          [
           "19-11-2018 10:30"
          ],
          [
           "19-11-2018 10:45"
          ],
          [
           "19-11-2018 11:00"
          ],
          [
           "19-11-2018 11:15"
          ],
          [
           "19-11-2018 11:30"
          ],
          [
           "19-11-2018 11:45"
          ],
          [
           "19-11-2018 12:00"
          ],
          [
           "19-11-2018 17:15"
          ],
          [
           "19-11-2018 17:30"
          ],
          [
           "19-11-2018 17:45"
          ],
          [
           "19-11-2018 18:00"
          ],
          [
           "19-11-2018 18:15"
          ],
          [
           "19-11-2018 18:30"
          ],
          [
           "19-11-2018 18:45"
          ],
          [
           "19-11-2018 19:00"
          ],
          [
           "19-11-2018 19:15"
          ],
          [
           "19-11-2018 19:30"
          ],
          [
           "19-11-2018 19:45"
          ],
          [
           "19-11-2018 20:00"
          ],
          [
           "19-11-2018 22:15"
          ],
          [
           "19-11-2018 22:30"
          ],
          [
           "19-11-2018 22:45"
          ],
          [
           "19-11-2018 23:00"
          ],
          [
           "20-11-2018 10:15"
          ],
          [
           "20-11-2018 10:30"
          ],
          [
           "20-11-2018 10:45"
          ],
          [
           "20-11-2018 11:00"
          ],
          [
           "20-11-2018 11:15"
          ],
          [
           "20-11-2018 11:30"
          ],
          [
           "20-11-2018 11:45"
          ],
          [
           "20-11-2018 12:00"
          ],
          [
           "20-11-2018 17:15"
          ],
          [
           "20-11-2018 17:30"
          ],
          [
           "20-11-2018 17:45"
          ],
          [
           "20-11-2018 18:00"
          ],
          [
           "20-11-2018 18:15"
          ],
          [
           "20-11-2018 18:30"
          ],
          [
           "20-11-2018 18:45"
          ],
          [
           "20-11-2018 19:00"
          ],
          [
           "20-11-2018 19:15"
          ],
          [
           "20-11-2018 19:30"
          ],
          [
           "20-11-2018 19:45"
          ],
          [
           "20-11-2018 20:00"
          ],
          [
           "20-11-2018 22:15"
          ],
          [
           "20-11-2018 22:30"
          ],
          [
           "20-11-2018 22:45"
          ],
          [
           "20-11-2018 23:00"
          ],
          [
           "21-11-2018 10:15"
          ],
          [
           "21-11-2018 10:30"
          ],
          [
           "21-11-2018 10:45"
          ],
          [
           "21-11-2018 11:00"
          ],
          [
           "21-11-2018 11:15"
          ],
          [
           "21-11-2018 11:30"
          ],
          [
           "21-11-2018 11:45"
          ],
          [
           "21-11-2018 12:00"
          ],
          [
           "21-11-2018 17:15"
          ],
          [
           "21-11-2018 17:30"
          ],
          [
           "21-11-2018 17:45"
          ],
          [
           "21-11-2018 18:00"
          ],
          [
           "21-11-2018 18:15"
          ],
          [
           "21-11-2018 18:30"
          ],
          [
           "21-11-2018 18:45"
          ],
          [
           "21-11-2018 19:00"
          ],
          [
           "21-11-2018 19:15"
          ],
          [
           "21-11-2018 19:30"
          ],
          [
           "21-11-2018 19:45"
          ],
          [
           "21-11-2018 20:00"
          ],
          [
           "21-11-2018 22:15"
          ],
          [
           "21-11-2018 22:30"
          ],
          [
           "21-11-2018 22:45"
          ],
          [
           "21-11-2018 23:00"
          ],
          [
           "22-11-2018 10:15"
          ],
          [
           "22-11-2018 10:30"
          ],
          [
           "22-11-2018 10:45"
          ],
          [
           "22-11-2018 11:00"
          ],
          [
           "22-11-2018 11:15"
          ],
          [
           "22-11-2018 11:30"
          ],
          [
           "22-11-2018 11:45"
          ],
          [
           "22-11-2018 12:00"
          ],
          [
           "22-11-2018 17:15"
          ],
          [
           "22-11-2018 17:30"
          ],
          [
           "22-11-2018 17:45"
          ],
          [
           "22-11-2018 18:00"
          ],
          [
           "22-11-2018 18:15"
          ],
          [
           "22-11-2018 18:30"
          ],
          [
           "22-11-2018 18:45"
          ],
          [
           "22-11-2018 19:00"
          ],
          [
           "22-11-2018 19:15"
          ],
          [
           "22-11-2018 19:30"
          ],
          [
           "22-11-2018 19:45"
          ],
          [
           "22-11-2018 20:00"
          ],
          [
           "22-11-2018 22:15"
          ],
          [
           "22-11-2018 22:30"
          ],
          [
           "22-11-2018 22:45"
          ],
          [
           "22-11-2018 23:00"
          ],
          [
           "23-11-2018 10:15"
          ],
          [
           "23-11-2018 10:30"
          ],
          [
           "23-11-2018 10:45"
          ],
          [
           "23-11-2018 11:00"
          ],
          [
           "23-11-2018 11:15"
          ],
          [
           "23-11-2018 11:30"
          ],
          [
           "23-11-2018 11:45"
          ],
          [
           "23-11-2018 12:00"
          ],
          [
           "23-11-2018 17:15"
          ],
          [
           "23-11-2018 17:30"
          ],
          [
           "23-11-2018 17:45"
          ],
          [
           "23-11-2018 18:00"
          ],
          [
           "23-11-2018 18:15"
          ],
          [
           "23-11-2018 18:30"
          ],
          [
           "23-11-2018 18:45"
          ],
          [
           "23-11-2018 19:00"
          ],
          [
           "23-11-2018 19:15"
          ],
          [
           "23-11-2018 19:30"
          ],
          [
           "23-11-2018 19:45"
          ],
          [
           "23-11-2018 20:00"
          ],
          [
           "23-11-2018 22:15"
          ],
          [
           "23-11-2018 22:30"
          ],
          [
           "23-11-2018 22:45"
          ],
          [
           "23-11-2018 23:00"
          ],
          [
           "26-11-2018 10:15"
          ],
          [
           "26-11-2018 10:30"
          ],
          [
           "26-11-2018 10:45"
          ],
          [
           "26-11-2018 11:00"
          ],
          [
           "26-11-2018 11:15"
          ],
          [
           "26-11-2018 11:30"
          ],
          [
           "26-11-2018 11:45"
          ],
          [
           "26-11-2018 12:00"
          ],
          [
           "26-11-2018 17:15"
          ],
          [
           "26-11-2018 17:30"
          ],
          [
           "26-11-2018 17:45"
          ],
          [
           "26-11-2018 18:00"
          ],
          [
           "26-11-2018 18:15"
          ],
          [
           "26-11-2018 18:30"
          ],
          [
           "26-11-2018 18:45"
          ],
          [
           "26-11-2018 19:00"
          ],
          [
           "26-11-2018 19:15"
          ],
          [
           "26-11-2018 19:30"
          ],
          [
           "26-11-2018 19:45"
          ],
          [
           "26-11-2018 20:00"
          ],
          [
           "26-11-2018 22:15"
          ],
          [
           "26-11-2018 22:30"
          ],
          [
           "26-11-2018 22:45"
          ],
          [
           "26-11-2018 23:00"
          ],
          [
           "27-11-2018 10:15"
          ],
          [
           "27-11-2018 10:30"
          ],
          [
           "27-11-2018 10:45"
          ],
          [
           "27-11-2018 11:00"
          ],
          [
           "27-11-2018 11:15"
          ],
          [
           "27-11-2018 11:30"
          ],
          [
           "27-11-2018 11:45"
          ],
          [
           "27-11-2018 12:00"
          ],
          [
           "27-11-2018 17:15"
          ],
          [
           "27-11-2018 17:30"
          ],
          [
           "27-11-2018 17:45"
          ],
          [
           "27-11-2018 18:00"
          ],
          [
           "27-11-2018 18:15"
          ],
          [
           "27-11-2018 18:30"
          ],
          [
           "27-11-2018 18:45"
          ],
          [
           "27-11-2018 19:00"
          ],
          [
           "27-11-2018 19:15"
          ],
          [
           "27-11-2018 19:30"
          ],
          [
           "27-11-2018 19:45"
          ],
          [
           "27-11-2018 20:00"
          ],
          [
           "27-11-2018 22:15"
          ],
          [
           "27-11-2018 22:30"
          ],
          [
           "27-11-2018 22:45"
          ],
          [
           "27-11-2018 23:00"
          ],
          [
           "28-11-2018 10:15"
          ],
          [
           "28-11-2018 10:30"
          ],
          [
           "28-11-2018 10:45"
          ],
          [
           "28-11-2018 11:00"
          ],
          [
           "28-11-2018 11:15"
          ],
          [
           "28-11-2018 11:30"
          ],
          [
           "28-11-2018 11:45"
          ],
          [
           "28-11-2018 12:00"
          ],
          [
           "28-11-2018 17:15"
          ],
          [
           "28-11-2018 17:30"
          ],
          [
           "28-11-2018 17:45"
          ],
          [
           "28-11-2018 18:00"
          ],
          [
           "28-11-2018 18:15"
          ],
          [
           "28-11-2018 18:30"
          ],
          [
           "28-11-2018 18:45"
          ],
          [
           "28-11-2018 19:00"
          ],
          [
           "28-11-2018 19:15"
          ],
          [
           "28-11-2018 19:30"
          ],
          [
           "28-11-2018 19:45"
          ],
          [
           "28-11-2018 20:00"
          ],
          [
           "28-11-2018 22:15"
          ],
          [
           "28-11-2018 22:30"
          ],
          [
           "28-11-2018 22:45"
          ],
          [
           "28-11-2018 23:00"
          ],
          [
           "29-11-2018 10:15"
          ],
          [
           "29-11-2018 10:30"
          ],
          [
           "29-11-2018 10:45"
          ],
          [
           "29-11-2018 11:00"
          ],
          [
           "29-11-2018 11:15"
          ],
          [
           "29-11-2018 11:30"
          ],
          [
           "29-11-2018 11:45"
          ],
          [
           "29-11-2018 12:00"
          ],
          [
           "29-11-2018 17:15"
          ],
          [
           "29-11-2018 17:30"
          ],
          [
           "29-11-2018 17:45"
          ],
          [
           "29-11-2018 18:00"
          ],
          [
           "29-11-2018 18:15"
          ],
          [
           "29-11-2018 18:30"
          ],
          [
           "29-11-2018 18:45"
          ],
          [
           "29-11-2018 19:00"
          ],
          [
           "29-11-2018 19:15"
          ],
          [
           "29-11-2018 19:30"
          ],
          [
           "29-11-2018 19:45"
          ],
          [
           "29-11-2018 20:00"
          ],
          [
           "29-11-2018 22:15"
          ],
          [
           "29-11-2018 22:30"
          ],
          [
           "29-11-2018 22:45"
          ],
          [
           "29-11-2018 23:00"
          ],
          [
           "30-11-2018 10:15"
          ],
          [
           "30-11-2018 10:30"
          ],
          [
           "30-11-2018 10:45"
          ],
          [
           "30-11-2018 11:00"
          ],
          [
           "30-11-2018 11:15"
          ],
          [
           "30-11-2018 11:30"
          ],
          [
           "30-11-2018 11:45"
          ],
          [
           "30-11-2018 12:00"
          ],
          [
           "30-11-2018 17:15"
          ],
          [
           "30-11-2018 17:30"
          ],
          [
           "30-11-2018 17:45"
          ],
          [
           "30-11-2018 18:00"
          ],
          [
           "30-11-2018 18:15"
          ],
          [
           "30-11-2018 18:30"
          ],
          [
           "30-11-2018 18:45"
          ],
          [
           "30-11-2018 19:00"
          ],
          [
           "30-11-2018 19:15"
          ],
          [
           "30-11-2018 19:30"
          ],
          [
           "30-11-2018 19:45"
          ],
          [
           "30-11-2018 20:00"
          ],
          [
           "30-11-2018 22:15"
          ],
          [
           "30-11-2018 22:30"
          ],
          [
           "30-11-2018 22:45"
          ],
          [
           "30-11-2018 23:00"
          ]
         ],
         "hovertemplate": "Load_Type=Maximum_Load<br>NSM_calculated=%{x}<br>y=%{y}<br>Date_Time=%{customdata[0]}<extra></extra>",
         "legendgroup": "Maximum_Load",
         "marker": {
          "color": "#00cc96",
          "symbol": "circle"
         },
         "mode": "markers",
         "name": "Maximum_Load",
         "showlegend": true,
         "type": "scattergl",
         "x": [
          36900,
          37800,
          38700,
          39600,
          40500,
          41400,
          42300,
          43200,
          47700,
          48600,
          49500,
          50400,
          51300,
          52200,
          53100,
          54000,
          54900,
          55800,
          56700,
          57600,
          58500,
          59400,
          60300,
          61200,
          36900,
          37800,
          38700,
          39600,
          40500,
          41400,
          42300,
          43200,
          47700,
          48600,
          49500,
          50400,
          51300,
          52200,
          53100,
          54000,
          54900,
          55800,
          56700,
          57600,
          58500,
          59400,
          60300,
          61200,
          36900,
          37800,
          38700,
          39600,
          40500,
          41400,
          42300,
          43200,
          47700,
          48600,
          49500,
          50400,
          51300,
          52200,
          53100,
          54000,
          54900,
          55800,
          56700,
          57600,
          58500,
          59400,
          60300,
          61200,
          36900,
          37800,
          38700,
          39600,
          40500,
          41400,
          42300,
          43200,
          47700,
          48600,
          49500,
          50400,
          51300,
          52200,
          53100,
          54000,
          54900,
          55800,
          56700,
          57600,
          58500,
          59400,
          60300,
          61200,
          36900,
          37800,
          38700,
          39600,
          40500,
          41400,
          42300,
          43200,
          47700,
          48600,
          49500,
          50400,
          51300,
          52200,
          53100,
          54000,
          54900,
          55800,
          56700,
          57600,
          58500,
          59400,
          60300,
          61200,
          36900,
          37800,
          38700,
          39600,
          40500,
          41400,
          42300,
          43200,
          47700,
          48600,
          49500,
          50400,
          51300,
          52200,
          53100,
          54000,
          54900,
          55800,
          56700,
          57600,
          58500,
          59400,
          60300,
          61200,
          36900,
          37800,
          38700,
          39600,
          40500,
          41400,
          42300,
          43200,
          47700,
          48600,
          49500,
          50400,
          51300,
          52200,
          53100,
          54000,
          54900,
          55800,
          56700,
          57600,
          58500,
          59400,
          60300,
          61200,
          36900,
          37800,
          38700,
          39600,
          40500,
          41400,
          42300,
          43200,
          47700,
          48600,
          49500,
          50400,
          51300,
          52200,
          53100,
          54000,
          54900,
          55800,
          56700,
          57600,
          58500,
          59400,
          60300,
          61200,
          36900,
          37800,
          38700,
          39600,
          40500,
          41400,
          42300,
          43200,
          47700,
          48600,
          49500,
          50400,
          51300,
          52200,
          53100,
          54000,
          54900,
          55800,
          56700,
          57600,
          58500,
          59400,
          60300,
          61200,
          36900,
          37800,
          38700,
          39600,
          40500,
          41400,
          42300,
          43200,
          47700,
          48600,
          49500,
          50400,
          51300,
          52200,
          53100,
          54000,
          54900,
          55800,
          56700,
          57600,
          58500,
          59400,
          60300,
          61200,
          36900,
          37800,
          38700,
          39600,
          40500,
          41400,
          42300,
          43200,
          47700,
          48600,
          49500,
          50400,
          51300,
          52200,
          53100,
          54000,
          54900,
          55800,
          56700,
          57600,
          58500,
          59400,
          60300,
          61200,
          36900,
          37800,
          38700,
          39600,
          40500,
          41400,
          42300,
          43200,
          47700,
          48600,
          49500,
          50400,
          51300,
          52200,
          53100,
          54000,
          54900,
          55800,
          56700,
          57600,
          58500,
          59400,
          60300,
          61200,
          36900,
          37800,
          38700,
          39600,
          40500,
          41400,
          42300,
          43200,
          47700,
          48600,
          49500,
          50400,
          51300,
          52200,
          53100,
          54000,
          54900,
          55800,
          56700,
          57600,
          58500,
          59400,
          60300,
          61200,
          36900,
          37800,
          38700,
          39600,
          40500,
          41400,
          42300,
          43200,
          47700,
          48600,
          49500,
          50400,
          51300,
          52200,
          53100,
          54000,
          54900,
          55800,
          56700,
          57600,
          58500,
          59400,
          60300,
          61200,
          36900,
          37800,
          38700,
          39600,
          40500,
          41400,
          42300,
          43200,
          47700,
          48600,
          49500,
          50400,
          51300,
          52200,
          53100,
          54000,
          54900,
          55800,
          56700,
          57600,
          58500,
          59400,
          60300,
          61200,
          36900,
          37800,
          38700,
          39600,
          40500,
          41400,
          42300,
          43200,
          47700,
          48600,
          49500,
          50400,
          51300,
          52200,
          53100,
          54000,
          54900,
          55800,
          56700,
          57600,
          58500,
          59400,
          60300,
          61200,
          36900,
          37800,
          38700,
          39600,
          40500,
          41400,
          42300,
          43200,
          47700,
          48600,
          49500,
          50400,
          51300,
          52200,
          53100,
          54000,
          54900,
          55800,
          56700,
          57600,
          58500,
          59400,
          60300,
          61200,
          36900,
          37800,
          38700,
          39600,
          40500,
          41400,
          42300,
          43200,
          47700,
          48600,
          49500,
          50400,
          51300,
          52200,
          53100,
          54000,
          54900,
          55800,
          56700,
          57600,
          58500,
          59400,
          60300,
          61200,
          36900,
          37800,
          38700,
          39600,
          40500,
          41400,
          42300,
          43200,
          47700,
          48600,
          49500,
          50400,
          51300,
          52200,
          53100,
          54000,
          54900,
          55800,
          56700,
          57600,
          58500,
          59400,
          60300,
          61200,
          36900,
          37800,
          38700,
          39600,
          40500,
          41400,
          42300,
          43200,
          47700,
          48600,
          49500,
          50400,
          51300,
          52200,
          53100,
          54000,
          54900,
          55800,
          56700,
          57600,
          58500,
          59400,
          60300,
          61200,
          36900,
          37800,
          38700,
          39600,
          40500,
          41400,
          42300,
          43200,
          47700,
          48600,
          49500,
          50400,
          51300,
          52200,
          53100,
          54000,
          54900,
          55800,
          56700,
          57600,
          58500,
          59400,
          60300,
          61200,
          36900,
          37800,
          38700,
          39600,
          40500,
          41400,
          42300,
          43200,
          47700,
          48600,
          49500,
          50400,
          51300,
          52200,
          53100,
          54000,
          54900,
          55800,
          56700,
          57600,
          58500,
          59400,
          60300,
          61200,
          36900,
          37800,
          38700,
          39600,
          40500,
          41400,
          42300,
          43200,
          47700,
          48600,
          49500,
          50400,
          51300,
          52200,
          53100,
          54000,
          54900,
          55800,
          56700,
          57600,
          58500,
          59400,
          60300,
          61200,
          36900,
          37800,
          38700,
          39600,
          40500,
          41400,
          42300,
          43200,
          47700,
          48600,
          49500,
          50400,
          51300,
          52200,
          53100,
          54000,
          54900,
          55800,
          56700,
          57600,
          58500,
          59400,
          60300,
          61200,
          36900,
          37800,
          38700,
          39600,
          40500,
          41400,
          42300,
          43200,
          47700,
          48600,
          49500,
          50400,
          51300,
          52200,
          53100,
          54000,
          54900,
          55800,
          56700,
          57600,
          58500,
          59400,
          60300,
          61200,
          36900,
          37800,
          38700,
          39600,
          40500,
          41400,
          42300,
          43200,
          47700,
          48600,
          49500,
          50400,
          51300,
          52200,
          53100,
          54000,
          54900,
          55800,
          56700,
          57600,
          58500,
          59400,
          60300,
          61200,
          36900,
          37800,
          38700,
          39600,
          40500,
          41400,
          42300,
          43200,
          47700,
          48600,
          49500,
          50400,
          51300,
          52200,
          53100,
          54000,
          54900,
          55800,
          56700,
          57600,
          58500,
          59400,
          60300,
          61200,
          36900,
          37800,
          38700,
          39600,
          40500,
          41400,
          42300,
          43200,
          47700,
          48600,
          49500,
          50400,
          51300,
          52200,
          53100,
          54000,
          54900,
          55800,
          56700,
          57600,
          58500,
          59400,
          60300,
          61200,
          36900,
          37800,
          38700,
          39600,
          40500,
          41400,
          42300,
          43200,
          47700,
          48600,
          49500,
          50400,
          51300,
          52200,
          53100,
          54000,
          54900,
          55800,
          56700,
          57600,
          58500,
          59400,
          60300,
          61200,
          36900,
          37800,
          38700,
          39600,
          40500,
          41400,
          42300,
          43200,
          47700,
          48600,
          49500,
          50400,
          51300,
          52200,
          53100,
          54000,
          54900,
          55800,
          56700,
          57600,
          58500,
          59400,
          60300,
          61200,
          36900,
          37800,
          38700,
          39600,
          40500,
          41400,
          42300,
          43200,
          62100,
          63000,
          63900,
          64800,
          65700,
          66600,
          67500,
          68400,
          69300,
          70200,
          71100,
          72000,
          80100,
          81000,
          81900,
          82800,
          36900,
          37800,
          38700,
          39600,
          40500,
          41400,
          42300,
          43200,
          62100,
          63000,
          63900,
          64800,
          65700,
          66600,
          67500,
          68400,
          69300,
          70200,
          71100,
          72000,
          80100,
          81000,
          81900,
          82800,
          36900,
          37800,
          38700,
          39600,
          40500,
          41400,
          42300,
          43200,
          62100,
          63000,
          63900,
          64800,
          65700,
          66600,
          67500,
          68400,
          69300,
          70200,
          71100,
          72000,
          80100,
          81000,
          81900,
          82800,
          36900,
          37800,
          38700,
          39600,
          40500,
          41400,
          42300,
          43200,
          62100,
          63000,
          63900,
          64800,
          65700,
          66600,
          67500,
          68400,
          69300,
          70200,
          71100,
          72000,
          80100,
          81000,
          81900,
          82800,
          36900,
          37800,
          38700,
          39600,
          40500,
          41400,
          42300,
          43200,
          62100,
          63000,
          63900,
          64800,
          65700,
          66600,
          67500,
          68400,
          69300,
          70200,
          71100,
          72000,
          80100,
          81000,
          81900,
          82800,
          36900,
          37800,
          38700,
          39600,
          40500,
          41400,
          42300,
          43200,
          62100,
          63000,
          63900,
          64800,
          65700,
          66600,
          67500,
          68400,
          69300,
          70200,
          71100,
          72000,
          80100,
          81000,
          81900,
          82800,
          36900,
          37800,
          38700,
          39600,
          40500,
          41400,
          42300,
          43200,
          62100,
          63000,
          63900,
          64800,
          65700,
          66600,
          67500,
          68400,
          69300,
          70200,
          71100,
          72000,
          80100,
          81000,
          81900,
          82800,
          36900,
          37800,
          38700,
          39600,
          40500,
          41400,
          42300,
          43200,
          62100,
          63000,
          63900,
          64800,
          65700,
          66600,
          67500,
          68400,
          69300,
          70200,
          71100,
          72000,
          80100,
          81000,
          81900,
          82800,
          36900,
          37800,
          38700,
          39600,
          40500,
          41400,
          42300,
          43200,
          62100,
          63000,
          63900,
          64800,
          65700,
          66600,
          67500,
          68400,
          69300,
          70200,
          71100,
          72000,
          80100,
          81000,
          81900,
          82800,
          36900,
          37800,
          38700,
          39600,
          40500,
          41400,
          42300,
          43200,
          62100,
          63000,
          63900,
          64800,
          65700,
          66600,
          67500,
          68400,
          69300,
          70200,
          71100,
          72000,
          80100,
          81000,
          81900,
          82800,
          36900,
          37800,
          38700,
          39600,
          40500,
          41400,
          42300,
          43200,
          62100,
          63000,
          63900,
          64800,
          65700,
          66600,
          67500,
          68400,
          69300,
          70200,
          71100,
          72000,
          80100,
          81000,
          81900,
          82800,
          36900,
          37800,
          38700,
          39600,
          40500,
          41400,
          42300,
          43200,
          62100,
          63000,
          63900,
          64800,
          65700,
          66600,
          67500,
          68400,
          69300,
          70200,
          71100,
          72000,
          80100,
          81000,
          81900,
          82800,
          36900,
          37800,
          38700,
          39600,
          40500,
          41400,
          42300,
          43200,
          62100,
          63000,
          63900,
          64800,
          65700,
          66600,
          67500,
          68400,
          69300,
          70200,
          71100,
          72000,
          80100,
          81000,
          81900,
          82800,
          36900,
          37800,
          38700,
          39600,
          40500,
          41400,
          42300,
          43200,
          62100,
          63000,
          63900,
          64800,
          65700,
          66600,
          67500,
          68400,
          69300,
          70200,
          71100,
          72000,
          80100,
          81000,
          81900,
          82800,
          36900,
          37800,
          38700,
          39600,
          40500,
          41400,
          42300,
          43200,
          62100,
          63000,
          63900,
          64800,
          65700,
          66600,
          67500,
          68400,
          69300,
          70200,
          71100,
          72000,
          80100,
          81000,
          81900,
          82800,
          36900,
          37800,
          38700,
          39600,
          40500,
          41400,
          42300,
          43200,
          62100,
          63000,
          63900,
          64800,
          65700,
          66600,
          67500,
          68400,
          69300,
          70200,
          71100,
          72000,
          80100,
          81000,
          81900,
          82800,
          36900,
          37800,
          38700,
          39600,
          40500,
          41400,
          42300,
          43200,
          62100,
          63000,
          63900,
          64800,
          65700,
          66600,
          67500,
          68400,
          69300,
          70200,
          71100,
          72000,
          80100,
          81000,
          81900,
          82800,
          36900,
          37800,
          38700,
          39600,
          40500,
          41400,
          42300,
          43200,
          62100,
          63000,
          63900,
          64800,
          65700,
          66600,
          67500,
          68400,
          69300,
          70200,
          71100,
          72000,
          80100,
          81000,
          81900,
          82800,
          36900,
          37800,
          38700,
          39600,
          40500,
          41400,
          42300,
          43200,
          62100,
          63000,
          63900,
          64800,
          65700,
          66600,
          67500,
          68400,
          69300,
          70200,
          71100,
          72000,
          80100,
          81000,
          81900,
          82800,
          36900,
          37800,
          38700,
          39600,
          40500,
          41400,
          42300,
          43200,
          62100,
          63000,
          63900,
          64800,
          65700,
          66600,
          67500,
          68400,
          69300,
          70200,
          71100,
          72000,
          80100,
          81000,
          81900,
          82800,
          36900,
          37800,
          38700,
          39600,
          40500,
          41400,
          42300,
          43200,
          62100,
          63000,
          63900,
          64800,
          65700,
          66600,
          67500,
          68400,
          69300,
          70200,
          71100,
          72000,
          80100,
          81000,
          81900,
          82800,
          36900,
          37800,
          38700,
          39600,
          40500,
          41400,
          42300,
          43200,
          62100,
          63000,
          63900,
          64800,
          65700,
          66600,
          67500,
          68400,
          69300,
          70200,
          71100,
          72000,
          80100,
          81000,
          81900,
          82800,
          36900,
          37800,
          38700,
          39600,
          40500,
          41400,
          42300,
          43200,
          62100,
          63000,
          63900,
          64800,
          65700,
          66600,
          67500,
          68400,
          69300,
          70200,
          71100,
          72000,
          80100,
          81000,
          81900,
          82800,
          36900,
          37800,
          38700,
          39600,
          40500,
          41400,
          42300,
          43200,
          62100,
          63000,
          63900,
          64800,
          65700,
          66600,
          67500,
          68400,
          69300,
          70200,
          71100,
          72000,
          80100,
          81000,
          81900,
          82800,
          36900,
          37800,
          38700,
          39600,
          40500,
          41400,
          42300,
          43200,
          62100,
          63000,
          63900,
          64800,
          65700,
          66600,
          67500,
          68400,
          69300,
          70200,
          71100,
          72000,
          80100,
          81000,
          81900,
          82800,
          36900,
          37800,
          38700,
          39600,
          40500,
          41400,
          42300,
          43200,
          62100,
          63000,
          63900,
          64800,
          65700,
          66600,
          67500,
          68400,
          69300,
          70200,
          71100,
          72000,
          80100,
          81000,
          81900,
          82800,
          36900,
          37800,
          38700,
          39600,
          40500,
          41400,
          42300,
          43200,
          62100,
          63000,
          63900,
          64800,
          65700,
          66600,
          67500,
          68400,
          69300,
          70200,
          71100,
          72000,
          80100,
          81000,
          81900,
          82800
         ],
         "xaxis": "x",
         "y": [
          213,
          214,
          215,
          216,
          217,
          218,
          219,
          220,
          225,
          226,
          227,
          228,
          229,
          230,
          231,
          232,
          233,
          234,
          235,
          236,
          237,
          238,
          239,
          240,
          309,
          310,
          311,
          312,
          313,
          314,
          315,
          316,
          321,
          322,
          323,
          324,
          325,
          326,
          327,
          328,
          329,
          330,
          331,
          332,
          333,
          334,
          335,
          336,
          405,
          406,
          407,
          408,
          409,
          410,
          411,
          412,
          417,
          418,
          419,
          420,
          421,
          422,
          423,
          424,
          425,
          426,
          427,
          428,
          429,
          430,
          431,
          432,
          597,
          598,
          599,
          600,
          601,
          602,
          603,
          604,
          609,
          610,
          611,
          612,
          613,
          614,
          615,
          616,
          617,
          618,
          619,
          620,
          621,
          622,
          623,
          624,
          693,
          694,
          695,
          696,
          697,
          698,
          699,
          700,
          705,
          706,
          707,
          708,
          709,
          710,
          711,
          712,
          713,
          714,
          715,
          716,
          717,
          718,
          719,
          720,
          789,
          790,
          791,
          792,
          793,
          794,
          795,
          796,
          801,
          802,
          803,
          804,
          805,
          806,
          807,
          808,
          809,
          810,
          811,
          812,
          813,
          814,
          815,
          816,
          885,
          886,
          887,
          888,
          889,
          890,
          891,
          892,
          897,
          898,
          899,
          900,
          901,
          902,
          903,
          904,
          905,
          906,
          907,
          908,
          909,
          910,
          911,
          912,
          981,
          982,
          983,
          984,
          985,
          986,
          987,
          988,
          993,
          994,
          995,
          996,
          997,
          998,
          999,
          1000,
          1001,
          1002,
          1003,
          1004,
          1005,
          1006,
          1007,
          1008,
          1077,
          1078,
          1079,
          1080,
          1081,
          1082,
          1083,
          1084,
          1089,
          1090,
          1091,
          1092,
          1093,
          1094,
          1095,
          1096,
          1097,
          1098,
          1099,
          1100,
          1101,
          1102,
          1103,
          1104,
          1269,
          1270,
          1271,
          1272,
          1273,
          1274,
          1275,
          1276,
          1281,
          1282,
          1283,
          1284,
          1285,
          1286,
          1287,
          1288,
          1289,
          1290,
          1291,
          1292,
          1293,
          1294,
          1295,
          1296,
          1365,
          1366,
          1367,
          1368,
          1369,
          1370,
          1371,
          1372,
          1377,
          1378,
          1379,
          1380,
          1381,
          1382,
          1383,
          1384,
          1385,
          1386,
          1387,
          1388,
          1389,
          1390,
          1391,
          1392,
          1461,
          1462,
          1463,
          1464,
          1465,
          1466,
          1467,
          1468,
          1473,
          1474,
          1475,
          1476,
          1477,
          1478,
          1479,
          1480,
          1481,
          1482,
          1483,
          1484,
          1485,
          1486,
          1487,
          1488,
          1557,
          1558,
          1559,
          1560,
          1561,
          1562,
          1563,
          1564,
          1569,
          1570,
          1571,
          1572,
          1573,
          1574,
          1575,
          1576,
          1577,
          1578,
          1579,
          1580,
          1581,
          1582,
          1583,
          1584,
          1653,
          1654,
          1655,
          1656,
          1657,
          1658,
          1659,
          1660,
          1665,
          1666,
          1667,
          1668,
          1669,
          1670,
          1671,
          1672,
          1673,
          1674,
          1675,
          1676,
          1677,
          1678,
          1679,
          1680,
          1749,
          1750,
          1751,
          1752,
          1753,
          1754,
          1755,
          1756,
          1761,
          1762,
          1763,
          1764,
          1765,
          1766,
          1767,
          1768,
          1769,
          1770,
          1771,
          1772,
          1773,
          1774,
          1775,
          1776,
          1941,
          1942,
          1943,
          1944,
          1945,
          1946,
          1947,
          1948,
          1953,
          1954,
          1955,
          1956,
          1957,
          1958,
          1959,
          1960,
          1961,
          1962,
          1963,
          1964,
          1965,
          1966,
          1967,
          1968,
          2037,
          2038,
          2039,
          2040,
          2041,
          2042,
          2043,
          2044,
          2049,
          2050,
          2051,
          2052,
          2053,
          2054,
          2055,
          2056,
          2057,
          2058,
          2059,
          2060,
          2061,
          2062,
          2063,
          2064,
          2133,
          2134,
          2135,
          2136,
          2137,
          2138,
          2139,
          2140,
          2145,
          2146,
          2147,
          2148,
          2149,
          2150,
          2151,
          2152,
          2153,
          2154,
          2155,
          2156,
          2157,
          2158,
          2159,
          2160,
          2229,
          2230,
          2231,
          2232,
          2233,
          2234,
          2235,
          2236,
          2241,
          2242,
          2243,
          2244,
          2245,
          2246,
          2247,
          2248,
          2249,
          2250,
          2251,
          2252,
          2253,
          2254,
          2255,
          2256,
          2325,
          2326,
          2327,
          2328,
          2329,
          2330,
          2331,
          2332,
          2337,
          2338,
          2339,
          2340,
          2341,
          2342,
          2343,
          2344,
          2345,
          2346,
          2347,
          2348,
          2349,
          2350,
          2351,
          2352,
          2421,
          2422,
          2423,
          2424,
          2425,
          2426,
          2427,
          2428,
          2433,
          2434,
          2435,
          2436,
          2437,
          2438,
          2439,
          2440,
          2441,
          2442,
          2443,
          2444,
          2445,
          2446,
          2447,
          2448,
          2613,
          2614,
          2615,
          2616,
          2617,
          2618,
          2619,
          2620,
          2625,
          2626,
          2627,
          2628,
          2629,
          2630,
          2631,
          2632,
          2633,
          2634,
          2635,
          2636,
          2637,
          2638,
          2639,
          2640,
          2709,
          2710,
          2711,
          2712,
          2713,
          2714,
          2715,
          2716,
          2721,
          2722,
          2723,
          2724,
          2725,
          2726,
          2727,
          2728,
          2729,
          2730,
          2731,
          2732,
          2733,
          2734,
          2735,
          2736,
          2805,
          2806,
          2807,
          2808,
          2809,
          2810,
          2811,
          2812,
          2817,
          2818,
          2819,
          2820,
          2821,
          2822,
          2823,
          2824,
          2825,
          2826,
          2827,
          2828,
          2829,
          2830,
          2831,
          2832,
          2901,
          2902,
          2903,
          2904,
          2905,
          2906,
          2907,
          2908,
          2913,
          2914,
          2915,
          2916,
          2917,
          2918,
          2919,
          2920,
          2921,
          2922,
          2923,
          2924,
          2925,
          2926,
          2927,
          2928,
          2997,
          2998,
          2999,
          3000,
          3001,
          3002,
          3003,
          3004,
          3009,
          3010,
          3011,
          3012,
          3013,
          3014,
          3015,
          3016,
          3017,
          3018,
          3019,
          3020,
          3021,
          3022,
          3023,
          3024,
          3093,
          3094,
          3095,
          3096,
          3097,
          3098,
          3099,
          3100,
          3105,
          3106,
          3107,
          3108,
          3109,
          3110,
          3111,
          3112,
          3113,
          3114,
          3115,
          3116,
          3117,
          3118,
          3119,
          3120,
          3285,
          3286,
          3287,
          3288,
          3289,
          3290,
          3291,
          3292,
          3297,
          3298,
          3299,
          3300,
          3301,
          3302,
          3303,
          3304,
          3305,
          3306,
          3307,
          3308,
          3309,
          3310,
          3311,
          3312,
          3381,
          3382,
          3383,
          3384,
          3385,
          3386,
          3387,
          3388,
          3393,
          3394,
          3395,
          3396,
          3397,
          3398,
          3399,
          3400,
          3401,
          3402,
          3403,
          3404,
          3405,
          3406,
          3407,
          3408,
          3477,
          3478,
          3479,
          3480,
          3481,
          3482,
          3483,
          3484,
          3489,
          3490,
          3491,
          3492,
          3493,
          3494,
          3495,
          3496,
          3497,
          3498,
          3499,
          3500,
          3501,
          3502,
          3503,
          3504,
          3573,
          3574,
          3575,
          3576,
          3577,
          3578,
          3579,
          3580,
          3601,
          3602,
          3603,
          3604,
          3605,
          3606,
          3607,
          3608,
          3609,
          3610,
          3611,
          3612,
          3621,
          3622,
          3623,
          3624,
          3669,
          3670,
          3671,
          3672,
          3673,
          3674,
          3675,
          3676,
          3697,
          3698,
          3699,
          3700,
          3701,
          3702,
          3703,
          3704,
          3705,
          3706,
          3707,
          3708,
          3717,
          3718,
          3719,
          3720,
          3765,
          3766,
          3767,
          3768,
          3769,
          3770,
          3771,
          3772,
          3793,
          3794,
          3795,
          3796,
          3797,
          3798,
          3799,
          3800,
          3801,
          3802,
          3803,
          3804,
          3813,
          3814,
          3815,
          3816,
          3861,
          3862,
          3863,
          3864,
          3865,
          3866,
          3867,
          3868,
          3889,
          3890,
          3891,
          3892,
          3893,
          3894,
          3895,
          3896,
          3897,
          3898,
          3899,
          3900,
          3909,
          3910,
          3911,
          3912,
          3957,
          3958,
          3959,
          3960,
          3961,
          3962,
          3963,
          3964,
          3985,
          3986,
          3987,
          3988,
          3989,
          3990,
          3991,
          3992,
          3993,
          3994,
          3995,
          3996,
          4005,
          4006,
          4007,
          4008,
          4053,
          4054,
          4055,
          4056,
          4057,
          4058,
          4059,
          4060,
          4081,
          4082,
          4083,
          4084,
          4085,
          4086,
          4087,
          4088,
          4089,
          4090,
          4091,
          4092,
          4101,
          4102,
          4103,
          4104,
          4149,
          4150,
          4151,
          4152,
          4153,
          4154,
          4155,
          4156,
          4177,
          4178,
          4179,
          4180,
          4181,
          4182,
          4183,
          4184,
          4185,
          4186,
          4187,
          4188,
          4197,
          4198,
          4199,
          4200,
          4245,
          4246,
          4247,
          4248,
          4249,
          4250,
          4251,
          4252,
          4273,
          4274,
          4275,
          4276,
          4277,
          4278,
          4279,
          4280,
          4281,
          4282,
          4283,
          4284,
          4293,
          4294,
          4295,
          4296,
          4341,
          4342,
          4343,
          4344,
          4345,
          4346,
          4347,
          4348,
          4369,
          4370,
          4371,
          4372,
          4373,
          4374,
          4375,
          4376,
          4377,
          4378,
          4379,
          4380,
          4389,
          4390,
          4391,
          4392,
          4437,
          4438,
          4439,
          4440,
          4441,
          4442,
          4443,
          4444,
          4465,
          4466,
          4467,
          4468,
          4469,
          4470,
          4471,
          4472,
          4473,
          4474,
          4475,
          4476,
          4485,
          4486,
          4487,
          4488,
          4629,
          4630,
          4631,
          4632,
          4633,
          4634,
          4635,
          4636,
          4657,
          4658,
          4659,
          4660,
          4661,
          4662,
          4663,
          4664,
          4665,
          4666,
          4667,
          4668,
          4677,
          4678,
          4679,
          4680,
          4725,
          4726,
          4727,
          4728,
          4729,
          4730,
          4731,
          4732,
          4753,
          4754,
          4755,
          4756,
          4757,
          4758,
          4759,
          4760,
          4761,
          4762,
          4763,
          4764,
          4773,
          4774,
          4775,
          4776,
          4821,
          4822,
          4823,
          4824,
          4825,
          4826,
          4827,
          4828,
          4849,
          4850,
          4851,
          4852,
          4853,
          4854,
          4855,
          4856,
          4857,
          4858,
          4859,
          4860,
          4869,
          4870,
          4871,
          4872,
          4917,
          4918,
          4919,
          4920,
          4921,
          4922,
          4923,
          4924,
          4945,
          4946,
          4947,
          4948,
          4949,
          4950,
          4951,
          4952,
          4953,
          4954,
          4955,
          4956,
          4965,
          4966,
          4967,
          4968,
          5013,
          5014,
          5015,
          5016,
          5017,
          5018,
          5019,
          5020,
          5041,
          5042,
          5043,
          5044,
          5045,
          5046,
          5047,
          5048,
          5049,
          5050,
          5051,
          5052,
          5061,
          5062,
          5063,
          5064,
          5109,
          5110,
          5111,
          5112,
          5113,
          5114,
          5115,
          5116,
          5137,
          5138,
          5139,
          5140,
          5141,
          5142,
          5143,
          5144,
          5145,
          5146,
          5147,
          5148,
          5157,
          5158,
          5159,
          5160,
          5205,
          5206,
          5207,
          5208,
          5209,
          5210,
          5211,
          5212,
          5233,
          5234,
          5235,
          5236,
          5237,
          5238,
          5239,
          5240,
          5241,
          5242,
          5243,
          5244,
          5253,
          5254,
          5255,
          5256,
          5301,
          5302,
          5303,
          5304,
          5305,
          5306,
          5307,
          5308,
          5329,
          5330,
          5331,
          5332,
          5333,
          5334,
          5335,
          5336,
          5337,
          5338,
          5339,
          5340,
          5349,
          5350,
          5351,
          5352,
          5397,
          5398,
          5399,
          5400,
          5401,
          5402,
          5403,
          5404,
          5425,
          5426,
          5427,
          5428,
          5429,
          5430,
          5431,
          5432,
          5433,
          5434,
          5435,
          5436,
          5445,
          5446,
          5447,
          5448,
          5493,
          5494,
          5495,
          5496,
          5497,
          5498,
          5499,
          5500,
          5521,
          5522,
          5523,
          5524,
          5525,
          5526,
          5527,
          5528,
          5529,
          5530,
          5531,
          5532,
          5541,
          5542,
          5543,
          5544,
          5589,
          5590,
          5591,
          5592,
          5593,
          5594,
          5595,
          5596,
          5617,
          5618,
          5619,
          5620,
          5621,
          5622,
          5623,
          5624,
          5625,
          5626,
          5627,
          5628,
          5637,
          5638,
          5639,
          5640,
          5685,
          5686,
          5687,
          5688,
          5689,
          5690,
          5691,
          5692,
          5713,
          5714,
          5715,
          5716,
          5717,
          5718,
          5719,
          5720,
          5721,
          5722,
          5723,
          5724,
          5733,
          5734,
          5735,
          5736,
          5973,
          5974,
          5975,
          5976,
          5977,
          5978,
          5979,
          5980,
          6001,
          6002,
          6003,
          6004,
          6005,
          6006,
          6007,
          6008,
          6009,
          6010,
          6011,
          6012,
          6021,
          6022,
          6023,
          6024,
          6069,
          6070,
          6071,
          6072,
          6073,
          6074,
          6075,
          6076,
          6097,
          6098,
          6099,
          6100,
          6101,
          6102,
          6103,
          6104,
          6105,
          6106,
          6107,
          6108,
          6117,
          6118,
          6119,
          6120,
          6165,
          6166,
          6167,
          6168,
          6169,
          6170,
          6171,
          6172,
          6193,
          6194,
          6195,
          6196,
          6197,
          6198,
          6199,
          6200,
          6201,
          6202,
          6203,
          6204,
          6213,
          6214,
          6215,
          6216,
          6261,
          6262,
          6263,
          6264,
          6265,
          6266,
          6267,
          6268,
          6289,
          6290,
          6291,
          6292,
          6293,
          6294,
          6295,
          6296,
          6297,
          6298,
          6299,
          6300,
          6309,
          6310,
          6311,
          6312,
          6357,
          6358,
          6359,
          6360,
          6361,
          6362,
          6363,
          6364,
          6385,
          6386,
          6387,
          6388,
          6389,
          6390,
          6391,
          6392,
          6393,
          6394,
          6395,
          6396,
          6405,
          6406,
          6407,
          6408
         ],
         "yaxis": "y"
        }
       ],
       "layout": {
        "legend": {
         "title": {
          "text": "Load_Type"
         },
         "tracegroupgap": 0
        },
        "margin": {
         "t": 60
        },
        "template": {
         "data": {
          "bar": [
           {
            "error_x": {
             "color": "#2a3f5f"
            },
            "error_y": {
             "color": "#2a3f5f"
            },
            "marker": {
             "line": {
              "color": "#E5ECF6",
              "width": 0.5
             },
             "pattern": {
              "fillmode": "overlay",
              "size": 10,
              "solidity": 0.2
             }
            },
            "type": "bar"
           }
          ],
          "barpolar": [
           {
            "marker": {
             "line": {
              "color": "#E5ECF6",
              "width": 0.5
             },
             "pattern": {
              "fillmode": "overlay",
              "size": 10,
              "solidity": 0.2
             }
            },
            "type": "barpolar"
           }
          ],
          "carpet": [
           {
            "aaxis": {
             "endlinecolor": "#2a3f5f",
             "gridcolor": "white",
             "linecolor": "white",
             "minorgridcolor": "white",
             "startlinecolor": "#2a3f5f"
            },
            "baxis": {
             "endlinecolor": "#2a3f5f",
             "gridcolor": "white",
             "linecolor": "white",
             "minorgridcolor": "white",
             "startlinecolor": "#2a3f5f"
            },
            "type": "carpet"
           }
          ],
          "choropleth": [
           {
            "colorbar": {
             "outlinewidth": 0,
             "ticks": ""
            },
            "type": "choropleth"
           }
          ],
          "contour": [
           {
            "colorbar": {
             "outlinewidth": 0,
             "ticks": ""
            },
            "colorscale": [
             [
              0,
              "#0d0887"
             ],
             [
              0.1111111111111111,
              "#46039f"
             ],
             [
              0.2222222222222222,
              "#7201a8"
             ],
             [
              0.3333333333333333,
              "#9c179e"
             ],
             [
              0.4444444444444444,
              "#bd3786"
             ],
             [
              0.5555555555555556,
              "#d8576b"
             ],
             [
              0.6666666666666666,
              "#ed7953"
             ],
             [
              0.7777777777777778,
              "#fb9f3a"
             ],
             [
              0.8888888888888888,
              "#fdca26"
             ],
             [
              1,
              "#f0f921"
             ]
            ],
            "type": "contour"
           }
          ],
          "contourcarpet": [
           {
            "colorbar": {
             "outlinewidth": 0,
             "ticks": ""
            },
            "type": "contourcarpet"
           }
          ],
          "heatmap": [
           {
            "colorbar": {
             "outlinewidth": 0,
             "ticks": ""
            },
            "colorscale": [
             [
              0,
              "#0d0887"
             ],
             [
              0.1111111111111111,
              "#46039f"
             ],
             [
              0.2222222222222222,
              "#7201a8"
             ],
             [
              0.3333333333333333,
              "#9c179e"
             ],
             [
              0.4444444444444444,
              "#bd3786"
             ],
             [
              0.5555555555555556,
              "#d8576b"
             ],
             [
              0.6666666666666666,
              "#ed7953"
             ],
             [
              0.7777777777777778,
              "#fb9f3a"
             ],
             [
              0.8888888888888888,
              "#fdca26"
             ],
             [
              1,
              "#f0f921"
             ]
            ],
            "type": "heatmap"
           }
          ],
          "heatmapgl": [
           {
            "colorbar": {
             "outlinewidth": 0,
             "ticks": ""
            },
            "colorscale": [
             [
              0,
              "#0d0887"
             ],
             [
              0.1111111111111111,
              "#46039f"
             ],
             [
              0.2222222222222222,
              "#7201a8"
             ],
             [
              0.3333333333333333,
              "#9c179e"
             ],
             [
              0.4444444444444444,
              "#bd3786"
             ],
             [
              0.5555555555555556,
              "#d8576b"
             ],
             [
              0.6666666666666666,
              "#ed7953"
             ],
             [
              0.7777777777777778,
              "#fb9f3a"
             ],
             [
              0.8888888888888888,
              "#fdca26"
             ],
             [
              1,
              "#f0f921"
             ]
            ],
            "type": "heatmapgl"
           }
          ],
          "histogram": [
           {
            "marker": {
             "pattern": {
              "fillmode": "overlay",
              "size": 10,
              "solidity": 0.2
             }
            },
            "type": "histogram"
           }
          ],
          "histogram2d": [
           {
            "colorbar": {
             "outlinewidth": 0,
             "ticks": ""
            },
            "colorscale": [
             [
              0,
              "#0d0887"
             ],
             [
              0.1111111111111111,
              "#46039f"
             ],
             [
              0.2222222222222222,
              "#7201a8"
             ],
             [
              0.3333333333333333,
              "#9c179e"
             ],
             [
              0.4444444444444444,
              "#bd3786"
             ],
             [
              0.5555555555555556,
              "#d8576b"
             ],
             [
              0.6666666666666666,
              "#ed7953"
             ],
             [
              0.7777777777777778,
              "#fb9f3a"
             ],
             [
              0.8888888888888888,
              "#fdca26"
             ],
             [
              1,
              "#f0f921"
             ]
            ],
            "type": "histogram2d"
           }
          ],
          "histogram2dcontour": [
           {
            "colorbar": {
             "outlinewidth": 0,
             "ticks": ""
            },
            "colorscale": [
             [
              0,
              "#0d0887"
             ],
             [
              0.1111111111111111,
              "#46039f"
             ],
             [
              0.2222222222222222,
              "#7201a8"
             ],
             [
              0.3333333333333333,
              "#9c179e"
             ],
             [
              0.4444444444444444,
              "#bd3786"
             ],
             [
              0.5555555555555556,
              "#d8576b"
             ],
             [
              0.6666666666666666,
              "#ed7953"
             ],
             [
              0.7777777777777778,
              "#fb9f3a"
             ],
             [
              0.8888888888888888,
              "#fdca26"
             ],
             [
              1,
              "#f0f921"
             ]
            ],
            "type": "histogram2dcontour"
           }
          ],
          "mesh3d": [
           {
            "colorbar": {
             "outlinewidth": 0,
             "ticks": ""
            },
            "type": "mesh3d"
           }
          ],
          "parcoords": [
           {
            "line": {
             "colorbar": {
              "outlinewidth": 0,
              "ticks": ""
             }
            },
            "type": "parcoords"
           }
          ],
          "pie": [
           {
            "automargin": true,
            "type": "pie"
           }
          ],
          "scatter": [
           {
            "fillpattern": {
             "fillmode": "overlay",
             "size": 10,
             "solidity": 0.2
            },
            "type": "scatter"
           }
          ],
          "scatter3d": [
           {
            "line": {
             "colorbar": {
              "outlinewidth": 0,
              "ticks": ""
             }
            },
            "marker": {
             "colorbar": {
              "outlinewidth": 0,
              "ticks": ""
             }
            },
            "type": "scatter3d"
           }
          ],
          "scattercarpet": [
           {
            "marker": {
             "colorbar": {
              "outlinewidth": 0,
              "ticks": ""
             }
            },
            "type": "scattercarpet"
           }
          ],
          "scattergeo": [
           {
            "marker": {
             "colorbar": {
              "outlinewidth": 0,
              "ticks": ""
             }
            },
            "type": "scattergeo"
           }
          ],
          "scattergl": [
           {
            "marker": {
             "colorbar": {
              "outlinewidth": 0,
              "ticks": ""
             }
            },
            "type": "scattergl"
           }
          ],
          "scattermapbox": [
           {
            "marker": {
             "colorbar": {
              "outlinewidth": 0,
              "ticks": ""
             }
            },
            "type": "scattermapbox"
           }
          ],
          "scatterpolar": [
           {
            "marker": {
             "colorbar": {
              "outlinewidth": 0,
              "ticks": ""
             }
            },
            "type": "scatterpolar"
           }
          ],
          "scatterpolargl": [
           {
            "marker": {
             "colorbar": {
              "outlinewidth": 0,
              "ticks": ""
             }
            },
            "type": "scatterpolargl"
           }
          ],
          "scatterternary": [
           {
            "marker": {
             "colorbar": {
              "outlinewidth": 0,
              "ticks": ""
             }
            },
            "type": "scatterternary"
           }
          ],
          "surface": [
           {
            "colorbar": {
             "outlinewidth": 0,
             "ticks": ""
            },
            "colorscale": [
             [
              0,
              "#0d0887"
             ],
             [
              0.1111111111111111,
              "#46039f"
             ],
             [
              0.2222222222222222,
              "#7201a8"
             ],
             [
              0.3333333333333333,
              "#9c179e"
             ],
             [
              0.4444444444444444,
              "#bd3786"
             ],
             [
              0.5555555555555556,
              "#d8576b"
             ],
             [
              0.6666666666666666,
              "#ed7953"
             ],
             [
              0.7777777777777778,
              "#fb9f3a"
             ],
             [
              0.8888888888888888,
              "#fdca26"
             ],
             [
              1,
              "#f0f921"
             ]
            ],
            "type": "surface"
           }
          ],
          "table": [
           {
            "cells": {
             "fill": {
              "color": "#EBF0F8"
             },
             "line": {
              "color": "white"
             }
            },
            "header": {
             "fill": {
              "color": "#C8D4E3"
             },
             "line": {
              "color": "white"
             }
            },
            "type": "table"
           }
          ]
         },
         "layout": {
          "annotationdefaults": {
           "arrowcolor": "#2a3f5f",
           "arrowhead": 0,
           "arrowwidth": 1
          },
          "autotypenumbers": "strict",
          "coloraxis": {
           "colorbar": {
            "outlinewidth": 0,
            "ticks": ""
           }
          },
          "colorscale": {
           "diverging": [
            [
             0,
             "#8e0152"
            ],
            [
             0.1,
             "#c51b7d"
            ],
            [
             0.2,
             "#de77ae"
            ],
            [
             0.3,
             "#f1b6da"
            ],
            [
             0.4,
             "#fde0ef"
            ],
            [
             0.5,
             "#f7f7f7"
            ],
            [
             0.6,
             "#e6f5d0"
            ],
            [
             0.7,
             "#b8e186"
            ],
            [
             0.8,
             "#7fbc41"
            ],
            [
             0.9,
             "#4d9221"
            ],
            [
             1,
             "#276419"
            ]
           ],
           "sequential": [
            [
             0,
             "#0d0887"
            ],
            [
             0.1111111111111111,
             "#46039f"
            ],
            [
             0.2222222222222222,
             "#7201a8"
            ],
            [
             0.3333333333333333,
             "#9c179e"
            ],
            [
             0.4444444444444444,
             "#bd3786"
            ],
            [
             0.5555555555555556,
             "#d8576b"
            ],
            [
             0.6666666666666666,
             "#ed7953"
            ],
            [
             0.7777777777777778,
             "#fb9f3a"
            ],
            [
             0.8888888888888888,
             "#fdca26"
            ],
            [
             1,
             "#f0f921"
            ]
           ],
           "sequentialminus": [
            [
             0,
             "#0d0887"
            ],
            [
             0.1111111111111111,
             "#46039f"
            ],
            [
             0.2222222222222222,
             "#7201a8"
            ],
            [
             0.3333333333333333,
             "#9c179e"
            ],
            [
             0.4444444444444444,
             "#bd3786"
            ],
            [
             0.5555555555555556,
             "#d8576b"
            ],
            [
             0.6666666666666666,
             "#ed7953"
            ],
            [
             0.7777777777777778,
             "#fb9f3a"
            ],
            [
             0.8888888888888888,
             "#fdca26"
            ],
            [
             1,
             "#f0f921"
            ]
           ]
          },
          "colorway": [
           "#636efa",
           "#EF553B",
           "#00cc96",
           "#ab63fa",
           "#FFA15A",
           "#19d3f3",
           "#FF6692",
           "#B6E880",
           "#FF97FF",
           "#FECB52"
          ],
          "font": {
           "color": "#2a3f5f"
          },
          "geo": {
           "bgcolor": "white",
           "lakecolor": "white",
           "landcolor": "#E5ECF6",
           "showlakes": true,
           "showland": true,
           "subunitcolor": "white"
          },
          "hoverlabel": {
           "align": "left"
          },
          "hovermode": "closest",
          "mapbox": {
           "style": "light"
          },
          "paper_bgcolor": "white",
          "plot_bgcolor": "#E5ECF6",
          "polar": {
           "angularaxis": {
            "gridcolor": "white",
            "linecolor": "white",
            "ticks": ""
           },
           "bgcolor": "#E5ECF6",
           "radialaxis": {
            "gridcolor": "white",
            "linecolor": "white",
            "ticks": ""
           }
          },
          "scene": {
           "xaxis": {
            "backgroundcolor": "#E5ECF6",
            "gridcolor": "white",
            "gridwidth": 2,
            "linecolor": "white",
            "showbackground": true,
            "ticks": "",
            "zerolinecolor": "white"
           },
           "yaxis": {
            "backgroundcolor": "#E5ECF6",
            "gridcolor": "white",
            "gridwidth": 2,
            "linecolor": "white",
            "showbackground": true,
            "ticks": "",
            "zerolinecolor": "white"
           },
           "zaxis": {
            "backgroundcolor": "#E5ECF6",
            "gridcolor": "white",
            "gridwidth": 2,
            "linecolor": "white",
            "showbackground": true,
            "ticks": "",
            "zerolinecolor": "white"
           }
          },
          "shapedefaults": {
           "line": {
            "color": "#2a3f5f"
           }
          },
          "ternary": {
           "aaxis": {
            "gridcolor": "white",
            "linecolor": "white",
            "ticks": ""
           },
           "baxis": {
            "gridcolor": "white",
            "linecolor": "white",
            "ticks": ""
           },
           "bgcolor": "#E5ECF6",
           "caxis": {
            "gridcolor": "white",
            "linecolor": "white",
            "ticks": ""
           }
          },
          "title": {
           "x": 0.05
          },
          "xaxis": {
           "automargin": true,
           "gridcolor": "white",
           "linecolor": "white",
           "ticks": "",
           "title": {
            "standoff": 15
           },
           "zerolinecolor": "white",
           "zerolinewidth": 2
          },
          "yaxis": {
           "automargin": true,
           "gridcolor": "white",
           "linecolor": "white",
           "ticks": "",
           "title": {
            "standoff": 15
           },
           "zerolinecolor": "white",
           "zerolinewidth": 2
          }
         }
        },
        "xaxis": {
         "anchor": "y",
         "domain": [
          0,
          1
         ],
         "title": {
          "text": "NSM_calculated"
         }
        },
        "yaxis": {
         "anchor": "x",
         "domain": [
          0,
          1
         ],
         "title": {
          "text": "y"
         }
        }
       }
      }
     },
     "metadata": {},
     "output_type": "display_data"
    }
   ],
   "source": [
    "val_df['NSM_calculated']=val_df['Date_Time'].apply(lambda x: datetime.datetime.strptime(x,\"%d-%m-%Y %H:%M\").hour*3600+datetime.datetime.strptime(x,\"%d-%m-%Y %H:%M\").minute*60)\n",
    "fig = px.scatter(val_df, x=\"NSM_calculated\",y=np.arange(len(val_df)), color=\"Load_Type\",hover_data=[\"Date_Time\"])\n",
    "fig.show()"
   ]
  },
  {
   "cell_type": "markdown",
   "metadata": {},
   "source": [
    "## there is change in the behaviour from nov 1, 2018 which is the unseen dataset"
   ]
  }
 ],
 "metadata": {
  "kernelspec": {
   "display_name": "Python 3",
   "language": "python",
   "name": "python3"
  },
  "language_info": {
   "codemirror_mode": {
    "name": "ipython",
    "version": 3
   },
   "file_extension": ".py",
   "mimetype": "text/x-python",
   "name": "python",
   "nbconvert_exporter": "python",
   "pygments_lexer": "ipython3",
   "version": "3.11.6"
  }
 },
 "nbformat": 4,
 "nbformat_minor": 2
}
